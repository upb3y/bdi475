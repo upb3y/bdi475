{
  "cells": [
    {
      "cell_type": "markdown",
      "id": "abb58d0b",
      "metadata": {
        "id": "abb58d0b"
      },
      "source": [
        "# Introduction to Jupyter Notebooks and Pandas\n",
        "\n",
        "## What is a Jupyter Notebook?\n",
        "\n",
        "A [Jupyter](https://jupyter.org/) notebook is a document that can contain live code w/ results, visualizations, and rich text. It is widely used in data science and analytics. The cell below is a *code* cell. It contains a block of executable code.\n",
        "\n",
        "Run the code below by clicking on the cell below and clicking the \"Run\" button on top (▶)."
      ]
    },
    {
      "cell_type": "code",
      "execution_count": 1,
      "id": "7cccbac8",
      "metadata": {
        "id": "7cccbac8",
        "outputId": "61ad7015-6769-4e67-9c57-51ff75dd0589",
        "colab": {
          "base_uri": "https://localhost:8080/"
        }
      },
      "outputs": [
        {
          "output_type": "stream",
          "name": "stdout",
          "text": [
            "30\n"
          ]
        }
      ],
      "source": [
        "print(10 + 20)"
      ]
    },
    {
      "cell_type": "markdown",
      "id": "d085a2a1",
      "metadata": {
        "id": "d085a2a1"
      },
      "source": [
        "▶️ Run the code cell below to import `unittest`, a module used for **🧭 Check Your Work** sections and the autograder."
      ]
    },
    {
      "cell_type": "code",
      "execution_count": 2,
      "id": "7c2705fe",
      "metadata": {
        "id": "7c2705fe"
      },
      "outputs": [],
      "source": [
        "import unittest\n",
        "tc = unittest.TestCase()"
      ]
    },
    {
      "cell_type": "markdown",
      "id": "1f0a04f0",
      "metadata": {
        "id": "1f0a04f0"
      },
      "source": [
        "## Types of cells\n",
        "\n",
        "There are three different type of cells.\n",
        "\n",
        "1. Code cell\n",
        "2. Markdown cell\n",
        "3. Raw cell\n",
        "\n",
        "We will most frequently use the first two types of cells."
      ]
    },
    {
      "cell_type": "markdown",
      "id": "1de8ab20",
      "metadata": {
        "id": "1de8ab20"
      },
      "source": [
        "---\n",
        "\n",
        "### 🎯 Challenge 1: Find the sum of a list\n",
        "\n",
        "#### 👇 Tasks\n",
        "\n",
        "- ✔️ Complete the code cell below to find the sum of all values in `my_list`.\n",
        "- ✔️ Store the result in a new variable named `result`."
      ]
    },
    {
      "cell_type": "code",
      "execution_count": 3,
      "id": "1b5e79e0",
      "metadata": {
        "id": "1b5e79e0",
        "outputId": "6517f09c-29e9-4aba-ffc2-969c35202970",
        "colab": {
          "base_uri": "https://localhost:8080/"
        }
      },
      "outputs": [
        {
          "output_type": "stream",
          "name": "stdout",
          "text": [
            "478\n"
          ]
        }
      ],
      "source": [
        "my_list = [11, 20, 52, 91, 90, 75, 74, 20, 21, 10, 14]\n",
        "\n",
        "# YOUR CODE BEGINS\n",
        "result=0\n",
        "for i in my_list:\n",
        "  result+=i\n",
        "\n",
        "\n",
        "# YOUR CODE ENDS\n",
        "print(result)"
      ]
    },
    {
      "cell_type": "markdown",
      "id": "fdd9c853",
      "metadata": {
        "id": "fdd9c853"
      },
      "source": [
        "#### 🧭 Check Your Work\n",
        "\n",
        "- Once you're done, run the code cell below to test correctness.\n",
        "- ✔️ If the code cell runs without an error, you're good to move on.\n",
        "- ❌ If the code cell throws an error, go back and fix any incorrect parts."
      ]
    },
    {
      "cell_type": "code",
      "execution_count": 4,
      "id": "b2d60d4c",
      "metadata": {
        "id": "b2d60d4c"
      },
      "outputs": [],
      "source": [
        "import unittest\n",
        "\n",
        "tc = unittest.TestCase()\n",
        "\n",
        "tc.assertEqual(result, 478)"
      ]
    },
    {
      "cell_type": "markdown",
      "id": "fbb0c241",
      "metadata": {
        "id": "fbb0c241"
      },
      "source": [
        "---\n",
        "\n",
        "## Introduction to Pandas\n",
        "\n",
        "Pandas is a Python *library* for data manipulation and analysis. Although it's used universally in data-related programming applications, it was initially developed for financial analysis by [AQR Capital Management](https://www.aqr.com/).\n",
        "\n",
        "![Pandas logo](https://github.com/bdi475/notebooks/blob/main/images/pandas-logo.png?raw=true)\n",
        "\n",
        "Note: A *library* in the context of programming is a collection of functions (and other data) that others have already written for you.\n",
        "\n",
        "Pandas is popular for many reasons:\n",
        "\n",
        "1. 🏃🏿‍♀️ It's fast (for most cases where the dataset can be loaded to your memory).\n",
        "2. 🪒 It supports most of the features required for data manipulation.\n",
        "3. 💡 Write less code. Get more done."
      ]
    },
    {
      "cell_type": "markdown",
      "id": "b2485fa9",
      "metadata": {
        "id": "b2485fa9"
      },
      "source": [
        "---\n",
        "\n",
        "### 🎯 Challenge 2: Import packages\n",
        "\n",
        "#### 👇 Tasks\n",
        "\n",
        "- ✔️ Import the following Python packages.\n",
        "    1. `pandas`: Use alias `pd`.\n",
        "    2. `numpy`: Use alias `np`."
      ]
    },
    {
      "cell_type": "code",
      "execution_count": 5,
      "id": "1a931be7",
      "metadata": {
        "id": "1a931be7"
      },
      "outputs": [],
      "source": [
        "# YOUR CODE BEGINS\n",
        "import pandas as pd\n",
        "import numpy as np\n",
        "# YOUR CODE ENDS"
      ]
    },
    {
      "cell_type": "markdown",
      "id": "511e1493",
      "metadata": {
        "id": "511e1493"
      },
      "source": [
        "#### 🧭 Check Your Work\n",
        "\n",
        "- Once you're done, run the code cell below to test correctness.\n",
        "- ✔️ If the code cell runs without an error, you're good to move on.\n",
        "- ❌ If the code cell throws an error, go back and fix incorrect parts."
      ]
    },
    {
      "cell_type": "code",
      "execution_count": 6,
      "id": "a8041cd8",
      "metadata": {
        "id": "a8041cd8"
      },
      "outputs": [],
      "source": [
        "import sys\n",
        "tc.assertTrue(\"pd\" in globals(), \"Check whether you have correctly import Pandas with an alias.\")\n",
        "tc.assertTrue(\"np\" in globals(), \"Check whether you have correctly import NumPy with an alias.\")"
      ]
    },
    {
      "cell_type": "markdown",
      "id": "49f78e8f",
      "metadata": {
        "id": "49f78e8f"
      },
      "source": [
        "---\n",
        "\n",
        "### It all starts with a `Series`...\n",
        "\n",
        "The basic building block of Pandas is a `Series`. A `Series` is like a list, but with many more features.\n",
        "\n",
        "You can create a `Series` by passing a list of values to `pd.Series()`."
      ]
    },
    {
      "cell_type": "code",
      "execution_count": 7,
      "id": "06b980fe",
      "metadata": {
        "id": "06b980fe",
        "outputId": "994486d4-6038-4a23-8276-65c49c44bb13",
        "colab": {
          "base_uri": "https://localhost:8080/"
        }
      },
      "outputs": [
        {
          "output_type": "execute_result",
          "data": {
            "text/plain": [
              "0    1.0\n",
              "1    2.0\n",
              "2    3.0\n",
              "3    NaN\n",
              "4    5.0\n",
              "5    6.0\n",
              "dtype: float64"
            ]
          },
          "metadata": {},
          "execution_count": 7
        }
      ],
      "source": [
        "s = pd.Series([1, 2, 3, np.nan, 5, 6])\n",
        "\n",
        "s"
      ]
    },
    {
      "cell_type": "markdown",
      "id": "50cc82bb",
      "metadata": {
        "id": "50cc82bb"
      },
      "source": [
        "### Few things to note here\n",
        "\n",
        "1. These look similar to a Python `list`.\n",
        "2. The last line of the printed output tells us the data type of values in the `Series` (`dtype: float64`).\n",
        "- What the heck is `np.nan`?\n",
        "    - It is used to indicate a \"missing value\".\n",
        "    - `np.nan` is NOT the same as `0`.\n",
        "    \n",
        "### Differences between a list and a Series"
      ]
    },
    {
      "cell_type": "code",
      "execution_count": 8,
      "id": "372f1887",
      "metadata": {
        "id": "372f1887",
        "outputId": "31a6d2d2-5749-4979-e718-67424410dd1e",
        "colab": {
          "base_uri": "https://localhost:8080/",
          "height": 53
        }
      },
      "outputs": [
        {
          "output_type": "stream",
          "name": "stdout",
          "text": [
            "<class 'list'>\n"
          ]
        },
        {
          "output_type": "display_data",
          "data": {
            "text/plain": [
              "[1, 2, 3, 4, 1, 2, 3, 4]"
            ]
          },
          "metadata": {}
        }
      ],
      "source": [
        "my_list = [1, 2, 3, 4]\n",
        "\n",
        "print(type(my_list))\n",
        "display(my_list * 2)"
      ]
    },
    {
      "cell_type": "code",
      "execution_count": 9,
      "id": "0b35e389",
      "metadata": {
        "id": "0b35e389",
        "outputId": "423fe60b-4183-46fe-9671-f3d0d2756712",
        "colab": {
          "base_uri": "https://localhost:8080/",
          "height": 125
        }
      },
      "outputs": [
        {
          "output_type": "stream",
          "name": "stdout",
          "text": [
            "<class 'pandas.core.series.Series'>\n"
          ]
        },
        {
          "output_type": "display_data",
          "data": {
            "text/plain": [
              "0    2\n",
              "1    4\n",
              "2    6\n",
              "3    8\n",
              "dtype: int64"
            ]
          },
          "metadata": {}
        }
      ],
      "source": [
        "my_series = pd.Series([1, 2, 3, 4])\n",
        "\n",
        "print(type(my_series))\n",
        "display(my_series * 2)"
      ]
    },
    {
      "cell_type": "markdown",
      "id": "84ee75dd",
      "metadata": {
        "id": "84ee75dd"
      },
      "source": [
        "What happens when you multiply a Python `list` by number `2`? It repeats the elements.\n",
        "\n",
        "How about a `Series`? It multiples each element by `2`!"
      ]
    },
    {
      "cell_type": "markdown",
      "id": "ff91c121",
      "metadata": {
        "id": "ff91c121"
      },
      "source": [
        "---\n",
        "\n",
        "### 🎯 Challenge 3: Create new `Series`\n",
        "\n",
        "#### 👇 Tasks\n",
        "\n",
        "- ✔️ Create a new Pandas `Series` named `my_series` with the following three values: `10`, `20`, `30`.\n",
        "\n",
        "#### 🚀 Hint\n",
        "\n",
        "The code below creates a new Pandas `Series` with the values `1` and `2`.\n",
        "\n",
        "```python\n",
        "my_new_series = pd.Series([1, 2])\n",
        "```"
      ]
    },
    {
      "cell_type": "code",
      "execution_count": 10,
      "id": "aaa01f50",
      "metadata": {
        "id": "aaa01f50",
        "outputId": "d0e78081-946b-4ae4-a6f6-0ba70b0e1176",
        "colab": {
          "base_uri": "https://localhost:8080/"
        }
      },
      "outputs": [
        {
          "output_type": "execute_result",
          "data": {
            "text/plain": [
              "0    10\n",
              "1    20\n",
              "2    30\n",
              "dtype: int64"
            ]
          },
          "metadata": {},
          "execution_count": 10
        }
      ],
      "source": [
        "# YOUR CODE BEGINS\n",
        "my_series = pd.Series([10,20,30])\n",
        "# YOUR CODE ENDS\n",
        "my_series"
      ]
    },
    {
      "cell_type": "markdown",
      "id": "ed26cf6d",
      "metadata": {
        "id": "ed26cf6d"
      },
      "source": [
        "#### 🧭 Check Your Work\n",
        "\n",
        "- Once you're done, run the code cell below to test correctness.\n",
        "- ✔️ If the code cell runs without an error, you're good to move on.\n",
        "- ❌ If the code cell throws an error, go back and fix any incorrect parts."
      ]
    },
    {
      "cell_type": "code",
      "execution_count": 11,
      "id": "91ae33ae",
      "metadata": {
        "id": "91ae33ae"
      },
      "outputs": [],
      "source": [
        "pd.testing.assert_series_equal(my_series, pd.Series([1, 2, 3]) * 10)"
      ]
    },
    {
      "cell_type": "markdown",
      "id": "3870734e",
      "metadata": {
        "id": "3870734e"
      },
      "source": [
        "---\n",
        "\n",
        "### Using `Series` methods\n",
        "\n",
        "A pandas `Series` is similar to a Python `list`. However, a `Series` provides many methods (equivalent to functions) for you to use.\n",
        "\n",
        "As an example, `num_reviews.mean()` will return the average number of reviews."
      ]
    },
    {
      "cell_type": "code",
      "execution_count": 12,
      "id": "1982fc6a",
      "metadata": {
        "id": "1982fc6a",
        "outputId": "89ffe310-ca97-4789-af9a-5a704291a283",
        "colab": {
          "base_uri": "https://localhost:8080/"
        }
      },
      "outputs": [
        {
          "output_type": "execute_result",
          "data": {
            "text/plain": [
              "3675.714285714286"
            ]
          },
          "metadata": {},
          "execution_count": 12
        }
      ],
      "source": [
        "reviews_count = [12715, 2274, 2771, 3952, 528, 2766, 724]\n",
        "num_reviews = pd.Series(reviews_count)\n",
        "\n",
        "# YOUR CODE HERE\n",
        "num_reviews.mean()"
      ]
    },
    {
      "cell_type": "markdown",
      "id": "370ca8b3-368f-460a-80ff-f19a0a6be150",
      "metadata": {
        "id": "370ca8b3-368f-460a-80ff-f19a0a6be150"
      },
      "source": [
        "---\n",
        "\n",
        "### 🎯 Challenge 4: Create a Pandas DataFrame\n",
        "\n",
        "#### 👇 Tasks\n",
        "\n",
        "- ✔️ You are given two lists - `product_names` and `num_reviews` that contain the names of make-up products and the number of reviews on Sephora.com.\n",
        "- ✔️ Using the two lists, create a new Pandas `DataFrame` named `df_top_products` that has the following two columns:\n",
        "    1. `product_name`: Names of the products\n",
        "    2. `num_review`: Number of reviews\n",
        "- ✔️ Note that the column names are singular.\n",
        "\n",
        "#### 🚀 Hint\n",
        "\n",
        "The code below creates a new Pandas `DataFrame` from two series.\n",
        "\n",
        "```python\n",
        "my_new_dataframe = pd.DataFrame({\n",
        "    \"column_one\": my_series1,\n",
        "    \"column_two\": my_series2\n",
        "})\n",
        "```"
      ]
    },
    {
      "cell_type": "code",
      "execution_count": 13,
      "id": "9371b5a5-da1d-4ca5-9343-aa2040c996d6",
      "metadata": {
        "id": "9371b5a5-da1d-4ca5-9343-aa2040c996d6",
        "outputId": "d54c387e-8867-4ff1-acd5-fc7fca64eced",
        "colab": {
          "base_uri": "https://localhost:8080/",
          "height": 173
        }
      },
      "outputs": [
        {
          "output_type": "display_data",
          "data": {
            "text/plain": [
              "                             product_name  num_review\n",
              "0               Laneige Lip Sleeping Mask       12715\n",
              "1    The Ordinary Hyaluronic Acid 2% + B5        2274\n",
              "2                  Laneige Lip Glowy Balm        2766\n",
              "3  Chanel COCO MADEMOISELLE Eau de Parfum         724"
            ],
            "text/html": [
              "\n",
              "  <div id=\"df-a21029a3-b9a3-4f68-a099-89b26fc2f9fa\">\n",
              "    <div class=\"colab-df-container\">\n",
              "      <div>\n",
              "<style scoped>\n",
              "    .dataframe tbody tr th:only-of-type {\n",
              "        vertical-align: middle;\n",
              "    }\n",
              "\n",
              "    .dataframe tbody tr th {\n",
              "        vertical-align: top;\n",
              "    }\n",
              "\n",
              "    .dataframe thead th {\n",
              "        text-align: right;\n",
              "    }\n",
              "</style>\n",
              "<table border=\"1\" class=\"dataframe\">\n",
              "  <thead>\n",
              "    <tr style=\"text-align: right;\">\n",
              "      <th></th>\n",
              "      <th>product_name</th>\n",
              "      <th>num_review</th>\n",
              "    </tr>\n",
              "  </thead>\n",
              "  <tbody>\n",
              "    <tr>\n",
              "      <th>0</th>\n",
              "      <td>Laneige Lip Sleeping Mask</td>\n",
              "      <td>12715</td>\n",
              "    </tr>\n",
              "    <tr>\n",
              "      <th>1</th>\n",
              "      <td>The Ordinary Hyaluronic Acid 2% + B5</td>\n",
              "      <td>2274</td>\n",
              "    </tr>\n",
              "    <tr>\n",
              "      <th>2</th>\n",
              "      <td>Laneige Lip Glowy Balm</td>\n",
              "      <td>2766</td>\n",
              "    </tr>\n",
              "    <tr>\n",
              "      <th>3</th>\n",
              "      <td>Chanel COCO MADEMOISELLE Eau de Parfum</td>\n",
              "      <td>724</td>\n",
              "    </tr>\n",
              "  </tbody>\n",
              "</table>\n",
              "</div>\n",
              "      <button class=\"colab-df-convert\" onclick=\"convertToInteractive('df-a21029a3-b9a3-4f68-a099-89b26fc2f9fa')\"\n",
              "              title=\"Convert this dataframe to an interactive table.\"\n",
              "              style=\"display:none;\">\n",
              "        \n",
              "  <svg xmlns=\"http://www.w3.org/2000/svg\" height=\"24px\"viewBox=\"0 0 24 24\"\n",
              "       width=\"24px\">\n",
              "    <path d=\"M0 0h24v24H0V0z\" fill=\"none\"/>\n",
              "    <path d=\"M18.56 5.44l.94 2.06.94-2.06 2.06-.94-2.06-.94-.94-2.06-.94 2.06-2.06.94zm-11 1L8.5 8.5l.94-2.06 2.06-.94-2.06-.94L8.5 2.5l-.94 2.06-2.06.94zm10 10l.94 2.06.94-2.06 2.06-.94-2.06-.94-.94-2.06-.94 2.06-2.06.94z\"/><path d=\"M17.41 7.96l-1.37-1.37c-.4-.4-.92-.59-1.43-.59-.52 0-1.04.2-1.43.59L10.3 9.45l-7.72 7.72c-.78.78-.78 2.05 0 2.83L4 21.41c.39.39.9.59 1.41.59.51 0 1.02-.2 1.41-.59l7.78-7.78 2.81-2.81c.8-.78.8-2.07 0-2.86zM5.41 20L4 18.59l7.72-7.72 1.47 1.35L5.41 20z\"/>\n",
              "  </svg>\n",
              "      </button>\n",
              "      \n",
              "  <style>\n",
              "    .colab-df-container {\n",
              "      display:flex;\n",
              "      flex-wrap:wrap;\n",
              "      gap: 12px;\n",
              "    }\n",
              "\n",
              "    .colab-df-convert {\n",
              "      background-color: #E8F0FE;\n",
              "      border: none;\n",
              "      border-radius: 50%;\n",
              "      cursor: pointer;\n",
              "      display: none;\n",
              "      fill: #1967D2;\n",
              "      height: 32px;\n",
              "      padding: 0 0 0 0;\n",
              "      width: 32px;\n",
              "    }\n",
              "\n",
              "    .colab-df-convert:hover {\n",
              "      background-color: #E2EBFA;\n",
              "      box-shadow: 0px 1px 2px rgba(60, 64, 67, 0.3), 0px 1px 3px 1px rgba(60, 64, 67, 0.15);\n",
              "      fill: #174EA6;\n",
              "    }\n",
              "\n",
              "    [theme=dark] .colab-df-convert {\n",
              "      background-color: #3B4455;\n",
              "      fill: #D2E3FC;\n",
              "    }\n",
              "\n",
              "    [theme=dark] .colab-df-convert:hover {\n",
              "      background-color: #434B5C;\n",
              "      box-shadow: 0px 1px 3px 1px rgba(0, 0, 0, 0.15);\n",
              "      filter: drop-shadow(0px 1px 2px rgba(0, 0, 0, 0.3));\n",
              "      fill: #FFFFFF;\n",
              "    }\n",
              "  </style>\n",
              "\n",
              "      <script>\n",
              "        const buttonEl =\n",
              "          document.querySelector('#df-a21029a3-b9a3-4f68-a099-89b26fc2f9fa button.colab-df-convert');\n",
              "        buttonEl.style.display =\n",
              "          google.colab.kernel.accessAllowed ? 'block' : 'none';\n",
              "\n",
              "        async function convertToInteractive(key) {\n",
              "          const element = document.querySelector('#df-a21029a3-b9a3-4f68-a099-89b26fc2f9fa');\n",
              "          const dataTable =\n",
              "            await google.colab.kernel.invokeFunction('convertToInteractive',\n",
              "                                                     [key], {});\n",
              "          if (!dataTable) return;\n",
              "\n",
              "          const docLinkHtml = 'Like what you see? Visit the ' +\n",
              "            '<a target=\"_blank\" href=https://colab.research.google.com/notebooks/data_table.ipynb>data table notebook</a>'\n",
              "            + ' to learn more about interactive tables.';\n",
              "          element.innerHTML = '';\n",
              "          dataTable['output_type'] = 'display_data';\n",
              "          await google.colab.output.renderOutput(dataTable, element);\n",
              "          const docLink = document.createElement('div');\n",
              "          docLink.innerHTML = docLinkHtml;\n",
              "          element.appendChild(docLink);\n",
              "        }\n",
              "      </script>\n",
              "    </div>\n",
              "  </div>\n",
              "  "
            ]
          },
          "metadata": {}
        }
      ],
      "source": [
        "product_names = [\n",
        "    \"Laneige Lip Sleeping Mask\",\n",
        "    \"The Ordinary Hyaluronic Acid 2% + B5\",\n",
        "    \"Laneige Lip Glowy Balm\",\n",
        "    \"Chanel COCO MADEMOISELLE Eau de Parfum\"\n",
        "]\n",
        "\n",
        "num_reviews = [\n",
        "    12715,\n",
        "    2274,\n",
        "    2766,\n",
        "    724\n",
        "]\n",
        "\n",
        "# YOUR CODE BEGINS\n",
        "df_top_products=pd.DataFrame({\n",
        "    \"product_name\": product_names,\n",
        "    \"num_review\":num_reviews\n",
        "})\n",
        "\n",
        "\n",
        "# YOUR CODE ENDS\n",
        "display(df_top_products)"
      ]
    },
    {
      "cell_type": "markdown",
      "id": "e5c7b7b4-b116-4e62-bcd8-c7d8b7334e77",
      "metadata": {
        "id": "e5c7b7b4-b116-4e62-bcd8-c7d8b7334e77"
      },
      "source": [
        "#### 🧭 Check Your Work\n",
        "\n",
        "- Once you're done, run the code cell below to test correctness.\n",
        "- ✔️ If the code cell runs without an error, you're good to move on.\n",
        "- ❌ If the code cell throws an error, go back and fix any incorrect parts."
      ]
    },
    {
      "cell_type": "code",
      "execution_count": 14,
      "id": "dba4d57c-2908-42d6-8f2e-6f4e3a88de0d",
      "metadata": {
        "id": "dba4d57c-2908-42d6-8f2e-6f4e3a88de0d",
        "nbgrader": {
          "grade": true,
          "grade_id": "challenge-02",
          "locked": true,
          "points": "1",
          "solution": false
        }
      },
      "outputs": [],
      "source": [
        "pd.testing.assert_frame_equal(\n",
        "    df_top_products.reset_index(drop=True),\n",
        "    pd.DataFrame({\"product_name\": {0: \"Laneige Lip Sleeping Mask\",\n",
        "        1: \"The Ordinary Hyaluronic Acid 2% + B5\",\n",
        "        2: \"Laneige Lip Glowy Balm\",\n",
        "        3: \"Chanel COCO MADEMOISELLE Eau de Parfum\"},\n",
        "        \"num_review\": {0: 12715, 1: 2274, 2: 2766, 3: 724}})\n",
        ")"
      ]
    },
    {
      "cell_type": "markdown",
      "id": "c59589d5-8fca-42ac-b6eb-992d27206421",
      "metadata": {
        "id": "c59589d5-8fca-42ac-b6eb-992d27206421"
      },
      "source": [
        "---\n",
        "\n",
        "### 📌 Load data"
      ]
    },
    {
      "cell_type": "markdown",
      "id": "1f4c723f-5eec-4c05-a937-b7cd601c97c1",
      "metadata": {
        "id": "1f4c723f-5eec-4c05-a937-b7cd601c97c1"
      },
      "source": [
        "The second part of today's lecture is all about **you**. 👻 Literally.\n",
        "\n",
        "▶️ Run the code cell below to create a new `DataFrame` named `df_you`."
      ]
    },
    {
      "cell_type": "code",
      "execution_count": 22,
      "id": "a2cdcd9a-b41e-42f8-ad46-94a48f3628d2",
      "metadata": {
        "colab": {
          "base_uri": "https://localhost:8080/",
          "height": 204
        },
        "id": "a2cdcd9a-b41e-42f8-ad46-94a48f3628d2",
        "outputId": "d185d7d2-66ee-4407-bdf6-8e01dd8340ad"
      },
      "outputs": [
        {
          "output_type": "execute_result",
          "data": {
            "text/plain": [
              "                name                     major1     major2        city  \\\n",
              "0   Nishita Amberkar       Computer Engineering  Marketing     Fairfax   \n",
              "1      Alvino Angelo           Computer Science        NaN    Ploiesti   \n",
              "2  Guadalupe Badillo   Agr & Consumer Economics  Marketing  Naperville   \n",
              "3      Denise Bahena  Information Sciences + DS        NaN     Chicago   \n",
              "4        Arnav Batta           Computer Science        NaN   Grayslake   \n",
              "\n",
              "        fav_restaurant                 fav_movie  has_iphone  \n",
              "0          Chick-fil-a           Ford vs Ferrari       False  \n",
              "1          Burger King              Interstellar       False  \n",
              "2  Noodles and Company                 The Mummy        True  \n",
              "3           Soho House  The Shawshank Redemption       False  \n",
              "4   Choong Man Chicken                 Inception        True  "
            ],
            "text/html": [
              "\n",
              "  <div id=\"df-381e9f2b-e442-4bc5-adb1-0b89dce14d0e\">\n",
              "    <div class=\"colab-df-container\">\n",
              "      <div>\n",
              "<style scoped>\n",
              "    .dataframe tbody tr th:only-of-type {\n",
              "        vertical-align: middle;\n",
              "    }\n",
              "\n",
              "    .dataframe tbody tr th {\n",
              "        vertical-align: top;\n",
              "    }\n",
              "\n",
              "    .dataframe thead th {\n",
              "        text-align: right;\n",
              "    }\n",
              "</style>\n",
              "<table border=\"1\" class=\"dataframe\">\n",
              "  <thead>\n",
              "    <tr style=\"text-align: right;\">\n",
              "      <th></th>\n",
              "      <th>name</th>\n",
              "      <th>major1</th>\n",
              "      <th>major2</th>\n",
              "      <th>city</th>\n",
              "      <th>fav_restaurant</th>\n",
              "      <th>fav_movie</th>\n",
              "      <th>has_iphone</th>\n",
              "    </tr>\n",
              "  </thead>\n",
              "  <tbody>\n",
              "    <tr>\n",
              "      <th>0</th>\n",
              "      <td>Nishita Amberkar</td>\n",
              "      <td>Computer Engineering</td>\n",
              "      <td>Marketing</td>\n",
              "      <td>Fairfax</td>\n",
              "      <td>Chick-fil-a</td>\n",
              "      <td>Ford vs Ferrari</td>\n",
              "      <td>False</td>\n",
              "    </tr>\n",
              "    <tr>\n",
              "      <th>1</th>\n",
              "      <td>Alvino Angelo</td>\n",
              "      <td>Computer Science</td>\n",
              "      <td>NaN</td>\n",
              "      <td>Ploiesti</td>\n",
              "      <td>Burger King</td>\n",
              "      <td>Interstellar</td>\n",
              "      <td>False</td>\n",
              "    </tr>\n",
              "    <tr>\n",
              "      <th>2</th>\n",
              "      <td>Guadalupe Badillo</td>\n",
              "      <td>Agr &amp; Consumer Economics</td>\n",
              "      <td>Marketing</td>\n",
              "      <td>Naperville</td>\n",
              "      <td>Noodles and Company</td>\n",
              "      <td>The Mummy</td>\n",
              "      <td>True</td>\n",
              "    </tr>\n",
              "    <tr>\n",
              "      <th>3</th>\n",
              "      <td>Denise Bahena</td>\n",
              "      <td>Information Sciences + DS</td>\n",
              "      <td>NaN</td>\n",
              "      <td>Chicago</td>\n",
              "      <td>Soho House</td>\n",
              "      <td>The Shawshank Redemption</td>\n",
              "      <td>False</td>\n",
              "    </tr>\n",
              "    <tr>\n",
              "      <th>4</th>\n",
              "      <td>Arnav Batta</td>\n",
              "      <td>Computer Science</td>\n",
              "      <td>NaN</td>\n",
              "      <td>Grayslake</td>\n",
              "      <td>Choong Man Chicken</td>\n",
              "      <td>Inception</td>\n",
              "      <td>True</td>\n",
              "    </tr>\n",
              "  </tbody>\n",
              "</table>\n",
              "</div>\n",
              "      <button class=\"colab-df-convert\" onclick=\"convertToInteractive('df-381e9f2b-e442-4bc5-adb1-0b89dce14d0e')\"\n",
              "              title=\"Convert this dataframe to an interactive table.\"\n",
              "              style=\"display:none;\">\n",
              "        \n",
              "  <svg xmlns=\"http://www.w3.org/2000/svg\" height=\"24px\"viewBox=\"0 0 24 24\"\n",
              "       width=\"24px\">\n",
              "    <path d=\"M0 0h24v24H0V0z\" fill=\"none\"/>\n",
              "    <path d=\"M18.56 5.44l.94 2.06.94-2.06 2.06-.94-2.06-.94-.94-2.06-.94 2.06-2.06.94zm-11 1L8.5 8.5l.94-2.06 2.06-.94-2.06-.94L8.5 2.5l-.94 2.06-2.06.94zm10 10l.94 2.06.94-2.06 2.06-.94-2.06-.94-.94-2.06-.94 2.06-2.06.94z\"/><path d=\"M17.41 7.96l-1.37-1.37c-.4-.4-.92-.59-1.43-.59-.52 0-1.04.2-1.43.59L10.3 9.45l-7.72 7.72c-.78.78-.78 2.05 0 2.83L4 21.41c.39.39.9.59 1.41.59.51 0 1.02-.2 1.41-.59l7.78-7.78 2.81-2.81c.8-.78.8-2.07 0-2.86zM5.41 20L4 18.59l7.72-7.72 1.47 1.35L5.41 20z\"/>\n",
              "  </svg>\n",
              "      </button>\n",
              "      \n",
              "  <style>\n",
              "    .colab-df-container {\n",
              "      display:flex;\n",
              "      flex-wrap:wrap;\n",
              "      gap: 12px;\n",
              "    }\n",
              "\n",
              "    .colab-df-convert {\n",
              "      background-color: #E8F0FE;\n",
              "      border: none;\n",
              "      border-radius: 50%;\n",
              "      cursor: pointer;\n",
              "      display: none;\n",
              "      fill: #1967D2;\n",
              "      height: 32px;\n",
              "      padding: 0 0 0 0;\n",
              "      width: 32px;\n",
              "    }\n",
              "\n",
              "    .colab-df-convert:hover {\n",
              "      background-color: #E2EBFA;\n",
              "      box-shadow: 0px 1px 2px rgba(60, 64, 67, 0.3), 0px 1px 3px 1px rgba(60, 64, 67, 0.15);\n",
              "      fill: #174EA6;\n",
              "    }\n",
              "\n",
              "    [theme=dark] .colab-df-convert {\n",
              "      background-color: #3B4455;\n",
              "      fill: #D2E3FC;\n",
              "    }\n",
              "\n",
              "    [theme=dark] .colab-df-convert:hover {\n",
              "      background-color: #434B5C;\n",
              "      box-shadow: 0px 1px 3px 1px rgba(0, 0, 0, 0.15);\n",
              "      filter: drop-shadow(0px 1px 2px rgba(0, 0, 0, 0.3));\n",
              "      fill: #FFFFFF;\n",
              "    }\n",
              "  </style>\n",
              "\n",
              "      <script>\n",
              "        const buttonEl =\n",
              "          document.querySelector('#df-381e9f2b-e442-4bc5-adb1-0b89dce14d0e button.colab-df-convert');\n",
              "        buttonEl.style.display =\n",
              "          google.colab.kernel.accessAllowed ? 'block' : 'none';\n",
              "\n",
              "        async function convertToInteractive(key) {\n",
              "          const element = document.querySelector('#df-381e9f2b-e442-4bc5-adb1-0b89dce14d0e');\n",
              "          const dataTable =\n",
              "            await google.colab.kernel.invokeFunction('convertToInteractive',\n",
              "                                                     [key], {});\n",
              "          if (!dataTable) return;\n",
              "\n",
              "          const docLinkHtml = 'Like what you see? Visit the ' +\n",
              "            '<a target=\"_blank\" href=https://colab.research.google.com/notebooks/data_table.ipynb>data table notebook</a>'\n",
              "            + ' to learn more about interactive tables.';\n",
              "          element.innerHTML = '';\n",
              "          dataTable['output_type'] = 'display_data';\n",
              "          await google.colab.output.renderOutput(dataTable, element);\n",
              "          const docLink = document.createElement('div');\n",
              "          docLink.innerHTML = docLinkHtml;\n",
              "          element.appendChild(docLink);\n",
              "        }\n",
              "      </script>\n",
              "    </div>\n",
              "  </div>\n",
              "  "
            ]
          },
          "metadata": {},
          "execution_count": 22
        }
      ],
      "source": [
        "df_you = pd.read_csv(\"https://github.com/bdi475/datasets/raw/main/about-you.csv\")\n",
        "\n",
        "# Used to keep a clean copy\n",
        "df_you_backup = df_you.copy()\n",
        "\n",
        "# head() displays the first 5 rows of a DataFrame\n",
        "df_you.head()"
      ]
    },
    {
      "cell_type": "markdown",
      "id": "93cb3aa1-6901-45ac-9355-734ace9759cd",
      "metadata": {
        "id": "93cb3aa1-6901-45ac-9355-734ace9759cd"
      },
      "source": [
        "☝️ **Hold on.** Didn't we always create `DataFrame`s using `pd.DataFrame()`?\n",
        "\n",
        "Yes. But we can *import* existing data as a Pandas `DataFrame` using `pd.read_csv()`. There are many other similar import methods. For now, we'll mostly use `pd.read_csv()`.\n",
        "\n",
        "The table below explains each column in `df_you`."
      ]
    },
    {
      "cell_type": "markdown",
      "id": "babad61d-efee-49d2-b6b4-a521bb4f9ba4",
      "metadata": {
        "id": "babad61d-efee-49d2-b6b4-a521bb4f9ba4"
      },
      "source": [
        "| Column Name             | Description                                               |\n",
        "|-------------------------|-----------------------------------------------------------|\n",
        "| name                    | First name                                                |\n",
        "| major1                  | Major                                                     |\n",
        "| major2                  | Second major OR minor (blank if no second major or minor) |\n",
        "| city                    | City the person is from                                   |\n",
        "| fav_restaurant          | Favorite restaurant (blank if no restaurant was given)    |\n",
        "| fav_movie               | Favorite movie (blank if no movie was given)              |\n",
        "| has_iphone              | Whether the person use an iPhone                          |"
      ]
    },
    {
      "cell_type": "markdown",
      "id": "930451c6-a001-4d5f-8537-6d7ca5002235",
      "metadata": {
        "id": "930451c6-a001-4d5f-8537-6d7ca5002235"
      },
      "source": [
        "---\n",
        "\n",
        "### 📌 Concise summary of a `DataFrame`"
      ]
    },
    {
      "cell_type": "markdown",
      "id": "664d9b88-6b5e-4d97-8848-9ab423dec6fb",
      "metadata": {
        "id": "664d9b88-6b5e-4d97-8848-9ab423dec6fb"
      },
      "source": [
        "👉 A common first step in working with a `DataFrame` is to use the `info()` method. `info()` prints a concise summary of a `DataFrame`.\n",
        "- Index data type\n",
        "- Column information: for each column, the following information is displayed:\n",
        "    - Number of non-missing values\n",
        "    - Data type of the column\n",
        "- Memory usage"
      ]
    },
    {
      "cell_type": "markdown",
      "id": "c17d9d82-2330-4966-81d4-2c50dc6980df",
      "metadata": {
        "id": "c17d9d82-2330-4966-81d4-2c50dc6980df"
      },
      "source": [
        "▶️ Run `df_you.info()` below to see the `info()` method in action."
      ]
    },
    {
      "cell_type": "code",
      "execution_count": 16,
      "id": "3e566e47-1a11-4110-ac18-9ee1beab9590",
      "metadata": {
        "colab": {
          "base_uri": "https://localhost:8080/"
        },
        "id": "3e566e47-1a11-4110-ac18-9ee1beab9590",
        "outputId": "9f028a0b-b794-4005-a1ac-a1c6f033111b",
        "tags": []
      },
      "outputs": [
        {
          "output_type": "stream",
          "name": "stdout",
          "text": [
            "<class 'pandas.core.frame.DataFrame'>\n",
            "RangeIndex: 45 entries, 0 to 44\n",
            "Data columns (total 7 columns):\n",
            " #   Column          Non-Null Count  Dtype \n",
            "---  ------          --------------  ----- \n",
            " 0   name            45 non-null     object\n",
            " 1   major1          45 non-null     object\n",
            " 2   major2          11 non-null     object\n",
            " 3   city            45 non-null     object\n",
            " 4   fav_restaurant  31 non-null     object\n",
            " 5   fav_movie       20 non-null     object\n",
            " 6   has_iphone      45 non-null     bool  \n",
            "dtypes: bool(1), object(6)\n",
            "memory usage: 2.3+ KB\n"
          ]
        }
      ],
      "source": [
        "# YOUR CODE BEGINS\n",
        "df_you.info()\n",
        "# YOUR CODE ENDS"
      ]
    },
    {
      "cell_type": "markdown",
      "id": "0e8abd55-1c5e-48e4-8029-c61805535a5f",
      "metadata": {
        "id": "0e8abd55-1c5e-48e4-8029-c61805535a5f"
      },
      "source": [
        "👉 From the result of `df_you.info()`, we can understand a couple of things:\n",
        "\n",
        "- There are 7 columns.\n",
        "- Five columns have the `object` data type.\n",
        "    - In Pandas, a string data type is shown as `object`, not `str`.\n",
        "        - We will skip the technical discussion for now.\n",
        "- The second line of the output tells us that there are 40 entries.\n",
        "- Some columns have 40 non-null values - these columns do not contain any missing value.\n",
        "- Some columns have less than 40 non-null values - these columns contain one or more missing values.\n",
        "    - Missing values are displayed as `NaN`.\n",
        "    - To denote a missing value, use NumPy's `np.nan` (more on this later)."
      ]
    },
    {
      "cell_type": "markdown",
      "id": "ec0a09ad-6180-4ea9-a8df-20c3aaf8e7a4",
      "metadata": {
        "id": "ec0a09ad-6180-4ea9-a8df-20c3aaf8e7a4"
      },
      "source": [
        "---\n",
        "\n",
        "### 🎯 Challenge 5: Display first/last/random rows"
      ]
    },
    {
      "cell_type": "markdown",
      "id": "caec58af-5dcc-42e5-932a-38703bc25a66",
      "metadata": {
        "id": "caec58af-5dcc-42e5-932a-38703bc25a66"
      },
      "source": [
        "▶️ Run `df_you.head()` to print the first 5 rows of `df_you`."
      ]
    },
    {
      "cell_type": "code",
      "execution_count": 18,
      "id": "5f802a73-5323-4184-827c-0bc5c9aa1469",
      "metadata": {
        "colab": {
          "base_uri": "https://localhost:8080/",
          "height": 204
        },
        "id": "5f802a73-5323-4184-827c-0bc5c9aa1469",
        "outputId": "649a509d-780f-4af4-cf14-501a85a99647",
        "tags": []
      },
      "outputs": [
        {
          "output_type": "execute_result",
          "data": {
            "text/plain": [
              "                name                     major1     major2        city  \\\n",
              "0   Nishita Amberkar       Computer Engineering  Marketing     Fairfax   \n",
              "1      Alvino Angelo           Computer Science        NaN    Ploiesti   \n",
              "2  Guadalupe Badillo   Agr & Consumer Economics  Marketing  Naperville   \n",
              "3      Denise Bahena  Information Sciences + DS        NaN     Chicago   \n",
              "4        Arnav Batta           Computer Science        NaN   Grayslake   \n",
              "\n",
              "        fav_restaurant                 fav_movie  has_iphone  \n",
              "0          Chick-fil-a           Ford vs Ferrari       False  \n",
              "1          Burger King              Interstellar       False  \n",
              "2  Noodles and Company                 The Mummy        True  \n",
              "3           Soho House  The Shawshank Redemption       False  \n",
              "4   Choong Man Chicken                 Inception        True  "
            ],
            "text/html": [
              "\n",
              "  <div id=\"df-da83d9b2-0362-4eae-88d8-e7571af78c3d\">\n",
              "    <div class=\"colab-df-container\">\n",
              "      <div>\n",
              "<style scoped>\n",
              "    .dataframe tbody tr th:only-of-type {\n",
              "        vertical-align: middle;\n",
              "    }\n",
              "\n",
              "    .dataframe tbody tr th {\n",
              "        vertical-align: top;\n",
              "    }\n",
              "\n",
              "    .dataframe thead th {\n",
              "        text-align: right;\n",
              "    }\n",
              "</style>\n",
              "<table border=\"1\" class=\"dataframe\">\n",
              "  <thead>\n",
              "    <tr style=\"text-align: right;\">\n",
              "      <th></th>\n",
              "      <th>name</th>\n",
              "      <th>major1</th>\n",
              "      <th>major2</th>\n",
              "      <th>city</th>\n",
              "      <th>fav_restaurant</th>\n",
              "      <th>fav_movie</th>\n",
              "      <th>has_iphone</th>\n",
              "    </tr>\n",
              "  </thead>\n",
              "  <tbody>\n",
              "    <tr>\n",
              "      <th>0</th>\n",
              "      <td>Nishita Amberkar</td>\n",
              "      <td>Computer Engineering</td>\n",
              "      <td>Marketing</td>\n",
              "      <td>Fairfax</td>\n",
              "      <td>Chick-fil-a</td>\n",
              "      <td>Ford vs Ferrari</td>\n",
              "      <td>False</td>\n",
              "    </tr>\n",
              "    <tr>\n",
              "      <th>1</th>\n",
              "      <td>Alvino Angelo</td>\n",
              "      <td>Computer Science</td>\n",
              "      <td>NaN</td>\n",
              "      <td>Ploiesti</td>\n",
              "      <td>Burger King</td>\n",
              "      <td>Interstellar</td>\n",
              "      <td>False</td>\n",
              "    </tr>\n",
              "    <tr>\n",
              "      <th>2</th>\n",
              "      <td>Guadalupe Badillo</td>\n",
              "      <td>Agr &amp; Consumer Economics</td>\n",
              "      <td>Marketing</td>\n",
              "      <td>Naperville</td>\n",
              "      <td>Noodles and Company</td>\n",
              "      <td>The Mummy</td>\n",
              "      <td>True</td>\n",
              "    </tr>\n",
              "    <tr>\n",
              "      <th>3</th>\n",
              "      <td>Denise Bahena</td>\n",
              "      <td>Information Sciences + DS</td>\n",
              "      <td>NaN</td>\n",
              "      <td>Chicago</td>\n",
              "      <td>Soho House</td>\n",
              "      <td>The Shawshank Redemption</td>\n",
              "      <td>False</td>\n",
              "    </tr>\n",
              "    <tr>\n",
              "      <th>4</th>\n",
              "      <td>Arnav Batta</td>\n",
              "      <td>Computer Science</td>\n",
              "      <td>NaN</td>\n",
              "      <td>Grayslake</td>\n",
              "      <td>Choong Man Chicken</td>\n",
              "      <td>Inception</td>\n",
              "      <td>True</td>\n",
              "    </tr>\n",
              "  </tbody>\n",
              "</table>\n",
              "</div>\n",
              "      <button class=\"colab-df-convert\" onclick=\"convertToInteractive('df-da83d9b2-0362-4eae-88d8-e7571af78c3d')\"\n",
              "              title=\"Convert this dataframe to an interactive table.\"\n",
              "              style=\"display:none;\">\n",
              "        \n",
              "  <svg xmlns=\"http://www.w3.org/2000/svg\" height=\"24px\"viewBox=\"0 0 24 24\"\n",
              "       width=\"24px\">\n",
              "    <path d=\"M0 0h24v24H0V0z\" fill=\"none\"/>\n",
              "    <path d=\"M18.56 5.44l.94 2.06.94-2.06 2.06-.94-2.06-.94-.94-2.06-.94 2.06-2.06.94zm-11 1L8.5 8.5l.94-2.06 2.06-.94-2.06-.94L8.5 2.5l-.94 2.06-2.06.94zm10 10l.94 2.06.94-2.06 2.06-.94-2.06-.94-.94-2.06-.94 2.06-2.06.94z\"/><path d=\"M17.41 7.96l-1.37-1.37c-.4-.4-.92-.59-1.43-.59-.52 0-1.04.2-1.43.59L10.3 9.45l-7.72 7.72c-.78.78-.78 2.05 0 2.83L4 21.41c.39.39.9.59 1.41.59.51 0 1.02-.2 1.41-.59l7.78-7.78 2.81-2.81c.8-.78.8-2.07 0-2.86zM5.41 20L4 18.59l7.72-7.72 1.47 1.35L5.41 20z\"/>\n",
              "  </svg>\n",
              "      </button>\n",
              "      \n",
              "  <style>\n",
              "    .colab-df-container {\n",
              "      display:flex;\n",
              "      flex-wrap:wrap;\n",
              "      gap: 12px;\n",
              "    }\n",
              "\n",
              "    .colab-df-convert {\n",
              "      background-color: #E8F0FE;\n",
              "      border: none;\n",
              "      border-radius: 50%;\n",
              "      cursor: pointer;\n",
              "      display: none;\n",
              "      fill: #1967D2;\n",
              "      height: 32px;\n",
              "      padding: 0 0 0 0;\n",
              "      width: 32px;\n",
              "    }\n",
              "\n",
              "    .colab-df-convert:hover {\n",
              "      background-color: #E2EBFA;\n",
              "      box-shadow: 0px 1px 2px rgba(60, 64, 67, 0.3), 0px 1px 3px 1px rgba(60, 64, 67, 0.15);\n",
              "      fill: #174EA6;\n",
              "    }\n",
              "\n",
              "    [theme=dark] .colab-df-convert {\n",
              "      background-color: #3B4455;\n",
              "      fill: #D2E3FC;\n",
              "    }\n",
              "\n",
              "    [theme=dark] .colab-df-convert:hover {\n",
              "      background-color: #434B5C;\n",
              "      box-shadow: 0px 1px 3px 1px rgba(0, 0, 0, 0.15);\n",
              "      filter: drop-shadow(0px 1px 2px rgba(0, 0, 0, 0.3));\n",
              "      fill: #FFFFFF;\n",
              "    }\n",
              "  </style>\n",
              "\n",
              "      <script>\n",
              "        const buttonEl =\n",
              "          document.querySelector('#df-da83d9b2-0362-4eae-88d8-e7571af78c3d button.colab-df-convert');\n",
              "        buttonEl.style.display =\n",
              "          google.colab.kernel.accessAllowed ? 'block' : 'none';\n",
              "\n",
              "        async function convertToInteractive(key) {\n",
              "          const element = document.querySelector('#df-da83d9b2-0362-4eae-88d8-e7571af78c3d');\n",
              "          const dataTable =\n",
              "            await google.colab.kernel.invokeFunction('convertToInteractive',\n",
              "                                                     [key], {});\n",
              "          if (!dataTable) return;\n",
              "\n",
              "          const docLinkHtml = 'Like what you see? Visit the ' +\n",
              "            '<a target=\"_blank\" href=https://colab.research.google.com/notebooks/data_table.ipynb>data table notebook</a>'\n",
              "            + ' to learn more about interactive tables.';\n",
              "          element.innerHTML = '';\n",
              "          dataTable['output_type'] = 'display_data';\n",
              "          await google.colab.output.renderOutput(dataTable, element);\n",
              "          const docLink = document.createElement('div');\n",
              "          docLink.innerHTML = docLinkHtml;\n",
              "          element.appendChild(docLink);\n",
              "        }\n",
              "      </script>\n",
              "    </div>\n",
              "  </div>\n",
              "  "
            ]
          },
          "metadata": {},
          "execution_count": 18
        }
      ],
      "source": [
        "# YOUR CODE BEGINS\n",
        "df_you.head()\n",
        "# YOUR CODE ENDS"
      ]
    },
    {
      "cell_type": "markdown",
      "id": "1f572157-3d4d-46c6-b46e-89349c8f464a",
      "metadata": {
        "id": "1f572157-3d4d-46c6-b46e-89349c8f464a"
      },
      "source": [
        "▶️ Run `df_you.tail(4)` to print the first 4 rows of `df_you`."
      ]
    },
    {
      "cell_type": "code",
      "execution_count": 19,
      "id": "d7b529c3-0972-4fe8-9106-4e56cf6b8315",
      "metadata": {
        "colab": {
          "base_uri": "https://localhost:8080/",
          "height": 173
        },
        "id": "d7b529c3-0972-4fe8-9106-4e56cf6b8315",
        "outputId": "c9413a63-9d77-479d-8f91-477511ce2960"
      },
      "outputs": [
        {
          "output_type": "execute_result",
          "data": {
            "text/plain": [
              "                 name                major1 major2       city fav_restaurant  \\\n",
              "41         Kelly Yuen  Information Sciences    NaN  Champaign            NaN   \n",
              "42  Alejandro Zenteno      Community Health    NaN  Champaign            NaN   \n",
              "43      Brianna Zhang      Computer Science    NaN  Champaign            NaN   \n",
              "44        Cindy Zhang         Communication    NaN  Champaign            NaN   \n",
              "\n",
              "   fav_movie  has_iphone  \n",
              "41       NaN       False  \n",
              "42       NaN        True  \n",
              "43       NaN        True  \n",
              "44       NaN        True  "
            ],
            "text/html": [
              "\n",
              "  <div id=\"df-561112ce-c844-4293-964f-beff6075341e\">\n",
              "    <div class=\"colab-df-container\">\n",
              "      <div>\n",
              "<style scoped>\n",
              "    .dataframe tbody tr th:only-of-type {\n",
              "        vertical-align: middle;\n",
              "    }\n",
              "\n",
              "    .dataframe tbody tr th {\n",
              "        vertical-align: top;\n",
              "    }\n",
              "\n",
              "    .dataframe thead th {\n",
              "        text-align: right;\n",
              "    }\n",
              "</style>\n",
              "<table border=\"1\" class=\"dataframe\">\n",
              "  <thead>\n",
              "    <tr style=\"text-align: right;\">\n",
              "      <th></th>\n",
              "      <th>name</th>\n",
              "      <th>major1</th>\n",
              "      <th>major2</th>\n",
              "      <th>city</th>\n",
              "      <th>fav_restaurant</th>\n",
              "      <th>fav_movie</th>\n",
              "      <th>has_iphone</th>\n",
              "    </tr>\n",
              "  </thead>\n",
              "  <tbody>\n",
              "    <tr>\n",
              "      <th>41</th>\n",
              "      <td>Kelly Yuen</td>\n",
              "      <td>Information Sciences</td>\n",
              "      <td>NaN</td>\n",
              "      <td>Champaign</td>\n",
              "      <td>NaN</td>\n",
              "      <td>NaN</td>\n",
              "      <td>False</td>\n",
              "    </tr>\n",
              "    <tr>\n",
              "      <th>42</th>\n",
              "      <td>Alejandro Zenteno</td>\n",
              "      <td>Community Health</td>\n",
              "      <td>NaN</td>\n",
              "      <td>Champaign</td>\n",
              "      <td>NaN</td>\n",
              "      <td>NaN</td>\n",
              "      <td>True</td>\n",
              "    </tr>\n",
              "    <tr>\n",
              "      <th>43</th>\n",
              "      <td>Brianna Zhang</td>\n",
              "      <td>Computer Science</td>\n",
              "      <td>NaN</td>\n",
              "      <td>Champaign</td>\n",
              "      <td>NaN</td>\n",
              "      <td>NaN</td>\n",
              "      <td>True</td>\n",
              "    </tr>\n",
              "    <tr>\n",
              "      <th>44</th>\n",
              "      <td>Cindy Zhang</td>\n",
              "      <td>Communication</td>\n",
              "      <td>NaN</td>\n",
              "      <td>Champaign</td>\n",
              "      <td>NaN</td>\n",
              "      <td>NaN</td>\n",
              "      <td>True</td>\n",
              "    </tr>\n",
              "  </tbody>\n",
              "</table>\n",
              "</div>\n",
              "      <button class=\"colab-df-convert\" onclick=\"convertToInteractive('df-561112ce-c844-4293-964f-beff6075341e')\"\n",
              "              title=\"Convert this dataframe to an interactive table.\"\n",
              "              style=\"display:none;\">\n",
              "        \n",
              "  <svg xmlns=\"http://www.w3.org/2000/svg\" height=\"24px\"viewBox=\"0 0 24 24\"\n",
              "       width=\"24px\">\n",
              "    <path d=\"M0 0h24v24H0V0z\" fill=\"none\"/>\n",
              "    <path d=\"M18.56 5.44l.94 2.06.94-2.06 2.06-.94-2.06-.94-.94-2.06-.94 2.06-2.06.94zm-11 1L8.5 8.5l.94-2.06 2.06-.94-2.06-.94L8.5 2.5l-.94 2.06-2.06.94zm10 10l.94 2.06.94-2.06 2.06-.94-2.06-.94-.94-2.06-.94 2.06-2.06.94z\"/><path d=\"M17.41 7.96l-1.37-1.37c-.4-.4-.92-.59-1.43-.59-.52 0-1.04.2-1.43.59L10.3 9.45l-7.72 7.72c-.78.78-.78 2.05 0 2.83L4 21.41c.39.39.9.59 1.41.59.51 0 1.02-.2 1.41-.59l7.78-7.78 2.81-2.81c.8-.78.8-2.07 0-2.86zM5.41 20L4 18.59l7.72-7.72 1.47 1.35L5.41 20z\"/>\n",
              "  </svg>\n",
              "      </button>\n",
              "      \n",
              "  <style>\n",
              "    .colab-df-container {\n",
              "      display:flex;\n",
              "      flex-wrap:wrap;\n",
              "      gap: 12px;\n",
              "    }\n",
              "\n",
              "    .colab-df-convert {\n",
              "      background-color: #E8F0FE;\n",
              "      border: none;\n",
              "      border-radius: 50%;\n",
              "      cursor: pointer;\n",
              "      display: none;\n",
              "      fill: #1967D2;\n",
              "      height: 32px;\n",
              "      padding: 0 0 0 0;\n",
              "      width: 32px;\n",
              "    }\n",
              "\n",
              "    .colab-df-convert:hover {\n",
              "      background-color: #E2EBFA;\n",
              "      box-shadow: 0px 1px 2px rgba(60, 64, 67, 0.3), 0px 1px 3px 1px rgba(60, 64, 67, 0.15);\n",
              "      fill: #174EA6;\n",
              "    }\n",
              "\n",
              "    [theme=dark] .colab-df-convert {\n",
              "      background-color: #3B4455;\n",
              "      fill: #D2E3FC;\n",
              "    }\n",
              "\n",
              "    [theme=dark] .colab-df-convert:hover {\n",
              "      background-color: #434B5C;\n",
              "      box-shadow: 0px 1px 3px 1px rgba(0, 0, 0, 0.15);\n",
              "      filter: drop-shadow(0px 1px 2px rgba(0, 0, 0, 0.3));\n",
              "      fill: #FFFFFF;\n",
              "    }\n",
              "  </style>\n",
              "\n",
              "      <script>\n",
              "        const buttonEl =\n",
              "          document.querySelector('#df-561112ce-c844-4293-964f-beff6075341e button.colab-df-convert');\n",
              "        buttonEl.style.display =\n",
              "          google.colab.kernel.accessAllowed ? 'block' : 'none';\n",
              "\n",
              "        async function convertToInteractive(key) {\n",
              "          const element = document.querySelector('#df-561112ce-c844-4293-964f-beff6075341e');\n",
              "          const dataTable =\n",
              "            await google.colab.kernel.invokeFunction('convertToInteractive',\n",
              "                                                     [key], {});\n",
              "          if (!dataTable) return;\n",
              "\n",
              "          const docLinkHtml = 'Like what you see? Visit the ' +\n",
              "            '<a target=\"_blank\" href=https://colab.research.google.com/notebooks/data_table.ipynb>data table notebook</a>'\n",
              "            + ' to learn more about interactive tables.';\n",
              "          element.innerHTML = '';\n",
              "          dataTable['output_type'] = 'display_data';\n",
              "          await google.colab.output.renderOutput(dataTable, element);\n",
              "          const docLink = document.createElement('div');\n",
              "          docLink.innerHTML = docLinkHtml;\n",
              "          element.appendChild(docLink);\n",
              "        }\n",
              "      </script>\n",
              "    </div>\n",
              "  </div>\n",
              "  "
            ]
          },
          "metadata": {},
          "execution_count": 19
        }
      ],
      "source": [
        "# YOUR CODE BEGINS\n",
        "df_you.tail(4)\n",
        "# YOUR CODE ENDS"
      ]
    },
    {
      "cell_type": "markdown",
      "id": "5ae9815a-a5b7-4747-9175-9535b133e614",
      "metadata": {
        "id": "5ae9815a-a5b7-4747-9175-9535b133e614"
      },
      "source": [
        "▶️ Run `df_you.sample(3)` to print 3 randomly sampled rows from `df_you`."
      ]
    },
    {
      "cell_type": "code",
      "execution_count": 20,
      "id": "ed993bdb-cb01-4a0e-8071-861107d96fda",
      "metadata": {
        "colab": {
          "base_uri": "https://localhost:8080/",
          "height": 142
        },
        "id": "ed993bdb-cb01-4a0e-8071-861107d96fda",
        "outputId": "5b13fe43-4a94-4159-9f0e-f19401c3a275"
      },
      "outputs": [
        {
          "output_type": "execute_result",
          "data": {
            "text/plain": [
              "                 name                    major1     major2         city  \\\n",
              "2   Guadalupe Badillo  Agr & Consumer Economics  Marketing   Naperville   \n",
              "21           Matt Mak  Agr & Consumer Economics        NaN  Orland Park   \n",
              "36       Michael Wong          Computer Science        NaN   Northbrook   \n",
              "\n",
              "         fav_restaurant  fav_movie  has_iphone  \n",
              "2   Noodles and Company  The Mummy        True  \n",
              "21                  NaN        NaN        True  \n",
              "36                  NaN        NaN        True  "
            ],
            "text/html": [
              "\n",
              "  <div id=\"df-05e78bd8-e481-4f7b-a4d2-160c6241ab9e\">\n",
              "    <div class=\"colab-df-container\">\n",
              "      <div>\n",
              "<style scoped>\n",
              "    .dataframe tbody tr th:only-of-type {\n",
              "        vertical-align: middle;\n",
              "    }\n",
              "\n",
              "    .dataframe tbody tr th {\n",
              "        vertical-align: top;\n",
              "    }\n",
              "\n",
              "    .dataframe thead th {\n",
              "        text-align: right;\n",
              "    }\n",
              "</style>\n",
              "<table border=\"1\" class=\"dataframe\">\n",
              "  <thead>\n",
              "    <tr style=\"text-align: right;\">\n",
              "      <th></th>\n",
              "      <th>name</th>\n",
              "      <th>major1</th>\n",
              "      <th>major2</th>\n",
              "      <th>city</th>\n",
              "      <th>fav_restaurant</th>\n",
              "      <th>fav_movie</th>\n",
              "      <th>has_iphone</th>\n",
              "    </tr>\n",
              "  </thead>\n",
              "  <tbody>\n",
              "    <tr>\n",
              "      <th>2</th>\n",
              "      <td>Guadalupe Badillo</td>\n",
              "      <td>Agr &amp; Consumer Economics</td>\n",
              "      <td>Marketing</td>\n",
              "      <td>Naperville</td>\n",
              "      <td>Noodles and Company</td>\n",
              "      <td>The Mummy</td>\n",
              "      <td>True</td>\n",
              "    </tr>\n",
              "    <tr>\n",
              "      <th>21</th>\n",
              "      <td>Matt Mak</td>\n",
              "      <td>Agr &amp; Consumer Economics</td>\n",
              "      <td>NaN</td>\n",
              "      <td>Orland Park</td>\n",
              "      <td>NaN</td>\n",
              "      <td>NaN</td>\n",
              "      <td>True</td>\n",
              "    </tr>\n",
              "    <tr>\n",
              "      <th>36</th>\n",
              "      <td>Michael Wong</td>\n",
              "      <td>Computer Science</td>\n",
              "      <td>NaN</td>\n",
              "      <td>Northbrook</td>\n",
              "      <td>NaN</td>\n",
              "      <td>NaN</td>\n",
              "      <td>True</td>\n",
              "    </tr>\n",
              "  </tbody>\n",
              "</table>\n",
              "</div>\n",
              "      <button class=\"colab-df-convert\" onclick=\"convertToInteractive('df-05e78bd8-e481-4f7b-a4d2-160c6241ab9e')\"\n",
              "              title=\"Convert this dataframe to an interactive table.\"\n",
              "              style=\"display:none;\">\n",
              "        \n",
              "  <svg xmlns=\"http://www.w3.org/2000/svg\" height=\"24px\"viewBox=\"0 0 24 24\"\n",
              "       width=\"24px\">\n",
              "    <path d=\"M0 0h24v24H0V0z\" fill=\"none\"/>\n",
              "    <path d=\"M18.56 5.44l.94 2.06.94-2.06 2.06-.94-2.06-.94-.94-2.06-.94 2.06-2.06.94zm-11 1L8.5 8.5l.94-2.06 2.06-.94-2.06-.94L8.5 2.5l-.94 2.06-2.06.94zm10 10l.94 2.06.94-2.06 2.06-.94-2.06-.94-.94-2.06-.94 2.06-2.06.94z\"/><path d=\"M17.41 7.96l-1.37-1.37c-.4-.4-.92-.59-1.43-.59-.52 0-1.04.2-1.43.59L10.3 9.45l-7.72 7.72c-.78.78-.78 2.05 0 2.83L4 21.41c.39.39.9.59 1.41.59.51 0 1.02-.2 1.41-.59l7.78-7.78 2.81-2.81c.8-.78.8-2.07 0-2.86zM5.41 20L4 18.59l7.72-7.72 1.47 1.35L5.41 20z\"/>\n",
              "  </svg>\n",
              "      </button>\n",
              "      \n",
              "  <style>\n",
              "    .colab-df-container {\n",
              "      display:flex;\n",
              "      flex-wrap:wrap;\n",
              "      gap: 12px;\n",
              "    }\n",
              "\n",
              "    .colab-df-convert {\n",
              "      background-color: #E8F0FE;\n",
              "      border: none;\n",
              "      border-radius: 50%;\n",
              "      cursor: pointer;\n",
              "      display: none;\n",
              "      fill: #1967D2;\n",
              "      height: 32px;\n",
              "      padding: 0 0 0 0;\n",
              "      width: 32px;\n",
              "    }\n",
              "\n",
              "    .colab-df-convert:hover {\n",
              "      background-color: #E2EBFA;\n",
              "      box-shadow: 0px 1px 2px rgba(60, 64, 67, 0.3), 0px 1px 3px 1px rgba(60, 64, 67, 0.15);\n",
              "      fill: #174EA6;\n",
              "    }\n",
              "\n",
              "    [theme=dark] .colab-df-convert {\n",
              "      background-color: #3B4455;\n",
              "      fill: #D2E3FC;\n",
              "    }\n",
              "\n",
              "    [theme=dark] .colab-df-convert:hover {\n",
              "      background-color: #434B5C;\n",
              "      box-shadow: 0px 1px 3px 1px rgba(0, 0, 0, 0.15);\n",
              "      filter: drop-shadow(0px 1px 2px rgba(0, 0, 0, 0.3));\n",
              "      fill: #FFFFFF;\n",
              "    }\n",
              "  </style>\n",
              "\n",
              "      <script>\n",
              "        const buttonEl =\n",
              "          document.querySelector('#df-05e78bd8-e481-4f7b-a4d2-160c6241ab9e button.colab-df-convert');\n",
              "        buttonEl.style.display =\n",
              "          google.colab.kernel.accessAllowed ? 'block' : 'none';\n",
              "\n",
              "        async function convertToInteractive(key) {\n",
              "          const element = document.querySelector('#df-05e78bd8-e481-4f7b-a4d2-160c6241ab9e');\n",
              "          const dataTable =\n",
              "            await google.colab.kernel.invokeFunction('convertToInteractive',\n",
              "                                                     [key], {});\n",
              "          if (!dataTable) return;\n",
              "\n",
              "          const docLinkHtml = 'Like what you see? Visit the ' +\n",
              "            '<a target=\"_blank\" href=https://colab.research.google.com/notebooks/data_table.ipynb>data table notebook</a>'\n",
              "            + ' to learn more about interactive tables.';\n",
              "          element.innerHTML = '';\n",
              "          dataTable['output_type'] = 'display_data';\n",
              "          await google.colab.output.renderOutput(dataTable, element);\n",
              "          const docLink = document.createElement('div');\n",
              "          docLink.innerHTML = docLinkHtml;\n",
              "          element.appendChild(docLink);\n",
              "        }\n",
              "      </script>\n",
              "    </div>\n",
              "  </div>\n",
              "  "
            ]
          },
          "metadata": {},
          "execution_count": 20
        }
      ],
      "source": [
        "# YOUR CODE BEGINS\n",
        "df_you.sample(3)\n",
        "# YOUR CODE ENDS"
      ]
    },
    {
      "cell_type": "code",
      "execution_count": 21,
      "id": "2ebbb254-bae3-462a-87a1-08b37c7e3441",
      "metadata": {
        "nbgrader": {
          "grade": true,
          "grade_id": "challenge-03",
          "locked": true,
          "points": "1",
          "solution": false
        },
        "id": "2ebbb254-bae3-462a-87a1-08b37c7e3441"
      },
      "outputs": [],
      "source": [
        "# Autograder"
      ]
    },
    {
      "cell_type": "markdown",
      "id": "5aec9daa-8aea-4981-a3ae-38733d6e3841",
      "metadata": {
        "id": "5aec9daa-8aea-4981-a3ae-38733d6e3841"
      },
      "source": [
        "---\n",
        "\n",
        "### 📌 Number of rows and columns in a `DataFrame`"
      ]
    },
    {
      "cell_type": "markdown",
      "id": "ed9edce3-3563-47a9-9226-5d5a520b0e46",
      "metadata": {
        "id": "ed9edce3-3563-47a9-9226-5d5a520b0e46"
      },
      "source": [
        "👉 How many rows and columns does `df_you` have?\n",
        "\n",
        "▶️ Run `df_you.shape` below to see the *shape* (number of rows and columns) of the database."
      ]
    },
    {
      "cell_type": "code",
      "execution_count": 24,
      "id": "19fc92e6-1b9e-41eb-beeb-60a0a83804a8",
      "metadata": {
        "colab": {
          "base_uri": "https://localhost:8080/"
        },
        "id": "19fc92e6-1b9e-41eb-beeb-60a0a83804a8",
        "outputId": "99c863a9-21f8-4765-f214-5e1a07df7a39"
      },
      "outputs": [
        {
          "output_type": "execute_result",
          "data": {
            "text/plain": [
              "(45, 7)"
            ]
          },
          "metadata": {},
          "execution_count": 24
        }
      ],
      "source": [
        "# YOUR CODE BEGINS\n",
        "df_you.shape\n",
        "# YOUR CODE ENDS"
      ]
    },
    {
      "cell_type": "markdown",
      "id": "1fc55735-9a55-4ea2-92fd-1940f15c9a0a",
      "metadata": {
        "id": "1fc55735-9a55-4ea2-92fd-1940f15c9a0a"
      },
      "source": [
        "👉 Can you store the number of rows and columns to variables?\n",
        "\n",
        "---\n",
        "\n",
        "- `df_you.shape` returns a `tuple` in `(num_rows, num_cols)` format. \n",
        "- What is a `tuple`? 🙀\n",
        "- A `tuple` is a `list` that cannot be modified once created.\n",
        "\n",
        "▶️ Run the code cell below to see how a `tuple` is nearly identical to a `list`."
      ]
    },
    {
      "cell_type": "code",
      "execution_count": 25,
      "id": "59f5c6b5-3fb9-448b-9b96-1f6a0351ef89",
      "metadata": {
        "colab": {
          "base_uri": "https://localhost:8080/"
        },
        "id": "59f5c6b5-3fb9-448b-9b96-1f6a0351ef89",
        "outputId": "4f4bcd80-9b4c-4ba1-b995-6191a844e8d4"
      },
      "outputs": [
        {
          "output_type": "stream",
          "name": "stdout",
          "text": [
            "my_list[1]=20\n",
            "my_tuple[1]=20\n"
          ]
        }
      ],
      "source": [
        "# These two are nearly identical,\n",
        "# The only difference is that my_tuple cannot be modified once created\n",
        "my_list = [10, 20]\n",
        "my_tuple = (10, 20)\n",
        "\n",
        "print(f\"my_list[1]={my_list[1]}\")    # prints 20\n",
        "print(f\"my_tuple[1]={my_tuple[1]}\")  # also prints 20"
      ]
    },
    {
      "cell_type": "markdown",
      "id": "68fa4f8f-b6a5-49ca-91a8-b08a35dff0af",
      "metadata": {
        "id": "68fa4f8f-b6a5-49ca-91a8-b08a35dff0af"
      },
      "source": [
        "---\n",
        "\n",
        "### 🎯 Challenge 6: Find the number of rows and columns in a `DataFrame`"
      ]
    },
    {
      "cell_type": "markdown",
      "id": "c5a24363-6f2c-4573-8be3-576fafb7441f",
      "metadata": {
        "id": "c5a24363-6f2c-4573-8be3-576fafb7441f"
      },
      "source": [
        "#### 👇 Tasks\n",
        "\n",
        "- ✔️ Store the number of rows in `df_you` to a new variable named `num_rows`.\n",
        "- ✔️ Store the number of columns in `df_you` to a new variable named `num_cols`.\n",
        "- ✔️ Use `.shape`, not `len()`."
      ]
    },
    {
      "cell_type": "code",
      "execution_count": 26,
      "id": "43c16cb2-af4e-4c46-9c24-ba087434b1da",
      "metadata": {
        "colab": {
          "base_uri": "https://localhost:8080/"
        },
        "id": "43c16cb2-af4e-4c46-9c24-ba087434b1da",
        "outputId": "b5812d45-b01e-4cd8-edf5-9b4c740ea049",
        "tags": []
      },
      "outputs": [
        {
          "output_type": "stream",
          "name": "stdout",
          "text": [
            "45\n",
            "7\n"
          ]
        }
      ],
      "source": [
        "# YOUR CODE BEGINS\n",
        "num_rows = df_you.shape[0]\n",
        "num_cols = df_you.shape[1]\n",
        "# YOUR CODE ENDS\n",
        "print(num_rows)\n",
        "print(num_cols)"
      ]
    },
    {
      "cell_type": "markdown",
      "id": "2e863033-5619-47a1-9221-d8728e798c9c",
      "metadata": {
        "id": "2e863033-5619-47a1-9221-d8728e798c9c"
      },
      "source": [
        "#### 🧭 Check Your Work\n",
        "\n",
        "- Once you're done, run the code cell below to test correctness.\n",
        "- ✔️ If the code cell runs without an error, you're good to move on.\n",
        "- ❌ If the code cell throws an error, go back and fix incorrect parts."
      ]
    },
    {
      "cell_type": "code",
      "execution_count": 28,
      "id": "42e11cbf-924e-4679-8c9b-239a3049f796",
      "metadata": {
        "id": "42e11cbf-924e-4679-8c9b-239a3049f796",
        "nbgrader": {
          "grade": true,
          "grade_id": "challenge-04",
          "locked": true,
          "points": "1",
          "solution": false
        },
        "tags": []
      },
      "outputs": [],
      "source": [
        "tc.assertEqual(num_rows, len(df_you.index), f\"Number of rows should be {len(df_you.index)}\")\n",
        "tc.assertEqual(num_cols, len(df_you.columns), f\"Number of columns should be {len(df_you.columns)}\")"
      ]
    }
  ],
  "metadata": {
    "kernelspec": {
      "display_name": "Python 3 (ipykernel)",
      "language": "python",
      "name": "python3"
    },
    "language_info": {
      "codemirror_mode": {
        "name": "ipython",
        "version": 3
      },
      "file_extension": ".py",
      "mimetype": "text/x-python",
      "name": "python",
      "nbconvert_exporter": "python",
      "pygments_lexer": "ipython3",
      "version": "3.9.7"
    },
    "colab": {
      "provenance": []
    }
  },
  "nbformat": 4,
  "nbformat_minor": 5
}