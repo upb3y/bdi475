{
  "cells": [
    {
      "cell_type": "markdown",
      "metadata": {
        "id": "zxLZfikm0wk6"
      },
      "source": [
        "# Introduction to SQL"
      ]
    },
    {
      "cell_type": "markdown",
      "metadata": {
        "id": "uZlloIFK0wk9"
      },
      "source": [
        "## Lecture Notes and in-class exercises"
      ]
    },
    {
      "cell_type": "markdown",
      "metadata": {
        "id": "PuT9Gsbb0wk9"
      },
      "source": [
        "---\n",
        "\n",
        "## ✨ Structured Query Language (SQL)"
      ]
    },
    {
      "cell_type": "markdown",
      "metadata": {
        "id": "3oi6Z6Q30wk-"
      },
      "source": [
        "### How do you pronounce SQL?\n",
        "\n",
        "Although some people read SQL as *es-q-el*, it is most often read SQL as *sequel*. \n",
        "\n",
        "### Conceptual Overview\n",
        "\n",
        "SQL stands for *Structured Query Language*. The three most important concepts are embedded in the name itself.\n",
        "\n",
        "1. **Structured**: The data is structured. You work with *fixed* fields.\n",
        "2. **Query**: You request information using a text query.\n",
        "3. **Language**: Guess what, SQL is another programming language!\n",
        "\n",
        "If Python was your first programming language, you can now brag about your second programming language. 😎"
      ]
    },
    {
      "cell_type": "markdown",
      "metadata": {
        "id": "_2CTfZv00wk-"
      },
      "source": [
        "---\n",
        "\n",
        "### ❓ Why use SQL? Can't we use Python (Pandas)? 🐼\n",
        "\n",
        "Using Pandas can be easier in many cases unless you're familiar with SQL. Many data science professionals will agree that Pandas is a more human-friendly method ([discussion here](https://datascience.stackexchange.com/questions/34357/why-do-people-prefer-pandas-to-sql)). You can perform the most common operations in SQL with Pandas ([comparison with SQL here](https://pandas.pydata.org/pandas-docs/stable/getting_started/comparison/comparison_with_sql.html)).\n",
        "\n",
        "![Kevin](https://github.com/bdi475/images/blob/main/lecture-notes/sql/kevin-malone-pandas-sql.jpg?raw=true)\n",
        "\n",
        "Huh? When are you supposed to use SQL then? 🤨 You should use SQL when you have a large source of data on a remote location. Pandas works great... until you run out of memory (RAM). When you read data from a source, Pandas loads the entire data into memory by default. Pandas will fail if your data is too large.\n",
        "\n",
        "Instead of loading all data into memory first, you can query a database system and retrieve only the information you need. This is almost always faster and more efficient."
      ]
    },
    {
      "cell_type": "markdown",
      "metadata": {
        "id": "gdEyeMut0wk_"
      },
      "source": [
        "---\n",
        "\n",
        "## ⚡️ Database Management Systems (DBMS)"
      ]
    },
    {
      "cell_type": "markdown",
      "metadata": {
        "id": "IatknbBz0wk_"
      },
      "source": [
        "A database is a collection of data. A database management system is a software used to let users communicate with a database. There are many types of DBMS software. We will only cover relational database management systems (RDBMS). Many popular RDBMS exist, such as:\n",
        "\n",
        "- PostgreSQL\n",
        "- Oracle Database\n",
        "- MySQL\n",
        "- MariaDB (fork of MySQL)\n",
        "- SQLite\n",
        "\n",
        "We will use [SQLite](https://www.sqlite.org/), since it is the easiest one to set up."
      ]
    },
    {
      "cell_type": "markdown",
      "metadata": {
        "id": "mY5zMMyL0wlA"
      },
      "source": [
        "---\n",
        "\n",
        "### ❓ Why use databases? Can't we use CSV files?\n",
        "\n",
        "This discussion is somewhat similar to why we use SQL instead of Pandas. Relational database management systems have existed since the 1970s. They are highly optimized even when your data size is humongous. Of course, the performance is dependent on the *query* you write even if you use an RDBMS.\n",
        "\n",
        "![Boardroom Meeting](https://github.com/bdi475/images/blob/main/lecture-notes/sql/data-storage-boardroom-meeting.jpg?raw=true)"
      ]
    },
    {
      "cell_type": "markdown",
      "metadata": {
        "id": "SUSVwsYz0wlA"
      },
      "source": [
        "---\n",
        "\n",
        "## 📗 CRUD Operations Exercise using a graphical tool"
      ]
    },
    {
      "cell_type": "markdown",
      "metadata": {
        "id": "2R3dxMmb0wlA"
      },
      "source": [
        "![CRUD acronym](https://github.com/bdi475/images/blob/25153765dde6ade3d54a48b17825a3dc1923d17e/lecture-notes/sql/crud-abbreviation.png?raw=true)"
      ]
    },
    {
      "cell_type": "markdown",
      "metadata": {
        "id": "2lJ0_gUZ0wlA"
      },
      "source": [
        "Go to [https://sqliteonline.com/](https://sqliteonline.com/) and try out these SQL queries.\n",
        "\n",
        "---\n",
        "**CREATE**: Create `employees` table.\n",
        "\n",
        "```sql\n",
        "CREATE TABLE IF NOT EXISTS employees (\n",
        "  emp_id INTEGER PRIMARY KEY,\n",
        "  name TEXT NOT NULL,\n",
        "  department TEXT,\n",
        "  salary REAL\n",
        ");\n",
        "```\n",
        "\n",
        "---\n",
        "**UPDATE**: Add employees information.\n",
        "\n",
        "```sql\n",
        "INSERT INTO employees (name, department, salary) VALUES ('Mia', 'HR', 140000.0);\n",
        "INSERT INTO employees (name, department, salary) VALUES ('Michael', 'Marketing', 200000.0);\n",
        "INSERT INTO employees (name, department, salary) VALUES ('Sean', 'HR', 250000.0);\n",
        "INSERT INTO employees (name, department, salary) VALUES ('Dylan', 'Marketing', 205000.0);\n",
        "```\n",
        "\n",
        "---\n",
        "**READ**: Select `emp_id` and `name` fields from `employees` table.\n",
        "\n",
        "```sql\n",
        "SELECT emp_id, name\n",
        "FROM employees;\n",
        "```\n",
        "\n",
        "---\n",
        "**READ**: Select `emp_id`, `name`, and `department` fields of HR employees from `employees` table.\n",
        "\n",
        "```sql\n",
        "SELECT emp_id, name, department\n",
        "FROM employees\n",
        "WHERE department = \"HR\";\n",
        "```\n",
        "\n",
        "---\n",
        "**READ**: Select `emp_id`, `name`, and `salary` fields of Marketing employees sorted by `salary` (highest salary first) from `employees` table.\n",
        "\n",
        "```sql\n",
        "SELECT emp_id, name, salary\n",
        "FROM employees\n",
        "WHERE department = \"Marketing\"\n",
        "ORDER BY salary DESC;\n",
        "```\n",
        "\n",
        "---\n",
        "**READ**:  Select all rows and columns from `employees` table.\n",
        "\n",
        "```sql\n",
        "SELECT * FROM employees;\n",
        "```\n",
        "\n",
        "---\n",
        "**DELETE**: Delete all HR employees information\n",
        "\n",
        "```sql\n",
        "DELETE FROM employees WHERE department = \"HR\";\n",
        "```"
      ]
    },
    {
      "cell_type": "markdown",
      "metadata": {
        "id": "9D-YaLZ80wlB"
      },
      "source": [
        "---\n",
        "\n",
        "## 📘 CRUD Operations using Jupyter notebook"
      ]
    },
    {
      "cell_type": "markdown",
      "metadata": {
        "id": "AZ4GoLVa0wlB"
      },
      "source": [
        "▶️ First, run the code cell below to import modules used for **🧭 Check Your Work** sections and the autograder."
      ]
    },
    {
      "cell_type": "code",
      "execution_count": 1,
      "metadata": {
        "id": "TmLPgPvf0wlC"
      },
      "outputs": [],
      "source": [
        "import unittest\n",
        "import base64\n",
        "tc = unittest.TestCase()"
      ]
    },
    {
      "cell_type": "markdown",
      "metadata": {
        "id": "uMWTO3oO0wlD"
      },
      "source": [
        "#### 👇 Tasks\n",
        "\n",
        "- ✔️ Import the following Python packages.\n",
        "    1. `pandas`: Use alias `pd`.\n",
        "    2. `numpy`: Use alias `np`.\n",
        "    3. `sqlite3`: No alias"
      ]
    },
    {
      "cell_type": "code",
      "execution_count": 2,
      "metadata": {
        "id": "riDSb-hn0wlD"
      },
      "outputs": [],
      "source": [
        "# YOUR CODE BEGINS\n",
        "import pandas as pd\n",
        "import numpy as np\n",
        "import sqlite3\n",
        "\n",
        "# YOUR CODE ENDS"
      ]
    },
    {
      "cell_type": "markdown",
      "metadata": {
        "id": "X48T2vHj0wlE"
      },
      "source": [
        "#### 🧭 Check your work"
      ]
    },
    {
      "cell_type": "code",
      "execution_count": 3,
      "metadata": {
        "id": "T5cCb4Uf0wlE"
      },
      "outputs": [],
      "source": [
        "import sys\n",
        "tc.assertTrue('pd' in globals(), 'Check whether you have correctly imported Pandas with an alias.')\n",
        "tc.assertTrue('np' in globals(), 'Check whether you have correctly imported NumPy with an alias.')\n",
        "tc.assertTrue('sqlite3' in globals(), 'Check whether you have correctly imported the sqlite3 package.')"
      ]
    },
    {
      "cell_type": "markdown",
      "metadata": {
        "id": "6DIHiVra0wlE"
      },
      "source": [
        "---\n",
        "### 🎯 Create a database file and a table"
      ]
    },
    {
      "cell_type": "markdown",
      "metadata": {
        "id": "d6uDkxHm0wlE"
      },
      "source": [
        "▶️ Run the code below to create a new SQLite database file named `airbnb.db` and create a table named `listings`."
      ]
    },
    {
      "cell_type": "code",
      "execution_count": 4,
      "metadata": {
        "id": "HUni0CVp0wlF"
      },
      "outputs": [],
      "source": [
        "# Connect to airbnb.db database file\n",
        "# If the file does not exist, create a new file\n",
        "conn = sqlite3.connect('airbnb.db')\n",
        "\n",
        "# Create a cursor\n",
        "# A cursor enables users of a DBMS to traverse through the result set\n",
        "# without having to retrieve all results at once\n",
        "c = conn.cursor()\n",
        "\n",
        "# Drop (delete) listings table if it already exists\n",
        "c.execute('DROP TABLE IF EXISTS listings')\n",
        "conn.commit()\n",
        "\n",
        "# Define a query\n",
        "# Triple quotes (''') denote multiline strings\n",
        "create_table_query = '''\n",
        "CREATE TABLE IF NOT EXISTS listings (\n",
        "    neighbourhood TEXT,\n",
        "    room_type TEXT,\n",
        "    bathrooms REAL,\n",
        "    bedrooms REAL,\n",
        "    price REAL,\n",
        "    number_of_reviews INTEGER,\n",
        "    review_score REAL,\n",
        "    is_superhost INT\n",
        ")\n",
        "'''\n",
        "\n",
        "c.execute(create_table_query)\n",
        "conn.commit()\n",
        "\n",
        "conn.close()"
      ]
    },
    {
      "cell_type": "markdown",
      "metadata": {
        "id": "Lqbd5Ed30wlF"
      },
      "source": [
        "---\n",
        "### 🎯 Populate a database table from a CSV file"
      ]
    },
    {
      "cell_type": "markdown",
      "metadata": {
        "id": "Xx30Rn0J0wlF"
      },
      "source": [
        "▶️ Run the code below to create a DataFrame named `df_listings`."
      ]
    },
    {
      "cell_type": "code",
      "execution_count": 5,
      "metadata": {
        "id": "q1ho1quy0wlF",
        "outputId": "8771ccda-b1e1-44fa-8694-282f9533bda5",
        "colab": {
          "base_uri": "https://localhost:8080/",
          "height": 204
        }
      },
      "outputs": [
        {
          "output_type": "display_data",
          "data": {
            "text/plain": [
              "     neighbourhood        room_type  bathrooms  bedrooms  price  \\\n",
              "0        Hyde Park     Private room        1.0       1.0   65.0   \n",
              "1   South Lawndale  Entire home/apt        1.0       3.0  117.0   \n",
              "2        West Town  Entire home/apt        1.0       3.0   70.0   \n",
              "3           Uptown     Private room        1.5       1.0  110.0   \n",
              "4  Near North Side     Private room        1.0       1.0   75.0   \n",
              "\n",
              "   number_of_reviews  review_score  is_superhost  \n",
              "0                181         100.0             1  \n",
              "1                395          96.0             1  \n",
              "2                389          93.0             1  \n",
              "3                250         100.0             1  \n",
              "4                500          94.0             1  "
            ],
            "text/html": [
              "\n",
              "  <div id=\"df-9ed46a3e-7be3-4815-98bf-def84d143fd8\">\n",
              "    <div class=\"colab-df-container\">\n",
              "      <div>\n",
              "<style scoped>\n",
              "    .dataframe tbody tr th:only-of-type {\n",
              "        vertical-align: middle;\n",
              "    }\n",
              "\n",
              "    .dataframe tbody tr th {\n",
              "        vertical-align: top;\n",
              "    }\n",
              "\n",
              "    .dataframe thead th {\n",
              "        text-align: right;\n",
              "    }\n",
              "</style>\n",
              "<table border=\"1\" class=\"dataframe\">\n",
              "  <thead>\n",
              "    <tr style=\"text-align: right;\">\n",
              "      <th></th>\n",
              "      <th>neighbourhood</th>\n",
              "      <th>room_type</th>\n",
              "      <th>bathrooms</th>\n",
              "      <th>bedrooms</th>\n",
              "      <th>price</th>\n",
              "      <th>number_of_reviews</th>\n",
              "      <th>review_score</th>\n",
              "      <th>is_superhost</th>\n",
              "    </tr>\n",
              "  </thead>\n",
              "  <tbody>\n",
              "    <tr>\n",
              "      <th>0</th>\n",
              "      <td>Hyde Park</td>\n",
              "      <td>Private room</td>\n",
              "      <td>1.0</td>\n",
              "      <td>1.0</td>\n",
              "      <td>65.0</td>\n",
              "      <td>181</td>\n",
              "      <td>100.0</td>\n",
              "      <td>1</td>\n",
              "    </tr>\n",
              "    <tr>\n",
              "      <th>1</th>\n",
              "      <td>South Lawndale</td>\n",
              "      <td>Entire home/apt</td>\n",
              "      <td>1.0</td>\n",
              "      <td>3.0</td>\n",
              "      <td>117.0</td>\n",
              "      <td>395</td>\n",
              "      <td>96.0</td>\n",
              "      <td>1</td>\n",
              "    </tr>\n",
              "    <tr>\n",
              "      <th>2</th>\n",
              "      <td>West Town</td>\n",
              "      <td>Entire home/apt</td>\n",
              "      <td>1.0</td>\n",
              "      <td>3.0</td>\n",
              "      <td>70.0</td>\n",
              "      <td>389</td>\n",
              "      <td>93.0</td>\n",
              "      <td>1</td>\n",
              "    </tr>\n",
              "    <tr>\n",
              "      <th>3</th>\n",
              "      <td>Uptown</td>\n",
              "      <td>Private room</td>\n",
              "      <td>1.5</td>\n",
              "      <td>1.0</td>\n",
              "      <td>110.0</td>\n",
              "      <td>250</td>\n",
              "      <td>100.0</td>\n",
              "      <td>1</td>\n",
              "    </tr>\n",
              "    <tr>\n",
              "      <th>4</th>\n",
              "      <td>Near North Side</td>\n",
              "      <td>Private room</td>\n",
              "      <td>1.0</td>\n",
              "      <td>1.0</td>\n",
              "      <td>75.0</td>\n",
              "      <td>500</td>\n",
              "      <td>94.0</td>\n",
              "      <td>1</td>\n",
              "    </tr>\n",
              "  </tbody>\n",
              "</table>\n",
              "</div>\n",
              "      <button class=\"colab-df-convert\" onclick=\"convertToInteractive('df-9ed46a3e-7be3-4815-98bf-def84d143fd8')\"\n",
              "              title=\"Convert this dataframe to an interactive table.\"\n",
              "              style=\"display:none;\">\n",
              "        \n",
              "  <svg xmlns=\"http://www.w3.org/2000/svg\" height=\"24px\"viewBox=\"0 0 24 24\"\n",
              "       width=\"24px\">\n",
              "    <path d=\"M0 0h24v24H0V0z\" fill=\"none\"/>\n",
              "    <path d=\"M18.56 5.44l.94 2.06.94-2.06 2.06-.94-2.06-.94-.94-2.06-.94 2.06-2.06.94zm-11 1L8.5 8.5l.94-2.06 2.06-.94-2.06-.94L8.5 2.5l-.94 2.06-2.06.94zm10 10l.94 2.06.94-2.06 2.06-.94-2.06-.94-.94-2.06-.94 2.06-2.06.94z\"/><path d=\"M17.41 7.96l-1.37-1.37c-.4-.4-.92-.59-1.43-.59-.52 0-1.04.2-1.43.59L10.3 9.45l-7.72 7.72c-.78.78-.78 2.05 0 2.83L4 21.41c.39.39.9.59 1.41.59.51 0 1.02-.2 1.41-.59l7.78-7.78 2.81-2.81c.8-.78.8-2.07 0-2.86zM5.41 20L4 18.59l7.72-7.72 1.47 1.35L5.41 20z\"/>\n",
              "  </svg>\n",
              "      </button>\n",
              "      \n",
              "  <style>\n",
              "    .colab-df-container {\n",
              "      display:flex;\n",
              "      flex-wrap:wrap;\n",
              "      gap: 12px;\n",
              "    }\n",
              "\n",
              "    .colab-df-convert {\n",
              "      background-color: #E8F0FE;\n",
              "      border: none;\n",
              "      border-radius: 50%;\n",
              "      cursor: pointer;\n",
              "      display: none;\n",
              "      fill: #1967D2;\n",
              "      height: 32px;\n",
              "      padding: 0 0 0 0;\n",
              "      width: 32px;\n",
              "    }\n",
              "\n",
              "    .colab-df-convert:hover {\n",
              "      background-color: #E2EBFA;\n",
              "      box-shadow: 0px 1px 2px rgba(60, 64, 67, 0.3), 0px 1px 3px 1px rgba(60, 64, 67, 0.15);\n",
              "      fill: #174EA6;\n",
              "    }\n",
              "\n",
              "    [theme=dark] .colab-df-convert {\n",
              "      background-color: #3B4455;\n",
              "      fill: #D2E3FC;\n",
              "    }\n",
              "\n",
              "    [theme=dark] .colab-df-convert:hover {\n",
              "      background-color: #434B5C;\n",
              "      box-shadow: 0px 1px 3px 1px rgba(0, 0, 0, 0.15);\n",
              "      filter: drop-shadow(0px 1px 2px rgba(0, 0, 0, 0.3));\n",
              "      fill: #FFFFFF;\n",
              "    }\n",
              "  </style>\n",
              "\n",
              "      <script>\n",
              "        const buttonEl =\n",
              "          document.querySelector('#df-9ed46a3e-7be3-4815-98bf-def84d143fd8 button.colab-df-convert');\n",
              "        buttonEl.style.display =\n",
              "          google.colab.kernel.accessAllowed ? 'block' : 'none';\n",
              "\n",
              "        async function convertToInteractive(key) {\n",
              "          const element = document.querySelector('#df-9ed46a3e-7be3-4815-98bf-def84d143fd8');\n",
              "          const dataTable =\n",
              "            await google.colab.kernel.invokeFunction('convertToInteractive',\n",
              "                                                     [key], {});\n",
              "          if (!dataTable) return;\n",
              "\n",
              "          const docLinkHtml = 'Like what you see? Visit the ' +\n",
              "            '<a target=\"_blank\" href=https://colab.research.google.com/notebooks/data_table.ipynb>data table notebook</a>'\n",
              "            + ' to learn more about interactive tables.';\n",
              "          element.innerHTML = '';\n",
              "          dataTable['output_type'] = 'display_data';\n",
              "          await google.colab.output.renderOutput(dataTable, element);\n",
              "          const docLink = document.createElement('div');\n",
              "          docLink.innerHTML = docLinkHtml;\n",
              "          element.appendChild(docLink);\n",
              "        }\n",
              "      </script>\n",
              "    </div>\n",
              "  </div>\n",
              "  "
            ]
          },
          "metadata": {}
        }
      ],
      "source": [
        "# DO NOT CHANGE THE CODE IN THIS CELL\n",
        "df_listings = pd.read_csv('https://github.com/bdi475/datasets/raw/main/chicago-airbnb-listings-small.csv')\n",
        "\n",
        "display(df_listings.head(5))"
      ]
    },
    {
      "cell_type": "markdown",
      "metadata": {
        "id": "euGe3peF0wlG"
      },
      "source": [
        "▶️ Run the code below to populate the `listings` table. All data in `df_listings` will be inserted to the table."
      ]
    },
    {
      "cell_type": "code",
      "execution_count": 6,
      "metadata": {
        "id": "VTWRv2aO0wlG"
      },
      "outputs": [],
      "source": [
        "# DO NOT CHANGE THE CODE IN THIS CELL\n",
        "conn = sqlite3.connect('airbnb.db')\n",
        "c = conn.cursor()\n",
        "\n",
        "tables = list(pd.read_sql_query('SELECT * FROM sqlite_master WHERE type=\"table\";', con=conn)['tbl_name'])\n",
        "if 'listings' in tables:\n",
        "    c.execute(f'DELETE FROM listings')\n",
        "    conn.commit()\n",
        "    \n",
        "df_listings.to_sql(name='listings', index=False, con=conn, if_exists='append')\n",
        "\n",
        "conn.close()"
      ]
    },
    {
      "cell_type": "markdown",
      "metadata": {
        "id": "Fq79dRs20wlG"
      },
      "source": [
        "#### 🧭 Check your work"
      ]
    },
    {
      "cell_type": "code",
      "execution_count": 7,
      "metadata": {
        "id": "t7oWQPS80wlG"
      },
      "outputs": [],
      "source": [
        "# DO NOT CHANGE THE CODE IN THIS CELL\n",
        "import glob\n",
        "import os\n",
        "user_db_files = glob.glob('*.db')\n",
        "\n",
        "# Check if all files exist in the current directory\n",
        "tc.assertTrue('airbnb.db' in user_db_files, f'Check if airbnb.db exists in {os.getcwd()}')\n",
        "\n",
        "conn_checker = sqlite3.connect('airbnb.db')\n",
        "table_to_check = 'listings'\n",
        "\n",
        "# Check if table exists\n",
        "user_tables = list(pd.read_sql_query('SELECT * FROM sqlite_master WHERE type=\"table\";', con=conn_checker)['tbl_name'])\n",
        "tc.assertTrue(table_to_check in user_tables, f'{table_to_check} does not exist in your NWT.db file!')\n",
        "\n",
        "conn_checker.close()"
      ]
    },
    {
      "cell_type": "markdown",
      "metadata": {
        "id": "DtLEhJSb0wlG"
      },
      "source": [
        "---\n",
        "### 🎯 Exercise 1: Select all rows and columns\n",
        "\n",
        "#### 👇 Tasks\n",
        "\n",
        "- ✔️ Write a query that selects all columns for all rows.\n",
        "- ✔️ Store your query in a new variable named `query_select_all`."
      ]
    },
    {
      "cell_type": "code",
      "execution_count": 10,
      "metadata": {
        "id": "RJ_Aqwwg0wlH",
        "outputId": "460850dd-c30c-4082-b2c2-f68c75215518",
        "colab": {
          "base_uri": "https://localhost:8080/",
          "height": 419
        }
      },
      "outputs": [
        {
          "output_type": "display_data",
          "data": {
            "text/plain": [
              "       neighbourhood        room_type  bathrooms  bedrooms  price  \\\n",
              "0          Hyde Park     Private room        1.0       1.0   65.0   \n",
              "1     South Lawndale  Entire home/apt        1.0       3.0  117.0   \n",
              "2          West Town  Entire home/apt        1.0       3.0   70.0   \n",
              "3             Uptown     Private room        1.5       1.0  110.0   \n",
              "4    Near North Side     Private room        1.0       1.0   75.0   \n",
              "..               ...              ...        ...       ...    ...   \n",
              "821  Near North Side     Private room        1.0       1.0   97.0   \n",
              "822        Edgewater  Entire home/apt        1.0       1.0  104.0   \n",
              "823        Lake View  Entire home/apt        1.0       1.0  106.0   \n",
              "824  Near North Side     Private room        1.0       1.0  114.0   \n",
              "825  Near North Side     Private room        1.0       1.0  127.0   \n",
              "\n",
              "     number_of_reviews  review_score  is_superhost  \n",
              "0                  181         100.0             1  \n",
              "1                  395          96.0             1  \n",
              "2                  389          93.0             1  \n",
              "3                  250         100.0             1  \n",
              "4                  500          94.0             1  \n",
              "..                 ...           ...           ...  \n",
              "821                140          91.0             0  \n",
              "822                101          92.0             0  \n",
              "823                132          99.0             1  \n",
              "824                329          91.0             0  \n",
              "825                173          92.0             0  \n",
              "\n",
              "[826 rows x 8 columns]"
            ],
            "text/html": [
              "\n",
              "  <div id=\"df-8c3c6a4b-c7d0-44ef-9dbb-b32e163cb6ec\">\n",
              "    <div class=\"colab-df-container\">\n",
              "      <div>\n",
              "<style scoped>\n",
              "    .dataframe tbody tr th:only-of-type {\n",
              "        vertical-align: middle;\n",
              "    }\n",
              "\n",
              "    .dataframe tbody tr th {\n",
              "        vertical-align: top;\n",
              "    }\n",
              "\n",
              "    .dataframe thead th {\n",
              "        text-align: right;\n",
              "    }\n",
              "</style>\n",
              "<table border=\"1\" class=\"dataframe\">\n",
              "  <thead>\n",
              "    <tr style=\"text-align: right;\">\n",
              "      <th></th>\n",
              "      <th>neighbourhood</th>\n",
              "      <th>room_type</th>\n",
              "      <th>bathrooms</th>\n",
              "      <th>bedrooms</th>\n",
              "      <th>price</th>\n",
              "      <th>number_of_reviews</th>\n",
              "      <th>review_score</th>\n",
              "      <th>is_superhost</th>\n",
              "    </tr>\n",
              "  </thead>\n",
              "  <tbody>\n",
              "    <tr>\n",
              "      <th>0</th>\n",
              "      <td>Hyde Park</td>\n",
              "      <td>Private room</td>\n",
              "      <td>1.0</td>\n",
              "      <td>1.0</td>\n",
              "      <td>65.0</td>\n",
              "      <td>181</td>\n",
              "      <td>100.0</td>\n",
              "      <td>1</td>\n",
              "    </tr>\n",
              "    <tr>\n",
              "      <th>1</th>\n",
              "      <td>South Lawndale</td>\n",
              "      <td>Entire home/apt</td>\n",
              "      <td>1.0</td>\n",
              "      <td>3.0</td>\n",
              "      <td>117.0</td>\n",
              "      <td>395</td>\n",
              "      <td>96.0</td>\n",
              "      <td>1</td>\n",
              "    </tr>\n",
              "    <tr>\n",
              "      <th>2</th>\n",
              "      <td>West Town</td>\n",
              "      <td>Entire home/apt</td>\n",
              "      <td>1.0</td>\n",
              "      <td>3.0</td>\n",
              "      <td>70.0</td>\n",
              "      <td>389</td>\n",
              "      <td>93.0</td>\n",
              "      <td>1</td>\n",
              "    </tr>\n",
              "    <tr>\n",
              "      <th>3</th>\n",
              "      <td>Uptown</td>\n",
              "      <td>Private room</td>\n",
              "      <td>1.5</td>\n",
              "      <td>1.0</td>\n",
              "      <td>110.0</td>\n",
              "      <td>250</td>\n",
              "      <td>100.0</td>\n",
              "      <td>1</td>\n",
              "    </tr>\n",
              "    <tr>\n",
              "      <th>4</th>\n",
              "      <td>Near North Side</td>\n",
              "      <td>Private room</td>\n",
              "      <td>1.0</td>\n",
              "      <td>1.0</td>\n",
              "      <td>75.0</td>\n",
              "      <td>500</td>\n",
              "      <td>94.0</td>\n",
              "      <td>1</td>\n",
              "    </tr>\n",
              "    <tr>\n",
              "      <th>...</th>\n",
              "      <td>...</td>\n",
              "      <td>...</td>\n",
              "      <td>...</td>\n",
              "      <td>...</td>\n",
              "      <td>...</td>\n",
              "      <td>...</td>\n",
              "      <td>...</td>\n",
              "      <td>...</td>\n",
              "    </tr>\n",
              "    <tr>\n",
              "      <th>821</th>\n",
              "      <td>Near North Side</td>\n",
              "      <td>Private room</td>\n",
              "      <td>1.0</td>\n",
              "      <td>1.0</td>\n",
              "      <td>97.0</td>\n",
              "      <td>140</td>\n",
              "      <td>91.0</td>\n",
              "      <td>0</td>\n",
              "    </tr>\n",
              "    <tr>\n",
              "      <th>822</th>\n",
              "      <td>Edgewater</td>\n",
              "      <td>Entire home/apt</td>\n",
              "      <td>1.0</td>\n",
              "      <td>1.0</td>\n",
              "      <td>104.0</td>\n",
              "      <td>101</td>\n",
              "      <td>92.0</td>\n",
              "      <td>0</td>\n",
              "    </tr>\n",
              "    <tr>\n",
              "      <th>823</th>\n",
              "      <td>Lake View</td>\n",
              "      <td>Entire home/apt</td>\n",
              "      <td>1.0</td>\n",
              "      <td>1.0</td>\n",
              "      <td>106.0</td>\n",
              "      <td>132</td>\n",
              "      <td>99.0</td>\n",
              "      <td>1</td>\n",
              "    </tr>\n",
              "    <tr>\n",
              "      <th>824</th>\n",
              "      <td>Near North Side</td>\n",
              "      <td>Private room</td>\n",
              "      <td>1.0</td>\n",
              "      <td>1.0</td>\n",
              "      <td>114.0</td>\n",
              "      <td>329</td>\n",
              "      <td>91.0</td>\n",
              "      <td>0</td>\n",
              "    </tr>\n",
              "    <tr>\n",
              "      <th>825</th>\n",
              "      <td>Near North Side</td>\n",
              "      <td>Private room</td>\n",
              "      <td>1.0</td>\n",
              "      <td>1.0</td>\n",
              "      <td>127.0</td>\n",
              "      <td>173</td>\n",
              "      <td>92.0</td>\n",
              "      <td>0</td>\n",
              "    </tr>\n",
              "  </tbody>\n",
              "</table>\n",
              "<p>826 rows × 8 columns</p>\n",
              "</div>\n",
              "      <button class=\"colab-df-convert\" onclick=\"convertToInteractive('df-8c3c6a4b-c7d0-44ef-9dbb-b32e163cb6ec')\"\n",
              "              title=\"Convert this dataframe to an interactive table.\"\n",
              "              style=\"display:none;\">\n",
              "        \n",
              "  <svg xmlns=\"http://www.w3.org/2000/svg\" height=\"24px\"viewBox=\"0 0 24 24\"\n",
              "       width=\"24px\">\n",
              "    <path d=\"M0 0h24v24H0V0z\" fill=\"none\"/>\n",
              "    <path d=\"M18.56 5.44l.94 2.06.94-2.06 2.06-.94-2.06-.94-.94-2.06-.94 2.06-2.06.94zm-11 1L8.5 8.5l.94-2.06 2.06-.94-2.06-.94L8.5 2.5l-.94 2.06-2.06.94zm10 10l.94 2.06.94-2.06 2.06-.94-2.06-.94-.94-2.06-.94 2.06-2.06.94z\"/><path d=\"M17.41 7.96l-1.37-1.37c-.4-.4-.92-.59-1.43-.59-.52 0-1.04.2-1.43.59L10.3 9.45l-7.72 7.72c-.78.78-.78 2.05 0 2.83L4 21.41c.39.39.9.59 1.41.59.51 0 1.02-.2 1.41-.59l7.78-7.78 2.81-2.81c.8-.78.8-2.07 0-2.86zM5.41 20L4 18.59l7.72-7.72 1.47 1.35L5.41 20z\"/>\n",
              "  </svg>\n",
              "      </button>\n",
              "      \n",
              "  <style>\n",
              "    .colab-df-container {\n",
              "      display:flex;\n",
              "      flex-wrap:wrap;\n",
              "      gap: 12px;\n",
              "    }\n",
              "\n",
              "    .colab-df-convert {\n",
              "      background-color: #E8F0FE;\n",
              "      border: none;\n",
              "      border-radius: 50%;\n",
              "      cursor: pointer;\n",
              "      display: none;\n",
              "      fill: #1967D2;\n",
              "      height: 32px;\n",
              "      padding: 0 0 0 0;\n",
              "      width: 32px;\n",
              "    }\n",
              "\n",
              "    .colab-df-convert:hover {\n",
              "      background-color: #E2EBFA;\n",
              "      box-shadow: 0px 1px 2px rgba(60, 64, 67, 0.3), 0px 1px 3px 1px rgba(60, 64, 67, 0.15);\n",
              "      fill: #174EA6;\n",
              "    }\n",
              "\n",
              "    [theme=dark] .colab-df-convert {\n",
              "      background-color: #3B4455;\n",
              "      fill: #D2E3FC;\n",
              "    }\n",
              "\n",
              "    [theme=dark] .colab-df-convert:hover {\n",
              "      background-color: #434B5C;\n",
              "      box-shadow: 0px 1px 3px 1px rgba(0, 0, 0, 0.15);\n",
              "      filter: drop-shadow(0px 1px 2px rgba(0, 0, 0, 0.3));\n",
              "      fill: #FFFFFF;\n",
              "    }\n",
              "  </style>\n",
              "\n",
              "      <script>\n",
              "        const buttonEl =\n",
              "          document.querySelector('#df-8c3c6a4b-c7d0-44ef-9dbb-b32e163cb6ec button.colab-df-convert');\n",
              "        buttonEl.style.display =\n",
              "          google.colab.kernel.accessAllowed ? 'block' : 'none';\n",
              "\n",
              "        async function convertToInteractive(key) {\n",
              "          const element = document.querySelector('#df-8c3c6a4b-c7d0-44ef-9dbb-b32e163cb6ec');\n",
              "          const dataTable =\n",
              "            await google.colab.kernel.invokeFunction('convertToInteractive',\n",
              "                                                     [key], {});\n",
              "          if (!dataTable) return;\n",
              "\n",
              "          const docLinkHtml = 'Like what you see? Visit the ' +\n",
              "            '<a target=\"_blank\" href=https://colab.research.google.com/notebooks/data_table.ipynb>data table notebook</a>'\n",
              "            + ' to learn more about interactive tables.';\n",
              "          element.innerHTML = '';\n",
              "          dataTable['output_type'] = 'display_data';\n",
              "          await google.colab.output.renderOutput(dataTable, element);\n",
              "          const docLink = document.createElement('div');\n",
              "          docLink.innerHTML = docLinkHtml;\n",
              "          element.appendChild(docLink);\n",
              "        }\n",
              "      </script>\n",
              "    </div>\n",
              "  </div>\n",
              "  "
            ]
          },
          "metadata": {}
        }
      ],
      "source": [
        "# YOUR CODE BEGINS\n",
        "\n",
        "query_select_all = '''\n",
        "SELECT * FROM listings\n",
        "'''\n",
        "\n",
        "# YOUR CODE ENDS\n",
        "conn = sqlite3.connect('airbnb.db')\n",
        "\n",
        "df_result = pd.read_sql_query(query_select_all, con=conn)\n",
        "display(df_result)\n",
        "\n",
        "conn.close()"
      ]
    },
    {
      "cell_type": "markdown",
      "metadata": {
        "id": "9TKzjlxl0wlH"
      },
      "source": [
        "#### 🧭 Check your work"
      ]
    },
    {
      "cell_type": "code",
      "execution_count": 11,
      "metadata": {
        "nbgrader": {
          "grade": true,
          "grade_id": "exercise-01",
          "locked": true,
          "points": "1",
          "solution": false
        },
        "id": "_Ox0A3XS0wlH"
      },
      "outputs": [],
      "source": [
        "# DO NOT CHANGE THE CODE IN THIS CELL\n",
        "conn = sqlite3.connect('airbnb.db')\n",
        "\n",
        "decoded_query = base64.b64decode(b'ClNFTEVDVCAqIEZST00gbGlzdGluZ3MK').decode()\n",
        "df_check = pd.read_sql_query(decoded_query, con=conn)\n",
        "\n",
        "tc.assertEqual(df_result.shape, df_check.shape, 'Number of rows and/or columns is different')\n",
        "\n",
        "conn.close()"
      ]
    },
    {
      "cell_type": "markdown",
      "metadata": {
        "id": "3C2jCFAU0wlI"
      },
      "source": [
        "---\n",
        "### 🎯 Exercise 2: Select only three columns for all rows\n",
        "\n",
        "#### 👇 Tasks\n",
        "\n",
        "- ✔️ Write a query that only the following 3 columns from the `listings` table:\n",
        "    1. `bathrooms`\n",
        "    2. `bedrooms`\n",
        "    3. `price`\n",
        "- ✔️ Store your query in a new variable named `query_select_three_columns`."
      ]
    },
    {
      "cell_type": "code",
      "execution_count": 12,
      "metadata": {
        "id": "CxdACqeC0wlI",
        "outputId": "44cc6043-114f-4b1c-e247-488de524c458",
        "colab": {
          "base_uri": "https://localhost:8080/",
          "height": 419
        }
      },
      "outputs": [
        {
          "output_type": "display_data",
          "data": {
            "text/plain": [
              "     bathrooms  bedrooms  price\n",
              "0          1.0       1.0   65.0\n",
              "1          1.0       3.0  117.0\n",
              "2          1.0       3.0   70.0\n",
              "3          1.5       1.0  110.0\n",
              "4          1.0       1.0   75.0\n",
              "..         ...       ...    ...\n",
              "821        1.0       1.0   97.0\n",
              "822        1.0       1.0  104.0\n",
              "823        1.0       1.0  106.0\n",
              "824        1.0       1.0  114.0\n",
              "825        1.0       1.0  127.0\n",
              "\n",
              "[826 rows x 3 columns]"
            ],
            "text/html": [
              "\n",
              "  <div id=\"df-b1398047-3701-4298-892f-229132df7ee3\">\n",
              "    <div class=\"colab-df-container\">\n",
              "      <div>\n",
              "<style scoped>\n",
              "    .dataframe tbody tr th:only-of-type {\n",
              "        vertical-align: middle;\n",
              "    }\n",
              "\n",
              "    .dataframe tbody tr th {\n",
              "        vertical-align: top;\n",
              "    }\n",
              "\n",
              "    .dataframe thead th {\n",
              "        text-align: right;\n",
              "    }\n",
              "</style>\n",
              "<table border=\"1\" class=\"dataframe\">\n",
              "  <thead>\n",
              "    <tr style=\"text-align: right;\">\n",
              "      <th></th>\n",
              "      <th>bathrooms</th>\n",
              "      <th>bedrooms</th>\n",
              "      <th>price</th>\n",
              "    </tr>\n",
              "  </thead>\n",
              "  <tbody>\n",
              "    <tr>\n",
              "      <th>0</th>\n",
              "      <td>1.0</td>\n",
              "      <td>1.0</td>\n",
              "      <td>65.0</td>\n",
              "    </tr>\n",
              "    <tr>\n",
              "      <th>1</th>\n",
              "      <td>1.0</td>\n",
              "      <td>3.0</td>\n",
              "      <td>117.0</td>\n",
              "    </tr>\n",
              "    <tr>\n",
              "      <th>2</th>\n",
              "      <td>1.0</td>\n",
              "      <td>3.0</td>\n",
              "      <td>70.0</td>\n",
              "    </tr>\n",
              "    <tr>\n",
              "      <th>3</th>\n",
              "      <td>1.5</td>\n",
              "      <td>1.0</td>\n",
              "      <td>110.0</td>\n",
              "    </tr>\n",
              "    <tr>\n",
              "      <th>4</th>\n",
              "      <td>1.0</td>\n",
              "      <td>1.0</td>\n",
              "      <td>75.0</td>\n",
              "    </tr>\n",
              "    <tr>\n",
              "      <th>...</th>\n",
              "      <td>...</td>\n",
              "      <td>...</td>\n",
              "      <td>...</td>\n",
              "    </tr>\n",
              "    <tr>\n",
              "      <th>821</th>\n",
              "      <td>1.0</td>\n",
              "      <td>1.0</td>\n",
              "      <td>97.0</td>\n",
              "    </tr>\n",
              "    <tr>\n",
              "      <th>822</th>\n",
              "      <td>1.0</td>\n",
              "      <td>1.0</td>\n",
              "      <td>104.0</td>\n",
              "    </tr>\n",
              "    <tr>\n",
              "      <th>823</th>\n",
              "      <td>1.0</td>\n",
              "      <td>1.0</td>\n",
              "      <td>106.0</td>\n",
              "    </tr>\n",
              "    <tr>\n",
              "      <th>824</th>\n",
              "      <td>1.0</td>\n",
              "      <td>1.0</td>\n",
              "      <td>114.0</td>\n",
              "    </tr>\n",
              "    <tr>\n",
              "      <th>825</th>\n",
              "      <td>1.0</td>\n",
              "      <td>1.0</td>\n",
              "      <td>127.0</td>\n",
              "    </tr>\n",
              "  </tbody>\n",
              "</table>\n",
              "<p>826 rows × 3 columns</p>\n",
              "</div>\n",
              "      <button class=\"colab-df-convert\" onclick=\"convertToInteractive('df-b1398047-3701-4298-892f-229132df7ee3')\"\n",
              "              title=\"Convert this dataframe to an interactive table.\"\n",
              "              style=\"display:none;\">\n",
              "        \n",
              "  <svg xmlns=\"http://www.w3.org/2000/svg\" height=\"24px\"viewBox=\"0 0 24 24\"\n",
              "       width=\"24px\">\n",
              "    <path d=\"M0 0h24v24H0V0z\" fill=\"none\"/>\n",
              "    <path d=\"M18.56 5.44l.94 2.06.94-2.06 2.06-.94-2.06-.94-.94-2.06-.94 2.06-2.06.94zm-11 1L8.5 8.5l.94-2.06 2.06-.94-2.06-.94L8.5 2.5l-.94 2.06-2.06.94zm10 10l.94 2.06.94-2.06 2.06-.94-2.06-.94-.94-2.06-.94 2.06-2.06.94z\"/><path d=\"M17.41 7.96l-1.37-1.37c-.4-.4-.92-.59-1.43-.59-.52 0-1.04.2-1.43.59L10.3 9.45l-7.72 7.72c-.78.78-.78 2.05 0 2.83L4 21.41c.39.39.9.59 1.41.59.51 0 1.02-.2 1.41-.59l7.78-7.78 2.81-2.81c.8-.78.8-2.07 0-2.86zM5.41 20L4 18.59l7.72-7.72 1.47 1.35L5.41 20z\"/>\n",
              "  </svg>\n",
              "      </button>\n",
              "      \n",
              "  <style>\n",
              "    .colab-df-container {\n",
              "      display:flex;\n",
              "      flex-wrap:wrap;\n",
              "      gap: 12px;\n",
              "    }\n",
              "\n",
              "    .colab-df-convert {\n",
              "      background-color: #E8F0FE;\n",
              "      border: none;\n",
              "      border-radius: 50%;\n",
              "      cursor: pointer;\n",
              "      display: none;\n",
              "      fill: #1967D2;\n",
              "      height: 32px;\n",
              "      padding: 0 0 0 0;\n",
              "      width: 32px;\n",
              "    }\n",
              "\n",
              "    .colab-df-convert:hover {\n",
              "      background-color: #E2EBFA;\n",
              "      box-shadow: 0px 1px 2px rgba(60, 64, 67, 0.3), 0px 1px 3px 1px rgba(60, 64, 67, 0.15);\n",
              "      fill: #174EA6;\n",
              "    }\n",
              "\n",
              "    [theme=dark] .colab-df-convert {\n",
              "      background-color: #3B4455;\n",
              "      fill: #D2E3FC;\n",
              "    }\n",
              "\n",
              "    [theme=dark] .colab-df-convert:hover {\n",
              "      background-color: #434B5C;\n",
              "      box-shadow: 0px 1px 3px 1px rgba(0, 0, 0, 0.15);\n",
              "      filter: drop-shadow(0px 1px 2px rgba(0, 0, 0, 0.3));\n",
              "      fill: #FFFFFF;\n",
              "    }\n",
              "  </style>\n",
              "\n",
              "      <script>\n",
              "        const buttonEl =\n",
              "          document.querySelector('#df-b1398047-3701-4298-892f-229132df7ee3 button.colab-df-convert');\n",
              "        buttonEl.style.display =\n",
              "          google.colab.kernel.accessAllowed ? 'block' : 'none';\n",
              "\n",
              "        async function convertToInteractive(key) {\n",
              "          const element = document.querySelector('#df-b1398047-3701-4298-892f-229132df7ee3');\n",
              "          const dataTable =\n",
              "            await google.colab.kernel.invokeFunction('convertToInteractive',\n",
              "                                                     [key], {});\n",
              "          if (!dataTable) return;\n",
              "\n",
              "          const docLinkHtml = 'Like what you see? Visit the ' +\n",
              "            '<a target=\"_blank\" href=https://colab.research.google.com/notebooks/data_table.ipynb>data table notebook</a>'\n",
              "            + ' to learn more about interactive tables.';\n",
              "          element.innerHTML = '';\n",
              "          dataTable['output_type'] = 'display_data';\n",
              "          await google.colab.output.renderOutput(dataTable, element);\n",
              "          const docLink = document.createElement('div');\n",
              "          docLink.innerHTML = docLinkHtml;\n",
              "          element.appendChild(docLink);\n",
              "        }\n",
              "      </script>\n",
              "    </div>\n",
              "  </div>\n",
              "  "
            ]
          },
          "metadata": {}
        }
      ],
      "source": [
        "# YOUR CODE BEGINS\n",
        "\n",
        "query_select_three_columns = '''\n",
        "SELECT bathrooms,bedrooms,price FROM listings\n",
        "'''\n",
        "\n",
        "# YOUR CODE ENDS\n",
        "conn = sqlite3.connect('airbnb.db')\n",
        "\n",
        "df_result = pd.read_sql_query(query_select_three_columns, con=conn)\n",
        "display(df_result)\n",
        "\n",
        "conn.close()"
      ]
    },
    {
      "cell_type": "markdown",
      "metadata": {
        "id": "PZKVhSAk0wlJ"
      },
      "source": [
        "#### 🧭 Check your work"
      ]
    },
    {
      "cell_type": "code",
      "execution_count": 13,
      "metadata": {
        "nbgrader": {
          "grade": true,
          "grade_id": "exercise-02",
          "locked": true,
          "points": "1",
          "solution": false
        },
        "id": "JNVkWRUI0wlJ"
      },
      "outputs": [],
      "source": [
        "# DO NOT CHANGE THE CODE IN THIS CELL\n",
        "conn = sqlite3.connect('airbnb.db')\n",
        "\n",
        "decoded_query = base64.b64decode(b'ClNFTEVDVCBiYXRocm9vbXMsIGJlZHJvb21zLCBwcmljZSBGUk9NIGxpc3RpbmdzCg==').decode()\n",
        "df_check = pd.read_sql_query(decoded_query, con=conn)\n",
        "\n",
        "tc.assertEqual(df_result.shape, df_check.shape, 'Number of rows and/or columns is different')\n",
        "\n",
        "conn.close()"
      ]
    },
    {
      "cell_type": "markdown",
      "metadata": {
        "id": "Axmm7KfO0wlK"
      },
      "source": [
        "---\n",
        "### 🎯 Exercise 3: Select all columns of expensive listings\n",
        "\n",
        "#### 👇 Tasks\n",
        "\n",
        "- ✔️ Write a query that selects all columns of listings with a daily price greater than $400 in the `listings` table:\n",
        "- ✔️ Store your query in a new variable named `query_expensive_listings`."
      ]
    },
    {
      "cell_type": "code",
      "execution_count": 14,
      "metadata": {
        "id": "cTw4-ZFV0wlK",
        "outputId": "1446180f-9573-40e8-982a-78a7147feda5",
        "colab": {
          "base_uri": "https://localhost:8080/",
          "height": 111
        }
      },
      "outputs": [
        {
          "output_type": "display_data",
          "data": {
            "text/plain": [
              "     neighbourhood        room_type  bathrooms  bedrooms  price  \\\n",
              "0           Uptown  Entire home/apt        2.5       5.0  875.0   \n",
              "1  Near North Side  Entire home/apt        1.0       2.0  500.0   \n",
              "\n",
              "   number_of_reviews  review_score  is_superhost  \n",
              "0                124          97.0             0  \n",
              "1                117          94.0             1  "
            ],
            "text/html": [
              "\n",
              "  <div id=\"df-b1234926-d17e-4a57-9d32-50b8fa03aff5\">\n",
              "    <div class=\"colab-df-container\">\n",
              "      <div>\n",
              "<style scoped>\n",
              "    .dataframe tbody tr th:only-of-type {\n",
              "        vertical-align: middle;\n",
              "    }\n",
              "\n",
              "    .dataframe tbody tr th {\n",
              "        vertical-align: top;\n",
              "    }\n",
              "\n",
              "    .dataframe thead th {\n",
              "        text-align: right;\n",
              "    }\n",
              "</style>\n",
              "<table border=\"1\" class=\"dataframe\">\n",
              "  <thead>\n",
              "    <tr style=\"text-align: right;\">\n",
              "      <th></th>\n",
              "      <th>neighbourhood</th>\n",
              "      <th>room_type</th>\n",
              "      <th>bathrooms</th>\n",
              "      <th>bedrooms</th>\n",
              "      <th>price</th>\n",
              "      <th>number_of_reviews</th>\n",
              "      <th>review_score</th>\n",
              "      <th>is_superhost</th>\n",
              "    </tr>\n",
              "  </thead>\n",
              "  <tbody>\n",
              "    <tr>\n",
              "      <th>0</th>\n",
              "      <td>Uptown</td>\n",
              "      <td>Entire home/apt</td>\n",
              "      <td>2.5</td>\n",
              "      <td>5.0</td>\n",
              "      <td>875.0</td>\n",
              "      <td>124</td>\n",
              "      <td>97.0</td>\n",
              "      <td>0</td>\n",
              "    </tr>\n",
              "    <tr>\n",
              "      <th>1</th>\n",
              "      <td>Near North Side</td>\n",
              "      <td>Entire home/apt</td>\n",
              "      <td>1.0</td>\n",
              "      <td>2.0</td>\n",
              "      <td>500.0</td>\n",
              "      <td>117</td>\n",
              "      <td>94.0</td>\n",
              "      <td>1</td>\n",
              "    </tr>\n",
              "  </tbody>\n",
              "</table>\n",
              "</div>\n",
              "      <button class=\"colab-df-convert\" onclick=\"convertToInteractive('df-b1234926-d17e-4a57-9d32-50b8fa03aff5')\"\n",
              "              title=\"Convert this dataframe to an interactive table.\"\n",
              "              style=\"display:none;\">\n",
              "        \n",
              "  <svg xmlns=\"http://www.w3.org/2000/svg\" height=\"24px\"viewBox=\"0 0 24 24\"\n",
              "       width=\"24px\">\n",
              "    <path d=\"M0 0h24v24H0V0z\" fill=\"none\"/>\n",
              "    <path d=\"M18.56 5.44l.94 2.06.94-2.06 2.06-.94-2.06-.94-.94-2.06-.94 2.06-2.06.94zm-11 1L8.5 8.5l.94-2.06 2.06-.94-2.06-.94L8.5 2.5l-.94 2.06-2.06.94zm10 10l.94 2.06.94-2.06 2.06-.94-2.06-.94-.94-2.06-.94 2.06-2.06.94z\"/><path d=\"M17.41 7.96l-1.37-1.37c-.4-.4-.92-.59-1.43-.59-.52 0-1.04.2-1.43.59L10.3 9.45l-7.72 7.72c-.78.78-.78 2.05 0 2.83L4 21.41c.39.39.9.59 1.41.59.51 0 1.02-.2 1.41-.59l7.78-7.78 2.81-2.81c.8-.78.8-2.07 0-2.86zM5.41 20L4 18.59l7.72-7.72 1.47 1.35L5.41 20z\"/>\n",
              "  </svg>\n",
              "      </button>\n",
              "      \n",
              "  <style>\n",
              "    .colab-df-container {\n",
              "      display:flex;\n",
              "      flex-wrap:wrap;\n",
              "      gap: 12px;\n",
              "    }\n",
              "\n",
              "    .colab-df-convert {\n",
              "      background-color: #E8F0FE;\n",
              "      border: none;\n",
              "      border-radius: 50%;\n",
              "      cursor: pointer;\n",
              "      display: none;\n",
              "      fill: #1967D2;\n",
              "      height: 32px;\n",
              "      padding: 0 0 0 0;\n",
              "      width: 32px;\n",
              "    }\n",
              "\n",
              "    .colab-df-convert:hover {\n",
              "      background-color: #E2EBFA;\n",
              "      box-shadow: 0px 1px 2px rgba(60, 64, 67, 0.3), 0px 1px 3px 1px rgba(60, 64, 67, 0.15);\n",
              "      fill: #174EA6;\n",
              "    }\n",
              "\n",
              "    [theme=dark] .colab-df-convert {\n",
              "      background-color: #3B4455;\n",
              "      fill: #D2E3FC;\n",
              "    }\n",
              "\n",
              "    [theme=dark] .colab-df-convert:hover {\n",
              "      background-color: #434B5C;\n",
              "      box-shadow: 0px 1px 3px 1px rgba(0, 0, 0, 0.15);\n",
              "      filter: drop-shadow(0px 1px 2px rgba(0, 0, 0, 0.3));\n",
              "      fill: #FFFFFF;\n",
              "    }\n",
              "  </style>\n",
              "\n",
              "      <script>\n",
              "        const buttonEl =\n",
              "          document.querySelector('#df-b1234926-d17e-4a57-9d32-50b8fa03aff5 button.colab-df-convert');\n",
              "        buttonEl.style.display =\n",
              "          google.colab.kernel.accessAllowed ? 'block' : 'none';\n",
              "\n",
              "        async function convertToInteractive(key) {\n",
              "          const element = document.querySelector('#df-b1234926-d17e-4a57-9d32-50b8fa03aff5');\n",
              "          const dataTable =\n",
              "            await google.colab.kernel.invokeFunction('convertToInteractive',\n",
              "                                                     [key], {});\n",
              "          if (!dataTable) return;\n",
              "\n",
              "          const docLinkHtml = 'Like what you see? Visit the ' +\n",
              "            '<a target=\"_blank\" href=https://colab.research.google.com/notebooks/data_table.ipynb>data table notebook</a>'\n",
              "            + ' to learn more about interactive tables.';\n",
              "          element.innerHTML = '';\n",
              "          dataTable['output_type'] = 'display_data';\n",
              "          await google.colab.output.renderOutput(dataTable, element);\n",
              "          const docLink = document.createElement('div');\n",
              "          docLink.innerHTML = docLinkHtml;\n",
              "          element.appendChild(docLink);\n",
              "        }\n",
              "      </script>\n",
              "    </div>\n",
              "  </div>\n",
              "  "
            ]
          },
          "metadata": {}
        }
      ],
      "source": [
        "# YOUR CODE BEGINS\n",
        "\n",
        "query_expensive_listings = '''\n",
        "SELECT * FROM listings WHERE price>400\n",
        "'''\n",
        "\n",
        "\n",
        "# YOUR CODE ENDS\n",
        "conn = sqlite3.connect('airbnb.db')\n",
        "\n",
        "df_result = pd.read_sql_query(query_expensive_listings, con=conn)\n",
        "display(df_result)\n",
        "\n",
        "conn.close()"
      ]
    },
    {
      "cell_type": "markdown",
      "metadata": {
        "id": "wZPHNosf0wlK"
      },
      "source": [
        "#### 🧭 Check your work"
      ]
    },
    {
      "cell_type": "code",
      "execution_count": 15,
      "metadata": {
        "nbgrader": {
          "grade": true,
          "grade_id": "exercise-03",
          "locked": true,
          "points": "1",
          "solution": false
        },
        "id": "UhcqXOrD0wlK"
      },
      "outputs": [],
      "source": [
        "# DO NOT CHANGE THE CODE IN THIS CELL\n",
        "conn = sqlite3.connect('airbnb.db')\n",
        "\n",
        "decoded_query = base64.b64decode(b'ClNFTEVDVCAqCkZST00gTElTVElOR1MKV0hFUkUgcHJpY2UgPiA0MDAK').decode()\n",
        "df_check = pd.read_sql_query(decoded_query, con=conn)\n",
        "\n",
        "tc.assertEqual(df_result.shape, df_check.shape, 'Number of rows and/or columns is different')\n",
        "\n",
        "conn.close()"
      ]
    },
    {
      "cell_type": "markdown",
      "metadata": {
        "id": "Gtli4V0L0wlL"
      },
      "source": [
        "---\n",
        "### 🎯 Exercise 4: Select all columns of West Town listings\n",
        "\n",
        "#### 👇 Tasks\n",
        "\n",
        "- ✔️ Write a query that selects all columns of listings in the \"West Town\" neighbourhood.\n",
        "    - `WHERE neighbourhood = 'West Town'`\n",
        "- ✔️ Store your query in a new variable named `query_west_town_listings`."
      ]
    },
    {
      "cell_type": "code",
      "execution_count": 16,
      "metadata": {
        "id": "O57YLVom0wlL",
        "outputId": "25186466-d7e4-4985-d839-8daf57b22d26",
        "colab": {
          "base_uri": "https://localhost:8080/",
          "height": 419
        }
      },
      "outputs": [
        {
          "output_type": "display_data",
          "data": {
            "text/plain": [
              "    neighbourhood        room_type  bathrooms  bedrooms  price  \\\n",
              "0       West Town  Entire home/apt        1.0       3.0   70.0   \n",
              "1       West Town  Entire home/apt        3.0       3.0  168.0   \n",
              "2       West Town  Entire home/apt        1.0       2.0   75.0   \n",
              "3       West Town     Private room        2.0       1.0   57.0   \n",
              "4       West Town     Private room        2.0       1.0   78.0   \n",
              "..            ...              ...        ...       ...    ...   \n",
              "133     West Town     Private room        1.0       1.0   55.0   \n",
              "134     West Town  Entire home/apt        1.0       1.0   95.0   \n",
              "135     West Town  Entire home/apt        1.0       2.0   68.0   \n",
              "136     West Town  Entire home/apt        1.0       2.0   58.0   \n",
              "137     West Town  Entire home/apt        1.0       3.0   64.0   \n",
              "\n",
              "     number_of_reviews  review_score  is_superhost  \n",
              "0                  389          93.0             1  \n",
              "1                  218          97.0             1  \n",
              "2                  189          91.0             0  \n",
              "3                  127          89.0             0  \n",
              "4                  143          90.0             0  \n",
              "..                 ...           ...           ...  \n",
              "133                126         100.0             1  \n",
              "134                125          98.0             1  \n",
              "135                112          93.0             0  \n",
              "136                140          99.0             1  \n",
              "137                134          98.0             1  \n",
              "\n",
              "[138 rows x 8 columns]"
            ],
            "text/html": [
              "\n",
              "  <div id=\"df-0609e915-c6a4-49e2-9a04-c594d91bd984\">\n",
              "    <div class=\"colab-df-container\">\n",
              "      <div>\n",
              "<style scoped>\n",
              "    .dataframe tbody tr th:only-of-type {\n",
              "        vertical-align: middle;\n",
              "    }\n",
              "\n",
              "    .dataframe tbody tr th {\n",
              "        vertical-align: top;\n",
              "    }\n",
              "\n",
              "    .dataframe thead th {\n",
              "        text-align: right;\n",
              "    }\n",
              "</style>\n",
              "<table border=\"1\" class=\"dataframe\">\n",
              "  <thead>\n",
              "    <tr style=\"text-align: right;\">\n",
              "      <th></th>\n",
              "      <th>neighbourhood</th>\n",
              "      <th>room_type</th>\n",
              "      <th>bathrooms</th>\n",
              "      <th>bedrooms</th>\n",
              "      <th>price</th>\n",
              "      <th>number_of_reviews</th>\n",
              "      <th>review_score</th>\n",
              "      <th>is_superhost</th>\n",
              "    </tr>\n",
              "  </thead>\n",
              "  <tbody>\n",
              "    <tr>\n",
              "      <th>0</th>\n",
              "      <td>West Town</td>\n",
              "      <td>Entire home/apt</td>\n",
              "      <td>1.0</td>\n",
              "      <td>3.0</td>\n",
              "      <td>70.0</td>\n",
              "      <td>389</td>\n",
              "      <td>93.0</td>\n",
              "      <td>1</td>\n",
              "    </tr>\n",
              "    <tr>\n",
              "      <th>1</th>\n",
              "      <td>West Town</td>\n",
              "      <td>Entire home/apt</td>\n",
              "      <td>3.0</td>\n",
              "      <td>3.0</td>\n",
              "      <td>168.0</td>\n",
              "      <td>218</td>\n",
              "      <td>97.0</td>\n",
              "      <td>1</td>\n",
              "    </tr>\n",
              "    <tr>\n",
              "      <th>2</th>\n",
              "      <td>West Town</td>\n",
              "      <td>Entire home/apt</td>\n",
              "      <td>1.0</td>\n",
              "      <td>2.0</td>\n",
              "      <td>75.0</td>\n",
              "      <td>189</td>\n",
              "      <td>91.0</td>\n",
              "      <td>0</td>\n",
              "    </tr>\n",
              "    <tr>\n",
              "      <th>3</th>\n",
              "      <td>West Town</td>\n",
              "      <td>Private room</td>\n",
              "      <td>2.0</td>\n",
              "      <td>1.0</td>\n",
              "      <td>57.0</td>\n",
              "      <td>127</td>\n",
              "      <td>89.0</td>\n",
              "      <td>0</td>\n",
              "    </tr>\n",
              "    <tr>\n",
              "      <th>4</th>\n",
              "      <td>West Town</td>\n",
              "      <td>Private room</td>\n",
              "      <td>2.0</td>\n",
              "      <td>1.0</td>\n",
              "      <td>78.0</td>\n",
              "      <td>143</td>\n",
              "      <td>90.0</td>\n",
              "      <td>0</td>\n",
              "    </tr>\n",
              "    <tr>\n",
              "      <th>...</th>\n",
              "      <td>...</td>\n",
              "      <td>...</td>\n",
              "      <td>...</td>\n",
              "      <td>...</td>\n",
              "      <td>...</td>\n",
              "      <td>...</td>\n",
              "      <td>...</td>\n",
              "      <td>...</td>\n",
              "    </tr>\n",
              "    <tr>\n",
              "      <th>133</th>\n",
              "      <td>West Town</td>\n",
              "      <td>Private room</td>\n",
              "      <td>1.0</td>\n",
              "      <td>1.0</td>\n",
              "      <td>55.0</td>\n",
              "      <td>126</td>\n",
              "      <td>100.0</td>\n",
              "      <td>1</td>\n",
              "    </tr>\n",
              "    <tr>\n",
              "      <th>134</th>\n",
              "      <td>West Town</td>\n",
              "      <td>Entire home/apt</td>\n",
              "      <td>1.0</td>\n",
              "      <td>1.0</td>\n",
              "      <td>95.0</td>\n",
              "      <td>125</td>\n",
              "      <td>98.0</td>\n",
              "      <td>1</td>\n",
              "    </tr>\n",
              "    <tr>\n",
              "      <th>135</th>\n",
              "      <td>West Town</td>\n",
              "      <td>Entire home/apt</td>\n",
              "      <td>1.0</td>\n",
              "      <td>2.0</td>\n",
              "      <td>68.0</td>\n",
              "      <td>112</td>\n",
              "      <td>93.0</td>\n",
              "      <td>0</td>\n",
              "    </tr>\n",
              "    <tr>\n",
              "      <th>136</th>\n",
              "      <td>West Town</td>\n",
              "      <td>Entire home/apt</td>\n",
              "      <td>1.0</td>\n",
              "      <td>2.0</td>\n",
              "      <td>58.0</td>\n",
              "      <td>140</td>\n",
              "      <td>99.0</td>\n",
              "      <td>1</td>\n",
              "    </tr>\n",
              "    <tr>\n",
              "      <th>137</th>\n",
              "      <td>West Town</td>\n",
              "      <td>Entire home/apt</td>\n",
              "      <td>1.0</td>\n",
              "      <td>3.0</td>\n",
              "      <td>64.0</td>\n",
              "      <td>134</td>\n",
              "      <td>98.0</td>\n",
              "      <td>1</td>\n",
              "    </tr>\n",
              "  </tbody>\n",
              "</table>\n",
              "<p>138 rows × 8 columns</p>\n",
              "</div>\n",
              "      <button class=\"colab-df-convert\" onclick=\"convertToInteractive('df-0609e915-c6a4-49e2-9a04-c594d91bd984')\"\n",
              "              title=\"Convert this dataframe to an interactive table.\"\n",
              "              style=\"display:none;\">\n",
              "        \n",
              "  <svg xmlns=\"http://www.w3.org/2000/svg\" height=\"24px\"viewBox=\"0 0 24 24\"\n",
              "       width=\"24px\">\n",
              "    <path d=\"M0 0h24v24H0V0z\" fill=\"none\"/>\n",
              "    <path d=\"M18.56 5.44l.94 2.06.94-2.06 2.06-.94-2.06-.94-.94-2.06-.94 2.06-2.06.94zm-11 1L8.5 8.5l.94-2.06 2.06-.94-2.06-.94L8.5 2.5l-.94 2.06-2.06.94zm10 10l.94 2.06.94-2.06 2.06-.94-2.06-.94-.94-2.06-.94 2.06-2.06.94z\"/><path d=\"M17.41 7.96l-1.37-1.37c-.4-.4-.92-.59-1.43-.59-.52 0-1.04.2-1.43.59L10.3 9.45l-7.72 7.72c-.78.78-.78 2.05 0 2.83L4 21.41c.39.39.9.59 1.41.59.51 0 1.02-.2 1.41-.59l7.78-7.78 2.81-2.81c.8-.78.8-2.07 0-2.86zM5.41 20L4 18.59l7.72-7.72 1.47 1.35L5.41 20z\"/>\n",
              "  </svg>\n",
              "      </button>\n",
              "      \n",
              "  <style>\n",
              "    .colab-df-container {\n",
              "      display:flex;\n",
              "      flex-wrap:wrap;\n",
              "      gap: 12px;\n",
              "    }\n",
              "\n",
              "    .colab-df-convert {\n",
              "      background-color: #E8F0FE;\n",
              "      border: none;\n",
              "      border-radius: 50%;\n",
              "      cursor: pointer;\n",
              "      display: none;\n",
              "      fill: #1967D2;\n",
              "      height: 32px;\n",
              "      padding: 0 0 0 0;\n",
              "      width: 32px;\n",
              "    }\n",
              "\n",
              "    .colab-df-convert:hover {\n",
              "      background-color: #E2EBFA;\n",
              "      box-shadow: 0px 1px 2px rgba(60, 64, 67, 0.3), 0px 1px 3px 1px rgba(60, 64, 67, 0.15);\n",
              "      fill: #174EA6;\n",
              "    }\n",
              "\n",
              "    [theme=dark] .colab-df-convert {\n",
              "      background-color: #3B4455;\n",
              "      fill: #D2E3FC;\n",
              "    }\n",
              "\n",
              "    [theme=dark] .colab-df-convert:hover {\n",
              "      background-color: #434B5C;\n",
              "      box-shadow: 0px 1px 3px 1px rgba(0, 0, 0, 0.15);\n",
              "      filter: drop-shadow(0px 1px 2px rgba(0, 0, 0, 0.3));\n",
              "      fill: #FFFFFF;\n",
              "    }\n",
              "  </style>\n",
              "\n",
              "      <script>\n",
              "        const buttonEl =\n",
              "          document.querySelector('#df-0609e915-c6a4-49e2-9a04-c594d91bd984 button.colab-df-convert');\n",
              "        buttonEl.style.display =\n",
              "          google.colab.kernel.accessAllowed ? 'block' : 'none';\n",
              "\n",
              "        async function convertToInteractive(key) {\n",
              "          const element = document.querySelector('#df-0609e915-c6a4-49e2-9a04-c594d91bd984');\n",
              "          const dataTable =\n",
              "            await google.colab.kernel.invokeFunction('convertToInteractive',\n",
              "                                                     [key], {});\n",
              "          if (!dataTable) return;\n",
              "\n",
              "          const docLinkHtml = 'Like what you see? Visit the ' +\n",
              "            '<a target=\"_blank\" href=https://colab.research.google.com/notebooks/data_table.ipynb>data table notebook</a>'\n",
              "            + ' to learn more about interactive tables.';\n",
              "          element.innerHTML = '';\n",
              "          dataTable['output_type'] = 'display_data';\n",
              "          await google.colab.output.renderOutput(dataTable, element);\n",
              "          const docLink = document.createElement('div');\n",
              "          docLink.innerHTML = docLinkHtml;\n",
              "          element.appendChild(docLink);\n",
              "        }\n",
              "      </script>\n",
              "    </div>\n",
              "  </div>\n",
              "  "
            ]
          },
          "metadata": {}
        }
      ],
      "source": [
        "# YOUR CODE BEGINS\n",
        "\n",
        "query_west_town_listings='''\n",
        "SELECT * FROM listings WHERE neighbourhood = 'West Town'\n",
        "'''\n",
        "\n",
        "\n",
        "# YOUR CODE ENDS\n",
        "conn = sqlite3.connect('airbnb.db')\n",
        "\n",
        "df_result = pd.read_sql_query(query_west_town_listings, con=conn)\n",
        "display(df_result)\n",
        "\n",
        "conn.close()"
      ]
    },
    {
      "cell_type": "markdown",
      "metadata": {
        "id": "WsBhM95f0wlM"
      },
      "source": [
        "#### 🧭 Check your work"
      ]
    },
    {
      "cell_type": "code",
      "execution_count": 17,
      "metadata": {
        "nbgrader": {
          "grade": true,
          "grade_id": "exercise-04",
          "locked": true,
          "points": "1",
          "solution": false
        },
        "id": "Rfvbjn9A0wlM"
      },
      "outputs": [],
      "source": [
        "# DO NOT CHANGE THE CODE IN THIS CELL\n",
        "conn = sqlite3.connect('airbnb.db')\n",
        "\n",
        "decoded_query = base64.b64decode(b'ClNFTEVDVCAqCkZST00gTElTVElOR1MKV0hFUkUgbmVpZ2hib3VyaG9vZCA9ICdXZXN0IFRvd24nCg==').decode()\n",
        "df_check = pd.read_sql_query(decoded_query, con=conn)\n",
        "\n",
        "tc.assertEqual(df_result.shape, df_check.shape, 'Number of rows and/or columns is different')\n",
        "\n",
        "conn.close()"
      ]
    },
    {
      "cell_type": "markdown",
      "metadata": {
        "id": "djq4SjnM0wlN"
      },
      "source": [
        "---\n",
        "### 🎯 Exercise 5: Sort all listings by price\n",
        "\n",
        "#### 👇 Tasks\n",
        "\n",
        "- ✔️ Write a query that selects all listings and sorts the result by price in ascending order.\n",
        "- ✔️ Store your query in a new variable named `query_sort_by_price`."
      ]
    },
    {
      "cell_type": "code",
      "execution_count": 19,
      "metadata": {
        "id": "0amuIe-o0wlN",
        "outputId": "e3a180e9-bdcc-4922-d32a-56f6e9851918",
        "colab": {
          "base_uri": "https://localhost:8080/",
          "height": 419
        }
      },
      "outputs": [
        {
          "output_type": "display_data",
          "data": {
            "text/plain": [
              "       neighbourhood        room_type  bathrooms  bedrooms  price  \\\n",
              "0         West Ridge      Shared room        2.0       1.0   13.0   \n",
              "1     North Lawndale      Shared room        1.0       1.0   14.0   \n",
              "2         West Ridge      Shared room        2.0       1.0   16.0   \n",
              "3         West Ridge      Shared room        2.0       1.0   16.0   \n",
              "4    Lower West Side     Private room        2.0       1.0   19.0   \n",
              "..               ...              ...        ...       ...    ...   \n",
              "821  Near North Side  Entire home/apt        2.0       2.0  344.0   \n",
              "822        West Town  Entire home/apt        3.0       3.0  379.0   \n",
              "823        Lake View  Entire home/apt        2.0       5.0  400.0   \n",
              "824  Near North Side  Entire home/apt        1.0       2.0  500.0   \n",
              "825           Uptown  Entire home/apt        2.5       5.0  875.0   \n",
              "\n",
              "     number_of_reviews  review_score  is_superhost  \n",
              "0                  153          95.0             0  \n",
              "1                  118          91.0             0  \n",
              "2                  158          92.0             0  \n",
              "3                  124          95.0             0  \n",
              "4                  112          94.0             1  \n",
              "..                 ...           ...           ...  \n",
              "821                128          94.0             1  \n",
              "822                210          98.0             0  \n",
              "823                113          99.0             1  \n",
              "824                117          94.0             1  \n",
              "825                124          97.0             0  \n",
              "\n",
              "[826 rows x 8 columns]"
            ],
            "text/html": [
              "\n",
              "  <div id=\"df-d382803d-60bc-4e9f-946e-5f6b6b443f47\">\n",
              "    <div class=\"colab-df-container\">\n",
              "      <div>\n",
              "<style scoped>\n",
              "    .dataframe tbody tr th:only-of-type {\n",
              "        vertical-align: middle;\n",
              "    }\n",
              "\n",
              "    .dataframe tbody tr th {\n",
              "        vertical-align: top;\n",
              "    }\n",
              "\n",
              "    .dataframe thead th {\n",
              "        text-align: right;\n",
              "    }\n",
              "</style>\n",
              "<table border=\"1\" class=\"dataframe\">\n",
              "  <thead>\n",
              "    <tr style=\"text-align: right;\">\n",
              "      <th></th>\n",
              "      <th>neighbourhood</th>\n",
              "      <th>room_type</th>\n",
              "      <th>bathrooms</th>\n",
              "      <th>bedrooms</th>\n",
              "      <th>price</th>\n",
              "      <th>number_of_reviews</th>\n",
              "      <th>review_score</th>\n",
              "      <th>is_superhost</th>\n",
              "    </tr>\n",
              "  </thead>\n",
              "  <tbody>\n",
              "    <tr>\n",
              "      <th>0</th>\n",
              "      <td>West Ridge</td>\n",
              "      <td>Shared room</td>\n",
              "      <td>2.0</td>\n",
              "      <td>1.0</td>\n",
              "      <td>13.0</td>\n",
              "      <td>153</td>\n",
              "      <td>95.0</td>\n",
              "      <td>0</td>\n",
              "    </tr>\n",
              "    <tr>\n",
              "      <th>1</th>\n",
              "      <td>North Lawndale</td>\n",
              "      <td>Shared room</td>\n",
              "      <td>1.0</td>\n",
              "      <td>1.0</td>\n",
              "      <td>14.0</td>\n",
              "      <td>118</td>\n",
              "      <td>91.0</td>\n",
              "      <td>0</td>\n",
              "    </tr>\n",
              "    <tr>\n",
              "      <th>2</th>\n",
              "      <td>West Ridge</td>\n",
              "      <td>Shared room</td>\n",
              "      <td>2.0</td>\n",
              "      <td>1.0</td>\n",
              "      <td>16.0</td>\n",
              "      <td>158</td>\n",
              "      <td>92.0</td>\n",
              "      <td>0</td>\n",
              "    </tr>\n",
              "    <tr>\n",
              "      <th>3</th>\n",
              "      <td>West Ridge</td>\n",
              "      <td>Shared room</td>\n",
              "      <td>2.0</td>\n",
              "      <td>1.0</td>\n",
              "      <td>16.0</td>\n",
              "      <td>124</td>\n",
              "      <td>95.0</td>\n",
              "      <td>0</td>\n",
              "    </tr>\n",
              "    <tr>\n",
              "      <th>4</th>\n",
              "      <td>Lower West Side</td>\n",
              "      <td>Private room</td>\n",
              "      <td>2.0</td>\n",
              "      <td>1.0</td>\n",
              "      <td>19.0</td>\n",
              "      <td>112</td>\n",
              "      <td>94.0</td>\n",
              "      <td>1</td>\n",
              "    </tr>\n",
              "    <tr>\n",
              "      <th>...</th>\n",
              "      <td>...</td>\n",
              "      <td>...</td>\n",
              "      <td>...</td>\n",
              "      <td>...</td>\n",
              "      <td>...</td>\n",
              "      <td>...</td>\n",
              "      <td>...</td>\n",
              "      <td>...</td>\n",
              "    </tr>\n",
              "    <tr>\n",
              "      <th>821</th>\n",
              "      <td>Near North Side</td>\n",
              "      <td>Entire home/apt</td>\n",
              "      <td>2.0</td>\n",
              "      <td>2.0</td>\n",
              "      <td>344.0</td>\n",
              "      <td>128</td>\n",
              "      <td>94.0</td>\n",
              "      <td>1</td>\n",
              "    </tr>\n",
              "    <tr>\n",
              "      <th>822</th>\n",
              "      <td>West Town</td>\n",
              "      <td>Entire home/apt</td>\n",
              "      <td>3.0</td>\n",
              "      <td>3.0</td>\n",
              "      <td>379.0</td>\n",
              "      <td>210</td>\n",
              "      <td>98.0</td>\n",
              "      <td>0</td>\n",
              "    </tr>\n",
              "    <tr>\n",
              "      <th>823</th>\n",
              "      <td>Lake View</td>\n",
              "      <td>Entire home/apt</td>\n",
              "      <td>2.0</td>\n",
              "      <td>5.0</td>\n",
              "      <td>400.0</td>\n",
              "      <td>113</td>\n",
              "      <td>99.0</td>\n",
              "      <td>1</td>\n",
              "    </tr>\n",
              "    <tr>\n",
              "      <th>824</th>\n",
              "      <td>Near North Side</td>\n",
              "      <td>Entire home/apt</td>\n",
              "      <td>1.0</td>\n",
              "      <td>2.0</td>\n",
              "      <td>500.0</td>\n",
              "      <td>117</td>\n",
              "      <td>94.0</td>\n",
              "      <td>1</td>\n",
              "    </tr>\n",
              "    <tr>\n",
              "      <th>825</th>\n",
              "      <td>Uptown</td>\n",
              "      <td>Entire home/apt</td>\n",
              "      <td>2.5</td>\n",
              "      <td>5.0</td>\n",
              "      <td>875.0</td>\n",
              "      <td>124</td>\n",
              "      <td>97.0</td>\n",
              "      <td>0</td>\n",
              "    </tr>\n",
              "  </tbody>\n",
              "</table>\n",
              "<p>826 rows × 8 columns</p>\n",
              "</div>\n",
              "      <button class=\"colab-df-convert\" onclick=\"convertToInteractive('df-d382803d-60bc-4e9f-946e-5f6b6b443f47')\"\n",
              "              title=\"Convert this dataframe to an interactive table.\"\n",
              "              style=\"display:none;\">\n",
              "        \n",
              "  <svg xmlns=\"http://www.w3.org/2000/svg\" height=\"24px\"viewBox=\"0 0 24 24\"\n",
              "       width=\"24px\">\n",
              "    <path d=\"M0 0h24v24H0V0z\" fill=\"none\"/>\n",
              "    <path d=\"M18.56 5.44l.94 2.06.94-2.06 2.06-.94-2.06-.94-.94-2.06-.94 2.06-2.06.94zm-11 1L8.5 8.5l.94-2.06 2.06-.94-2.06-.94L8.5 2.5l-.94 2.06-2.06.94zm10 10l.94 2.06.94-2.06 2.06-.94-2.06-.94-.94-2.06-.94 2.06-2.06.94z\"/><path d=\"M17.41 7.96l-1.37-1.37c-.4-.4-.92-.59-1.43-.59-.52 0-1.04.2-1.43.59L10.3 9.45l-7.72 7.72c-.78.78-.78 2.05 0 2.83L4 21.41c.39.39.9.59 1.41.59.51 0 1.02-.2 1.41-.59l7.78-7.78 2.81-2.81c.8-.78.8-2.07 0-2.86zM5.41 20L4 18.59l7.72-7.72 1.47 1.35L5.41 20z\"/>\n",
              "  </svg>\n",
              "      </button>\n",
              "      \n",
              "  <style>\n",
              "    .colab-df-container {\n",
              "      display:flex;\n",
              "      flex-wrap:wrap;\n",
              "      gap: 12px;\n",
              "    }\n",
              "\n",
              "    .colab-df-convert {\n",
              "      background-color: #E8F0FE;\n",
              "      border: none;\n",
              "      border-radius: 50%;\n",
              "      cursor: pointer;\n",
              "      display: none;\n",
              "      fill: #1967D2;\n",
              "      height: 32px;\n",
              "      padding: 0 0 0 0;\n",
              "      width: 32px;\n",
              "    }\n",
              "\n",
              "    .colab-df-convert:hover {\n",
              "      background-color: #E2EBFA;\n",
              "      box-shadow: 0px 1px 2px rgba(60, 64, 67, 0.3), 0px 1px 3px 1px rgba(60, 64, 67, 0.15);\n",
              "      fill: #174EA6;\n",
              "    }\n",
              "\n",
              "    [theme=dark] .colab-df-convert {\n",
              "      background-color: #3B4455;\n",
              "      fill: #D2E3FC;\n",
              "    }\n",
              "\n",
              "    [theme=dark] .colab-df-convert:hover {\n",
              "      background-color: #434B5C;\n",
              "      box-shadow: 0px 1px 3px 1px rgba(0, 0, 0, 0.15);\n",
              "      filter: drop-shadow(0px 1px 2px rgba(0, 0, 0, 0.3));\n",
              "      fill: #FFFFFF;\n",
              "    }\n",
              "  </style>\n",
              "\n",
              "      <script>\n",
              "        const buttonEl =\n",
              "          document.querySelector('#df-d382803d-60bc-4e9f-946e-5f6b6b443f47 button.colab-df-convert');\n",
              "        buttonEl.style.display =\n",
              "          google.colab.kernel.accessAllowed ? 'block' : 'none';\n",
              "\n",
              "        async function convertToInteractive(key) {\n",
              "          const element = document.querySelector('#df-d382803d-60bc-4e9f-946e-5f6b6b443f47');\n",
              "          const dataTable =\n",
              "            await google.colab.kernel.invokeFunction('convertToInteractive',\n",
              "                                                     [key], {});\n",
              "          if (!dataTable) return;\n",
              "\n",
              "          const docLinkHtml = 'Like what you see? Visit the ' +\n",
              "            '<a target=\"_blank\" href=https://colab.research.google.com/notebooks/data_table.ipynb>data table notebook</a>'\n",
              "            + ' to learn more about interactive tables.';\n",
              "          element.innerHTML = '';\n",
              "          dataTable['output_type'] = 'display_data';\n",
              "          await google.colab.output.renderOutput(dataTable, element);\n",
              "          const docLink = document.createElement('div');\n",
              "          docLink.innerHTML = docLinkHtml;\n",
              "          element.appendChild(docLink);\n",
              "        }\n",
              "      </script>\n",
              "    </div>\n",
              "  </div>\n",
              "  "
            ]
          },
          "metadata": {}
        }
      ],
      "source": [
        "# YOUR CODE BEGINS\n",
        "query_sort_by_price='''\n",
        "SELECT * FROM listings ORDER BY price\n",
        "'''\n",
        "\n",
        "\n",
        "\n",
        "# YOUR CODE ENDS\n",
        "conn = sqlite3.connect('airbnb.db')\n",
        "\n",
        "df_result = pd.read_sql_query(query_sort_by_price, con=conn)\n",
        "display(df_result)\n",
        "\n",
        "conn.close()"
      ]
    },
    {
      "cell_type": "markdown",
      "metadata": {
        "id": "5h1U7vc00wlN"
      },
      "source": [
        "#### 🧭 Check your work"
      ]
    },
    {
      "cell_type": "code",
      "execution_count": 20,
      "metadata": {
        "nbgrader": {
          "grade": true,
          "grade_id": "exercise-05",
          "locked": true,
          "points": "1",
          "solution": false
        },
        "id": "GVhVCHBv0wlN"
      },
      "outputs": [],
      "source": [
        "# DO NOT CHANGE THE CODE IN THIS CELL\n",
        "conn = sqlite3.connect('airbnb.db')\n",
        "\n",
        "decoded_query = base64.b64decode(b'ClNFTEVDVCAqCkZST00gTElTVElOR1MKT1JERVIgQlkgcHJpY2UK').decode()\n",
        "df_check = pd.read_sql_query(decoded_query, con=conn)\n",
        "\n",
        "tc.assertEqual(df_result.shape, df_check.shape, 'Number of rows and/or columns is different')\n",
        "\n",
        "conn.close()"
      ]
    },
    {
      "cell_type": "markdown",
      "metadata": {
        "id": "pwD-uXHh0wlN"
      },
      "source": [
        "---\n",
        "### 🎯 Exercise 6: Select only the price column and sort in descending order\n",
        "\n",
        "#### 👇 Tasks\n",
        "\n",
        "- ✔️ Write a query that selects only the price column and sorts the result in descending order.\n",
        "- ✔️ Store your query in a new variable named `query_sort_by_price_desc`."
      ]
    },
    {
      "cell_type": "code",
      "execution_count": 21,
      "metadata": {
        "id": "idVRv_zT0wlN",
        "outputId": "d8195bdc-a672-4a70-dfda-fe3de22322cd",
        "colab": {
          "base_uri": "https://localhost:8080/",
          "height": 419
        }
      },
      "outputs": [
        {
          "output_type": "display_data",
          "data": {
            "text/plain": [
              "     price\n",
              "0    875.0\n",
              "1    500.0\n",
              "2    400.0\n",
              "3    379.0\n",
              "4    344.0\n",
              "..     ...\n",
              "821   19.0\n",
              "822   16.0\n",
              "823   16.0\n",
              "824   14.0\n",
              "825   13.0\n",
              "\n",
              "[826 rows x 1 columns]"
            ],
            "text/html": [
              "\n",
              "  <div id=\"df-9504ccb3-10dc-4901-bd1b-ddf7470e7fc6\">\n",
              "    <div class=\"colab-df-container\">\n",
              "      <div>\n",
              "<style scoped>\n",
              "    .dataframe tbody tr th:only-of-type {\n",
              "        vertical-align: middle;\n",
              "    }\n",
              "\n",
              "    .dataframe tbody tr th {\n",
              "        vertical-align: top;\n",
              "    }\n",
              "\n",
              "    .dataframe thead th {\n",
              "        text-align: right;\n",
              "    }\n",
              "</style>\n",
              "<table border=\"1\" class=\"dataframe\">\n",
              "  <thead>\n",
              "    <tr style=\"text-align: right;\">\n",
              "      <th></th>\n",
              "      <th>price</th>\n",
              "    </tr>\n",
              "  </thead>\n",
              "  <tbody>\n",
              "    <tr>\n",
              "      <th>0</th>\n",
              "      <td>875.0</td>\n",
              "    </tr>\n",
              "    <tr>\n",
              "      <th>1</th>\n",
              "      <td>500.0</td>\n",
              "    </tr>\n",
              "    <tr>\n",
              "      <th>2</th>\n",
              "      <td>400.0</td>\n",
              "    </tr>\n",
              "    <tr>\n",
              "      <th>3</th>\n",
              "      <td>379.0</td>\n",
              "    </tr>\n",
              "    <tr>\n",
              "      <th>4</th>\n",
              "      <td>344.0</td>\n",
              "    </tr>\n",
              "    <tr>\n",
              "      <th>...</th>\n",
              "      <td>...</td>\n",
              "    </tr>\n",
              "    <tr>\n",
              "      <th>821</th>\n",
              "      <td>19.0</td>\n",
              "    </tr>\n",
              "    <tr>\n",
              "      <th>822</th>\n",
              "      <td>16.0</td>\n",
              "    </tr>\n",
              "    <tr>\n",
              "      <th>823</th>\n",
              "      <td>16.0</td>\n",
              "    </tr>\n",
              "    <tr>\n",
              "      <th>824</th>\n",
              "      <td>14.0</td>\n",
              "    </tr>\n",
              "    <tr>\n",
              "      <th>825</th>\n",
              "      <td>13.0</td>\n",
              "    </tr>\n",
              "  </tbody>\n",
              "</table>\n",
              "<p>826 rows × 1 columns</p>\n",
              "</div>\n",
              "      <button class=\"colab-df-convert\" onclick=\"convertToInteractive('df-9504ccb3-10dc-4901-bd1b-ddf7470e7fc6')\"\n",
              "              title=\"Convert this dataframe to an interactive table.\"\n",
              "              style=\"display:none;\">\n",
              "        \n",
              "  <svg xmlns=\"http://www.w3.org/2000/svg\" height=\"24px\"viewBox=\"0 0 24 24\"\n",
              "       width=\"24px\">\n",
              "    <path d=\"M0 0h24v24H0V0z\" fill=\"none\"/>\n",
              "    <path d=\"M18.56 5.44l.94 2.06.94-2.06 2.06-.94-2.06-.94-.94-2.06-.94 2.06-2.06.94zm-11 1L8.5 8.5l.94-2.06 2.06-.94-2.06-.94L8.5 2.5l-.94 2.06-2.06.94zm10 10l.94 2.06.94-2.06 2.06-.94-2.06-.94-.94-2.06-.94 2.06-2.06.94z\"/><path d=\"M17.41 7.96l-1.37-1.37c-.4-.4-.92-.59-1.43-.59-.52 0-1.04.2-1.43.59L10.3 9.45l-7.72 7.72c-.78.78-.78 2.05 0 2.83L4 21.41c.39.39.9.59 1.41.59.51 0 1.02-.2 1.41-.59l7.78-7.78 2.81-2.81c.8-.78.8-2.07 0-2.86zM5.41 20L4 18.59l7.72-7.72 1.47 1.35L5.41 20z\"/>\n",
              "  </svg>\n",
              "      </button>\n",
              "      \n",
              "  <style>\n",
              "    .colab-df-container {\n",
              "      display:flex;\n",
              "      flex-wrap:wrap;\n",
              "      gap: 12px;\n",
              "    }\n",
              "\n",
              "    .colab-df-convert {\n",
              "      background-color: #E8F0FE;\n",
              "      border: none;\n",
              "      border-radius: 50%;\n",
              "      cursor: pointer;\n",
              "      display: none;\n",
              "      fill: #1967D2;\n",
              "      height: 32px;\n",
              "      padding: 0 0 0 0;\n",
              "      width: 32px;\n",
              "    }\n",
              "\n",
              "    .colab-df-convert:hover {\n",
              "      background-color: #E2EBFA;\n",
              "      box-shadow: 0px 1px 2px rgba(60, 64, 67, 0.3), 0px 1px 3px 1px rgba(60, 64, 67, 0.15);\n",
              "      fill: #174EA6;\n",
              "    }\n",
              "\n",
              "    [theme=dark] .colab-df-convert {\n",
              "      background-color: #3B4455;\n",
              "      fill: #D2E3FC;\n",
              "    }\n",
              "\n",
              "    [theme=dark] .colab-df-convert:hover {\n",
              "      background-color: #434B5C;\n",
              "      box-shadow: 0px 1px 3px 1px rgba(0, 0, 0, 0.15);\n",
              "      filter: drop-shadow(0px 1px 2px rgba(0, 0, 0, 0.3));\n",
              "      fill: #FFFFFF;\n",
              "    }\n",
              "  </style>\n",
              "\n",
              "      <script>\n",
              "        const buttonEl =\n",
              "          document.querySelector('#df-9504ccb3-10dc-4901-bd1b-ddf7470e7fc6 button.colab-df-convert');\n",
              "        buttonEl.style.display =\n",
              "          google.colab.kernel.accessAllowed ? 'block' : 'none';\n",
              "\n",
              "        async function convertToInteractive(key) {\n",
              "          const element = document.querySelector('#df-9504ccb3-10dc-4901-bd1b-ddf7470e7fc6');\n",
              "          const dataTable =\n",
              "            await google.colab.kernel.invokeFunction('convertToInteractive',\n",
              "                                                     [key], {});\n",
              "          if (!dataTable) return;\n",
              "\n",
              "          const docLinkHtml = 'Like what you see? Visit the ' +\n",
              "            '<a target=\"_blank\" href=https://colab.research.google.com/notebooks/data_table.ipynb>data table notebook</a>'\n",
              "            + ' to learn more about interactive tables.';\n",
              "          element.innerHTML = '';\n",
              "          dataTable['output_type'] = 'display_data';\n",
              "          await google.colab.output.renderOutput(dataTable, element);\n",
              "          const docLink = document.createElement('div');\n",
              "          docLink.innerHTML = docLinkHtml;\n",
              "          element.appendChild(docLink);\n",
              "        }\n",
              "      </script>\n",
              "    </div>\n",
              "  </div>\n",
              "  "
            ]
          },
          "metadata": {}
        }
      ],
      "source": [
        "# YOUR CODE BEGINS\n",
        "query_sort_by_price_desc = '''\n",
        "SELECT price FROM listings ORDER BY price DESC\n",
        "'''\n",
        "\n",
        "\n",
        "\n",
        "# YOUR CODE ENDS\n",
        "conn = sqlite3.connect('airbnb.db')\n",
        "\n",
        "df_result = pd.read_sql_query(query_sort_by_price_desc, con=conn)\n",
        "display(df_result)\n",
        "\n",
        "conn.close()"
      ]
    },
    {
      "cell_type": "markdown",
      "metadata": {
        "id": "4FbsQwGK0wlN"
      },
      "source": [
        "#### 🧭 Check your work"
      ]
    },
    {
      "cell_type": "code",
      "execution_count": 22,
      "metadata": {
        "nbgrader": {
          "grade": true,
          "grade_id": "exercise-06",
          "locked": true,
          "points": "1",
          "solution": false
        },
        "id": "mnajj6hu0wlO"
      },
      "outputs": [],
      "source": [
        "# DO NOT CHANGE THE CODE IN THIS CELL\n",
        "conn = sqlite3.connect('airbnb.db')\n",
        "\n",
        "decoded_query = base64.b64decode(b'ClNFTEVDVCBwcmljZQpGUk9NIExJU1RJTkdTCk9SREVSIEJZIHByaWNlIERFU0MK').decode()\n",
        "df_check = pd.read_sql_query(decoded_query, con=conn)\n",
        "\n",
        "tc.assertEqual(df_result.shape, df_check.shape, 'Number of rows and/or columns is different')\n",
        "pd.testing.assert_series_equal(df_result['price'].reset_index(drop=True),\n",
        "                               df_check['price'].reset_index(drop=True))\n",
        "\n",
        "conn.close()"
      ]
    },
    {
      "cell_type": "markdown",
      "metadata": {
        "id": "9mofph3-0wlO"
      },
      "source": [
        "---\n",
        "### 🎯 Exercise 7: A more complicated query\n",
        "\n",
        "#### 👇 Tasks\n",
        "\n",
        "- ✔️ Write a query that:\n",
        "    - Selects `room_type`, `bathrooms`, `bedrooms`, `price`, and `number_of_reviews` columns (in the same order).\n",
        "    - Where `price` is less than 100 **AND** the number of reviews is greather than `500`.\n",
        "    - Sorts by `number_of_reviews` in descending order.\n",
        "- ✔️ Store your query in a new variable named `query_final`."
      ]
    },
    {
      "cell_type": "code",
      "execution_count": 24,
      "metadata": {
        "id": "iewIPee-0wlO",
        "outputId": "bb0c146a-ed74-4edc-8f71-3b7e5a9beeb5",
        "colab": {
          "base_uri": "https://localhost:8080/",
          "height": 266
        }
      },
      "outputs": [
        {
          "output_type": "display_data",
          "data": {
            "text/plain": [
              "         room_type  bathrooms  bedrooms  price  number_of_reviews\n",
              "0     Private room        1.0       1.0   80.0                658\n",
              "1  Entire home/apt        1.0       1.0   39.0                642\n",
              "2  Entire home/apt        1.0       1.0   85.0                625\n",
              "3       Hotel room        1.0       1.0   74.0                607\n",
              "4  Entire home/apt        1.0       1.0   75.0                543\n",
              "5  Entire home/apt        1.0       2.0   77.0                515\n",
              "6  Entire home/apt        1.0       1.0   65.0                504"
            ],
            "text/html": [
              "\n",
              "  <div id=\"df-39b2d69c-0982-4128-a391-ce10a9056e4b\">\n",
              "    <div class=\"colab-df-container\">\n",
              "      <div>\n",
              "<style scoped>\n",
              "    .dataframe tbody tr th:only-of-type {\n",
              "        vertical-align: middle;\n",
              "    }\n",
              "\n",
              "    .dataframe tbody tr th {\n",
              "        vertical-align: top;\n",
              "    }\n",
              "\n",
              "    .dataframe thead th {\n",
              "        text-align: right;\n",
              "    }\n",
              "</style>\n",
              "<table border=\"1\" class=\"dataframe\">\n",
              "  <thead>\n",
              "    <tr style=\"text-align: right;\">\n",
              "      <th></th>\n",
              "      <th>room_type</th>\n",
              "      <th>bathrooms</th>\n",
              "      <th>bedrooms</th>\n",
              "      <th>price</th>\n",
              "      <th>number_of_reviews</th>\n",
              "    </tr>\n",
              "  </thead>\n",
              "  <tbody>\n",
              "    <tr>\n",
              "      <th>0</th>\n",
              "      <td>Private room</td>\n",
              "      <td>1.0</td>\n",
              "      <td>1.0</td>\n",
              "      <td>80.0</td>\n",
              "      <td>658</td>\n",
              "    </tr>\n",
              "    <tr>\n",
              "      <th>1</th>\n",
              "      <td>Entire home/apt</td>\n",
              "      <td>1.0</td>\n",
              "      <td>1.0</td>\n",
              "      <td>39.0</td>\n",
              "      <td>642</td>\n",
              "    </tr>\n",
              "    <tr>\n",
              "      <th>2</th>\n",
              "      <td>Entire home/apt</td>\n",
              "      <td>1.0</td>\n",
              "      <td>1.0</td>\n",
              "      <td>85.0</td>\n",
              "      <td>625</td>\n",
              "    </tr>\n",
              "    <tr>\n",
              "      <th>3</th>\n",
              "      <td>Hotel room</td>\n",
              "      <td>1.0</td>\n",
              "      <td>1.0</td>\n",
              "      <td>74.0</td>\n",
              "      <td>607</td>\n",
              "    </tr>\n",
              "    <tr>\n",
              "      <th>4</th>\n",
              "      <td>Entire home/apt</td>\n",
              "      <td>1.0</td>\n",
              "      <td>1.0</td>\n",
              "      <td>75.0</td>\n",
              "      <td>543</td>\n",
              "    </tr>\n",
              "    <tr>\n",
              "      <th>5</th>\n",
              "      <td>Entire home/apt</td>\n",
              "      <td>1.0</td>\n",
              "      <td>2.0</td>\n",
              "      <td>77.0</td>\n",
              "      <td>515</td>\n",
              "    </tr>\n",
              "    <tr>\n",
              "      <th>6</th>\n",
              "      <td>Entire home/apt</td>\n",
              "      <td>1.0</td>\n",
              "      <td>1.0</td>\n",
              "      <td>65.0</td>\n",
              "      <td>504</td>\n",
              "    </tr>\n",
              "  </tbody>\n",
              "</table>\n",
              "</div>\n",
              "      <button class=\"colab-df-convert\" onclick=\"convertToInteractive('df-39b2d69c-0982-4128-a391-ce10a9056e4b')\"\n",
              "              title=\"Convert this dataframe to an interactive table.\"\n",
              "              style=\"display:none;\">\n",
              "        \n",
              "  <svg xmlns=\"http://www.w3.org/2000/svg\" height=\"24px\"viewBox=\"0 0 24 24\"\n",
              "       width=\"24px\">\n",
              "    <path d=\"M0 0h24v24H0V0z\" fill=\"none\"/>\n",
              "    <path d=\"M18.56 5.44l.94 2.06.94-2.06 2.06-.94-2.06-.94-.94-2.06-.94 2.06-2.06.94zm-11 1L8.5 8.5l.94-2.06 2.06-.94-2.06-.94L8.5 2.5l-.94 2.06-2.06.94zm10 10l.94 2.06.94-2.06 2.06-.94-2.06-.94-.94-2.06-.94 2.06-2.06.94z\"/><path d=\"M17.41 7.96l-1.37-1.37c-.4-.4-.92-.59-1.43-.59-.52 0-1.04.2-1.43.59L10.3 9.45l-7.72 7.72c-.78.78-.78 2.05 0 2.83L4 21.41c.39.39.9.59 1.41.59.51 0 1.02-.2 1.41-.59l7.78-7.78 2.81-2.81c.8-.78.8-2.07 0-2.86zM5.41 20L4 18.59l7.72-7.72 1.47 1.35L5.41 20z\"/>\n",
              "  </svg>\n",
              "      </button>\n",
              "      \n",
              "  <style>\n",
              "    .colab-df-container {\n",
              "      display:flex;\n",
              "      flex-wrap:wrap;\n",
              "      gap: 12px;\n",
              "    }\n",
              "\n",
              "    .colab-df-convert {\n",
              "      background-color: #E8F0FE;\n",
              "      border: none;\n",
              "      border-radius: 50%;\n",
              "      cursor: pointer;\n",
              "      display: none;\n",
              "      fill: #1967D2;\n",
              "      height: 32px;\n",
              "      padding: 0 0 0 0;\n",
              "      width: 32px;\n",
              "    }\n",
              "\n",
              "    .colab-df-convert:hover {\n",
              "      background-color: #E2EBFA;\n",
              "      box-shadow: 0px 1px 2px rgba(60, 64, 67, 0.3), 0px 1px 3px 1px rgba(60, 64, 67, 0.15);\n",
              "      fill: #174EA6;\n",
              "    }\n",
              "\n",
              "    [theme=dark] .colab-df-convert {\n",
              "      background-color: #3B4455;\n",
              "      fill: #D2E3FC;\n",
              "    }\n",
              "\n",
              "    [theme=dark] .colab-df-convert:hover {\n",
              "      background-color: #434B5C;\n",
              "      box-shadow: 0px 1px 3px 1px rgba(0, 0, 0, 0.15);\n",
              "      filter: drop-shadow(0px 1px 2px rgba(0, 0, 0, 0.3));\n",
              "      fill: #FFFFFF;\n",
              "    }\n",
              "  </style>\n",
              "\n",
              "      <script>\n",
              "        const buttonEl =\n",
              "          document.querySelector('#df-39b2d69c-0982-4128-a391-ce10a9056e4b button.colab-df-convert');\n",
              "        buttonEl.style.display =\n",
              "          google.colab.kernel.accessAllowed ? 'block' : 'none';\n",
              "\n",
              "        async function convertToInteractive(key) {\n",
              "          const element = document.querySelector('#df-39b2d69c-0982-4128-a391-ce10a9056e4b');\n",
              "          const dataTable =\n",
              "            await google.colab.kernel.invokeFunction('convertToInteractive',\n",
              "                                                     [key], {});\n",
              "          if (!dataTable) return;\n",
              "\n",
              "          const docLinkHtml = 'Like what you see? Visit the ' +\n",
              "            '<a target=\"_blank\" href=https://colab.research.google.com/notebooks/data_table.ipynb>data table notebook</a>'\n",
              "            + ' to learn more about interactive tables.';\n",
              "          element.innerHTML = '';\n",
              "          dataTable['output_type'] = 'display_data';\n",
              "          await google.colab.output.renderOutput(dataTable, element);\n",
              "          const docLink = document.createElement('div');\n",
              "          docLink.innerHTML = docLinkHtml;\n",
              "          element.appendChild(docLink);\n",
              "        }\n",
              "      </script>\n",
              "    </div>\n",
              "  </div>\n",
              "  "
            ]
          },
          "metadata": {}
        }
      ],
      "source": [
        "# YOUR CODE BEGINS\n",
        "query_final = '''\n",
        "SELECT room_type, bathrooms, bedrooms, price, number_of_reviews FROM listings WHERE price <100 AND number_of_reviews > 500 ORDER BY number_of_reviews DESC\n",
        "'''\n",
        "\n",
        "\n",
        "\n",
        "\n",
        "# YOUR CODE ENDS\n",
        "conn = sqlite3.connect('airbnb.db')\n",
        "\n",
        "df_result = pd.read_sql_query(query_final, con=conn)\n",
        "display(df_result)\n",
        "\n",
        "conn.close()"
      ]
    },
    {
      "cell_type": "markdown",
      "metadata": {
        "id": "WUPBLBXR0wlO"
      },
      "source": [
        "#### 🧭 Check your work"
      ]
    },
    {
      "cell_type": "code",
      "execution_count": 25,
      "metadata": {
        "nbgrader": {
          "grade": true,
          "grade_id": "exercise-07",
          "locked": true,
          "points": "1",
          "solution": false
        },
        "id": "gGgiKuy00wlO"
      },
      "outputs": [],
      "source": [
        "# DO NOT CHANGE THE CODE IN THIS CELL\n",
        "conn = sqlite3.connect('airbnb.db')\n",
        "\n",
        "decoded_query = base64.b64decode(b'ClNFTEVDVCByb29tX3R5cGUsIGJhdGhyb29tcywgYmVkcm9vbXMsIHByaWNlLCBudW1iZXJfb2ZfcmV2aWV3cwpGUk9NIExJU1RJTkdTCldIRVJFIChwcmljZSA8IDEwMCkgQU5EIChudW1iZXJfb2ZfcmV2aWV3cyA+IDUwMCkKT1JERVIgQlkgbnVtYmVyX29mX3Jldmlld3MgREVTQwo=').decode()\n",
        "df_check = pd.read_sql_query(decoded_query, con=conn)\n",
        "\n",
        "tc.assertEqual(df_result.shape, df_check.shape, 'Number of rows and/or columns is different')\n",
        "pd.testing.assert_frame_equal(df_result.reset_index(drop=True),\n",
        "                               df_check.reset_index(drop=True))\n",
        "\n",
        "conn.close()"
      ]
    },
    {
      "cell_type": "markdown",
      "metadata": {
        "id": "Av8JruYE0wlO"
      },
      "source": [
        "---\n",
        "\n",
        "## ✨ Aggregating Data"
      ]
    },
    {
      "cell_type": "markdown",
      "metadata": {
        "id": "jO2PICHv0wlO"
      },
      "source": [
        "Like Pandas, you can aggregate data across multiple columns or tables."
      ]
    },
    {
      "cell_type": "markdown",
      "metadata": {
        "id": "igZxOqEE0wlP"
      },
      "source": [
        "---\n",
        "### 📌 Create a second database file and a table"
      ]
    },
    {
      "cell_type": "markdown",
      "metadata": {
        "id": "AhW5OGLp0wlP"
      },
      "source": [
        "▶️ Run the code below to create a new SQLite database file named `airbnb.db` and create a table named `listings`."
      ]
    },
    {
      "cell_type": "code",
      "execution_count": null,
      "metadata": {
        "id": "m-QHOVmD0wlP"
      },
      "outputs": [],
      "source": [
        "# Connect to airbnb.db database file\n",
        "# If the file does not exist, create a new file\n",
        "conn = sqlite3.connect('airbnb-boston-medium.db')\n",
        "\n",
        "# Create a cursor\n",
        "# A cursor enables users of a DBMS to traverse through the result set\n",
        "# without having to retrieve all results at once\n",
        "c = conn.cursor()\n",
        "\n",
        "# Drop (delete) listings table if it already exists\n",
        "c.execute('DROP TABLE IF EXISTS listings')\n",
        "conn.commit()\n",
        "\n",
        "# Define a query\n",
        "# Triple quotes (''') denote multiline strings\n",
        "create_table_query = '''\n",
        "CREATE TABLE IF NOT EXISTS listings (\n",
        "    name TEXT,\n",
        "    neighbourhood TEXT,\n",
        "    room_type TEXT,\n",
        "    bedrooms REAL,\n",
        "    bathrooms REAL,\n",
        "    price REAL,\n",
        "    minimum_nights INT,\n",
        "    availability_365 INT,\n",
        "    number_of_reviews INTEGER,\n",
        "    review_score REAL,\n",
        "    is_superhost INT\n",
        ")\n",
        "'''\n",
        "\n",
        "c.execute(create_table_query)\n",
        "conn.commit()\n",
        "\n",
        "conn.close()"
      ]
    },
    {
      "cell_type": "markdown",
      "metadata": {
        "id": "ywMjTatO0wlP"
      },
      "source": [
        "#### 🧭 Check your work"
      ]
    },
    {
      "cell_type": "code",
      "execution_count": null,
      "metadata": {
        "id": "Fvx8YKbt0wlP"
      },
      "outputs": [],
      "source": [
        "# DO NOT CHANGE THE CODE BELOW\n",
        "import glob\n",
        "import os\n",
        "user_db_files = glob.glob('*.db')\n",
        "\n",
        "# Check if airbnb.db file exists in current working directory\n",
        "tc.assertTrue('airbnb-boston-medium.db' in user_db_files, f'Check if airbnb-boston-medium.db exists in {os.getcwd()}')"
      ]
    },
    {
      "cell_type": "markdown",
      "metadata": {
        "id": "MK5GxHoN0wlP"
      },
      "source": [
        "---\n",
        "### 📌 Populate a database table from a CSV file"
      ]
    },
    {
      "cell_type": "markdown",
      "metadata": {
        "id": "jNqcd4De0wlP"
      },
      "source": [
        "▶️ Run the code below to create a DataFrame named `df_listings`."
      ]
    },
    {
      "cell_type": "code",
      "execution_count": null,
      "metadata": {
        "id": "9jx3RLb20wlP"
      },
      "outputs": [],
      "source": [
        "df_listings = pd.read_csv('https://github.com/bdi475/datasets/raw/main/boston-airbnb-listings-small.csv')\n",
        "df_listings_backup = df_listings.copy()\n",
        "\n",
        "display(df_listings.head(5))"
      ]
    },
    {
      "cell_type": "markdown",
      "metadata": {
        "id": "34Z-Pw_y0wlQ"
      },
      "source": [
        "▶️ Run the code below to populate the `listings` table. All data in `df_listings` will be inserted to the table."
      ]
    },
    {
      "cell_type": "code",
      "execution_count": null,
      "metadata": {
        "id": "MgjQQFtv0wlQ"
      },
      "outputs": [],
      "source": [
        "conn = sqlite3.connect('airbnb-boston-medium.db')\n",
        "c = conn.cursor()\n",
        "\n",
        "tables = list(pd.read_sql_query('SELECT * FROM sqlite_master WHERE type=\"table\";', con=conn)['tbl_name'])\n",
        "\n",
        "if 'listings' in tables:\n",
        "    c.execute(f'DELETE FROM listings')\n",
        "    conn.commit()\n",
        "    \n",
        "df_listings.to_sql(name='listings', index=False, con=conn, if_exists='append')\n",
        "\n",
        "conn.close()"
      ]
    },
    {
      "cell_type": "markdown",
      "metadata": {
        "id": "pMbxiVMR0wlQ"
      },
      "source": [
        "#### 🧭 Check your work"
      ]
    },
    {
      "cell_type": "code",
      "execution_count": null,
      "metadata": {
        "id": "uxEFJNa50wlQ"
      },
      "outputs": [],
      "source": [
        "# DO NOT CHANGE THE CODE IN THIS CELL\n",
        "conn_checker = sqlite3.connect('airbnb-boston-medium.db')\n",
        "table_to_check = 'listings'\n",
        "\n",
        "# Check if table exists\n",
        "user_tables = list(pd.read_sql_query('SELECT * FROM sqlite_master WHERE type=\"table\";', con=conn_checker)['tbl_name'])\n",
        "tc.assertTrue(table_to_check in user_tables, f'{table_to_check} does not exist in your NWT.db file!')\n",
        "\n",
        "conn_checker.close()"
      ]
    },
    {
      "cell_type": "markdown",
      "metadata": {
        "id": "Qn9ek68-0wlQ"
      },
      "source": [
        "▶️ Run the code below to display `df_listings`."
      ]
    },
    {
      "cell_type": "code",
      "execution_count": null,
      "metadata": {
        "id": "wMeSUb3X0wlQ"
      },
      "outputs": [],
      "source": [
        "display(df_listings)"
      ]
    },
    {
      "cell_type": "markdown",
      "metadata": {
        "id": "x6zO6sfB0wlQ"
      },
      "source": [
        "---\n",
        "\n",
        "### 🎯 Exercise 8: Select all columns and rows from the `listings` table (SQL)\n",
        "\n",
        "#### 👇 Tasks\n",
        "\n",
        "- ✔️ Write a query that selects all columns for all rows.\n",
        "- ✔️ Store your query to a new variable named `query_select_all`."
      ]
    },
    {
      "cell_type": "code",
      "execution_count": null,
      "metadata": {
        "id": "YSEEujQe0wlQ"
      },
      "outputs": [],
      "source": [
        "# YOUR CODE BEGINS\n",
        "\n",
        "\n",
        "\n",
        "# YOUR CODE ENDS\n",
        "conn = sqlite3.connect('airbnb-boston-medium.db')\n",
        "df_result = pd.read_sql_query(query_select_all, con=conn)\n",
        "display(df_result)\n",
        "conn.close()"
      ]
    },
    {
      "cell_type": "markdown",
      "metadata": {
        "id": "QBarmGz_0wlQ"
      },
      "source": [
        "#### 🧭 Check your work"
      ]
    },
    {
      "cell_type": "code",
      "execution_count": null,
      "metadata": {
        "nbgrader": {
          "grade": true,
          "grade_id": "exercise-08",
          "locked": true,
          "points": "1",
          "solution": false
        },
        "id": "lyny_iAG0wlQ"
      },
      "outputs": [],
      "source": [
        "# DO NOT CHANGE THE CODE IN THIS CELL\n",
        "conn = sqlite3.connect('airbnb-boston-medium.db')\n",
        "decoded_query = base64.b64decode(b'ClNFTEVDVCAqCkZST00gbGlzdGluZ3MK').decode()\n",
        "df_check = pd.read_sql_query(decoded_query, con=conn)\n",
        "tc.assertEqual(df_result.shape, df_check.shape, 'Number of rows and/or columns is different')\n",
        "conn.close()"
      ]
    },
    {
      "cell_type": "markdown",
      "metadata": {
        "id": "K1P6vc-K0wlR"
      },
      "source": [
        "---\n",
        "\n",
        "### 🎯 Exercise 9A: Find expensive listings (Pandas)\n",
        "\n",
        "#### 👇 Tasks\n",
        "\n",
        "- ✔️ Using `df_listings`, find all rows with a price of over $1,000 (`df_listings['price'] > 1000`).\n",
        "- ✔️ Store the result to a new variable named `df_expensive_listings`.\n",
        "\n",
        "#### 🔑 Expected Output\n",
        "\n",
        "Your index column may contain different values.\n",
        "\n",
        "|     | name                                           | neighbourhood   | room_type       |   bedrooms |   bathrooms |   minimum_nights |   price |   availability_365 |   number_of_reviews |   review_score |   is_superhost |\n",
        "|----:|:-----------------------------------------------|:----------------|:----------------|-----------:|------------:|-----------------:|--------:|-------------------:|--------------------:|---------------:|---------------:|\n",
        "| 502 | Large 4BDR near Harvard with Parking           | Allston         | Entire home/apt |          4 |         2.5 |                1 |    1250 |                  0 |                 136 |             98 |              0 |\n",
        "| 669 | The Historic House in the North End/Waterfront | North End       | Entire home/apt |          3 |         2   |               91 |    1052 |                  0 |                 104 |             98 |              1 |"
      ]
    },
    {
      "cell_type": "code",
      "execution_count": null,
      "metadata": {
        "id": "XLf6YHAk0wlR"
      },
      "outputs": [],
      "source": [
        "# YOUR CODE BEGINS\n",
        "# YOUR CODE ENDS\n",
        "display(df_expensive_listings)"
      ]
    },
    {
      "cell_type": "markdown",
      "metadata": {
        "id": "gC0TpHID0wlR"
      },
      "source": [
        "#### 🧭 Check your work"
      ]
    },
    {
      "cell_type": "code",
      "execution_count": null,
      "metadata": {
        "nbgrader": {
          "grade": true,
          "grade_id": "exercise-09a",
          "locked": true,
          "points": "1",
          "solution": false
        },
        "id": "HUPMVRbO0wlR"
      },
      "outputs": [],
      "source": [
        "# DO NOT CHANGE THE CODE IN THIS CELL\n",
        "df_check = df_listings_backup.query(f\"{'PrIcE'.lower()} > {25 * 40}\")\n",
        "\n",
        "pd.testing.assert_frame_equal(df_expensive_listings.sort_values(df_expensive_listings.columns.tolist()).reset_index(drop=True),\n",
        "                              df_check.sort_values(df_check.columns.tolist()).reset_index(drop=True))"
      ]
    },
    {
      "cell_type": "markdown",
      "metadata": {
        "id": "H0Sz-pLk0wlR"
      },
      "source": [
        "---\n",
        "\n",
        "### 🎯 Exercise 9B: Find expensive listings (SQL)\n",
        "\n",
        "#### 👇 Tasks\n",
        "\n",
        "- ✔️ Using the `listings` table, select rows with a price of over $1,000 (`price > 1000`).\n",
        "- ✔️ Select all columns.\n",
        "- ✔️ Store your query to a new variable named `query_expensive_listings`."
      ]
    },
    {
      "cell_type": "code",
      "execution_count": null,
      "metadata": {
        "id": "uM5mZyHX0wlR"
      },
      "outputs": [],
      "source": [
        "# YOUR CODE BEGINS\n",
        "\n",
        "\n",
        "\n",
        "\n",
        "# YOUR CODE ENDS\n",
        "conn = sqlite3.connect('airbnb-boston-medium.db')\n",
        "df_result = pd.read_sql_query(query_expensive_listings, con=conn)\n",
        "display(df_result)\n",
        "conn.close()"
      ]
    },
    {
      "cell_type": "markdown",
      "metadata": {
        "id": "_fdpu7oP0wlR"
      },
      "source": [
        "#### 🧭 Check your work"
      ]
    },
    {
      "cell_type": "code",
      "execution_count": null,
      "metadata": {
        "nbgrader": {
          "grade": true,
          "grade_id": "exercise-09b",
          "locked": true,
          "points": "1",
          "solution": false
        },
        "id": "7aYllios0wlR"
      },
      "outputs": [],
      "source": [
        "# DO NOT CHANGE THE CODE IN THIS CELL\n",
        "conn = sqlite3.connect('airbnb-boston-medium.db')\n",
        "decoded_query = base64.b64decode(b'ClNFTEVDVCAqCkZST00gbGlzdGluZ3MKV0hFUkUgcHJpY2UgPiAxMDAwCg==').decode()\n",
        "df_check = pd.read_sql_query(decoded_query, con=conn)\n",
        "tc.assertEqual(df_result.shape, df_check.shape, 'Number of rows and/or columns is different')\n",
        "pd.testing.assert_frame_equal(df_result.sort_values(df_result.columns.tolist()).reset_index(drop=True),\n",
        "                              df_check.sort_values(df_check.columns.tolist()).reset_index(drop=True))\n",
        "conn.close()"
      ]
    },
    {
      "cell_type": "markdown",
      "metadata": {
        "id": "nJuWGmvR0wlR"
      },
      "source": [
        "---\n",
        "\n",
        "### 🎯 Exercise 10A: Find large listings (Pandas)\n",
        "\n",
        "#### 👇 Tasks\n",
        "\n",
        "- ✔️ Using `df_listings`, find all rows where the listing has:\n",
        "    - 5 or more bedrooms\n",
        "    - **AND** 3 or more bathrooms\n",
        "- ✔️ Select only the following 5 columns (in the same order):\n",
        "    - `name`, `bedrooms`, `bathrooms`, `price`, `review_score`\n",
        "- ✔️ Store the result to a new variable named `df_large_listings`.\n",
        "\n",
        "#### 🔑 Expected Output\n",
        "\n",
        "Your index column may contain different values.\n",
        "\n",
        "|     | name                                               |   bedrooms |   bathrooms |   price |   review_score |\n",
        "|----:|:---------------------------------------------------|-----------:|------------:|--------:|---------------:|\n",
        "| 151 | Beautiful Philadelphia house near Harvard U. w/ pk |          5 |           3 |     600 |             82 |\n",
        "| 250 | Spacious 4 BR | 2.5 BA Single-Family Home.         |          5 |           3 |     373 |             97 |\n",
        "| 921 | ★Large Retreat 5BR w/3BA★ Close to Everything      |          5 |           3 |     738 |             95 |"
      ]
    },
    {
      "cell_type": "code",
      "execution_count": null,
      "metadata": {
        "id": "OHthp7jQ0wlS"
      },
      "outputs": [],
      "source": [
        "# YOUR CODE BEGINS\n",
        "\n",
        "# YOUR CODE ENDS\n",
        "display(df_large_listings)"
      ]
    },
    {
      "cell_type": "markdown",
      "metadata": {
        "id": "RHTmP2Sy0wlS"
      },
      "source": [
        "#### 🧭 Check your work"
      ]
    },
    {
      "cell_type": "code",
      "execution_count": null,
      "metadata": {
        "nbgrader": {
          "grade": true,
          "grade_id": "exercise-10a",
          "locked": true,
          "points": "1",
          "solution": false
        },
        "id": "TNiIlp7e0wlS"
      },
      "outputs": [],
      "source": [
        "# DO NOT CHANGE THE CODE IN THIS CELL\n",
        "__r = 'oo'.join(['R', 'Ms']).lower()\n",
        "df_check = df_listings.query(f'bed{__r} > {2 ** 2} & bath{__r} > {2 ** 1}') \\\n",
        "    [['_'.join(['review', 'score']), 'price', 'bath' + __r, 'bed' + __r, 'name'][::-1]]\n",
        "\n",
        "pd.testing.assert_frame_equal(df_large_listings.sort_values(df_large_listings.columns.tolist()).reset_index(drop=True),\n",
        "                              df_check.sort_values(df_check.columns.tolist()).reset_index(drop=True))"
      ]
    },
    {
      "cell_type": "markdown",
      "metadata": {
        "id": "HrI9xJd_0wlS"
      },
      "source": [
        "---\n",
        "\n",
        "### 🎯 Exercise 10B: Find large listings (SQL)\n",
        "\n",
        "#### 👇 Tasks\n",
        "\n",
        "- ✔️ Using the `listings` table, find all rows where the listing has:\n",
        "    - 5 or more bedrooms\n",
        "    - **AND** 3 or more bathrooms\n",
        "- ✔️ Select only the following 5 columns (in the same order):\n",
        "    - `name`, `bedrooms`, `bathrooms`, `price`, `review_score`\n",
        "- ✔️ Store your query to a new variable named `query_large_listings`."
      ]
    },
    {
      "cell_type": "code",
      "execution_count": null,
      "metadata": {
        "id": "VZNR-u7W0wlS"
      },
      "outputs": [],
      "source": [
        "# YOUR CODE BEGINS\n",
        "\n",
        "\n",
        "\n",
        "\n",
        "# YOUR CODE ENDS\n",
        "conn = sqlite3.connect('airbnb-boston-medium.db')\n",
        "df_result = pd.read_sql_query(query_large_listings, con=conn)\n",
        "display(df_result)\n",
        "conn.close()"
      ]
    },
    {
      "cell_type": "markdown",
      "metadata": {
        "id": "Pk4QO-bd0wlS"
      },
      "source": [
        "#### 🧭 Check your work"
      ]
    },
    {
      "cell_type": "code",
      "execution_count": null,
      "metadata": {
        "nbgrader": {
          "grade": true,
          "grade_id": "exercise-10b",
          "locked": true,
          "points": "1",
          "solution": false
        },
        "id": "KCJM5mBc0wlT"
      },
      "outputs": [],
      "source": [
        "# DO NOT CHANGE THE CODE IN THIS CELL\n",
        "conn = sqlite3.connect('airbnb-boston-medium.db')\n",
        "decoded_query = base64.b64decode(b'ClNFTEVDVCBuYW1lLCBiZWRyb29tcywgYmF0aHJvb21zLCBwcmljZSwgcmV2aWV3X3Njb3JlCkZST00gbGlzdGluZ3MKV0hFUkUgKGJlZHJvb21zID49IDUpIEFORCAoYmF0aHJvb21zID49IDMpCg=='\n",
        ").decode()\n",
        "df_check = pd.read_sql_query(decoded_query, con=conn)\n",
        "tc.assertEqual(df_result.columns.tolist(), df_check.columns.tolist(), 'Incorrect set of columns or order')\n",
        "tc.assertEqual(df_result.shape, df_check.shape, 'Number of rows and/or columns is different')\n",
        "pd.testing.assert_frame_equal(df_result.sort_values(df_result.columns.tolist()).reset_index(drop=True),\n",
        "                              df_check.sort_values(df_check.columns.tolist()).reset_index(drop=True))\n",
        "conn.close()"
      ]
    },
    {
      "cell_type": "markdown",
      "metadata": {
        "id": "ioi5PhS60wlT"
      },
      "source": [
        "---\n",
        "\n",
        "### 🎯 Exercise 11A: Number of listings (Pandas)\n",
        "\n",
        "#### 👇 Tasks\n",
        "\n",
        "- ✔️ Find the number of rows in `df_listings`.\n",
        "- ✔️ Store the result to a new variable named `num_listings`.\n",
        "- ✔️ `num_listings` should be an integer type."
      ]
    },
    {
      "cell_type": "code",
      "execution_count": null,
      "metadata": {
        "id": "3vkY7qW00wlT"
      },
      "outputs": [],
      "source": [
        "# YOUR CODE BEGINS\n",
        "# YOUR CODE ENDS\n",
        "print(f'There are {num_listings} AirBnB listings in the dataset.')"
      ]
    },
    {
      "cell_type": "markdown",
      "metadata": {
        "id": "RtiH_1RX0wlT"
      },
      "source": [
        "#### 🧭 Check your work"
      ]
    },
    {
      "cell_type": "code",
      "execution_count": null,
      "metadata": {
        "nbgrader": {
          "grade": true,
          "grade_id": "exercise-11a",
          "locked": true,
          "points": "1",
          "solution": false
        },
        "id": "lKk3OzVn0wlT"
      },
      "outputs": [],
      "source": [
        "# DO NOT CHANGE THE CODE IN THIS CELL\n",
        "tc.assertEqual(num_listings, len(df_listings_backup.index), f'Incorrect number of listings - should be {len(df_listings_backup.index)}')"
      ]
    },
    {
      "cell_type": "markdown",
      "metadata": {
        "id": "AVvHEC2Q0wlT"
      },
      "source": [
        "---\n",
        "\n",
        "### 🎯 Exercise 11B: Number of listings (SQL)\n",
        "\n",
        "#### 👇 Tasks\n",
        "\n",
        "- ✔️ Write a query that counts the number of rows in the `listings` table.\n",
        "- ✔️ Store your query in a new variable named `query_num_listings`."
      ]
    },
    {
      "cell_type": "code",
      "execution_count": null,
      "metadata": {
        "id": "FTfWZrUP0wlT"
      },
      "outputs": [],
      "source": [
        "# YOUR CODE BEGINS\n",
        "\n",
        "\n",
        "\n",
        "# YOUR CODE ENDS\n",
        "conn = sqlite3.connect('airbnb-boston-medium.db')\n",
        "df_result = pd.read_sql_query(query_num_listings, con=conn)\n",
        "display(df_result)\n",
        "conn.close()"
      ]
    },
    {
      "cell_type": "markdown",
      "metadata": {
        "id": "OjEWqG6M0wlT"
      },
      "source": [
        "#### 🧭 Check your work"
      ]
    },
    {
      "cell_type": "code",
      "execution_count": null,
      "metadata": {
        "nbgrader": {
          "grade": true,
          "grade_id": "exercise-11b",
          "locked": true,
          "points": "1",
          "solution": false
        },
        "id": "DcxKdOEb0wlU"
      },
      "outputs": [],
      "source": [
        "# DO NOT CHANGE THE CODE IN THIS CELL\n",
        "conn = sqlite3.connect('airbnb-boston-medium.db')\n",
        "decoded_query = base64.b64decode(b'ClNFTEVDVCBDT1VOVCgqKQpGUk9NIGxpc3RpbmdzCg==').decode()\n",
        "df_check = pd.read_sql_query(decoded_query, con=conn)\n",
        "tc.assertEqual(df_result.iloc[0, 0], df_check.iloc[0, 0], 'Incorrect number of listings')\n",
        "conn.close()"
      ]
    },
    {
      "cell_type": "markdown",
      "metadata": {
        "id": "BMThv0Iz0wlU"
      },
      "source": [
        "---\n",
        "\n",
        "### 🎯 Exercise 12A: Get the number of listings by neighbourhood (Pandas)\n",
        "\n",
        "#### 👇 Tasks\n",
        "\n",
        "- ✔️ Using `df_listings`, find the number of listings by neighbourhood.\n",
        "- ✔️ Store the result to a new variable named `df_by_neighbourhood`.\n",
        "- ✔️ `df_by_neighbourhood` should have the following two columns.\n",
        "    1. `neighbourhood`: Name of the neighbourhood\n",
        "    2. `num_listings`: Number of listings in a neighbourhood\n",
        "- ✔️ `print(df_by_neighbourhood.columns.tolist())` should print `['neighbourhood', 'num_listings']`.\n",
        "- ✔️ **Sort** `df_by_neighbourhood` by `num_listings` in descending order.\n",
        "\n",
        "#### 🔑 Expected Output\n",
        "\n",
        "Your index column may contain different values.\n",
        "\n",
        "|    | neighbourhood   |   num_listings |\n",
        "|---:|:----------------|---------------:|\n",
        "|  7 | Dorchester      |            215 |\n",
        "| 12 | Jamaica Plain   |            129 |\n",
        "| 19 | Roxbury         |            107 |\n",
        "|  9 | East Boston     |             90 |\n",
        "| 22 | South End       |             86 |"
      ]
    },
    {
      "cell_type": "code",
      "execution_count": null,
      "metadata": {
        "id": "P78ZyYh20wlU"
      },
      "outputs": [],
      "source": [
        "# YOUR CODE BEGINS\n",
        "\n",
        "\n",
        "\n",
        "\n",
        "\n",
        "# YOUR CODE ENDS\n",
        "df_by_neighbourhood.head(5)"
      ]
    },
    {
      "cell_type": "markdown",
      "metadata": {
        "id": "nUWrfzed0wlU"
      },
      "source": [
        "#### 🧭 Check your work"
      ]
    },
    {
      "cell_type": "code",
      "execution_count": null,
      "metadata": {
        "nbgrader": {
          "grade": true,
          "grade_id": "exercise-12a",
          "locked": true,
          "points": "1",
          "solution": false
        },
        "id": "b7TcU8b30wlU"
      },
      "outputs": [],
      "source": [
        "# DO NOT CHANGE THE CODE IN THIS CELL\n",
        "df_check = df_listings_backup.pivot_table(index=['neigh' + 'BoUr'.lower() + 'HooD'.lower()],\n",
        "                                          values=['NaMe'.lower()],\n",
        "                                          aggfunc=('CoU' + 'Nt').lower()) \\\n",
        "                                .rename(columns={'NaME'.lower(): '_'.join(['NuM', 'LiSTinGs']).lower()}) \\\n",
        "                                .reset_index().sort_values('_'.join(['NuM', 'LiSTinGs']).lower(), ascending=bool(0))\n",
        "\n",
        "pd.testing.assert_series_equal(df_by_neighbourhood['num_listings'].reset_index(drop=True),\n",
        "                               df_check['num_listings'].reset_index(drop=True))"
      ]
    },
    {
      "cell_type": "markdown",
      "metadata": {
        "id": "1V61PLHn0wlU"
      },
      "source": [
        "#### 🚀 Solution\n",
        "\n",
        "```python\n",
        "df_by_neighbourhood = df_listings.groupby('neighbourhood', as_index=False).agg({\n",
        "    'name': 'count'\n",
        "})\n",
        "\n",
        "df_by_neighbourhood.rename(columns={'name': 'num_listings'}, inplace=True)\n",
        "df_by_neighbourhood.sort_values('num_listings', ascending=False, inplace=True)\n",
        "```"
      ]
    },
    {
      "cell_type": "markdown",
      "metadata": {
        "id": "0flPl9480wlU"
      },
      "source": [
        "---\n",
        "\n",
        "### 🎯 Exercise 12B: Get the number of listings by neighbourhood (SQL)\n",
        "\n",
        "#### 👇 Tasks\n",
        "\n",
        "- ✔️ Write a query that counts the number of listings by neighbourhood from the `listings` table.\n",
        "- ✔️ The result of the query should have the following two columns.\n",
        "    1. `neighbourhood`: Name of the neighbourhood\n",
        "    2. `num_listings`: Number of listings in a neighbourhood\n",
        "- ✔️ Store your query in a new variable named `query_num_listings_by_neighbourhood`."
      ]
    },
    {
      "cell_type": "code",
      "execution_count": null,
      "metadata": {
        "id": "bc540PiC0wlV"
      },
      "outputs": [],
      "source": [
        "# YOUR CODE BEGINS\n",
        "\n",
        "\n",
        "\n",
        "\n",
        "\n",
        "# YOUR CODE ENDS\n",
        "conn = sqlite3.connect('airbnb-boston-medium.db')\n",
        "df_result = pd.read_sql_query(query_num_listings_by_neighbourhood, con=conn)\n",
        "display(df_result)\n",
        "conn.close()"
      ]
    },
    {
      "cell_type": "markdown",
      "metadata": {
        "id": "yeEFR9EI0wlV"
      },
      "source": [
        "#### 🧭 Check your work"
      ]
    },
    {
      "cell_type": "code",
      "execution_count": null,
      "metadata": {
        "nbgrader": {
          "grade": true,
          "grade_id": "exercise-12b",
          "locked": true,
          "points": "1",
          "solution": false
        },
        "id": "F1wHFlJS0wlV"
      },
      "outputs": [],
      "source": [
        "# DO NOT CHANGE THE CODE IN THIS CELL\n",
        "conn = sqlite3.connect('airbnb-boston-medium.db')\n",
        "decoded_query = base64.b64decode(b'ClNFTEVDVCBuZWlnaGJvdXJob29kLCBDT1VOVCgqKSBBUyBudW1fbGlzdGluZ3MKRlJPTSBsaXN0aW5ncwpHUk9VUCBCWSBuZWlnaGJvdXJob29kCk9SREVSIEJZIG51bV9saXN0aW5ncyBERVNDCg==').decode()\n",
        "df_check = pd.read_sql_query(decoded_query, con=conn)\n",
        "tc.assertEqual(df_result.shape, df_check.shape, 'Number of rows and/or columns is different')\n",
        "pd.testing.assert_series_equal(df_result['num_listings'].reset_index(drop=True),\n",
        "                               df_result['num_listings'].reset_index(drop=True))\n",
        "conn.close()"
      ]
    },
    {
      "cell_type": "markdown",
      "metadata": {
        "id": "-gte1aXa0wlV"
      },
      "source": [
        "#### 🚀 Solution\n",
        "\n",
        "```sql\n",
        "SELECT neighbourhood, COUNT(*) AS num_listings\n",
        "FROM listings\n",
        "GROUP BY neighbourhood\n",
        "ORDER BY num_listings DESC\n",
        "```"
      ]
    },
    {
      "cell_type": "markdown",
      "metadata": {
        "id": "vr1Mojzx0wlV"
      },
      "source": [
        "---\n",
        "\n",
        "### 🎯 Exercise 13A: Average price by room type (Pandas)"
      ]
    },
    {
      "cell_type": "markdown",
      "metadata": {
        "id": "v8rgTm2t0wlV"
      },
      "source": [
        "#### 👇 Tasks\n",
        "\n",
        "- ✔️ Using `df_listings`, find the average price by room type.\n",
        "- ✔️ Store the result to a new variable named `df_price_by_room_type`.\n",
        "- ✔️ `df_price_by_room_type` should have the following two columns.\n",
        "    1. `room_type`: Room type\n",
        "    2. `price`: Average price of the room type\n",
        "- ✔️ `print(df_price_by_room_type.columns.tolist())` should print `['room_type', 'price']`.\n",
        "- ✔️ **Sort** `df_price_by_room_type` by `price` in ascending order.\n",
        "\n",
        "#### 🔑 Expected Output\n",
        "\n",
        "Your index column may contain different values.\n",
        "\n",
        "|    | room_type       |    price |\n",
        "|---:|:----------------|---------:|\n",
        "|  3 | Shared room     |  34.75   |\n",
        "|  2 | Private room    |  82.2278 |\n",
        "|  0 | Entire home/apt | 201.135  |\n",
        "|  1 | Hotel room      | 206.273  |"
      ]
    },
    {
      "cell_type": "code",
      "execution_count": null,
      "metadata": {
        "id": "T2taXz-O0wlW"
      },
      "outputs": [],
      "source": [
        "# YOUR CODE BEGINS\n",
        "\n",
        "\n",
        "\n",
        "\n",
        "\n",
        "# YOUR CODE ENDS\n",
        "df_price_by_room_type"
      ]
    },
    {
      "cell_type": "markdown",
      "metadata": {
        "id": "7VgLh2GQ0wlW"
      },
      "source": [
        "#### 🧭 Check your work"
      ]
    },
    {
      "cell_type": "code",
      "execution_count": null,
      "metadata": {
        "nbgrader": {
          "grade": true,
          "grade_id": "exercise-13a",
          "locked": true,
          "points": "1",
          "solution": false
        },
        "id": "cbbuPEoi0wlW"
      },
      "outputs": [],
      "source": [
        "# DO NOT CHANGE THE CODE IN THIS CELL\n",
        "df_check = df_listings_backup.pivot_table(index=['RoOm_'.lower() + 'TyPe'.lower()],\n",
        "                                          values=['price'],\n",
        "                                          aggfunc=np.mean) \\\n",
        "                                .reset_index() \\\n",
        "                                .sort_values('price', ascending=bool(not False))\n",
        "\n",
        "pd.testing.assert_frame_equal(df_price_by_room_type.sort_values(df_price_by_room_type.columns.tolist()).reset_index(drop=True),\n",
        "                              df_check.sort_values(df_check.columns.tolist()).reset_index(drop=True))"
      ]
    },
    {
      "cell_type": "markdown",
      "metadata": {
        "id": "YeNnynDw0wlW"
      },
      "source": [
        "---\n",
        "\n",
        "### 🎯 Exercise 13B: Average price by room type (SQL)\n",
        "\n",
        "#### 👇 Tasks\n",
        "\n",
        "- ✔️ Write a query that finds the average price by room type from the `listings` table.\n",
        "- ✔️ Store your query to a new variable named `query_price_by_room_type`.\n",
        "- ✔️ Your result should have the following two columns.\n",
        "    1. `room_type`: Room type\n",
        "    2. `price`: Average price of the room type\n",
        "- ✔️ **Sort** your result by `price` in ascending order."
      ]
    },
    {
      "cell_type": "code",
      "execution_count": null,
      "metadata": {
        "id": "qKkx1tHc0wlW"
      },
      "outputs": [],
      "source": [
        "# YOUR CODE BEGINS\n",
        "\n",
        "\n",
        "\n",
        "\n",
        "\n",
        "# YOUR CODE ENDS\n",
        "conn = sqlite3.connect('airbnb-boston-medium.db')\n",
        "df_result = pd.read_sql_query(query_price_by_room_type, con=conn)\n",
        "display(df_result)\n",
        "conn.close()"
      ]
    },
    {
      "cell_type": "markdown",
      "metadata": {
        "id": "tDViN-bZ0wlW"
      },
      "source": [
        "#### 🧭 Check your work"
      ]
    },
    {
      "cell_type": "code",
      "execution_count": null,
      "metadata": {
        "nbgrader": {
          "grade": true,
          "grade_id": "exercise-13b",
          "locked": true,
          "points": "1",
          "solution": false
        },
        "id": "gM_rmbwr0wlW"
      },
      "outputs": [],
      "source": [
        "# DO NOT CHANGE THE CODE IN THIS CELL\n",
        "conn = sqlite3.connect('airbnb-boston-medium.db')\n",
        "decoded_query = base64.b64decode(b'ClNFTEVDVCByb29tX3R5cGUsIEFWRyhwcmljZSkgYXMgcHJpY2UKRlJPTSBsaXN0aW5ncwpHUk9VUCBCWSByb29tX3R5cGUKT1JERVIgQlkgcHJpY2UK').decode()\n",
        "df_check = pd.read_sql_query(decoded_query, con=conn)\n",
        "tc.assertEqual(df_result.shape, df_check.shape, 'Number of rows and/or columns is different')\n",
        "pd.testing.assert_frame_equal(df_result.sort_values(df_result.columns.tolist()).reset_index(drop=True),\n",
        "                              df_check.sort_values(df_check.columns.tolist()).reset_index(drop=True))\n",
        "\n",
        "conn.close()"
      ]
    },
    {
      "cell_type": "markdown",
      "metadata": {
        "id": "wTXZqs3X0wlW"
      },
      "source": [
        "#### 🚀 Solution\n",
        "\n",
        "```sql\n",
        "SELECT room_type, AVG(price) as price\n",
        "FROM listings\n",
        "GROUP BY room_type\n",
        "ORDER BY price\n",
        "```"
      ]
    }
  ],
  "metadata": {
    "kernelspec": {
      "display_name": "Python 3 (ipykernel)",
      "language": "python",
      "name": "python3"
    },
    "language_info": {
      "codemirror_mode": {
        "name": "ipython",
        "version": 3
      },
      "file_extension": ".py",
      "mimetype": "text/x-python",
      "name": "python",
      "nbconvert_exporter": "python",
      "pygments_lexer": "ipython3",
      "version": "3.9.7"
    },
    "colab": {
      "provenance": []
    }
  },
  "nbformat": 4,
  "nbformat_minor": 0
}