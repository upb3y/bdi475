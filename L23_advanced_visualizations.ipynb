{
  "cells": [
    {
      "cell_type": "markdown",
      "metadata": {
        "id": "4KcivtzHb5nL"
      },
      "source": [
        "# Advanced Visualizations"
      ]
    },
    {
      "cell_type": "markdown",
      "metadata": {
        "id": "PdtNM1fUb5nP"
      },
      "source": [
        "---\n",
        "\n",
        "▶️ Run the code cell below to import packages used in today's exercise."
      ]
    },
    {
      "cell_type": "code",
      "execution_count": null,
      "metadata": {
        "id": "rlI9WkErb5nQ"
      },
      "outputs": [],
      "source": [
        "import pandas as pd\n",
        "import numpy as np\n",
        "import plotly\n",
        "import plotly.express as px\n",
        "import plotly.graph_objects as go\n",
        "import base64\n",
        "import unittest\n",
        "\n",
        "# plotly.io is a low-level interface for interacting with figures/\n",
        "# plotly.io.templates lists available plotly templates\n",
        "# https://plotly.com/python-api-reference/plotly.io.html\n",
        "import plotly.io as pio\n",
        "\n",
        "pd.set_option('display.max_columns', 50)\n",
        "\n",
        "tc = unittest.TestCase()\n",
        "\n",
        "# use plotly version 5.x.x\n",
        "tc.assertEqual(plotly.__version__[:2], '5.', 'Plotly version mismatch')\n",
        "tc.assertIsNotNone(go.Figure, 'Check whether you have correctly imported plotly.graph_objects with an alias go.')\n",
        "tc.assertIsNotNone(px.scatter, 'Check whether you have correctly imported plotly.express with an alias px.')"
      ]
    },
    {
      "cell_type": "markdown",
      "metadata": {
        "id": "MrzGsAlUb5nT"
      },
      "source": [
        "▶️ Run the code below to import Chicago Airbnb listings dataset."
      ]
    },
    {
      "cell_type": "code",
      "execution_count": null,
      "metadata": {
        "id": "HZVaqNzYb5nU"
      },
      "outputs": [],
      "source": [
        "df_listings = pd.read_csv('https://github.com/bdi475/datasets/raw/main/case-studies/airbnb-sql/Chicago.csv')\n",
        "df_listings_backup = df_listings.copy()\n",
        "df_listings.head(3)"
      ]
    },
    {
      "cell_type": "markdown",
      "metadata": {
        "id": "WnNkMh-tb5nU"
      },
      "source": [
        "---\n",
        "\n",
        "### 🎯 Exercise 1: Number of rows and columns\n",
        "\n",
        "#### 👇 Tasks\n",
        "\n",
        "- ✔️ Store the number of rows in `df_listings` to a new variable named `num_rows`.\n",
        "- ✔️ Store the number of columns in `df_listings` to a new variable named `num_cols`.\n",
        "- ✔️ Both `num_rows` and `num_cols` must be `int`s.\n",
        "- ✔️ Use `.shape`, not `len()`."
      ]
    },
    {
      "cell_type": "code",
      "execution_count": null,
      "metadata": {
        "id": "hnu3MF3_b5nW"
      },
      "outputs": [],
      "source": [
        "# YOUR CODE BEGINS\n",
        "\n",
        "# YOUR CODE ENDS\n",
        "print(f'There are {num_rows} rows and {num_cols} columns in the dataset.')"
      ]
    },
    {
      "cell_type": "markdown",
      "metadata": {
        "id": "AGFkqLvWb5nX"
      },
      "source": [
        "#### 🧭 Check Your Work"
      ]
    },
    {
      "cell_type": "code",
      "execution_count": null,
      "metadata": {
        "nbgrader": {
          "grade": true,
          "grade_id": "exercise-01",
          "locked": true,
          "points": "1",
          "solution": false
        },
        "id": "ysHq0V_9b5nX"
      },
      "outputs": [],
      "source": [
        "# DO NOT CHANGE THE CODE IN THIS CELL\n",
        "tc.assertEqual(num_rows, len(df_listings_backup.index), f'Number of rows should be {len(df_listings_backup.index)}')\n",
        "tc.assertEqual(num_cols, len(df_listings_backup.columns), f'Number of columns should be {len(df_listings_backup.columns)}')"
      ]
    },
    {
      "cell_type": "markdown",
      "metadata": {
        "id": "Ro1g_3t_b5nY"
      },
      "source": [
        "---\n",
        "\n",
        "### 🎯 Exercise 2: Sample listings priced under \\$200\n",
        "\n",
        "#### 👇 Tasks\n",
        "\n",
        "- ✔️ Sample 100 rows from `df_listings` where the `price` is under `200` (`df_listings['price'] < 200`).\n",
        "- ✔️ Store the sampled result to a new DataFrame named `df_under_200_sample`.\n",
        "\n",
        "#### 🚀 Hint\n",
        "\n",
        "```python\n",
        "my_sampled = my_dataframe[my_dataframe[\"price\"] < 200].sample(100)\n",
        "```"
      ]
    },
    {
      "cell_type": "code",
      "execution_count": null,
      "metadata": {
        "id": "HfxxxfM9b5nY"
      },
      "outputs": [],
      "source": [
        "# YOUR CODE BEGINS\n",
        "# YOUR CODE ENDS\n",
        "display(df_under_200_sample.head(3))"
      ]
    },
    {
      "cell_type": "markdown",
      "metadata": {
        "id": "fiRiRKmSb5nZ"
      },
      "source": [
        "#### 🧭 Check Your Work"
      ]
    },
    {
      "cell_type": "code",
      "execution_count": null,
      "metadata": {
        "nbgrader": {
          "grade": true,
          "grade_id": "exercise-02",
          "locked": true,
          "points": "1",
          "solution": false
        },
        "id": "2cThcol8b5nZ"
      },
      "outputs": [],
      "source": [
        "# DO NOT CHANGE THE CODE IN THIS CELL\n",
        "tc.assertEqual(df_under_200_sample.shape, (100, df_listings_backup.shape[1]), 'Incorrect number of rows and/or columns')\n",
        "tc.assertFalse((df_under_200_sample['price'] >= 200).any(), 'Listing priced equal to or greater than 200 found')"
      ]
    },
    {
      "cell_type": "markdown",
      "metadata": {
        "id": "6y8TK4kzb5nb"
      },
      "source": [
        "---\n",
        "\n",
        "### 🎯 Exercise 3: Scatter Plot\n",
        "\n",
        "#### 👇 Tasks\n",
        "\n",
        "- ✔️ Using `df_under_200_sample`, create a scatter plot with the following axes:\n",
        "    - `x`: Number of bedrooms\n",
        "    - `y`: Number of bathrooms\n",
        "- ✔️ Use price to differentiate size of each point.\n",
        "- ✔️ Use room type to differentiate color of each point.\n",
        "- ✔️ Set an appropriate title.\n",
        "- ✔️ Use the `plotly_dark` theme.\n",
        "- ✔️ Set the `width` to `800` and `height` to `400`.\n",
        "- ✔️ Store your figure to a variable named `fig`.\n",
        "- ✔️ Display the figure using `fig.show()`"
      ]
    },
    {
      "cell_type": "code",
      "execution_count": null,
      "metadata": {
        "nbgrader": {
          "grade": false,
          "grade_id": "exercise-03",
          "locked": false,
          "points": "1",
          "solution": false
        },
        "id": "_7b3PivRb5nd"
      },
      "outputs": [],
      "source": [
        "# YOUR CODE BEGINS\n",
        "\n",
        "\n",
        "\n",
        "\n",
        "\n",
        "\n",
        "\n",
        "\n",
        "\n",
        "\n",
        "\n",
        "# YOUR CODE ENDS"
      ]
    },
    {
      "cell_type": "markdown",
      "metadata": {
        "id": "rRnA7qYeb5nf"
      },
      "source": [
        "#### 🔑 Sample output\n",
        "\n",
        "![image](https://github.com/bdi475/images/blob/main/exercises/plotly-dataviz/bed_bath_scatter.png?raw=true)"
      ]
    },
    {
      "cell_type": "markdown",
      "metadata": {
        "id": "9KJSuCFgb5ng"
      },
      "source": [
        "#### 🧭 Check Your Work"
      ]
    },
    {
      "cell_type": "code",
      "execution_count": null,
      "metadata": {
        "nbgrader": {
          "grade": true,
          "grade_id": "exercise-03",
          "locked": true,
          "points": "1",
          "solution": false
        },
        "id": "vLWUmdtLb5nh"
      },
      "outputs": [],
      "source": [
        "# DO NOT CHANGE THE CODE IN THIS CELL\n",
        "tc.assertEqual(len(fig.data), df_under_200_sample['room_type'].nunique(), f'Did you specify a column to differentiate colors?')\n",
        "tc.assertIsNotNone(fig.layout.title.text, 'Missing figure title')\n",
        "\n",
        "num_points = 0\n",
        "for i in range(len(fig.data)):\n",
        "    tc.assertEqual(fig.data[i].type, 'scatter', 'Must be a scatter3d plot')\n",
        "    num_points += fig.data[i].x.shape[0]\n",
        "\n",
        "tc.assertEqual(num_points, 100, 'There must be 100 points')\n",
        "tc.assertEqual(fig.layout.width, 800, 'Incorrect width')\n",
        "tc.assertEqual(fig.layout.height, 400, 'Incorrect height')\n",
        "tc.assertEqual(fig.layout.template, pio.templates['plotly_dark'], 'Incorrect plotly theme (template)')"
      ]
    },
    {
      "cell_type": "markdown",
      "metadata": {
        "id": "9Az8sQ07b5ni"
      },
      "source": [
        "---\n",
        "\n",
        "### 🎯 Exercise 4: 3D Scatter Plots\n",
        "\n",
        "This exercise is highly similar to the previous one. Instead of using size to differentiate price of each point, we'll use add a new axis. This makes it a 3D scatter plot! 🤡\n",
        "\n",
        "#### 👇 Tasks\n",
        "\n",
        "- ✔️ Using `df_under_200_sample`, create a 3D scatter plot with the following axes:\n",
        "    - `x`: Number of bedrooms\n",
        "    - `y`: Number of bathrooms\n",
        "    - `z`: Price\n",
        "- ✔️ Use room type to differentiate colors.\n",
        "- ✔️ Set an appropriate title.\n",
        "- ✔️ Use the `plotly_dark` theme.\n",
        "- ✔️ Set the `width` to `800` and `height` to `600`.\n",
        "- ✔️ Store your figure to a variable named `fig`.\n",
        "- ✔️ Display the figure using `fig.show()`"
      ]
    },
    {
      "cell_type": "code",
      "execution_count": null,
      "metadata": {
        "id": "QTgSS44Mb5nk"
      },
      "outputs": [],
      "source": [
        "# YOUR CODE BEGINS\n",
        "\n",
        "\n",
        "\n",
        "\n",
        "\n",
        "\n",
        "\n",
        "\n",
        "\n",
        "\n",
        "\n",
        "# YOUR CODE ENDS"
      ]
    },
    {
      "cell_type": "markdown",
      "metadata": {
        "id": "I9D9QcRab5nk"
      },
      "source": [
        "#### 🔑 Sample output\n",
        "\n",
        "![image](https://github.com/bdi475/images/blob/main/exercises/plotly-dataviz/bed_bath_price_3d_scatter.png?raw=true)"
      ]
    },
    {
      "cell_type": "markdown",
      "metadata": {
        "id": "c3HMP0ycb5nk"
      },
      "source": [
        "#### 🧭 Check Your Work"
      ]
    },
    {
      "cell_type": "code",
      "execution_count": null,
      "metadata": {
        "nbgrader": {
          "grade": true,
          "grade_id": "exercise-04",
          "locked": true,
          "points": "1",
          "solution": false
        },
        "id": "V62koitXb5nl"
      },
      "outputs": [],
      "source": [
        "# DO NOT CHANGE THE CODE IN THIS CELL\n",
        "tc.assertEqual(len(fig.data), df_under_200_sample['room_type'].nunique(), f'Did you specify a column to differentiate colors?')\n",
        "tc.assertIsNotNone(fig.layout.title.text, 'Missing figure title')\n",
        "\n",
        "num_points = 0\n",
        "for i in range(len(fig.data)):\n",
        "    tc.assertEqual(fig.data[i].type, 'scatter3d', 'Must be a scatter3d plot')\n",
        "    num_points += fig.data[i].x.shape[0]\n",
        "\n",
        "tc.assertEqual(num_points, 100, 'There must be 100 points')\n",
        "tc.assertEqual(fig.layout.width, 800, 'Incorrect width')\n",
        "tc.assertEqual(fig.layout.height, 600, 'Incorrect height')\n",
        "tc.assertEqual(fig.layout.template, pio.templates['plotly_dark'], 'Incorrect plotly theme (template)')"
      ]
    },
    {
      "cell_type": "markdown",
      "metadata": {
        "id": "Q0c_T0D5b5nm"
      },
      "source": [
        "---\n",
        "\n",
        "### 🎯 Exercise 5: Find a list of top 20 neighbourhoods\n",
        "\n",
        "#### 👇 Tasks\n",
        "\n",
        "- ✔️ Find the top 20 neighbourhoods in `df_listings` (by number of listings).\n",
        "- ✔️ Store the result to a new variable named `top_20_neighbourhoods`.\n",
        "- ✔️ `top_20_neighbourhoods` should be a Python `list` type.\n",
        "- ✔️ We'll give you the fully-working code below.\n",
        "\n",
        "#### 🔥 Solution\n",
        "\n",
        "![Code](https://github.com/bdi475/images/blob/main/lecture-notes/dataviz-python/code-find-top-20-neighbourhoods-01.png?raw=true)"
      ]
    },
    {
      "cell_type": "code",
      "execution_count": null,
      "metadata": {
        "id": "hYwXAPqVb5no"
      },
      "outputs": [],
      "source": [
        "# YOUR CODE BEGINS\n",
        "# YOUR CODE ENDS\n",
        "top_20_neighbourhoods"
      ]
    },
    {
      "cell_type": "markdown",
      "metadata": {
        "id": "MaJwmaJNb5np"
      },
      "source": [
        "#### 🧭 Check Your Work"
      ]
    },
    {
      "cell_type": "code",
      "execution_count": null,
      "metadata": {
        "nbgrader": {
          "grade": true,
          "grade_id": "exercise-05",
          "locked": true,
          "points": "1",
          "solution": false
        },
        "id": "6-pngygSb5nq"
      },
      "outputs": [],
      "source": [
        "# DO NOT CHANGE THE CODE IN THIS CELL\n",
        "decoded_code = base64.b64decode(b'dG9wXzIwX25laWdoYm91cmhvb2RzX2NoZWNrID0gZGZfbGlzd\\\n",
        "GluZ3NbJ25laWdoYm91cmhvb2QnXS52YWx1ZV9jb3VudHMoKS5oZWFkKDIwKS5pbmRleC50b2xpc3QoKQ==')\n",
        "\n",
        "eval(compile(decoded_code, '<string>', 'exec'))\n",
        "\n",
        "tc.assertEqual(set(top_20_neighbourhoods), set(top_20_neighbourhoods_check), 'Incorrect neighbourhoods')"
      ]
    },
    {
      "cell_type": "markdown",
      "metadata": {
        "id": "CoJASMEmb5ns"
      },
      "source": [
        "---\n",
        "\n",
        "### 🎯 Exercise 6: Filter listings in top 20 neighbourhoods\n",
        "\n",
        "#### 👇 Tasks\n",
        "\n",
        "- ✔️ Using `df_listings`, filter only the rows where the `neighbourhood` is in `top_20_neighbourhoods` **and** the price is less than 300.\n",
        "- ✔️ Store the filtered result to a new variable named `df_filtered`.\n",
        "- ✔️ We'll give you the fully-working code below.\n",
        "\n",
        "#### 🔥 Solution\n",
        "\n",
        "![Code](https://github.com/bdi475/images/blob/50cb80a994a1dd24ec2a0b51c8cf7fbcbf7197b9/lecture-notes/dataviz-python/code-filter-listings-in-top-20-neighbourhoods-01.png?raw=true)"
      ]
    },
    {
      "cell_type": "code",
      "execution_count": null,
      "metadata": {
        "nbgrader": {
          "grade": false,
          "grade_id": "exercise-06",
          "locked": false,
          "solution": false
        },
        "id": "uPXCOZvqb5nt"
      },
      "outputs": [],
      "source": [
        "# YOUR CODE BEGINS\n",
        "\n",
        "# YOUR CODE ENDS\n",
        "display(df_filtered.head(3))\n",
        "print(df_filtered.shape)"
      ]
    },
    {
      "cell_type": "markdown",
      "metadata": {
        "id": "ms4qsGR5b5nt"
      },
      "source": [
        "#### 🧭 Check Your Work"
      ]
    },
    {
      "cell_type": "code",
      "execution_count": null,
      "metadata": {
        "nbgrader": {
          "grade": true,
          "grade_id": "exercise-06",
          "locked": true,
          "points": "1",
          "solution": false
        },
        "id": "68UnYYdsb5nt"
      },
      "outputs": [],
      "source": [
        "# DO NOT CHANGE THE CODE IN THIS CELL\n",
        "decoded_code = base64.b64decode(b'dG9wXzIwX25laWdoYm91cmhvb2RzX2NoZWNrID0g\\\n",
        "ZGZfbGlzdGluZ3NfYmFja3VwWyduZWlnaGJvdXJob29kJ10udmFsdWVfY291bnRzKCkuaGVhZC\\\n",
        "gyMCkuaW5kZXgudG9saXN0KCkKCmRmX2ZpbHRlcmVkX2NoZWNrID0gZGZfbGlzdGluZ3NfYmFj\\\n",
        "a3VwWyhkZl9saXN0aW5nc19iYWNrdXBbJ25laWdoYm91cmhvb2QnXS5pc2luKHRvcF8yMF9uZW\\\n",
        "lnaGJvdXJob29kc19jaGVjaykpICYgKGRmX2xpc3RpbmdzX2JhY2t1cFsncHJpY2UnXSA8IDMwMCld')\n",
        "\n",
        "eval(compile(decoded_code, '<string>', 'exec'))\n",
        "\n",
        "tc.assertEqual(df_filtered.shape, df_filtered_check.shape, 'Incorrect number of rows and/or columns')\n",
        "pd.testing.assert_frame_equal(\n",
        "    df_filtered.sort_values(df_filtered.columns.tolist()).reset_index(drop=True),\n",
        "    df_filtered_check.sort_values(df_filtered_check.columns.tolist()).reset_index(drop=True)\n",
        ")"
      ]
    },
    {
      "cell_type": "markdown",
      "metadata": {
        "id": "RZlt4KGVb5nv"
      },
      "source": [
        "---\n",
        "\n",
        "### 🎯 Exercise 7: Neighbourhood breakdown\n",
        "\n",
        "#### 👇 Tasks\n",
        "\n",
        "- ✔️ Using `df_filtered`, create a pie chart that shows the breakdown of neighbourhoods (by number of listings).\n",
        "- ✔️ Set an appropriate title.\n",
        "- ✔️ Set the `width` to `800` and `height` to `700`.\n",
        "- ✔️ Store your figure to a variable named `fig`.\n",
        "- ✔️ Display the figure using `fig.show()`"
      ]
    },
    {
      "cell_type": "code",
      "execution_count": null,
      "metadata": {
        "id": "F-wi7sDIb5nx"
      },
      "outputs": [],
      "source": [
        "# YOUR CODE BEGINS\n",
        "\n",
        "\n",
        "\n",
        "\n",
        "\n",
        "\n",
        "\n",
        "\n",
        "# YOUR CODE ENDS"
      ]
    },
    {
      "cell_type": "markdown",
      "metadata": {
        "id": "VBNXmS4Cb5nx"
      },
      "source": [
        "#### 🔑 Sample output\n",
        "\n",
        "![image](https://github.com/bdi475/images/blob/main/exercises/plotly-dataviz/neighbourhood_breakdown_pie.png?raw=true)"
      ]
    },
    {
      "cell_type": "markdown",
      "metadata": {
        "id": "Yxjodrx5b5nz"
      },
      "source": [
        "#### 🧭 Check Your Work"
      ]
    },
    {
      "cell_type": "code",
      "execution_count": null,
      "metadata": {
        "nbgrader": {
          "grade": true,
          "grade_id": "exercise-07",
          "locked": true,
          "points": "1",
          "solution": false
        },
        "id": "ACOroJ51b5n0"
      },
      "outputs": [],
      "source": [
        "# DO NOT CHANGE THE CODE IN THIS CELL\n",
        "tc.assertIsNotNone(fig.layout.title.text, 'Missing figure title')\n",
        "tc.assertEqual(fig.data[0].type, 'pie', 'Must be a pie chart')\n",
        "tc.assertEqual(set(fig.data[0].labels), set(top_20_neighbourhoods), 'Must only use the top 20 neighbourhoods')\n",
        "\n",
        "tc.assertEqual(fig.layout.width, 800, 'Incorrect width')\n",
        "tc.assertEqual(fig.layout.height, 700, 'Incorrect height')"
      ]
    },
    {
      "cell_type": "markdown",
      "metadata": {
        "id": "4EQYuur5b5n1"
      },
      "source": [
        "---\n",
        "\n",
        "### 🎯 Exercise 8: Neighbourhood vs price heatmap\n",
        "\n",
        "#### 👇 Tasks\n",
        "\n",
        "- ✔️ Using `df_filtered`, create a heatmap to visualize the distribution of listings price by neighbourhood.\n",
        "- ✔️ Use `neighbourhood` on the x-axis and `price` on the y-axis.\n",
        "- ✔️ Set an appropriate title.\n",
        "- ✔️ Set the `height` to `600` (do not specify `width`).\n",
        "- ✔️ Store your figure to a variable named `fig`.\n",
        "- ✔️ Display the figure using `fig.show()`"
      ]
    },
    {
      "cell_type": "code",
      "execution_count": null,
      "metadata": {
        "id": "rspxmISkb5n1"
      },
      "outputs": [],
      "source": [
        "# YOUR CODE BEGINS\n",
        "\n",
        "\n",
        "\n",
        "\n",
        "\n",
        "\n",
        "\n",
        "# YOUR CODE ENDS"
      ]
    },
    {
      "cell_type": "markdown",
      "metadata": {
        "id": "eMedbJ_ib5n2"
      },
      "source": [
        "#### 🔑 Sample output\n",
        "\n",
        "![image](https://github.com/bdi475/images/blob/main/exercises/plotly-dataviz/neighbourhood_vs_price_heatmap.png?raw=true)"
      ]
    },
    {
      "cell_type": "markdown",
      "metadata": {
        "id": "3i8czyYCb5n2"
      },
      "source": [
        "#### 🧭 Check Your Work"
      ]
    },
    {
      "cell_type": "code",
      "execution_count": null,
      "metadata": {
        "nbgrader": {
          "grade": true,
          "grade_id": "exercise-08",
          "locked": true,
          "points": "1",
          "solution": false
        },
        "id": "yMQiIcw0b5n2"
      },
      "outputs": [],
      "source": [
        "# DO NOT CHANGE THE CODE IN THIS CELL\n",
        "decoded_code = base64.b64decode(b'ZmlnX2NoZWNrID0gcHguZGVuc2l0eV9oZWF0bWFwKAogICAgZGZfZ\\\n",
        "mlsdGVyZWQsCiAgICB4PSduZWlnaGJvdXJob29kJywKICAgIHk9J3ByaWNlJywKICAgIGhlaWdodD02MDAKKQ==')\n",
        "\n",
        "eval(compile(decoded_code, '<string>', 'exec'))\n",
        "\n",
        "tc.assertIsNotNone(fig.layout.title.text, 'Missing figure title')\n",
        "tc.assertEqual(fig.data[0].type, 'histogram2d', 'Must be a heatmap (histogram2d)')\n",
        "tc.assertEqual(set(fig.data[0].x), set(fig_check.data[0].x), 'Incorrect x-axis value(s)')\n",
        "tc.assertEqual(set(fig.data[0].y), set(fig_check.data[0].y), 'Incorrect y-axis value(s)')\n",
        "tc.assertEqual(fig.layout.height, fig_check.layout.height, 'Incorrect height')"
      ]
    },
    {
      "cell_type": "markdown",
      "metadata": {
        "id": "aDF0AwcRb5n3"
      },
      "source": [
        "---\n",
        "\n",
        "### 🎯 Exercise 9: Listing metrics by neighbourhood and room type\n",
        "\n",
        "#### 👇 Tasks\n",
        "\n",
        "- ✔️ Using `df_filtered`, calculate the following aggregated values by `neighbourhood` and `room_type`.\n",
        "    - `num_listings`: Number of listings\n",
        "    - `bedrooms`: Average number of bedrooms\n",
        "    - `bathrooms`: Average number of bathrooms\n",
        "    - `price`: Average price\n",
        "- ✔️ Store the resulting DataFrame to a new variable named `df_by_neighbourhood_room_type`.\n",
        "- ✔️ We'll give you the fully-working code below.\n",
        "\n",
        "#### 🔥 Solution\n",
        "\n",
        "```python\n",
        "df_by_neighbourhood_room_type = df_filtered.groupby(['neighbourhood', 'room_type'], as_index=False) \\\n",
        "    .agg({\n",
        "        'name': 'count',\n",
        "        'bedrooms': 'mean',\n",
        "        'bathrooms': 'mean',\n",
        "        'accommodates': 'mean',\n",
        "        'price': 'mean'\n",
        "    }).rename(columns={\n",
        "        'name': 'num_listings'\n",
        "    })\n",
        "```"
      ]
    },
    {
      "cell_type": "code",
      "execution_count": null,
      "metadata": {
        "scrolled": true,
        "id": "LemtvXjPb5n3"
      },
      "outputs": [],
      "source": [
        "# YOUR CODE BEGINS\n",
        "\n",
        "\n",
        "\n",
        "\n",
        "\n",
        "\n",
        "\n",
        "\n",
        "\n",
        "# YOUR CODE ENDS\n",
        "display(df_by_neighbourhood_room_type.head(5))"
      ]
    },
    {
      "cell_type": "markdown",
      "metadata": {
        "id": "gQCe8zJ8b5n4"
      },
      "source": [
        "#### 🧭 Check Your Work"
      ]
    },
    {
      "cell_type": "code",
      "execution_count": null,
      "metadata": {
        "nbgrader": {
          "grade": true,
          "grade_id": "exercise-09",
          "locked": true,
          "points": "1",
          "solution": false
        },
        "id": "yCWgSO-rb5n5"
      },
      "outputs": [],
      "source": [
        "# DO NOT CHANGE THE CODE IN THIS CELL\n",
        "decoded_code = base64.b64decode(b'dG9wXzIwX25laWdoYm91cmhvb2RzX2NoZWNrID0gZGZfbGlzdGluZ3Nf\\\n",
        "YmFja3VwWyduZWlnaGJvdXJob29kJ10udmFsdWVfY291bnRzKCkuaGVhZCgyMCkuaW5kZXgudG9saXN0KCkKCmRmX2\\\n",
        "ZpbHRlcmVkX2NoZWNrID0gZGZfbGlzdGluZ3NfYmFja3VwWyhkZl9saXN0aW5nc19iYWNrdXBbJ25laWdoYm91cmhv\\\n",
        "b2QnXS5pc2luKHRvcF8yMF9uZWlnaGJvdXJob29kc19jaGVjaykpICYgKGRmX2xpc3RpbmdzX2JhY2t1cFsncHJpY2\\\n",
        "UnXSA8IDMwMCldCgpkZl9ieV9uZWlnaGJvdXJob29kX3Jvb21fdHlwZV9jaGVjayA9IGRmX2ZpbHRlcmVkLmdyb3Vw\\\n",
        "YnkoWyduZWlnaGJvdXJob29kJywgJ3Jvb21fdHlwZSddLCBhc19pbmRleD1GYWxzZSkgXAogICAgLmFnZyh7CiAgIC\\\n",
        "AgICAgJ25hbWUnOiAnY291bnQnLAogICAgICAgICdiZWRyb29tcyc6ICdtZWFuJywKICAgICAgICAnYmF0aHJvb21z\\\n",
        "JzogJ21lYW4nLAogICAgICAgICdhY2NvbW1vZGF0ZXMnOiAnbWVhbicsCiAgICAgICAgJ3ByaWNlJzogJ21lYW4nCi\\\n",
        "AgICB9KS5yZW5hbWUoY29sdW1ucz17CiAgICAgICAgJ25hbWUnOiAnbnVtX2xpc3RpbmdzJwogICAgfSk=')\n",
        "\n",
        "eval(compile(decoded_code, '<string>', 'exec'))\n",
        "\n",
        "tc.assertEqual(\n",
        "    df_by_neighbourhood_room_type.shape,\n",
        "    df_by_neighbourhood_room_type_check.shape,\n",
        "    'Incorrect number of rows and/or columns'\n",
        ")\n",
        "pd.testing.assert_frame_equal(\n",
        "    df_by_neighbourhood_room_type.sort_values(df_by_neighbourhood_room_type.columns.tolist()).reset_index(drop=True),\n",
        "    df_by_neighbourhood_room_type_check.sort_values(df_by_neighbourhood_room_type_check.columns.tolist()).reset_index(drop=True)\n",
        ")"
      ]
    },
    {
      "cell_type": "markdown",
      "metadata": {
        "id": "Bj0gMHo1b5n5"
      },
      "source": [
        "---\n",
        "\n",
        "### 🎯 Exercise 10: Listings Breakdown by Neighbourhood and Room Type (Bar Chart)\n",
        "\n",
        "#### 👇 Tasks\n",
        "\n",
        "- ✔️ Using `df_filtered`, create a bar chart describing the number of listings by neighbourhood (broken down into room types).\n",
        "- ✔️ Use `num_listings` on the x-axis and `neighbourhood` on the y-axis.\n",
        "- ✔️ Use colors to show the breakdown of room types for each neighbourhood.\n",
        "- ✔️ Sort the neighbourhoods by number of listings in descending order.\n",
        "- ✔️ Set an appropriate title.\n",
        "- ✔️ Set the `height` to `600` (do not specify `width`).\n",
        "- ✔️ Store your figure to a variable named `fig`.\n",
        "- ✔️ Display the figure using `fig.show()`"
      ]
    },
    {
      "cell_type": "code",
      "execution_count": null,
      "metadata": {
        "id": "kdIHBFWlb5n5"
      },
      "outputs": [],
      "source": [
        "# YOUR CODE BEGINS\n",
        "\n",
        "\n",
        "\n",
        "\n",
        "\n",
        "\n",
        "\n",
        "\n",
        "\n",
        "\n",
        "\n",
        "\n",
        "# YOUR CODE ENDS"
      ]
    },
    {
      "cell_type": "markdown",
      "metadata": {
        "id": "DDQGk-vob5n5"
      },
      "source": [
        "#### 🔑 Sample output\n",
        "\n",
        "![image](https://github.com/bdi475/images/blob/main/exercises/plotly-dataviz/neighbourhood_listings_breakdown_bar_chart.png?raw=true)"
      ]
    },
    {
      "cell_type": "markdown",
      "metadata": {
        "id": "AOcNi6Fpb5n5"
      },
      "source": [
        "#### 🧭 Check Your Work"
      ]
    },
    {
      "cell_type": "code",
      "execution_count": null,
      "metadata": {
        "nbgrader": {
          "grade": true,
          "grade_id": "exercise-10",
          "locked": true,
          "points": "1",
          "solution": false
        },
        "id": "8NRv4Xiab5n6"
      },
      "outputs": [],
      "source": [
        "tc.assertIsNotNone(fig.layout.title.text, 'Missing figure title')\n",
        "tc.assertEqual(fig.layout.height, 600, 'Incorrect height')\n",
        "\n",
        "decoded_code = base64.b64decode(b'CmZpZ19jaGVjayA9IHB4LmJhcigKICAgIGRmX2J5X25laWdoYm91\\\n",
        "cmhvb2Rfcm9vbV90eXBlLAogICAgeD0nbnVtX2xpc3RpbmdzJywKICAgIHk9J25laWdoYm91cmhvb2QnLAogIC\\\n",
        "AgY29sb3I9J3Jvb21fdHlwZScsCiAgICB0ZW1wbGF0ZT0ncGxvdGx5X2RhcmsnLAogICAgdGl0bGU9J0xpc3Rp\\\n",
        "bmdzIEJyZWFrZG93biBieSBOZWlnaGJvdXJob29kIGFuZCBSb29tIFR5cGUnLAogICAgaGVpZ2h0PTYwMAopCg\\\n",
        "pmaWdfY2hlY2sudXBkYXRlX3lheGVzKGNhdGVnb3J5b3JkZXI9J3RvdGFsIGFzY2VuZGluZycpCg=='\n",
        ")\n",
        "eval(compile(decoded_code, '<string>', 'exec'))\n",
        "\n",
        "for fig_index in range(len(fig.data)):\n",
        "    fig_data = fig.data[fig_index]\n",
        "    fig_check_data = fig_check.data[fig_index]\n",
        "    \n",
        "    tc.assertEqual(fig_data.type, fig_check_data.type, f'Must be a {fig_check_data.type} chart')\n",
        "    \n",
        "    np.testing.assert_array_equal(\n",
        "        fig_data.x,\n",
        "        fig_check_data.x,\n",
        "        'x value(s) mismatch'\n",
        "    )\n",
        "\n",
        "    np.testing.assert_array_equal(\n",
        "        fig_data.y,\n",
        "        fig_check_data.y,\n",
        "        'y value(s) mismatch'\n",
        "    )\n",
        "\n",
        "    np.testing.assert_array_equal(\n",
        "        fig_data.name,\n",
        "        fig_check_data.name,\n",
        "        'Name(s) mismatch'\n",
        "    )"
      ]
    },
    {
      "cell_type": "markdown",
      "metadata": {
        "id": "CwK5kcw_b5n6"
      },
      "source": [
        "---\n",
        "\n",
        "### 🎯 Exercise 11: Listings Breakdown by Neighbourhood and Room Type (Sunburst Chart)\n",
        "\n",
        "#### 👇 Tasks\n",
        "\n",
        "- ✔️ Using `df_by_neighbourhood_room_type`, create a sunburst chart describing the breakdown of the listings by neighbourhood and room type.\n",
        "- ✔️ Set an appropriate title.\n",
        "- ✔️ Set both the width and height to `800`.\n",
        "- ✔️ Store your figure to a variable named `fig`.\n",
        "- ✔️ Display the figure using `fig.show()`"
      ]
    },
    {
      "cell_type": "code",
      "execution_count": null,
      "metadata": {
        "id": "FmmXKNyAb5n6"
      },
      "outputs": [],
      "source": [
        "# YOUR CODE BEGINS\n",
        "\n",
        "\n",
        "\n",
        "\n",
        "\n",
        "\n",
        "\n",
        "\n",
        "\n",
        "# YOUR CODE ENDS"
      ]
    },
    {
      "cell_type": "markdown",
      "metadata": {
        "id": "MucDM37ib5n7"
      },
      "source": [
        "#### 🔑 Sample output\n",
        "\n",
        "![image](https://github.com/bdi475/images/blob/main/exercises/plotly-dataviz/neighbourhood_listings_breakdown_sunburst_chart.png?raw=true)"
      ]
    },
    {
      "cell_type": "markdown",
      "metadata": {
        "id": "bBP-_JDWb5n7"
      },
      "source": [
        "#### 🧭 Check Your Work"
      ]
    },
    {
      "cell_type": "code",
      "execution_count": null,
      "metadata": {
        "nbgrader": {
          "grade": true,
          "grade_id": "exercise-11",
          "locked": true,
          "points": "1",
          "solution": false
        },
        "id": "koaa_jlpb5n8"
      },
      "outputs": [],
      "source": [
        "tc.assertIsNotNone(fig.layout.title.text, 'Missing figure title')\n",
        "tc.assertEqual(fig.data[0].type, 'sunburst', 'Must be a sunburst chart')\n",
        "tc.assertEqual(fig.layout.width, 800, 'Incorrect width')\n",
        "tc.assertEqual(fig.layout.height, 800, 'Incorrect height')\n",
        "\n",
        "decoded_code = base64.b64decode(b'CmZpZ19jaGVjayA9IHB4LnN1bmJ1cnN0KAogICAg\\\n",
        "ZGZfYnlfbmVpZ2hib3VyaG9vZF9yb29tX3R5cGUsCiAgICBwYXRoPVsnbmVpZ2hib3VyaG9vZC\\\n",
        "csICdyb29tX3R5cGUnXSwKICAgIHRpdGxlPSdMaXN0aW5ncyBCcmVha2Rvd24gYnkgTmVpZ2hi\\\n",
        "b3VyaG9vZCBhbmQgUm9vbSBUeXBlJywKICAgIHZhbHVlcz0nbnVtX2xpc3RpbmdzJywKICAgIH\\\n",
        "dpZHRoPTgwMCwKICAgIGhlaWdodD05MDAKKQo='\n",
        ")\n",
        "eval(compile(decoded_code, '<string>', 'exec'))\n",
        "\n",
        "np.testing.assert_array_equal(\n",
        "    fig.data[0].labels,\n",
        "    fig_check.data[0].labels,\n",
        "    'Label(s) mismatch'\n",
        ")\n",
        "\n",
        "np.testing.assert_array_equal(\n",
        "    fig.data[0].parents,\n",
        "    fig_check.data[0].parents,\n",
        "    'Parent(s) mismatch'\n",
        ")\n",
        "\n",
        "np.testing.assert_array_equal(\n",
        "    fig.data[0].values,\n",
        "    fig_check.data[0].values,\n",
        "    'Value(s) mismatch'\n",
        ")"
      ]
    },
    {
      "cell_type": "markdown",
      "metadata": {
        "id": "ghcqJBipb5n8"
      },
      "source": [
        "▶️ Run the code below to create a treemap chart describing the distribution of listings by neighbourhood."
      ]
    },
    {
      "cell_type": "markdown",
      "metadata": {
        "id": "bfYMXRUyb5n9"
      },
      "source": [
        "---\n",
        "\n",
        "### 🎯 Exercise 12: Listings Breakdown by Neighbourhood (Treemap Chart)\n",
        "\n",
        "#### 👇 Tasks\n",
        "\n",
        "- ✔️ Using `df_by_neighbourhood_room_type`, create a treemap chart that shows the breakdown of neighbourhoods by number of listings.\n",
        "- ✔️ Set an appropriate title.\n",
        "- ✔️ Set the `height` to `700`.\n",
        "- ✔️ Store your figure to a variable named `fig`.\n",
        "- ✔️ Display the figure using `fig.show()`"
      ]
    },
    {
      "cell_type": "code",
      "execution_count": null,
      "metadata": {
        "scrolled": true,
        "id": "CXLMMLc2b5n9"
      },
      "outputs": [],
      "source": [
        "# YOUR CODE BEGINS\n",
        "\n",
        "\n",
        "\n",
        "\n",
        "\n",
        "\n",
        "\n",
        "\n",
        "# YOUR CODE ENDS"
      ]
    },
    {
      "cell_type": "markdown",
      "metadata": {
        "id": "tK--5Cfob5n9"
      },
      "source": [
        "#### 🔑 Sample output\n",
        "\n",
        "![image](https://github.com/bdi475/images/blob/main/exercises/plotly-dataviz/neighbourhood_listings_breakdown_treemap_chart.png?raw=true)"
      ]
    },
    {
      "cell_type": "markdown",
      "metadata": {
        "id": "JC29V-Kwb5n9"
      },
      "source": [
        "#### 🧭 Check Your Work"
      ]
    },
    {
      "cell_type": "code",
      "execution_count": null,
      "metadata": {
        "nbgrader": {
          "grade": true,
          "grade_id": "exercise-12",
          "locked": true,
          "points": "1",
          "solution": false
        },
        "id": "pWYtv3kmb5n-"
      },
      "outputs": [],
      "source": [
        "tc.assertIsNotNone(fig.layout.title.text, 'Missing figure title')\n",
        "\n",
        "decoded_code = base64.b64decode(b'CmZpZ19jaGVjayA9IHB4LnRyZWVtYXAoCiAgICBkZl9\\\n",
        "ieV9uZWlnaGJvdXJob29kX3Jvb21fdHlwZSwKICAgIHBhdGg9WyduZWlnaGJvdXJob29kJ10sCiAg\\\n",
        "ICB0aXRsZT0nVG9wIDIwIG5laWdoYm91cmhvb2RzIGJyZWFrZG93bicsCiAgICB2YWx1ZXM9J251b\\\n",
        "V9saXN0aW5ncycsCiAgICBoZWlnaHQ9NzAwCikK'\n",
        "\n",
        ")\n",
        "eval(compile(decoded_code, '<string>', 'exec'))\n",
        "\n",
        "tc.assertEqual(fig.data[0].type, 'treemap', 'Must be a treemap')\n",
        "\n",
        "np.testing.assert_array_equal(\n",
        "    fig.data[0].ids,\n",
        "    fig_check.data[0].ids,\n",
        "    'ID value(s) mismatch'\n",
        ")\n",
        "\n",
        "np.testing.assert_array_equal(\n",
        "    fig.data[0].labels,\n",
        "    fig_check.data[0].labels,\n",
        "    'Label value(s) mismatch'\n",
        ")\n",
        "\n",
        "np.testing.assert_array_equal(\n",
        "    fig.data[0].parents,\n",
        "    fig_check.data[0].parents,\n",
        "    'Parent value(s) mismatch'\n",
        ")\n",
        "\n",
        "np.testing.assert_array_equal(\n",
        "    fig.data[0].values,\n",
        "    fig_check.data[0].values,\n",
        "    'Size value(s) mismatch'\n",
        ")"
      ]
    },
    {
      "cell_type": "markdown",
      "metadata": {
        "id": "ZEKdrBCab5n-"
      },
      "source": [
        "---\n",
        "\n",
        "### 🎯 Exercise 13: Listings Breakdown by Neighbourhood and Room Type (Treemap Chart)\n",
        "\n",
        "#### 👇 Tasks\n",
        "\n",
        "- ✔️ Using `df_by_neighbourhood_room_type`, create a treemap chart that shows the breakdown of neighbourhoods by number of listings and then by room types.\n",
        "- ✔️ Set an appropriate title.\n",
        "- ✔️ Set the `height` to `700`.\n",
        "- ✔️ Store your figure to a variable named `fig`.\n",
        "- ✔️ Display the figure using `fig.show()`"
      ]
    },
    {
      "cell_type": "code",
      "execution_count": null,
      "metadata": {
        "id": "Fbpq3t3Rb5n-"
      },
      "outputs": [],
      "source": [
        "# YOUR CODE BEGINS\n",
        "\n",
        "\n",
        "\n",
        "\n",
        "\n",
        "\n",
        "\n",
        "\n",
        "# YOUR CODE ENDS"
      ]
    },
    {
      "cell_type": "markdown",
      "metadata": {
        "id": "9D0FO63Bb5n-"
      },
      "source": [
        "#### 🔑 Sample output\n",
        "\n",
        "![image](https://github.com/bdi475/images/blob/main/exercises/plotly-dataviz/neighbourhood_listings_breakdown_with_room_types_treemap_chart.png?raw=true)"
      ]
    },
    {
      "cell_type": "markdown",
      "metadata": {
        "id": "bKpzhZDyb5n_"
      },
      "source": [
        "#### 🧭 Check Your Work"
      ]
    },
    {
      "cell_type": "code",
      "execution_count": null,
      "metadata": {
        "nbgrader": {
          "grade": true,
          "grade_id": "exercise-13",
          "locked": true,
          "points": "1",
          "solution": false
        },
        "id": "dj2_XPJdb5n_"
      },
      "outputs": [],
      "source": [
        "tc.assertIsNotNone(fig.layout.title.text, 'Missing figure title')\n",
        "\n",
        "decoded_code = base64.b64decode(b'CmZpZ19jaGVjayA9IHB4LnRyZWVtYXAoCiAgICBkZl9ie\\\n",
        "V9uZWlnaGJvdXJob29kX3Jvb21fdHlwZSwKICAgIHBhdGg9WyduZWlnaGJvdXJob29kJywgJ3Jvb21f\\\n",
        "dHlwZSddLAogICAgdGl0bGU9J1RvcCAyMCBuZWlnaGJvdXJob29kcyBicmVha2Rvd24nLAogICAgdmF\\\n",
        "sdWVzPSdudW1fbGlzdGluZ3MnLAogICAgaGVpZ2h0PTcwMAopCg==')\n",
        "eval(compile(decoded_code, '<string>', 'exec'))\n",
        "\n",
        "tc.assertEqual(fig.data[0].type, 'treemap', 'Must be a treemap')\n",
        "\n",
        "np.testing.assert_array_equal(\n",
        "    fig.data[0].ids,\n",
        "    fig_check.data[0].ids,\n",
        "    'ID value(s) mismatch'\n",
        ")\n",
        "\n",
        "np.testing.assert_array_equal(\n",
        "    fig.data[0].labels,\n",
        "    fig_check.data[0].labels,\n",
        "    'Label value(s) mismatch'\n",
        ")\n",
        "\n",
        "np.testing.assert_array_equal(\n",
        "    fig.data[0].parents,\n",
        "    fig_check.data[0].parents,\n",
        "    'Parent value(s) mismatch'\n",
        ")\n",
        "\n",
        "np.testing.assert_array_equal(\n",
        "    fig.data[0].values,\n",
        "    fig_check.data[0].values,\n",
        "    'Size value(s) mismatch'\n",
        ")"
      ]
    }
  ],
  "metadata": {
    "kernelspec": {
      "display_name": "Python 3 (ipykernel)",
      "language": "python",
      "name": "python3"
    },
    "language_info": {
      "codemirror_mode": {
        "name": "ipython",
        "version": 3
      },
      "file_extension": ".py",
      "mimetype": "text/x-python",
      "name": "python",
      "nbconvert_exporter": "python",
      "pygments_lexer": "ipython3",
      "version": "3.8.13"
    },
    "colab": {
      "provenance": []
    }
  },
  "nbformat": 4,
  "nbformat_minor": 0
}