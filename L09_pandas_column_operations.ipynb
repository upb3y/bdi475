{
  "cells": [
    {
      "cell_type": "markdown",
      "metadata": {
        "id": "znpt9QdbdxtK"
      },
      "source": [
        "# Pandas Data Types and Column Operations"
      ]
    },
    {
      "cell_type": "markdown",
      "metadata": {
        "id": "P2TWT2kwdxtM"
      },
      "source": [
        "## Lecture Notes and in-class exercises"
      ]
    },
    {
      "cell_type": "markdown",
      "metadata": {
        "id": "BLAgknPNdxtM"
      },
      "source": [
        "▶️ First, run the code cell below to import `unittest`, a module used for **🧭 Check Your Work** sections and the autograder."
      ]
    },
    {
      "cell_type": "code",
      "execution_count": 1,
      "metadata": {
        "id": "h4IxqBpNdxtM"
      },
      "outputs": [],
      "source": [
        "import unittest\n",
        "tc = unittest.TestCase()"
      ]
    },
    {
      "cell_type": "markdown",
      "metadata": {
        "id": "idmfpz-4dxtN"
      },
      "source": [
        "#### 👇 Tasks\n",
        "\n",
        "- ✔️ Import the following Python packages.\n",
        "    1. `pandas`: Use alias `pd`.\n",
        "    2. `numpy`: Use alias `np`."
      ]
    },
    {
      "cell_type": "code",
      "execution_count": 2,
      "metadata": {
        "id": "FhImrAevdxtN"
      },
      "outputs": [],
      "source": [
        "# YOUR CODE BEGINS\n",
        "import pandas as pd\n",
        "import numpy as np\n",
        "# YOUR CODE ENDS"
      ]
    },
    {
      "cell_type": "markdown",
      "metadata": {
        "id": "togniVvudxtN"
      },
      "source": [
        "#### 🧭 Check your work\n",
        "\n",
        "- Once you're done, run the code cell below to test correctness.\n",
        "- ✔️ If the code cell runs without an error, you're good to move on.\n",
        "- ❌ If the code cell throws an error, go back and fix incorrect parts."
      ]
    },
    {
      "cell_type": "code",
      "execution_count": 3,
      "metadata": {
        "id": "YQ84e7z7dxtO"
      },
      "outputs": [],
      "source": [
        "import sys\n",
        "tc.assertTrue(\"pd\" in globals(), \"Check whether you have correctly import Pandas with an alias.\")\n",
        "tc.assertTrue(\"np\" in globals(), \"Check whether you have correctly import NumPy with an alias.\")"
      ]
    },
    {
      "cell_type": "markdown",
      "metadata": {
        "id": "6Xx8HRWtdxtO"
      },
      "source": [
        "---\n",
        "\n",
        "### 📌 Load data"
      ]
    },
    {
      "cell_type": "markdown",
      "metadata": {
        "id": "lkXPpOIVdxtO"
      },
      "source": [
        "▶️ Run the code cell below to create a new `DataFrame` named `df_emp`."
      ]
    },
    {
      "cell_type": "code",
      "execution_count": 4,
      "metadata": {
        "colab": {
          "base_uri": "https://localhost:8080/",
          "height": 173
        },
        "id": "a8Wo1ugCdxtO",
        "outputId": "de587505-526f-4b57-8f76-4d3c11aff26c"
      },
      "outputs": [
        {
          "output_type": "execute_result",
          "data": {
            "text/plain": [
              "   emp_id   name       dept   office_phone  start_date  salary\n",
              "0      30  Colby      Sales  (217)123-4500  2017-05-01  202000\n",
              "1      40   Adam  Marketing            NaN  2018-02-01  185000\n",
              "2      10    Eli      Sales            NaN  2020-08-01  240000\n",
              "3      20  Dylan  Marketing  (217)987-6543  2019-12-01  160500"
            ],
            "text/html": [
              "\n",
              "  <div id=\"df-5f6bd670-7ad7-44f8-aa12-40dda520bc71\">\n",
              "    <div class=\"colab-df-container\">\n",
              "      <div>\n",
              "<style scoped>\n",
              "    .dataframe tbody tr th:only-of-type {\n",
              "        vertical-align: middle;\n",
              "    }\n",
              "\n",
              "    .dataframe tbody tr th {\n",
              "        vertical-align: top;\n",
              "    }\n",
              "\n",
              "    .dataframe thead th {\n",
              "        text-align: right;\n",
              "    }\n",
              "</style>\n",
              "<table border=\"1\" class=\"dataframe\">\n",
              "  <thead>\n",
              "    <tr style=\"text-align: right;\">\n",
              "      <th></th>\n",
              "      <th>emp_id</th>\n",
              "      <th>name</th>\n",
              "      <th>dept</th>\n",
              "      <th>office_phone</th>\n",
              "      <th>start_date</th>\n",
              "      <th>salary</th>\n",
              "    </tr>\n",
              "  </thead>\n",
              "  <tbody>\n",
              "    <tr>\n",
              "      <th>0</th>\n",
              "      <td>30</td>\n",
              "      <td>Colby</td>\n",
              "      <td>Sales</td>\n",
              "      <td>(217)123-4500</td>\n",
              "      <td>2017-05-01</td>\n",
              "      <td>202000</td>\n",
              "    </tr>\n",
              "    <tr>\n",
              "      <th>1</th>\n",
              "      <td>40</td>\n",
              "      <td>Adam</td>\n",
              "      <td>Marketing</td>\n",
              "      <td>NaN</td>\n",
              "      <td>2018-02-01</td>\n",
              "      <td>185000</td>\n",
              "    </tr>\n",
              "    <tr>\n",
              "      <th>2</th>\n",
              "      <td>10</td>\n",
              "      <td>Eli</td>\n",
              "      <td>Sales</td>\n",
              "      <td>NaN</td>\n",
              "      <td>2020-08-01</td>\n",
              "      <td>240000</td>\n",
              "    </tr>\n",
              "    <tr>\n",
              "      <th>3</th>\n",
              "      <td>20</td>\n",
              "      <td>Dylan</td>\n",
              "      <td>Marketing</td>\n",
              "      <td>(217)987-6543</td>\n",
              "      <td>2019-12-01</td>\n",
              "      <td>160500</td>\n",
              "    </tr>\n",
              "  </tbody>\n",
              "</table>\n",
              "</div>\n",
              "      <button class=\"colab-df-convert\" onclick=\"convertToInteractive('df-5f6bd670-7ad7-44f8-aa12-40dda520bc71')\"\n",
              "              title=\"Convert this dataframe to an interactive table.\"\n",
              "              style=\"display:none;\">\n",
              "        \n",
              "  <svg xmlns=\"http://www.w3.org/2000/svg\" height=\"24px\"viewBox=\"0 0 24 24\"\n",
              "       width=\"24px\">\n",
              "    <path d=\"M0 0h24v24H0V0z\" fill=\"none\"/>\n",
              "    <path d=\"M18.56 5.44l.94 2.06.94-2.06 2.06-.94-2.06-.94-.94-2.06-.94 2.06-2.06.94zm-11 1L8.5 8.5l.94-2.06 2.06-.94-2.06-.94L8.5 2.5l-.94 2.06-2.06.94zm10 10l.94 2.06.94-2.06 2.06-.94-2.06-.94-.94-2.06-.94 2.06-2.06.94z\"/><path d=\"M17.41 7.96l-1.37-1.37c-.4-.4-.92-.59-1.43-.59-.52 0-1.04.2-1.43.59L10.3 9.45l-7.72 7.72c-.78.78-.78 2.05 0 2.83L4 21.41c.39.39.9.59 1.41.59.51 0 1.02-.2 1.41-.59l7.78-7.78 2.81-2.81c.8-.78.8-2.07 0-2.86zM5.41 20L4 18.59l7.72-7.72 1.47 1.35L5.41 20z\"/>\n",
              "  </svg>\n",
              "      </button>\n",
              "      \n",
              "  <style>\n",
              "    .colab-df-container {\n",
              "      display:flex;\n",
              "      flex-wrap:wrap;\n",
              "      gap: 12px;\n",
              "    }\n",
              "\n",
              "    .colab-df-convert {\n",
              "      background-color: #E8F0FE;\n",
              "      border: none;\n",
              "      border-radius: 50%;\n",
              "      cursor: pointer;\n",
              "      display: none;\n",
              "      fill: #1967D2;\n",
              "      height: 32px;\n",
              "      padding: 0 0 0 0;\n",
              "      width: 32px;\n",
              "    }\n",
              "\n",
              "    .colab-df-convert:hover {\n",
              "      background-color: #E2EBFA;\n",
              "      box-shadow: 0px 1px 2px rgba(60, 64, 67, 0.3), 0px 1px 3px 1px rgba(60, 64, 67, 0.15);\n",
              "      fill: #174EA6;\n",
              "    }\n",
              "\n",
              "    [theme=dark] .colab-df-convert {\n",
              "      background-color: #3B4455;\n",
              "      fill: #D2E3FC;\n",
              "    }\n",
              "\n",
              "    [theme=dark] .colab-df-convert:hover {\n",
              "      background-color: #434B5C;\n",
              "      box-shadow: 0px 1px 3px 1px rgba(0, 0, 0, 0.15);\n",
              "      filter: drop-shadow(0px 1px 2px rgba(0, 0, 0, 0.3));\n",
              "      fill: #FFFFFF;\n",
              "    }\n",
              "  </style>\n",
              "\n",
              "      <script>\n",
              "        const buttonEl =\n",
              "          document.querySelector('#df-5f6bd670-7ad7-44f8-aa12-40dda520bc71 button.colab-df-convert');\n",
              "        buttonEl.style.display =\n",
              "          google.colab.kernel.accessAllowed ? 'block' : 'none';\n",
              "\n",
              "        async function convertToInteractive(key) {\n",
              "          const element = document.querySelector('#df-5f6bd670-7ad7-44f8-aa12-40dda520bc71');\n",
              "          const dataTable =\n",
              "            await google.colab.kernel.invokeFunction('convertToInteractive',\n",
              "                                                     [key], {});\n",
              "          if (!dataTable) return;\n",
              "\n",
              "          const docLinkHtml = 'Like what you see? Visit the ' +\n",
              "            '<a target=\"_blank\" href=https://colab.research.google.com/notebooks/data_table.ipynb>data table notebook</a>'\n",
              "            + ' to learn more about interactive tables.';\n",
              "          element.innerHTML = '';\n",
              "          dataTable['output_type'] = 'display_data';\n",
              "          await google.colab.output.renderOutput(dataTable, element);\n",
              "          const docLink = document.createElement('div');\n",
              "          docLink.innerHTML = docLinkHtml;\n",
              "          element.appendChild(docLink);\n",
              "        }\n",
              "      </script>\n",
              "    </div>\n",
              "  </div>\n",
              "  "
            ]
          },
          "metadata": {},
          "execution_count": 4
        }
      ],
      "source": [
        "# DO NOT CHANGE THE CODE IN THIS CELL\n",
        "df_emp = pd.DataFrame({\n",
        "    \"emp_id\": [30, 40, 10, 20],\n",
        "    \"name\": [\"Colby\", \"Adam\", \"Eli\", \"Dylan\"],\n",
        "    \"dept\": [\"Sales\", \"Marketing\", \"Sales\", \"Marketing\"],\n",
        "    \"office_phone\": [\"(217)123-4500\", np.nan, np.nan, \"(217)987-6543\"],\n",
        "    \"start_date\": [\"2017-05-01\", \"2018-02-01\", \"2020-08-01\", \"2019-12-01\"],\n",
        "    \"salary\": [202000, 185000, 240000, 160500]\n",
        "})\n",
        "\n",
        "# Used for intermediate checks\n",
        "df_emp_backup = df_emp.copy()\n",
        "\n",
        "df_emp"
      ]
    },
    {
      "cell_type": "markdown",
      "metadata": {
        "id": "SKIyjHqidxtP"
      },
      "source": [
        "---\n",
        "\n",
        "## 👉 Sorting by Column(s) Recap\n",
        "\n",
        "You can sort a `DataFrame` using `df.sort_values()`.\n",
        "\n",
        "![sort_values usage](https://github.com/bdi475/images/blob/main/pandas/sort-values-01.png?raw=true)"
      ]
    },
    {
      "cell_type": "markdown",
      "metadata": {
        "id": "6u8JlZyKdxtP"
      },
      "source": [
        "---\n",
        "\n",
        "### 🎯 Challenge 1: Sort by `emp_id` ascending\n",
        "\n",
        "#### 👇 Tasks\n",
        "\n",
        "- ✔️ Sort `df_emp` by `emp_id` in **ascending** order.\n",
        "    - Store the result to a new variable named `df_id_asc`.\n",
        "- ✔️ `df_emp` should remain unaltered after your code.\n",
        "\n",
        "#### 🚀 Hints\n",
        "\n",
        "The code below sorts `my_dataframe` by `some_column` in ascending order and stores the sorted `DataFrame` to a new variable `sorted_dataframe`.\n",
        "\n",
        "```python\n",
        "sorted_dataframe = my_dataframe.sort_values(\"some_column\")\n",
        "```"
      ]
    },
    {
      "cell_type": "markdown",
      "metadata": {
        "id": "ttlaG5oYdxtQ"
      },
      "source": [
        "▶️ Run the code cell below to reset your `df_emp`."
      ]
    },
    {
      "cell_type": "code",
      "execution_count": null,
      "metadata": {
        "id": "BfohCFMOdxtQ"
      },
      "outputs": [],
      "source": [
        "df_emp = df_emp_backup.copy()\n",
        "df_emp"
      ]
    },
    {
      "cell_type": "code",
      "execution_count": null,
      "metadata": {
        "id": "ayPGRKd5dxtQ"
      },
      "outputs": [],
      "source": [
        "# YOUR CODE BEGINS\n",
        "# YOUR CODE ENDS\n",
        "df_id_asc"
      ]
    },
    {
      "cell_type": "markdown",
      "metadata": {
        "id": "FwnsO4eJdxtQ"
      },
      "source": [
        "#### 🧭 Check Your Work\n",
        "\n",
        "- Once you're done, run the code cell below to test correctness.\n",
        "- ✔️ If the code cell runs without an error, you're good to move on.\n",
        "- ❌ If the code cell throws an error, go back and fix incorrect parts."
      ]
    },
    {
      "cell_type": "code",
      "execution_count": null,
      "metadata": {
        "id": "YnK3Qwo5dxtR",
        "nbgrader": {
          "grade": true,
          "grade_id": "challenge-01",
          "locked": true,
          "points": "1",
          "solution": false
        }
      },
      "outputs": [],
      "source": [
        "# Challenge 1 Autograder\n",
        "pd.testing.assert_frame_equal(df_id_asc.reset_index(drop=True),\n",
        "                              df_emp_backup.sort_values(\"_\".join([\"EmP\", \"iD\"]).lower()).reset_index(drop=True))"
      ]
    },
    {
      "cell_type": "markdown",
      "metadata": {
        "id": "I8dCC3dNdxtR"
      },
      "source": [
        "---\n",
        "\n",
        "### 🎯 Challenge 2: Sort by `emp_id` descending\n",
        "\n",
        "#### 👇 Tasks\n",
        "\n",
        "- ✔️ Sort `df_emp` by `emp_id` in **descending** order.\n",
        "    - Store the result to a new variable named `df_id_desc`.\n",
        "- ✔️ `df_emp` should remain unaltered after your code.\n",
        "\n",
        "#### 🚀 Hints\n",
        "\n",
        "The code below sorts `my_dataframe` by `some_column` in descending order and stores the sorted `DataFrame` to a new variable `sorted_dataframe`.\n",
        "\n",
        "```python\n",
        "sorted_dataframe = my_dataframe.sort_values(\"some_column\", ascending=False)\n",
        "```"
      ]
    },
    {
      "cell_type": "markdown",
      "metadata": {
        "id": "0d66ErnzdxtR"
      },
      "source": [
        "▶️ Run the code cell below to reset your `df_emp`."
      ]
    },
    {
      "cell_type": "code",
      "execution_count": null,
      "metadata": {
        "id": "faVzX0WydxtS"
      },
      "outputs": [],
      "source": [
        "df_emp = df_emp_backup.copy()\n",
        "df_emp"
      ]
    },
    {
      "cell_type": "code",
      "execution_count": null,
      "metadata": {
        "id": "Bu0dsJCEdxtS"
      },
      "outputs": [],
      "source": [
        "# YOUR CODE BEGINS\n",
        "# YOUR CODE ENDS\n",
        "df_id_desc"
      ]
    },
    {
      "cell_type": "markdown",
      "metadata": {
        "id": "SnHFAJIXdxtS"
      },
      "source": [
        "#### 🧭 Check Your Work\n",
        "\n",
        "- Once you're done, run the code cell below to test correctness.\n",
        "- ✔️ If the code cell runs without an error, you're good to move on.\n",
        "- ❌ If the code cell throws an error, go back and fix incorrect parts."
      ]
    },
    {
      "cell_type": "code",
      "execution_count": null,
      "metadata": {
        "id": "PnlkN-rPdxtT",
        "nbgrader": {
          "grade": true,
          "grade_id": "challenge-02",
          "locked": true,
          "points": "1",
          "solution": false
        }
      },
      "outputs": [],
      "source": [
        "# Challenge 2 Autograder\n",
        "pd.testing.assert_frame_equal(df_id_desc.reset_index(drop=True),\n",
        "                              df_emp_backup.sort_values(\"_\".join([\"EmP\", \"iD\"]).lower(), ascending=bool(0)).reset_index(drop=True))"
      ]
    },
    {
      "cell_type": "markdown",
      "metadata": {
        "id": "T1qE36lqdxtT"
      },
      "source": [
        "---\n",
        "\n",
        "### 🎯 Challenge 3: Sort by `name` ascending\n",
        "\n",
        "#### 👇 Tasks\n",
        "\n",
        "- ✔️ Sort `df_emp` by `name` in **ascending** order.\n",
        "    - Store the result to a new variable named `df_name_asc`.\n",
        "- ✔️ `df_emp` should remain unaltered after your code.\n",
        "\n",
        "#### 🚀 Hints\n",
        "\n",
        "The code below sorts `my_dataframe` by `some_column` in ascending order and stores the sorted `DataFrame` to a new variable `sorted_dataframe`.\n",
        "\n",
        "```python\n",
        "sorted_dataframe = my_dataframe.sort_values(\"some_column\")\n",
        "```"
      ]
    },
    {
      "cell_type": "markdown",
      "metadata": {
        "id": "XwlvJZTedxtT"
      },
      "source": [
        "▶️ Run the code cell below to reset your `df_emp`."
      ]
    },
    {
      "cell_type": "code",
      "execution_count": null,
      "metadata": {
        "id": "xiUaoPiadxtT"
      },
      "outputs": [],
      "source": [
        "df_emp = df_emp_backup.copy()\n",
        "df_emp"
      ]
    },
    {
      "cell_type": "code",
      "execution_count": null,
      "metadata": {
        "id": "456cgBHGdxtU"
      },
      "outputs": [],
      "source": [
        "# YOUR CODE BEGINS\n",
        "# YOUR CODE ENDS\n",
        "df_name_asc"
      ]
    },
    {
      "cell_type": "markdown",
      "metadata": {
        "id": "zLU99CmIdxtU"
      },
      "source": [
        "#### 🧭 Check Your Work\n",
        "\n",
        "- Once you're done, run the code cell below to test correctness.\n",
        "- ✔️ If the code cell runs without an error, you're good to move on.\n",
        "- ❌ If the code cell throws an error, go back and fix incorrect parts."
      ]
    },
    {
      "cell_type": "code",
      "execution_count": null,
      "metadata": {
        "id": "jWusT6CbdxtU",
        "nbgrader": {
          "grade": true,
          "grade_id": "challenge-03",
          "locked": true,
          "points": "1",
          "solution": false
        }
      },
      "outputs": [],
      "source": [
        "# Challenge 3 Autograder\n",
        "pd.testing.assert_frame_equal(df_name_asc.reset_index(drop=True),\n",
        "                              df_emp_backup.sort_values(\"\".join([\"nA\", \"Me\"]).lower()).reset_index(drop=True))"
      ]
    },
    {
      "cell_type": "markdown",
      "metadata": {
        "id": "C_1xrz-ldxtU"
      },
      "source": [
        "---\n",
        "\n",
        "### 🎯 Challenge 4: Sort by `name` descending\n",
        "\n",
        "#### 👇 Tasks\n",
        "\n",
        "- ✔️ Sort `df_emp` by `name` in **descending** order.\n",
        "    - Store the result to a new variable named `df_name_desc`.\n",
        "- ✔️ `df_emp` should remain unaltered after your code.\n",
        "\n",
        "#### 🚀 Hints\n",
        "\n",
        "The code below sorts `my_dataframe` by `some_column` in ascending order and stores the sorted `DataFrame` to a new variable `sorted_dataframe`.\n",
        "\n",
        "```python\n",
        "sorted_dataframe = my_dataframe.sort_values(\"some_column\")\n",
        "```"
      ]
    },
    {
      "cell_type": "markdown",
      "metadata": {
        "id": "bxH5Bk9ldxtV"
      },
      "source": [
        "▶️ Run the code cell below to reset your `df_emp`."
      ]
    },
    {
      "cell_type": "code",
      "execution_count": null,
      "metadata": {
        "id": "-G30cyK6dxtV"
      },
      "outputs": [],
      "source": [
        "df_emp = df_emp_backup.copy()\n",
        "df_emp"
      ]
    },
    {
      "cell_type": "code",
      "execution_count": null,
      "metadata": {
        "id": "_46Rp7E7dxtV"
      },
      "outputs": [],
      "source": [
        "# YOUR CODE BEGINS\n",
        "# YOUR CODE ENDS\n",
        "df_name_desc"
      ]
    },
    {
      "cell_type": "markdown",
      "metadata": {
        "id": "VTTuTEEcdxtV"
      },
      "source": [
        "#### 🧭 Check Your Work\n",
        "\n",
        "- Once you're done, run the code cell below to test correctness.\n",
        "- ✔️ If the code cell runs without an error, you're good to move on.\n",
        "- ❌ If the code cell throws an error, go back and fix incorrect parts."
      ]
    },
    {
      "cell_type": "code",
      "execution_count": null,
      "metadata": {
        "id": "p-cehg_NdxtW",
        "nbgrader": {
          "grade": true,
          "grade_id": "challenge-04",
          "locked": true,
          "points": "1",
          "solution": false
        }
      },
      "outputs": [],
      "source": [
        "# Challenge 4 Autograder\n",
        "pd.testing.assert_frame_equal(df_name_desc.reset_index(drop=True),\n",
        "                              df_emp_backup.sort_values(\"\".join([\"nA\", \"Me\"]).lower(), ascending=bool(0)).reset_index(drop=True))"
      ]
    },
    {
      "cell_type": "markdown",
      "metadata": {
        "id": "NLqGf3X-dxtW"
      },
      "source": [
        "---\n",
        "\n",
        "### 🎯 Challenge 5: Sort by `dept` descending and then by `start_date` ascending\n",
        "\n",
        "#### 👇 Tasks\n",
        "\n",
        "- ✔️ Sort `df_emp` by `dept` in **descending** order and then by `start_date` in **ascending** order for people within same departments.\n",
        "- ✔️ Store the sorted result to a new variable named `df_dept_desc_date_asc`.\n",
        "- ✔️ `df_emp` should remain unaltered after your code.\n",
        "\n",
        "#### 🚀 Hints\n",
        "\n",
        "The code below sorts `my_dataframe` by `some_column` in ascending order and then by `another_column` in descending order for rows with same `same_column` values. It stores the sorted `DataFrame` to a new variable named `sorted_dataframe`.\n",
        "\n",
        "```python\n",
        "sorted_dataframe = my_dataframe.sort_values([\"some_column\", \"another_column\"], ascending=[True, False])\n",
        "```"
      ]
    },
    {
      "cell_type": "markdown",
      "metadata": {
        "id": "KTwlFjPhdxtW"
      },
      "source": [
        "▶️ Run the code cell below to reset your `df_emp`."
      ]
    },
    {
      "cell_type": "code",
      "execution_count": null,
      "metadata": {
        "id": "fhlZYDY7dxtW"
      },
      "outputs": [],
      "source": [
        "df_emp = df_emp_backup.copy()\n",
        "df_emp"
      ]
    },
    {
      "cell_type": "code",
      "execution_count": null,
      "metadata": {
        "id": "z33VKI-GdxtX"
      },
      "outputs": [],
      "source": [
        "# YOUR CODE BEGINS\n",
        "# YOUR CODE ENDS\n",
        "df_dept_desc_date_asc"
      ]
    },
    {
      "cell_type": "markdown",
      "metadata": {
        "id": "JDsfs9QNdxtX"
      },
      "source": [
        "#### 🧭 Check Your Work\n",
        "\n",
        "- Once you're done, run the code cell below to test correctness.\n",
        "- ✔️ If the code cell runs without an error, you're good to move on.\n",
        "- ❌ If the code cell throws an error, go back and fix incorrect parts."
      ]
    },
    {
      "cell_type": "code",
      "execution_count": null,
      "metadata": {
        "id": "jxem6OeOdxtX",
        "nbgrader": {
          "grade": true,
          "grade_id": "challenge-05",
          "locked": true,
          "points": "1",
          "solution": false
        }
      },
      "outputs": [],
      "source": [
        "# Challenge 5 Autograder\n",
        "pd.testing.assert_frame_equal(df_dept_desc_date_asc.reset_index(drop=True),\n",
        "                              df_emp_backup.sort_values([\"\".join([\"dE\", \"Pt\"]).lower(), \"_\".join([\"sTarT\", \"dAtE\"]).lower()], ascending=[bool(0), bool(1)]).reset_index(drop=True))"
      ]
    },
    {
      "cell_type": "markdown",
      "metadata": {
        "id": "94nWbHICdxtY"
      },
      "source": [
        "---\n",
        "\n",
        "### 🎯 Challenge 6: Sort by `dept` ascending and then by `salary` descending\n",
        "\n",
        "#### 👇 Tasks\n",
        "\n",
        "- ✔️ Sort `df_emp` by `dept` in **ascending** order and then by `salary` in **descending** order.\n",
        "    - Employees within a same department must be sorted by `salary` in descending order.\n",
        "    - Store the result to a new variable named `df_dept_asc_salary_desc`.\n",
        "- ✔️ `df_emp` should remain unaltered after your code.\n",
        "\n",
        "▶️ Run the code cell below to reset your `df_emp`."
      ]
    },
    {
      "cell_type": "code",
      "execution_count": null,
      "metadata": {
        "id": "jtpXeDH4dxtY"
      },
      "outputs": [],
      "source": [
        "df_emp = df_emp_backup.copy()\n",
        "df_emp"
      ]
    },
    {
      "cell_type": "code",
      "execution_count": null,
      "metadata": {
        "id": "AJwXJhSHdxtY"
      },
      "outputs": [],
      "source": [
        "# YOUR CODE BEGINS\n",
        "# YOUR CODE ENDS\n",
        "df_dept_asc_salary_desc"
      ]
    },
    {
      "cell_type": "markdown",
      "metadata": {
        "id": "VXdKlVnQdxtY"
      },
      "source": [
        "#### 🧭 Check Your Work\n",
        "\n",
        "- Once you're done, run the code cell below to test correctness.\n",
        "- ✔️ If the code cell runs without an error, you're good to move on.\n",
        "- ❌ If the code cell throws an error, go back and fix incorrect parts."
      ]
    },
    {
      "cell_type": "code",
      "execution_count": null,
      "metadata": {
        "id": "baIehUbpdxtY",
        "nbgrader": {
          "grade": true,
          "grade_id": "challenge-06",
          "locked": true,
          "points": "1",
          "solution": false
        }
      },
      "outputs": [],
      "source": [
        "# Challenge 6 Autograder\n",
        "pd.testing.assert_frame_equal(df_dept_asc_salary_desc.reset_index(drop=True),\n",
        "                              df_emp_backup.sort_values([\"\".join([\"dE\", \"Pt\"]).lower(), \"sAlArY\".lower()], ascending=[bool(1), bool(0)]).reset_index(drop=True))"
      ]
    },
    {
      "cell_type": "markdown",
      "metadata": {
        "id": "bxgEkco6dxtZ"
      },
      "source": [
        "---\n",
        "\n",
        "### 🎯 Challenge 7: Sort by `salary` descending in-place\n",
        "\n",
        "#### 👇 Tasks\n",
        "\n",
        "- ✔️ Sort `df_emp` by `salary` in **descending** order *in-place*.\n",
        "    - Directly update `df_emp` without creating a new variable.\n",
        "    \n",
        "#### 🚀 Hints\n",
        "\n",
        "The code below sorts `my_dataframe` by `some_column` in descending order *in-place*.\n",
        "\n",
        "```python\n",
        "my_dataframe.sort_values(\"some_column\", ascending=False, inplace=True)\n",
        "```"
      ]
    },
    {
      "cell_type": "markdown",
      "metadata": {
        "id": "mViYuYhKdxtZ"
      },
      "source": [
        "▶️ Run the code cell below to reset your `df_emp`."
      ]
    },
    {
      "cell_type": "code",
      "execution_count": null,
      "metadata": {
        "id": "F2f7d0XEdxtZ"
      },
      "outputs": [],
      "source": [
        "df_emp = df_emp_backup.copy()\n",
        "df_emp"
      ]
    },
    {
      "cell_type": "code",
      "execution_count": null,
      "metadata": {
        "id": "4rOc85uudxtZ"
      },
      "outputs": [],
      "source": [
        "# YOUR CODE BEGINS\n",
        "# YOUR CODE ENDS\n",
        "df_emp"
      ]
    },
    {
      "cell_type": "markdown",
      "metadata": {
        "id": "-jVoOHlodxta"
      },
      "source": [
        "#### 🧭 Check Your Work\n",
        "\n",
        "- Once you're done, run the code cell below to test correctness.\n",
        "- ✔️ If the code cell runs without an error, you're good to move on.\n",
        "- ❌ If the code cell throws an error, go back and fix incorrect parts."
      ]
    },
    {
      "cell_type": "code",
      "execution_count": null,
      "metadata": {
        "id": "mPfgWwLxdxta",
        "nbgrader": {
          "grade": true,
          "grade_id": "challenge-07",
          "locked": true,
          "points": "1",
          "solution": false
        }
      },
      "outputs": [],
      "source": [
        "# Challenge 7 Autograder\n",
        "pd.testing.assert_frame_equal(df_emp.reset_index(drop=True),\n",
        "                              df_emp_backup.sort_values(\"\".join([\"sAl\", \"aRy\"]).lower(), ascending=bool(0)).reset_index(drop=True))"
      ]
    },
    {
      "cell_type": "markdown",
      "metadata": {
        "id": "4hykWQyBdxta"
      },
      "source": [
        "---\n",
        "\n",
        "### 🎯 Challenge 8: Sort by `department` and `name` both descending in-place\n",
        "\n",
        "#### 👇 Tasks\n",
        "\n",
        "- ✔️ Sort `df_emp` by `dept` and then by `name` for employees in the same department.\n",
        "    - Sort in **descending** orders for both columns *in-place*.\n",
        "    - Directly update `df_emp` without creating a new variable.\n",
        "    \n",
        "#### 🚀 Hints\n",
        "\n",
        "The code below sorts `my_dataframe` by `some_column` and `another_column` in descending order *in-place*.\n",
        "\n",
        "```python\n",
        "my_dataframe.sort_values([\"some_column\", \"another_column\"], ascending=[False, False], inplace=True)\n",
        "```"
      ]
    },
    {
      "cell_type": "markdown",
      "metadata": {
        "id": "njswLbOxdxta"
      },
      "source": [
        "▶️ Run the code cell below to reset your `df_emp`."
      ]
    },
    {
      "cell_type": "code",
      "execution_count": null,
      "metadata": {
        "id": "M5Pv3k7Sdxtb"
      },
      "outputs": [],
      "source": [
        "df_emp = df_emp_backup.copy()\n",
        "df_emp"
      ]
    },
    {
      "cell_type": "code",
      "execution_count": null,
      "metadata": {
        "id": "GxOHmUX6dxtb"
      },
      "outputs": [],
      "source": [
        "# YOUR CODE BEGINS\n",
        "# YOUR CODE ENDS\n",
        "df_emp"
      ]
    },
    {
      "cell_type": "markdown",
      "metadata": {
        "id": "oXYe2ZMGdxtb"
      },
      "source": [
        "#### 🧭 Check Your Work\n",
        "\n",
        "- Once you're done, run the code cell below to test correctness.\n",
        "- ✔️ If the code cell runs without an error, you're good to move on.\n",
        "- ❌ If the code cell throws an error, go back and fix incorrect parts."
      ]
    },
    {
      "cell_type": "code",
      "execution_count": null,
      "metadata": {
        "id": "665n8kvGdxtb",
        "nbgrader": {
          "grade": true,
          "grade_id": "challenge-08",
          "locked": true,
          "points": "1",
          "solution": false
        }
      },
      "outputs": [],
      "source": [
        "# Challenge 8 Autograder\n",
        "pd.testing.assert_frame_equal(df_emp.reset_index(drop=True),\n",
        "                              df_emp_backup.sort_values([\"\".join([\"dE\", \"Pt\"]).lower(), (\"nA\" + \"Me\").lower()], ascending=[bool(0), bool(0)]).reset_index(drop=True))"
      ]
    },
    {
      "cell_type": "markdown",
      "metadata": {
        "id": "pBpqGW4Qdxtc"
      },
      "source": [
        "---\n",
        "\n",
        "## 👉 Pandas Data Types\n",
        "\n",
        "Most of Pandas data types stems from NumPy's dtypes. NumPy supports the following data types:\n",
        "\n",
        "- `float`\n",
        "- `int`\n",
        "- `bool`\n",
        "- `timedelta64[ns]`\n",
        "- `datetime64[ns]`\n",
        "\n",
        "Pandas extend NumPy's type systems. Please refer to the [relevant Pandas documentation page](https://pandas.pydata.org/docs/user_guide/basics.html#dtypes) for the list of all extension types."
      ]
    },
    {
      "cell_type": "markdown",
      "metadata": {
        "id": "jx9Fuxrodxtc"
      },
      "source": [
        "You can check the data types of each column using the `dtypes` property."
      ]
    },
    {
      "cell_type": "code",
      "execution_count": 5,
      "metadata": {
        "colab": {
          "base_uri": "https://localhost:8080/"
        },
        "id": "o96fg8-9dxtc",
        "outputId": "4da302c8-f2a5-42db-dd66-02de56e0513f"
      },
      "outputs": [
        {
          "output_type": "execute_result",
          "data": {
            "text/plain": [
              "emp_id           int64\n",
              "name            object\n",
              "dept            object\n",
              "office_phone    object\n",
              "start_date      object\n",
              "salary           int64\n",
              "dtype: object"
            ]
          },
          "metadata": {},
          "execution_count": 5
        }
      ],
      "source": [
        "df_emp.dtypes"
      ]
    },
    {
      "cell_type": "markdown",
      "metadata": {
        "id": "RZ8AAme0dxtc"
      },
      "source": [
        "To retrieve the data type of a `Series`, access the `dtype` property."
      ]
    },
    {
      "cell_type": "code",
      "execution_count": null,
      "metadata": {
        "id": "zQ5YRApQdxtc"
      },
      "outputs": [],
      "source": [
        "str(df_emp['name'].dtype)"
      ]
    },
    {
      "cell_type": "markdown",
      "metadata": {
        "id": "I3OQ0n9Fdxtd"
      },
      "source": [
        "Note that the older versions of Pandas did not have an explicit `string` type and stored strings as `object`s.\n",
        "\n",
        "Beginning with Pandas `1.0.0`, Pandas supports an explicit type for strings called `StringDtype`."
      ]
    },
    {
      "cell_type": "code",
      "execution_count": null,
      "metadata": {
        "id": "Nd5i0g2qdxtd"
      },
      "outputs": [],
      "source": [
        "(df_emp['name'].astype('string')).dtype"
      ]
    },
    {
      "cell_type": "markdown",
      "metadata": {
        "id": "GfgfDjHFdxtd"
      },
      "source": [
        "---\n",
        "\n",
        "## 👉 Renaming Column(s)\n",
        "\n",
        "You can rename a column using `df.rename(columns={\"name_before\": \"name_after\"})`. Similar to many Pandas operations, you can perform a rename operation either in-place or out-of-place.\n",
        "\n",
        "```python\n",
        "# Rename a column and return a new DataFrame without modifying the original\n",
        "# df's column names will remain unchanged\n",
        "df_renamed = df.rename(columns={\"name_before\": \"name_after\"})\n",
        "\n",
        "# Rename a column and update the original DataFrame\n",
        "df.rename(columns={\"name_before\": \"name_after\"}, inplace=True)\n",
        "```"
      ]
    },
    {
      "cell_type": "markdown",
      "metadata": {
        "id": "i52-gE8zdxtd"
      },
      "source": [
        "---\n",
        "\n",
        "### 🎯 Challenge 9: Rename `office_phone` to `phone_num`\n",
        "\n",
        "#### 👇 Tasks\n",
        "\n",
        "- ✔️ Rename `office_phone` column to `phone_num`.\n",
        "- ✔️ Store the result to a new variable named `df_renamed`.\n",
        "- ✔️ Your original DataFrame (`df_emp`) should remain unaltered.\n",
        "\n",
        "#### 🚀 Hints\n",
        "\n",
        "Use the following code to rename `col_before` column to `col_after` *out-of-place*.\n",
        "\n",
        "```python\n",
        "renamed_dataframe = my_dataframe.rename(columns={\"col_before\": \"col_after\"})\n",
        "```"
      ]
    },
    {
      "cell_type": "markdown",
      "metadata": {
        "id": "a8v1LUSzdxtd"
      },
      "source": [
        "▶️ Run the code cell below to reset your `df_emp`."
      ]
    },
    {
      "cell_type": "code",
      "execution_count": 10,
      "metadata": {
        "colab": {
          "base_uri": "https://localhost:8080/",
          "height": 173
        },
        "id": "ZOgo2dHydxte",
        "outputId": "027db893-2f59-4064-f73d-cf5fd806efc8"
      },
      "outputs": [
        {
          "output_type": "execute_result",
          "data": {
            "text/plain": [
              "   emp_id   name       dept   office_phone  start_date  salary\n",
              "0      30  Colby      Sales  (217)123-4500  2017-05-01  202000\n",
              "1      40   Adam  Marketing            NaN  2018-02-01  185000\n",
              "2      10    Eli      Sales            NaN  2020-08-01  240000\n",
              "3      20  Dylan  Marketing  (217)987-6543  2019-12-01  160500"
            ],
            "text/html": [
              "\n",
              "  <div id=\"df-19136966-3750-4fac-be0f-92ceecc4d960\">\n",
              "    <div class=\"colab-df-container\">\n",
              "      <div>\n",
              "<style scoped>\n",
              "    .dataframe tbody tr th:only-of-type {\n",
              "        vertical-align: middle;\n",
              "    }\n",
              "\n",
              "    .dataframe tbody tr th {\n",
              "        vertical-align: top;\n",
              "    }\n",
              "\n",
              "    .dataframe thead th {\n",
              "        text-align: right;\n",
              "    }\n",
              "</style>\n",
              "<table border=\"1\" class=\"dataframe\">\n",
              "  <thead>\n",
              "    <tr style=\"text-align: right;\">\n",
              "      <th></th>\n",
              "      <th>emp_id</th>\n",
              "      <th>name</th>\n",
              "      <th>dept</th>\n",
              "      <th>office_phone</th>\n",
              "      <th>start_date</th>\n",
              "      <th>salary</th>\n",
              "    </tr>\n",
              "  </thead>\n",
              "  <tbody>\n",
              "    <tr>\n",
              "      <th>0</th>\n",
              "      <td>30</td>\n",
              "      <td>Colby</td>\n",
              "      <td>Sales</td>\n",
              "      <td>(217)123-4500</td>\n",
              "      <td>2017-05-01</td>\n",
              "      <td>202000</td>\n",
              "    </tr>\n",
              "    <tr>\n",
              "      <th>1</th>\n",
              "      <td>40</td>\n",
              "      <td>Adam</td>\n",
              "      <td>Marketing</td>\n",
              "      <td>NaN</td>\n",
              "      <td>2018-02-01</td>\n",
              "      <td>185000</td>\n",
              "    </tr>\n",
              "    <tr>\n",
              "      <th>2</th>\n",
              "      <td>10</td>\n",
              "      <td>Eli</td>\n",
              "      <td>Sales</td>\n",
              "      <td>NaN</td>\n",
              "      <td>2020-08-01</td>\n",
              "      <td>240000</td>\n",
              "    </tr>\n",
              "    <tr>\n",
              "      <th>3</th>\n",
              "      <td>20</td>\n",
              "      <td>Dylan</td>\n",
              "      <td>Marketing</td>\n",
              "      <td>(217)987-6543</td>\n",
              "      <td>2019-12-01</td>\n",
              "      <td>160500</td>\n",
              "    </tr>\n",
              "  </tbody>\n",
              "</table>\n",
              "</div>\n",
              "      <button class=\"colab-df-convert\" onclick=\"convertToInteractive('df-19136966-3750-4fac-be0f-92ceecc4d960')\"\n",
              "              title=\"Convert this dataframe to an interactive table.\"\n",
              "              style=\"display:none;\">\n",
              "        \n",
              "  <svg xmlns=\"http://www.w3.org/2000/svg\" height=\"24px\"viewBox=\"0 0 24 24\"\n",
              "       width=\"24px\">\n",
              "    <path d=\"M0 0h24v24H0V0z\" fill=\"none\"/>\n",
              "    <path d=\"M18.56 5.44l.94 2.06.94-2.06 2.06-.94-2.06-.94-.94-2.06-.94 2.06-2.06.94zm-11 1L8.5 8.5l.94-2.06 2.06-.94-2.06-.94L8.5 2.5l-.94 2.06-2.06.94zm10 10l.94 2.06.94-2.06 2.06-.94-2.06-.94-.94-2.06-.94 2.06-2.06.94z\"/><path d=\"M17.41 7.96l-1.37-1.37c-.4-.4-.92-.59-1.43-.59-.52 0-1.04.2-1.43.59L10.3 9.45l-7.72 7.72c-.78.78-.78 2.05 0 2.83L4 21.41c.39.39.9.59 1.41.59.51 0 1.02-.2 1.41-.59l7.78-7.78 2.81-2.81c.8-.78.8-2.07 0-2.86zM5.41 20L4 18.59l7.72-7.72 1.47 1.35L5.41 20z\"/>\n",
              "  </svg>\n",
              "      </button>\n",
              "      \n",
              "  <style>\n",
              "    .colab-df-container {\n",
              "      display:flex;\n",
              "      flex-wrap:wrap;\n",
              "      gap: 12px;\n",
              "    }\n",
              "\n",
              "    .colab-df-convert {\n",
              "      background-color: #E8F0FE;\n",
              "      border: none;\n",
              "      border-radius: 50%;\n",
              "      cursor: pointer;\n",
              "      display: none;\n",
              "      fill: #1967D2;\n",
              "      height: 32px;\n",
              "      padding: 0 0 0 0;\n",
              "      width: 32px;\n",
              "    }\n",
              "\n",
              "    .colab-df-convert:hover {\n",
              "      background-color: #E2EBFA;\n",
              "      box-shadow: 0px 1px 2px rgba(60, 64, 67, 0.3), 0px 1px 3px 1px rgba(60, 64, 67, 0.15);\n",
              "      fill: #174EA6;\n",
              "    }\n",
              "\n",
              "    [theme=dark] .colab-df-convert {\n",
              "      background-color: #3B4455;\n",
              "      fill: #D2E3FC;\n",
              "    }\n",
              "\n",
              "    [theme=dark] .colab-df-convert:hover {\n",
              "      background-color: #434B5C;\n",
              "      box-shadow: 0px 1px 3px 1px rgba(0, 0, 0, 0.15);\n",
              "      filter: drop-shadow(0px 1px 2px rgba(0, 0, 0, 0.3));\n",
              "      fill: #FFFFFF;\n",
              "    }\n",
              "  </style>\n",
              "\n",
              "      <script>\n",
              "        const buttonEl =\n",
              "          document.querySelector('#df-19136966-3750-4fac-be0f-92ceecc4d960 button.colab-df-convert');\n",
              "        buttonEl.style.display =\n",
              "          google.colab.kernel.accessAllowed ? 'block' : 'none';\n",
              "\n",
              "        async function convertToInteractive(key) {\n",
              "          const element = document.querySelector('#df-19136966-3750-4fac-be0f-92ceecc4d960');\n",
              "          const dataTable =\n",
              "            await google.colab.kernel.invokeFunction('convertToInteractive',\n",
              "                                                     [key], {});\n",
              "          if (!dataTable) return;\n",
              "\n",
              "          const docLinkHtml = 'Like what you see? Visit the ' +\n",
              "            '<a target=\"_blank\" href=https://colab.research.google.com/notebooks/data_table.ipynb>data table notebook</a>'\n",
              "            + ' to learn more about interactive tables.';\n",
              "          element.innerHTML = '';\n",
              "          dataTable['output_type'] = 'display_data';\n",
              "          await google.colab.output.renderOutput(dataTable, element);\n",
              "          const docLink = document.createElement('div');\n",
              "          docLink.innerHTML = docLinkHtml;\n",
              "          element.appendChild(docLink);\n",
              "        }\n",
              "      </script>\n",
              "    </div>\n",
              "  </div>\n",
              "  "
            ]
          },
          "metadata": {},
          "execution_count": 10
        }
      ],
      "source": [
        "df_emp = df_emp_backup.copy()\n",
        "df_emp"
      ]
    },
    {
      "cell_type": "code",
      "execution_count": 11,
      "metadata": {
        "colab": {
          "base_uri": "https://localhost:8080/",
          "height": 173
        },
        "id": "8DKNfKqWdxte",
        "outputId": "ab2f259a-26e6-4162-c7dc-84e0ad607dcc"
      },
      "outputs": [
        {
          "output_type": "execute_result",
          "data": {
            "text/plain": [
              "   emp_id   name       dept      phone_num  start_date  salary\n",
              "0      30  Colby      Sales  (217)123-4500  2017-05-01  202000\n",
              "1      40   Adam  Marketing            NaN  2018-02-01  185000\n",
              "2      10    Eli      Sales            NaN  2020-08-01  240000\n",
              "3      20  Dylan  Marketing  (217)987-6543  2019-12-01  160500"
            ],
            "text/html": [
              "\n",
              "  <div id=\"df-1bcfa96e-889c-4767-950e-5c972e774f04\">\n",
              "    <div class=\"colab-df-container\">\n",
              "      <div>\n",
              "<style scoped>\n",
              "    .dataframe tbody tr th:only-of-type {\n",
              "        vertical-align: middle;\n",
              "    }\n",
              "\n",
              "    .dataframe tbody tr th {\n",
              "        vertical-align: top;\n",
              "    }\n",
              "\n",
              "    .dataframe thead th {\n",
              "        text-align: right;\n",
              "    }\n",
              "</style>\n",
              "<table border=\"1\" class=\"dataframe\">\n",
              "  <thead>\n",
              "    <tr style=\"text-align: right;\">\n",
              "      <th></th>\n",
              "      <th>emp_id</th>\n",
              "      <th>name</th>\n",
              "      <th>dept</th>\n",
              "      <th>phone_num</th>\n",
              "      <th>start_date</th>\n",
              "      <th>salary</th>\n",
              "    </tr>\n",
              "  </thead>\n",
              "  <tbody>\n",
              "    <tr>\n",
              "      <th>0</th>\n",
              "      <td>30</td>\n",
              "      <td>Colby</td>\n",
              "      <td>Sales</td>\n",
              "      <td>(217)123-4500</td>\n",
              "      <td>2017-05-01</td>\n",
              "      <td>202000</td>\n",
              "    </tr>\n",
              "    <tr>\n",
              "      <th>1</th>\n",
              "      <td>40</td>\n",
              "      <td>Adam</td>\n",
              "      <td>Marketing</td>\n",
              "      <td>NaN</td>\n",
              "      <td>2018-02-01</td>\n",
              "      <td>185000</td>\n",
              "    </tr>\n",
              "    <tr>\n",
              "      <th>2</th>\n",
              "      <td>10</td>\n",
              "      <td>Eli</td>\n",
              "      <td>Sales</td>\n",
              "      <td>NaN</td>\n",
              "      <td>2020-08-01</td>\n",
              "      <td>240000</td>\n",
              "    </tr>\n",
              "    <tr>\n",
              "      <th>3</th>\n",
              "      <td>20</td>\n",
              "      <td>Dylan</td>\n",
              "      <td>Marketing</td>\n",
              "      <td>(217)987-6543</td>\n",
              "      <td>2019-12-01</td>\n",
              "      <td>160500</td>\n",
              "    </tr>\n",
              "  </tbody>\n",
              "</table>\n",
              "</div>\n",
              "      <button class=\"colab-df-convert\" onclick=\"convertToInteractive('df-1bcfa96e-889c-4767-950e-5c972e774f04')\"\n",
              "              title=\"Convert this dataframe to an interactive table.\"\n",
              "              style=\"display:none;\">\n",
              "        \n",
              "  <svg xmlns=\"http://www.w3.org/2000/svg\" height=\"24px\"viewBox=\"0 0 24 24\"\n",
              "       width=\"24px\">\n",
              "    <path d=\"M0 0h24v24H0V0z\" fill=\"none\"/>\n",
              "    <path d=\"M18.56 5.44l.94 2.06.94-2.06 2.06-.94-2.06-.94-.94-2.06-.94 2.06-2.06.94zm-11 1L8.5 8.5l.94-2.06 2.06-.94-2.06-.94L8.5 2.5l-.94 2.06-2.06.94zm10 10l.94 2.06.94-2.06 2.06-.94-2.06-.94-.94-2.06-.94 2.06-2.06.94z\"/><path d=\"M17.41 7.96l-1.37-1.37c-.4-.4-.92-.59-1.43-.59-.52 0-1.04.2-1.43.59L10.3 9.45l-7.72 7.72c-.78.78-.78 2.05 0 2.83L4 21.41c.39.39.9.59 1.41.59.51 0 1.02-.2 1.41-.59l7.78-7.78 2.81-2.81c.8-.78.8-2.07 0-2.86zM5.41 20L4 18.59l7.72-7.72 1.47 1.35L5.41 20z\"/>\n",
              "  </svg>\n",
              "      </button>\n",
              "      \n",
              "  <style>\n",
              "    .colab-df-container {\n",
              "      display:flex;\n",
              "      flex-wrap:wrap;\n",
              "      gap: 12px;\n",
              "    }\n",
              "\n",
              "    .colab-df-convert {\n",
              "      background-color: #E8F0FE;\n",
              "      border: none;\n",
              "      border-radius: 50%;\n",
              "      cursor: pointer;\n",
              "      display: none;\n",
              "      fill: #1967D2;\n",
              "      height: 32px;\n",
              "      padding: 0 0 0 0;\n",
              "      width: 32px;\n",
              "    }\n",
              "\n",
              "    .colab-df-convert:hover {\n",
              "      background-color: #E2EBFA;\n",
              "      box-shadow: 0px 1px 2px rgba(60, 64, 67, 0.3), 0px 1px 3px 1px rgba(60, 64, 67, 0.15);\n",
              "      fill: #174EA6;\n",
              "    }\n",
              "\n",
              "    [theme=dark] .colab-df-convert {\n",
              "      background-color: #3B4455;\n",
              "      fill: #D2E3FC;\n",
              "    }\n",
              "\n",
              "    [theme=dark] .colab-df-convert:hover {\n",
              "      background-color: #434B5C;\n",
              "      box-shadow: 0px 1px 3px 1px rgba(0, 0, 0, 0.15);\n",
              "      filter: drop-shadow(0px 1px 2px rgba(0, 0, 0, 0.3));\n",
              "      fill: #FFFFFF;\n",
              "    }\n",
              "  </style>\n",
              "\n",
              "      <script>\n",
              "        const buttonEl =\n",
              "          document.querySelector('#df-1bcfa96e-889c-4767-950e-5c972e774f04 button.colab-df-convert');\n",
              "        buttonEl.style.display =\n",
              "          google.colab.kernel.accessAllowed ? 'block' : 'none';\n",
              "\n",
              "        async function convertToInteractive(key) {\n",
              "          const element = document.querySelector('#df-1bcfa96e-889c-4767-950e-5c972e774f04');\n",
              "          const dataTable =\n",
              "            await google.colab.kernel.invokeFunction('convertToInteractive',\n",
              "                                                     [key], {});\n",
              "          if (!dataTable) return;\n",
              "\n",
              "          const docLinkHtml = 'Like what you see? Visit the ' +\n",
              "            '<a target=\"_blank\" href=https://colab.research.google.com/notebooks/data_table.ipynb>data table notebook</a>'\n",
              "            + ' to learn more about interactive tables.';\n",
              "          element.innerHTML = '';\n",
              "          dataTable['output_type'] = 'display_data';\n",
              "          await google.colab.output.renderOutput(dataTable, element);\n",
              "          const docLink = document.createElement('div');\n",
              "          docLink.innerHTML = docLinkHtml;\n",
              "          element.appendChild(docLink);\n",
              "        }\n",
              "      </script>\n",
              "    </div>\n",
              "  </div>\n",
              "  "
            ]
          },
          "metadata": {},
          "execution_count": 11
        }
      ],
      "source": [
        "# YOUR CODE BEGINS\n",
        "df_renamed = df_emp.rename(columns={'office_phone':'phone_num'})\n",
        "# YOUR CODE ENDS\n",
        "df_renamed"
      ]
    },
    {
      "cell_type": "markdown",
      "metadata": {
        "id": "SI8snp6Xdxte"
      },
      "source": [
        "#### 🧭 Check Your Work\n",
        "\n",
        "- Once you're done, run the code cell below to test correctness.\n",
        "- ✔️ If the code cell runs without an error, you're good to move on.\n",
        "- ❌ If the code cell throws an error, go back and fix incorrect parts."
      ]
    },
    {
      "cell_type": "code",
      "execution_count": 12,
      "metadata": {
        "id": "SNuzsbDvdxte",
        "nbgrader": {
          "grade": true,
          "grade_id": "challenge-09",
          "locked": true,
          "points": "1",
          "solution": false
        }
      },
      "outputs": [],
      "source": [
        "# Challenge 9 Autograder\n",
        "tc.assertEqual(df_emp.columns.tolist(), df_emp_backup.columns.tolist(), \"Did you rename the column in-place? The original DataFrame should not be modified.\")\n",
        "tc.assertEqual(df_renamed.columns.tolist(), [\"emp_id\", \"name\", \"dept\", \"phone_num\", \"start_date\", \"salary\"])"
      ]
    },
    {
      "cell_type": "markdown",
      "metadata": {
        "id": "yi4owfA9dxte"
      },
      "source": [
        "---\n",
        "\n",
        "### 🎯 Challenge 10: Rename `office_phone` to `phone_num` **in-place**\n",
        "\n",
        "#### 👇 Tasks\n",
        "\n",
        "- ✔️ Rename `office_phone` column to `phone_num` *in-place*.\n",
        "    - Directly update `df_emp` without creating a new variable.\n",
        "    \n",
        "#### 🚀 Hints\n",
        "\n",
        "Use the following code to rename `col_before` column to `col_after` *in-place*.\n",
        "\n",
        "```python\n",
        "my_dataframe.rename(columns={\"col_before\": \"col_after\"}, inplace=True)\n",
        "```"
      ]
    },
    {
      "cell_type": "markdown",
      "metadata": {
        "id": "PPCn6oZYdxtf"
      },
      "source": [
        "▶️ Run the code cell below to reset your `df_emp`."
      ]
    },
    {
      "cell_type": "code",
      "execution_count": 14,
      "metadata": {
        "colab": {
          "base_uri": "https://localhost:8080/",
          "height": 173
        },
        "id": "G8JUpO5mdxtf",
        "outputId": "0c88c8da-8168-4a8c-e0d2-60cc8b538b99"
      },
      "outputs": [
        {
          "output_type": "execute_result",
          "data": {
            "text/plain": [
              "   emp_id   name       dept   office_phone  start_date  salary\n",
              "0      30  Colby      Sales  (217)123-4500  2017-05-01  202000\n",
              "1      40   Adam  Marketing            NaN  2018-02-01  185000\n",
              "2      10    Eli      Sales            NaN  2020-08-01  240000\n",
              "3      20  Dylan  Marketing  (217)987-6543  2019-12-01  160500"
            ],
            "text/html": [
              "\n",
              "  <div id=\"df-da46480d-c0ad-47d5-ad3d-a308f9bbc427\">\n",
              "    <div class=\"colab-df-container\">\n",
              "      <div>\n",
              "<style scoped>\n",
              "    .dataframe tbody tr th:only-of-type {\n",
              "        vertical-align: middle;\n",
              "    }\n",
              "\n",
              "    .dataframe tbody tr th {\n",
              "        vertical-align: top;\n",
              "    }\n",
              "\n",
              "    .dataframe thead th {\n",
              "        text-align: right;\n",
              "    }\n",
              "</style>\n",
              "<table border=\"1\" class=\"dataframe\">\n",
              "  <thead>\n",
              "    <tr style=\"text-align: right;\">\n",
              "      <th></th>\n",
              "      <th>emp_id</th>\n",
              "      <th>name</th>\n",
              "      <th>dept</th>\n",
              "      <th>office_phone</th>\n",
              "      <th>start_date</th>\n",
              "      <th>salary</th>\n",
              "    </tr>\n",
              "  </thead>\n",
              "  <tbody>\n",
              "    <tr>\n",
              "      <th>0</th>\n",
              "      <td>30</td>\n",
              "      <td>Colby</td>\n",
              "      <td>Sales</td>\n",
              "      <td>(217)123-4500</td>\n",
              "      <td>2017-05-01</td>\n",
              "      <td>202000</td>\n",
              "    </tr>\n",
              "    <tr>\n",
              "      <th>1</th>\n",
              "      <td>40</td>\n",
              "      <td>Adam</td>\n",
              "      <td>Marketing</td>\n",
              "      <td>NaN</td>\n",
              "      <td>2018-02-01</td>\n",
              "      <td>185000</td>\n",
              "    </tr>\n",
              "    <tr>\n",
              "      <th>2</th>\n",
              "      <td>10</td>\n",
              "      <td>Eli</td>\n",
              "      <td>Sales</td>\n",
              "      <td>NaN</td>\n",
              "      <td>2020-08-01</td>\n",
              "      <td>240000</td>\n",
              "    </tr>\n",
              "    <tr>\n",
              "      <th>3</th>\n",
              "      <td>20</td>\n",
              "      <td>Dylan</td>\n",
              "      <td>Marketing</td>\n",
              "      <td>(217)987-6543</td>\n",
              "      <td>2019-12-01</td>\n",
              "      <td>160500</td>\n",
              "    </tr>\n",
              "  </tbody>\n",
              "</table>\n",
              "</div>\n",
              "      <button class=\"colab-df-convert\" onclick=\"convertToInteractive('df-da46480d-c0ad-47d5-ad3d-a308f9bbc427')\"\n",
              "              title=\"Convert this dataframe to an interactive table.\"\n",
              "              style=\"display:none;\">\n",
              "        \n",
              "  <svg xmlns=\"http://www.w3.org/2000/svg\" height=\"24px\"viewBox=\"0 0 24 24\"\n",
              "       width=\"24px\">\n",
              "    <path d=\"M0 0h24v24H0V0z\" fill=\"none\"/>\n",
              "    <path d=\"M18.56 5.44l.94 2.06.94-2.06 2.06-.94-2.06-.94-.94-2.06-.94 2.06-2.06.94zm-11 1L8.5 8.5l.94-2.06 2.06-.94-2.06-.94L8.5 2.5l-.94 2.06-2.06.94zm10 10l.94 2.06.94-2.06 2.06-.94-2.06-.94-.94-2.06-.94 2.06-2.06.94z\"/><path d=\"M17.41 7.96l-1.37-1.37c-.4-.4-.92-.59-1.43-.59-.52 0-1.04.2-1.43.59L10.3 9.45l-7.72 7.72c-.78.78-.78 2.05 0 2.83L4 21.41c.39.39.9.59 1.41.59.51 0 1.02-.2 1.41-.59l7.78-7.78 2.81-2.81c.8-.78.8-2.07 0-2.86zM5.41 20L4 18.59l7.72-7.72 1.47 1.35L5.41 20z\"/>\n",
              "  </svg>\n",
              "      </button>\n",
              "      \n",
              "  <style>\n",
              "    .colab-df-container {\n",
              "      display:flex;\n",
              "      flex-wrap:wrap;\n",
              "      gap: 12px;\n",
              "    }\n",
              "\n",
              "    .colab-df-convert {\n",
              "      background-color: #E8F0FE;\n",
              "      border: none;\n",
              "      border-radius: 50%;\n",
              "      cursor: pointer;\n",
              "      display: none;\n",
              "      fill: #1967D2;\n",
              "      height: 32px;\n",
              "      padding: 0 0 0 0;\n",
              "      width: 32px;\n",
              "    }\n",
              "\n",
              "    .colab-df-convert:hover {\n",
              "      background-color: #E2EBFA;\n",
              "      box-shadow: 0px 1px 2px rgba(60, 64, 67, 0.3), 0px 1px 3px 1px rgba(60, 64, 67, 0.15);\n",
              "      fill: #174EA6;\n",
              "    }\n",
              "\n",
              "    [theme=dark] .colab-df-convert {\n",
              "      background-color: #3B4455;\n",
              "      fill: #D2E3FC;\n",
              "    }\n",
              "\n",
              "    [theme=dark] .colab-df-convert:hover {\n",
              "      background-color: #434B5C;\n",
              "      box-shadow: 0px 1px 3px 1px rgba(0, 0, 0, 0.15);\n",
              "      filter: drop-shadow(0px 1px 2px rgba(0, 0, 0, 0.3));\n",
              "      fill: #FFFFFF;\n",
              "    }\n",
              "  </style>\n",
              "\n",
              "      <script>\n",
              "        const buttonEl =\n",
              "          document.querySelector('#df-da46480d-c0ad-47d5-ad3d-a308f9bbc427 button.colab-df-convert');\n",
              "        buttonEl.style.display =\n",
              "          google.colab.kernel.accessAllowed ? 'block' : 'none';\n",
              "\n",
              "        async function convertToInteractive(key) {\n",
              "          const element = document.querySelector('#df-da46480d-c0ad-47d5-ad3d-a308f9bbc427');\n",
              "          const dataTable =\n",
              "            await google.colab.kernel.invokeFunction('convertToInteractive',\n",
              "                                                     [key], {});\n",
              "          if (!dataTable) return;\n",
              "\n",
              "          const docLinkHtml = 'Like what you see? Visit the ' +\n",
              "            '<a target=\"_blank\" href=https://colab.research.google.com/notebooks/data_table.ipynb>data table notebook</a>'\n",
              "            + ' to learn more about interactive tables.';\n",
              "          element.innerHTML = '';\n",
              "          dataTable['output_type'] = 'display_data';\n",
              "          await google.colab.output.renderOutput(dataTable, element);\n",
              "          const docLink = document.createElement('div');\n",
              "          docLink.innerHTML = docLinkHtml;\n",
              "          element.appendChild(docLink);\n",
              "        }\n",
              "      </script>\n",
              "    </div>\n",
              "  </div>\n",
              "  "
            ]
          },
          "metadata": {},
          "execution_count": 14
        }
      ],
      "source": [
        "df_emp = df_emp_backup.copy()\n",
        "df_emp"
      ]
    },
    {
      "cell_type": "code",
      "execution_count": 15,
      "metadata": {
        "colab": {
          "base_uri": "https://localhost:8080/",
          "height": 173
        },
        "id": "CHzAmnEzdxtf",
        "outputId": "6ea9bf05-908a-4918-8d7e-10e01b352bda"
      },
      "outputs": [
        {
          "output_type": "execute_result",
          "data": {
            "text/plain": [
              "   emp_id   name       dept      phone_num  start_date  salary\n",
              "0      30  Colby      Sales  (217)123-4500  2017-05-01  202000\n",
              "1      40   Adam  Marketing            NaN  2018-02-01  185000\n",
              "2      10    Eli      Sales            NaN  2020-08-01  240000\n",
              "3      20  Dylan  Marketing  (217)987-6543  2019-12-01  160500"
            ],
            "text/html": [
              "\n",
              "  <div id=\"df-bd30bb93-a3e3-4b1e-9008-874fe50689c2\">\n",
              "    <div class=\"colab-df-container\">\n",
              "      <div>\n",
              "<style scoped>\n",
              "    .dataframe tbody tr th:only-of-type {\n",
              "        vertical-align: middle;\n",
              "    }\n",
              "\n",
              "    .dataframe tbody tr th {\n",
              "        vertical-align: top;\n",
              "    }\n",
              "\n",
              "    .dataframe thead th {\n",
              "        text-align: right;\n",
              "    }\n",
              "</style>\n",
              "<table border=\"1\" class=\"dataframe\">\n",
              "  <thead>\n",
              "    <tr style=\"text-align: right;\">\n",
              "      <th></th>\n",
              "      <th>emp_id</th>\n",
              "      <th>name</th>\n",
              "      <th>dept</th>\n",
              "      <th>phone_num</th>\n",
              "      <th>start_date</th>\n",
              "      <th>salary</th>\n",
              "    </tr>\n",
              "  </thead>\n",
              "  <tbody>\n",
              "    <tr>\n",
              "      <th>0</th>\n",
              "      <td>30</td>\n",
              "      <td>Colby</td>\n",
              "      <td>Sales</td>\n",
              "      <td>(217)123-4500</td>\n",
              "      <td>2017-05-01</td>\n",
              "      <td>202000</td>\n",
              "    </tr>\n",
              "    <tr>\n",
              "      <th>1</th>\n",
              "      <td>40</td>\n",
              "      <td>Adam</td>\n",
              "      <td>Marketing</td>\n",
              "      <td>NaN</td>\n",
              "      <td>2018-02-01</td>\n",
              "      <td>185000</td>\n",
              "    </tr>\n",
              "    <tr>\n",
              "      <th>2</th>\n",
              "      <td>10</td>\n",
              "      <td>Eli</td>\n",
              "      <td>Sales</td>\n",
              "      <td>NaN</td>\n",
              "      <td>2020-08-01</td>\n",
              "      <td>240000</td>\n",
              "    </tr>\n",
              "    <tr>\n",
              "      <th>3</th>\n",
              "      <td>20</td>\n",
              "      <td>Dylan</td>\n",
              "      <td>Marketing</td>\n",
              "      <td>(217)987-6543</td>\n",
              "      <td>2019-12-01</td>\n",
              "      <td>160500</td>\n",
              "    </tr>\n",
              "  </tbody>\n",
              "</table>\n",
              "</div>\n",
              "      <button class=\"colab-df-convert\" onclick=\"convertToInteractive('df-bd30bb93-a3e3-4b1e-9008-874fe50689c2')\"\n",
              "              title=\"Convert this dataframe to an interactive table.\"\n",
              "              style=\"display:none;\">\n",
              "        \n",
              "  <svg xmlns=\"http://www.w3.org/2000/svg\" height=\"24px\"viewBox=\"0 0 24 24\"\n",
              "       width=\"24px\">\n",
              "    <path d=\"M0 0h24v24H0V0z\" fill=\"none\"/>\n",
              "    <path d=\"M18.56 5.44l.94 2.06.94-2.06 2.06-.94-2.06-.94-.94-2.06-.94 2.06-2.06.94zm-11 1L8.5 8.5l.94-2.06 2.06-.94-2.06-.94L8.5 2.5l-.94 2.06-2.06.94zm10 10l.94 2.06.94-2.06 2.06-.94-2.06-.94-.94-2.06-.94 2.06-2.06.94z\"/><path d=\"M17.41 7.96l-1.37-1.37c-.4-.4-.92-.59-1.43-.59-.52 0-1.04.2-1.43.59L10.3 9.45l-7.72 7.72c-.78.78-.78 2.05 0 2.83L4 21.41c.39.39.9.59 1.41.59.51 0 1.02-.2 1.41-.59l7.78-7.78 2.81-2.81c.8-.78.8-2.07 0-2.86zM5.41 20L4 18.59l7.72-7.72 1.47 1.35L5.41 20z\"/>\n",
              "  </svg>\n",
              "      </button>\n",
              "      \n",
              "  <style>\n",
              "    .colab-df-container {\n",
              "      display:flex;\n",
              "      flex-wrap:wrap;\n",
              "      gap: 12px;\n",
              "    }\n",
              "\n",
              "    .colab-df-convert {\n",
              "      background-color: #E8F0FE;\n",
              "      border: none;\n",
              "      border-radius: 50%;\n",
              "      cursor: pointer;\n",
              "      display: none;\n",
              "      fill: #1967D2;\n",
              "      height: 32px;\n",
              "      padding: 0 0 0 0;\n",
              "      width: 32px;\n",
              "    }\n",
              "\n",
              "    .colab-df-convert:hover {\n",
              "      background-color: #E2EBFA;\n",
              "      box-shadow: 0px 1px 2px rgba(60, 64, 67, 0.3), 0px 1px 3px 1px rgba(60, 64, 67, 0.15);\n",
              "      fill: #174EA6;\n",
              "    }\n",
              "\n",
              "    [theme=dark] .colab-df-convert {\n",
              "      background-color: #3B4455;\n",
              "      fill: #D2E3FC;\n",
              "    }\n",
              "\n",
              "    [theme=dark] .colab-df-convert:hover {\n",
              "      background-color: #434B5C;\n",
              "      box-shadow: 0px 1px 3px 1px rgba(0, 0, 0, 0.15);\n",
              "      filter: drop-shadow(0px 1px 2px rgba(0, 0, 0, 0.3));\n",
              "      fill: #FFFFFF;\n",
              "    }\n",
              "  </style>\n",
              "\n",
              "      <script>\n",
              "        const buttonEl =\n",
              "          document.querySelector('#df-bd30bb93-a3e3-4b1e-9008-874fe50689c2 button.colab-df-convert');\n",
              "        buttonEl.style.display =\n",
              "          google.colab.kernel.accessAllowed ? 'block' : 'none';\n",
              "\n",
              "        async function convertToInteractive(key) {\n",
              "          const element = document.querySelector('#df-bd30bb93-a3e3-4b1e-9008-874fe50689c2');\n",
              "          const dataTable =\n",
              "            await google.colab.kernel.invokeFunction('convertToInteractive',\n",
              "                                                     [key], {});\n",
              "          if (!dataTable) return;\n",
              "\n",
              "          const docLinkHtml = 'Like what you see? Visit the ' +\n",
              "            '<a target=\"_blank\" href=https://colab.research.google.com/notebooks/data_table.ipynb>data table notebook</a>'\n",
              "            + ' to learn more about interactive tables.';\n",
              "          element.innerHTML = '';\n",
              "          dataTable['output_type'] = 'display_data';\n",
              "          await google.colab.output.renderOutput(dataTable, element);\n",
              "          const docLink = document.createElement('div');\n",
              "          docLink.innerHTML = docLinkHtml;\n",
              "          element.appendChild(docLink);\n",
              "        }\n",
              "      </script>\n",
              "    </div>\n",
              "  </div>\n",
              "  "
            ]
          },
          "metadata": {},
          "execution_count": 15
        }
      ],
      "source": [
        "# YOUR CODE BEGINS\n",
        "df_emp.rename(columns={'office_phone':'phone_num'},inplace = True)\n",
        "# YOUR CODE ENDS\n",
        "df_emp"
      ]
    },
    {
      "cell_type": "markdown",
      "metadata": {
        "id": "PatSV6Hvdxtf"
      },
      "source": [
        "#### 🧭 Check Your Work\n",
        "\n",
        "- Once you're done, run the code cell below to test correctness.\n",
        "- ✔️ If the code cell runs without an error, you're good to move on.\n",
        "- ❌ If the code cell throws an error, go back and fix incorrect parts."
      ]
    },
    {
      "cell_type": "code",
      "execution_count": 18,
      "metadata": {
        "id": "Yyo9Bnygdxtg",
        "nbgrader": {
          "grade": true,
          "grade_id": "challenge-10",
          "locked": true,
          "points": "1",
          "solution": false
        }
      },
      "outputs": [],
      "source": [
        "# Challenge 10 Autograder\n",
        "tc.assertEqual(df_emp.columns.tolist(), [\"emp_id\", \"name\", \"dept\", \"phone_num\", \"start_date\", \"salary\"])"
      ]
    },
    {
      "cell_type": "markdown",
      "metadata": {
        "id": "gZqtvNrjdxtg"
      },
      "source": [
        "---\n",
        "\n",
        "### 🎯 Challenge 11: Rename `name` to `first_name` and `salary` to `base_salary` **in-place**\n",
        "\n",
        "#### 👇 Tasks\n",
        "\n",
        "- ✔️ Rename `name` column to `first_name` and `salary` to `base_salary` *in-place*.\n",
        "    - Directly update `df_emp` without creating a new variable.\n",
        "    \n",
        "#### 🚀 Hints\n",
        "\n",
        "Use the following code as a reference.\n",
        "\n",
        "```python\n",
        "my_dataframe.rename(columns={\"col_before1\": \"col_after1\", \"col_before2\": \"col_after2\"}, inplace=True)\n",
        "```"
      ]
    },
    {
      "cell_type": "markdown",
      "metadata": {
        "id": "No4VUPUgdxtg"
      },
      "source": [
        "▶️ Run the code cell below to reset your `df_emp`."
      ]
    },
    {
      "cell_type": "code",
      "execution_count": null,
      "metadata": {
        "id": "Xmis-MsRdxtg"
      },
      "outputs": [],
      "source": [
        "df_emp = df_emp_backup.copy()\n",
        "df_emp"
      ]
    },
    {
      "cell_type": "code",
      "execution_count": null,
      "metadata": {
        "id": "24a-bqfgdxtg"
      },
      "outputs": [],
      "source": [
        "# YOUR CODE BEGINS\n",
        "# YOUR CODE ENDS\n",
        "df_emp"
      ]
    },
    {
      "cell_type": "markdown",
      "metadata": {
        "id": "g9lGSxsmdxtg"
      },
      "source": [
        "#### 🧭 Check Your Work\n",
        "\n",
        "- Once you're done, run the code cell below to test correctness.\n",
        "- ✔️ If the code cell runs without an error, you're good to move on.\n",
        "- ❌ If the code cell throws an error, go back and fix incorrect parts."
      ]
    },
    {
      "cell_type": "code",
      "execution_count": null,
      "metadata": {
        "id": "-sUVjsuvdxtg",
        "nbgrader": {
          "grade": true,
          "grade_id": "challenge-11",
          "locked": true,
          "points": "1",
          "solution": false
        }
      },
      "outputs": [],
      "source": [
        "# Challenge 11 Autograder\n",
        "tc.assertEqual(df_emp.columns.tolist(), [\"emp_id\", \"first_name\", \"dept\", \"office_phone\", \"start_date\", \"base_salary\"])"
      ]
    },
    {
      "cell_type": "markdown",
      "metadata": {
        "id": "9Rfkhez9dxth"
      },
      "source": [
        "---\n",
        "\n",
        "## 👉 Dropping Column(s)\n",
        "\n",
        "You can rename a column using `df.drop(columns=[\"col1\", \"col2\"])`. Again, you can perform this operation either in-place or out-of-place.\n",
        "\n",
        "```python\n",
        "# Copy df, drop columns\n",
        "# df will remain unchaged\n",
        "df_dropped = df.drop(columns=[\"col1\", \"col2\"])\n",
        "\n",
        "# Drop columns directly from df\n",
        "df.rename(columns={\"name_before\": \"name_after\"}, inplace=True)\n",
        "```"
      ]
    },
    {
      "cell_type": "markdown",
      "metadata": {
        "id": "M5IABrx5dxth"
      },
      "source": [
        "---\n",
        "\n",
        "### 🎯 Challenge 12: Drop `start_date` column\n",
        "\n",
        "#### 👇 Tasks\n",
        "\n",
        "- ✔️ Drop `start_date` column from `df_emp`.\n",
        "- ✔️ Store the result to a new variable named `df_dropped`.\n",
        "- ✔️ Your `df_emp` should remain unaltered.\n",
        "\n",
        "#### 🚀 Hints\n",
        "\n",
        "Use the following code as a reference.\n",
        "\n",
        "```python\n",
        "dropped_dataframe = my_dataframe.drop(columns=[\"my_column1\"])\n",
        "```"
      ]
    },
    {
      "cell_type": "markdown",
      "metadata": {
        "id": "RrmqMbgtdxth"
      },
      "source": [
        "▶️ Run the code cell below to reset your `df_emp`."
      ]
    },
    {
      "cell_type": "code",
      "execution_count": 20,
      "metadata": {
        "colab": {
          "base_uri": "https://localhost:8080/",
          "height": 173
        },
        "id": "WfbYThL0dxth",
        "outputId": "acdd6720-e6a7-41e7-cb6c-a81e2a62140a"
      },
      "outputs": [
        {
          "output_type": "execute_result",
          "data": {
            "text/plain": [
              "   emp_id   name       dept   office_phone  start_date  salary\n",
              "0      30  Colby      Sales  (217)123-4500  2017-05-01  202000\n",
              "1      40   Adam  Marketing            NaN  2018-02-01  185000\n",
              "2      10    Eli      Sales            NaN  2020-08-01  240000\n",
              "3      20  Dylan  Marketing  (217)987-6543  2019-12-01  160500"
            ],
            "text/html": [
              "\n",
              "  <div id=\"df-fdb9786a-af64-4bd0-8d0d-bd5971348357\">\n",
              "    <div class=\"colab-df-container\">\n",
              "      <div>\n",
              "<style scoped>\n",
              "    .dataframe tbody tr th:only-of-type {\n",
              "        vertical-align: middle;\n",
              "    }\n",
              "\n",
              "    .dataframe tbody tr th {\n",
              "        vertical-align: top;\n",
              "    }\n",
              "\n",
              "    .dataframe thead th {\n",
              "        text-align: right;\n",
              "    }\n",
              "</style>\n",
              "<table border=\"1\" class=\"dataframe\">\n",
              "  <thead>\n",
              "    <tr style=\"text-align: right;\">\n",
              "      <th></th>\n",
              "      <th>emp_id</th>\n",
              "      <th>name</th>\n",
              "      <th>dept</th>\n",
              "      <th>office_phone</th>\n",
              "      <th>start_date</th>\n",
              "      <th>salary</th>\n",
              "    </tr>\n",
              "  </thead>\n",
              "  <tbody>\n",
              "    <tr>\n",
              "      <th>0</th>\n",
              "      <td>30</td>\n",
              "      <td>Colby</td>\n",
              "      <td>Sales</td>\n",
              "      <td>(217)123-4500</td>\n",
              "      <td>2017-05-01</td>\n",
              "      <td>202000</td>\n",
              "    </tr>\n",
              "    <tr>\n",
              "      <th>1</th>\n",
              "      <td>40</td>\n",
              "      <td>Adam</td>\n",
              "      <td>Marketing</td>\n",
              "      <td>NaN</td>\n",
              "      <td>2018-02-01</td>\n",
              "      <td>185000</td>\n",
              "    </tr>\n",
              "    <tr>\n",
              "      <th>2</th>\n",
              "      <td>10</td>\n",
              "      <td>Eli</td>\n",
              "      <td>Sales</td>\n",
              "      <td>NaN</td>\n",
              "      <td>2020-08-01</td>\n",
              "      <td>240000</td>\n",
              "    </tr>\n",
              "    <tr>\n",
              "      <th>3</th>\n",
              "      <td>20</td>\n",
              "      <td>Dylan</td>\n",
              "      <td>Marketing</td>\n",
              "      <td>(217)987-6543</td>\n",
              "      <td>2019-12-01</td>\n",
              "      <td>160500</td>\n",
              "    </tr>\n",
              "  </tbody>\n",
              "</table>\n",
              "</div>\n",
              "      <button class=\"colab-df-convert\" onclick=\"convertToInteractive('df-fdb9786a-af64-4bd0-8d0d-bd5971348357')\"\n",
              "              title=\"Convert this dataframe to an interactive table.\"\n",
              "              style=\"display:none;\">\n",
              "        \n",
              "  <svg xmlns=\"http://www.w3.org/2000/svg\" height=\"24px\"viewBox=\"0 0 24 24\"\n",
              "       width=\"24px\">\n",
              "    <path d=\"M0 0h24v24H0V0z\" fill=\"none\"/>\n",
              "    <path d=\"M18.56 5.44l.94 2.06.94-2.06 2.06-.94-2.06-.94-.94-2.06-.94 2.06-2.06.94zm-11 1L8.5 8.5l.94-2.06 2.06-.94-2.06-.94L8.5 2.5l-.94 2.06-2.06.94zm10 10l.94 2.06.94-2.06 2.06-.94-2.06-.94-.94-2.06-.94 2.06-2.06.94z\"/><path d=\"M17.41 7.96l-1.37-1.37c-.4-.4-.92-.59-1.43-.59-.52 0-1.04.2-1.43.59L10.3 9.45l-7.72 7.72c-.78.78-.78 2.05 0 2.83L4 21.41c.39.39.9.59 1.41.59.51 0 1.02-.2 1.41-.59l7.78-7.78 2.81-2.81c.8-.78.8-2.07 0-2.86zM5.41 20L4 18.59l7.72-7.72 1.47 1.35L5.41 20z\"/>\n",
              "  </svg>\n",
              "      </button>\n",
              "      \n",
              "  <style>\n",
              "    .colab-df-container {\n",
              "      display:flex;\n",
              "      flex-wrap:wrap;\n",
              "      gap: 12px;\n",
              "    }\n",
              "\n",
              "    .colab-df-convert {\n",
              "      background-color: #E8F0FE;\n",
              "      border: none;\n",
              "      border-radius: 50%;\n",
              "      cursor: pointer;\n",
              "      display: none;\n",
              "      fill: #1967D2;\n",
              "      height: 32px;\n",
              "      padding: 0 0 0 0;\n",
              "      width: 32px;\n",
              "    }\n",
              "\n",
              "    .colab-df-convert:hover {\n",
              "      background-color: #E2EBFA;\n",
              "      box-shadow: 0px 1px 2px rgba(60, 64, 67, 0.3), 0px 1px 3px 1px rgba(60, 64, 67, 0.15);\n",
              "      fill: #174EA6;\n",
              "    }\n",
              "\n",
              "    [theme=dark] .colab-df-convert {\n",
              "      background-color: #3B4455;\n",
              "      fill: #D2E3FC;\n",
              "    }\n",
              "\n",
              "    [theme=dark] .colab-df-convert:hover {\n",
              "      background-color: #434B5C;\n",
              "      box-shadow: 0px 1px 3px 1px rgba(0, 0, 0, 0.15);\n",
              "      filter: drop-shadow(0px 1px 2px rgba(0, 0, 0, 0.3));\n",
              "      fill: #FFFFFF;\n",
              "    }\n",
              "  </style>\n",
              "\n",
              "      <script>\n",
              "        const buttonEl =\n",
              "          document.querySelector('#df-fdb9786a-af64-4bd0-8d0d-bd5971348357 button.colab-df-convert');\n",
              "        buttonEl.style.display =\n",
              "          google.colab.kernel.accessAllowed ? 'block' : 'none';\n",
              "\n",
              "        async function convertToInteractive(key) {\n",
              "          const element = document.querySelector('#df-fdb9786a-af64-4bd0-8d0d-bd5971348357');\n",
              "          const dataTable =\n",
              "            await google.colab.kernel.invokeFunction('convertToInteractive',\n",
              "                                                     [key], {});\n",
              "          if (!dataTable) return;\n",
              "\n",
              "          const docLinkHtml = 'Like what you see? Visit the ' +\n",
              "            '<a target=\"_blank\" href=https://colab.research.google.com/notebooks/data_table.ipynb>data table notebook</a>'\n",
              "            + ' to learn more about interactive tables.';\n",
              "          element.innerHTML = '';\n",
              "          dataTable['output_type'] = 'display_data';\n",
              "          await google.colab.output.renderOutput(dataTable, element);\n",
              "          const docLink = document.createElement('div');\n",
              "          docLink.innerHTML = docLinkHtml;\n",
              "          element.appendChild(docLink);\n",
              "        }\n",
              "      </script>\n",
              "    </div>\n",
              "  </div>\n",
              "  "
            ]
          },
          "metadata": {},
          "execution_count": 20
        }
      ],
      "source": [
        "df_emp = df_emp_backup.copy()\n",
        "df_emp"
      ]
    },
    {
      "cell_type": "code",
      "execution_count": 21,
      "metadata": {
        "colab": {
          "base_uri": "https://localhost:8080/",
          "height": 173
        },
        "id": "sIPj1J1Fdxth",
        "outputId": "6e9a3736-6200-44f7-a9d9-8281c8353a82"
      },
      "outputs": [
        {
          "output_type": "execute_result",
          "data": {
            "text/plain": [
              "   emp_id   name       dept   office_phone  salary\n",
              "0      30  Colby      Sales  (217)123-4500  202000\n",
              "1      40   Adam  Marketing            NaN  185000\n",
              "2      10    Eli      Sales            NaN  240000\n",
              "3      20  Dylan  Marketing  (217)987-6543  160500"
            ],
            "text/html": [
              "\n",
              "  <div id=\"df-cc101279-52d5-4cf9-ba05-9438d3fe3f2e\">\n",
              "    <div class=\"colab-df-container\">\n",
              "      <div>\n",
              "<style scoped>\n",
              "    .dataframe tbody tr th:only-of-type {\n",
              "        vertical-align: middle;\n",
              "    }\n",
              "\n",
              "    .dataframe tbody tr th {\n",
              "        vertical-align: top;\n",
              "    }\n",
              "\n",
              "    .dataframe thead th {\n",
              "        text-align: right;\n",
              "    }\n",
              "</style>\n",
              "<table border=\"1\" class=\"dataframe\">\n",
              "  <thead>\n",
              "    <tr style=\"text-align: right;\">\n",
              "      <th></th>\n",
              "      <th>emp_id</th>\n",
              "      <th>name</th>\n",
              "      <th>dept</th>\n",
              "      <th>office_phone</th>\n",
              "      <th>salary</th>\n",
              "    </tr>\n",
              "  </thead>\n",
              "  <tbody>\n",
              "    <tr>\n",
              "      <th>0</th>\n",
              "      <td>30</td>\n",
              "      <td>Colby</td>\n",
              "      <td>Sales</td>\n",
              "      <td>(217)123-4500</td>\n",
              "      <td>202000</td>\n",
              "    </tr>\n",
              "    <tr>\n",
              "      <th>1</th>\n",
              "      <td>40</td>\n",
              "      <td>Adam</td>\n",
              "      <td>Marketing</td>\n",
              "      <td>NaN</td>\n",
              "      <td>185000</td>\n",
              "    </tr>\n",
              "    <tr>\n",
              "      <th>2</th>\n",
              "      <td>10</td>\n",
              "      <td>Eli</td>\n",
              "      <td>Sales</td>\n",
              "      <td>NaN</td>\n",
              "      <td>240000</td>\n",
              "    </tr>\n",
              "    <tr>\n",
              "      <th>3</th>\n",
              "      <td>20</td>\n",
              "      <td>Dylan</td>\n",
              "      <td>Marketing</td>\n",
              "      <td>(217)987-6543</td>\n",
              "      <td>160500</td>\n",
              "    </tr>\n",
              "  </tbody>\n",
              "</table>\n",
              "</div>\n",
              "      <button class=\"colab-df-convert\" onclick=\"convertToInteractive('df-cc101279-52d5-4cf9-ba05-9438d3fe3f2e')\"\n",
              "              title=\"Convert this dataframe to an interactive table.\"\n",
              "              style=\"display:none;\">\n",
              "        \n",
              "  <svg xmlns=\"http://www.w3.org/2000/svg\" height=\"24px\"viewBox=\"0 0 24 24\"\n",
              "       width=\"24px\">\n",
              "    <path d=\"M0 0h24v24H0V0z\" fill=\"none\"/>\n",
              "    <path d=\"M18.56 5.44l.94 2.06.94-2.06 2.06-.94-2.06-.94-.94-2.06-.94 2.06-2.06.94zm-11 1L8.5 8.5l.94-2.06 2.06-.94-2.06-.94L8.5 2.5l-.94 2.06-2.06.94zm10 10l.94 2.06.94-2.06 2.06-.94-2.06-.94-.94-2.06-.94 2.06-2.06.94z\"/><path d=\"M17.41 7.96l-1.37-1.37c-.4-.4-.92-.59-1.43-.59-.52 0-1.04.2-1.43.59L10.3 9.45l-7.72 7.72c-.78.78-.78 2.05 0 2.83L4 21.41c.39.39.9.59 1.41.59.51 0 1.02-.2 1.41-.59l7.78-7.78 2.81-2.81c.8-.78.8-2.07 0-2.86zM5.41 20L4 18.59l7.72-7.72 1.47 1.35L5.41 20z\"/>\n",
              "  </svg>\n",
              "      </button>\n",
              "      \n",
              "  <style>\n",
              "    .colab-df-container {\n",
              "      display:flex;\n",
              "      flex-wrap:wrap;\n",
              "      gap: 12px;\n",
              "    }\n",
              "\n",
              "    .colab-df-convert {\n",
              "      background-color: #E8F0FE;\n",
              "      border: none;\n",
              "      border-radius: 50%;\n",
              "      cursor: pointer;\n",
              "      display: none;\n",
              "      fill: #1967D2;\n",
              "      height: 32px;\n",
              "      padding: 0 0 0 0;\n",
              "      width: 32px;\n",
              "    }\n",
              "\n",
              "    .colab-df-convert:hover {\n",
              "      background-color: #E2EBFA;\n",
              "      box-shadow: 0px 1px 2px rgba(60, 64, 67, 0.3), 0px 1px 3px 1px rgba(60, 64, 67, 0.15);\n",
              "      fill: #174EA6;\n",
              "    }\n",
              "\n",
              "    [theme=dark] .colab-df-convert {\n",
              "      background-color: #3B4455;\n",
              "      fill: #D2E3FC;\n",
              "    }\n",
              "\n",
              "    [theme=dark] .colab-df-convert:hover {\n",
              "      background-color: #434B5C;\n",
              "      box-shadow: 0px 1px 3px 1px rgba(0, 0, 0, 0.15);\n",
              "      filter: drop-shadow(0px 1px 2px rgba(0, 0, 0, 0.3));\n",
              "      fill: #FFFFFF;\n",
              "    }\n",
              "  </style>\n",
              "\n",
              "      <script>\n",
              "        const buttonEl =\n",
              "          document.querySelector('#df-cc101279-52d5-4cf9-ba05-9438d3fe3f2e button.colab-df-convert');\n",
              "        buttonEl.style.display =\n",
              "          google.colab.kernel.accessAllowed ? 'block' : 'none';\n",
              "\n",
              "        async function convertToInteractive(key) {\n",
              "          const element = document.querySelector('#df-cc101279-52d5-4cf9-ba05-9438d3fe3f2e');\n",
              "          const dataTable =\n",
              "            await google.colab.kernel.invokeFunction('convertToInteractive',\n",
              "                                                     [key], {});\n",
              "          if (!dataTable) return;\n",
              "\n",
              "          const docLinkHtml = 'Like what you see? Visit the ' +\n",
              "            '<a target=\"_blank\" href=https://colab.research.google.com/notebooks/data_table.ipynb>data table notebook</a>'\n",
              "            + ' to learn more about interactive tables.';\n",
              "          element.innerHTML = '';\n",
              "          dataTable['output_type'] = 'display_data';\n",
              "          await google.colab.output.renderOutput(dataTable, element);\n",
              "          const docLink = document.createElement('div');\n",
              "          docLink.innerHTML = docLinkHtml;\n",
              "          element.appendChild(docLink);\n",
              "        }\n",
              "      </script>\n",
              "    </div>\n",
              "  </div>\n",
              "  "
            ]
          },
          "metadata": {},
          "execution_count": 21
        }
      ],
      "source": [
        "# YOUR CODE BEGINS\n",
        "df_dropped = df_emp.drop(columns=['start_date'])\n",
        "# YOUR CODE ENDS\n",
        "df_dropped"
      ]
    },
    {
      "cell_type": "markdown",
      "metadata": {
        "id": "O5N-pq7Sdxth"
      },
      "source": [
        "#### 🧭 Check Your Work\n",
        "\n",
        "- Once you're done, run the code cell below to test correctness.\n",
        "- ✔️ If the code cell runs without an error, you're good to move on.\n",
        "- ❌ If the code cell throws an error, go back and fix incorrect parts."
      ]
    },
    {
      "cell_type": "code",
      "execution_count": 22,
      "metadata": {
        "id": "nBYVT_eHdxti",
        "nbgrader": {
          "grade": true,
          "grade_id": "challenge-12",
          "locked": true,
          "points": "1",
          "solution": false
        }
      },
      "outputs": [],
      "source": [
        "# Challenge 12 Autograder\n",
        "tc.assertEqual(df_emp.columns.tolist(), df_emp_backup.columns.tolist())\n",
        "tc.assertEqual(df_dropped.columns.tolist(), [\"emp_id\", \"name\", \"dept\", \"office_phone\", \"salary\"])"
      ]
    },
    {
      "cell_type": "markdown",
      "metadata": {
        "id": "1L-6mxIQdxti"
      },
      "source": [
        "---\n",
        "\n",
        "### 🎯 Challenge 13: Drop `start_date` column **in-place**\n",
        "\n",
        "#### 👇 Tasks\n",
        "\n",
        "- ✔️ Drop `start_date` column *in-place*.\n",
        "    - Directly update `df_emp` without creating a new variable.\n",
        "    \n",
        "#### 🚀 Hints\n",
        "\n",
        "Use the following code as a reference.\n",
        "\n",
        "```python\n",
        "my_dataframe.drop(columns=[\"my_column1\"], inplace=True)\n",
        "```"
      ]
    },
    {
      "cell_type": "markdown",
      "metadata": {
        "id": "EBX5cHuMdxti"
      },
      "source": [
        "▶️ Run the code cell below to reset your `df_emp`."
      ]
    },
    {
      "cell_type": "code",
      "execution_count": null,
      "metadata": {
        "id": "G7VUFe5udxti"
      },
      "outputs": [],
      "source": [
        "df_emp = df_emp_backup.copy()\n",
        "df_emp"
      ]
    },
    {
      "cell_type": "code",
      "execution_count": null,
      "metadata": {
        "id": "NCSmQnj3dxti"
      },
      "outputs": [],
      "source": [
        "# YOUR CODE BEGINS\n",
        "# YOUR CODE ENDS\n",
        "df_emp"
      ]
    },
    {
      "cell_type": "markdown",
      "metadata": {
        "id": "clovpdyRdxtj"
      },
      "source": [
        "#### 🧭 Check Your Work\n",
        "\n",
        "- Once you're done, run the code cell below to test correctness.\n",
        "- ✔️ If the code cell runs without an error, you're good to move on.\n",
        "- ❌ If the code cell throws an error, go back and fix incorrect parts."
      ]
    },
    {
      "cell_type": "code",
      "execution_count": null,
      "metadata": {
        "id": "AQBTrIzNdxtj",
        "nbgrader": {
          "grade": true,
          "grade_id": "challenge-13",
          "locked": true,
          "points": "1",
          "solution": false
        }
      },
      "outputs": [],
      "source": [
        "# Challenge 13 Autograder\n",
        "tc.assertEqual(df_emp.columns.tolist(), [\"emp_id\", \"name\", \"dept\", \"office_phone\", \"salary\"])"
      ]
    },
    {
      "cell_type": "markdown",
      "metadata": {
        "id": "yqbe-fo2dxtj"
      },
      "source": [
        "---\n",
        "\n",
        "### 🎯 Challenge 14: Drop `name` and `salary` columns **in-place**\n",
        "\n",
        "#### 👇 Tasks\n",
        "\n",
        "- ✔️ Drop `name` and `salary` columns *in-place*.\n",
        "    - Directly update `df_emp` without creating a new variable.\n",
        "    \n",
        "#### 🚀 Hints\n",
        "\n",
        "Use the following code as a reference.\n",
        "\n",
        "```python\n",
        "my_dataframe.drop(columns=[\"my_column1\", \"my_column2\"], inplace=True)\n",
        "```"
      ]
    },
    {
      "cell_type": "markdown",
      "metadata": {
        "id": "-Vc0eBTTdxtj"
      },
      "source": [
        "▶️ Run the code cell below to reset your `df_emp`."
      ]
    },
    {
      "cell_type": "code",
      "execution_count": null,
      "metadata": {
        "id": "1_Pv_Fsfdxtj"
      },
      "outputs": [],
      "source": [
        "df_emp = df_emp_backup.copy()\n",
        "df_emp"
      ]
    },
    {
      "cell_type": "code",
      "execution_count": null,
      "metadata": {
        "id": "3kLq1SfYdxtk"
      },
      "outputs": [],
      "source": [
        "# YOUR CODE BEGINS\n",
        "# YOUR CODE ENDS\n",
        "df_emp"
      ]
    },
    {
      "cell_type": "markdown",
      "metadata": {
        "id": "Su1NUBDpdxtk"
      },
      "source": [
        "#### 🧭 Check Your Work\n",
        "\n",
        "- Once you're done, run the code cell below to test correctness.\n",
        "- ✔️ If the code cell runs without an error, you're good to move on.\n",
        "- ❌ If the code cell throws an error, go back and fix incorrect parts."
      ]
    },
    {
      "cell_type": "code",
      "execution_count": null,
      "metadata": {
        "id": "MBtWxVpodxtk",
        "nbgrader": {
          "grade": true,
          "grade_id": "challenge-14",
          "locked": true,
          "points": "1",
          "solution": false
        }
      },
      "outputs": [],
      "source": [
        "# Challenge 14 Autograder\n",
        "tc.assertEqual(df_emp.columns.tolist(), [\"emp_id\", \"dept\", \"office_phone\", \"start_date\"])"
      ]
    },
    {
      "cell_type": "markdown",
      "metadata": {
        "id": "XwyWyzb2dxtk"
      },
      "source": [
        "---\n",
        "\n",
        "## 👉 Selecting Subset Columns\n",
        "\n",
        "You can select a subset of columns from a `DataFrame` using `df[list_of_columns]`.\n",
        "\n",
        "You can also use `df.loc[:, list_of_columns]`.\n",
        "\n",
        "```python\n",
        "df[[\"col1\", \"col2\"]]\n",
        "\n",
        "# is equivalent to\n",
        "\n",
        "df.loc[:, [\"col1\", \"col2\"]]\n",
        "```"
      ]
    },
    {
      "cell_type": "markdown",
      "metadata": {
        "id": "PIo9-QiLdxtk"
      },
      "source": [
        "---\n",
        "\n",
        "### 🎯 Challenge 15: `emp_id` and `name`"
      ]
    },
    {
      "cell_type": "markdown",
      "metadata": {
        "id": "1ZbLCPm0dxtl"
      },
      "source": [
        "#### 👇 Tasks\n",
        "\n",
        "- ✔️ Select only `emp_id` and `name` columns from `df_emp` (in the same order).\n",
        "- ✔️ Store the result to a new variable named `df_id_name`.\n",
        "- ✔️ Your `df_emp` should remain unaltered.\n",
        "\n",
        "#### 🚀 Hints\n",
        "\n",
        "Use the following code as a reference.\n",
        "\n",
        "```python\n",
        "df_subset = df[[\"col1\", \"col2\"]]\n",
        "```"
      ]
    },
    {
      "cell_type": "markdown",
      "metadata": {
        "id": "G9G5qUT6dxtl"
      },
      "source": [
        "▶️ Run the code cell below to reset your `df_emp`."
      ]
    },
    {
      "cell_type": "code",
      "execution_count": 23,
      "metadata": {
        "colab": {
          "base_uri": "https://localhost:8080/",
          "height": 173
        },
        "id": "UaxmhrXAdxtl",
        "outputId": "b5b47410-5184-450e-f2e1-88435989a6a3"
      },
      "outputs": [
        {
          "output_type": "execute_result",
          "data": {
            "text/plain": [
              "   emp_id   name       dept   office_phone  start_date  salary\n",
              "0      30  Colby      Sales  (217)123-4500  2017-05-01  202000\n",
              "1      40   Adam  Marketing            NaN  2018-02-01  185000\n",
              "2      10    Eli      Sales            NaN  2020-08-01  240000\n",
              "3      20  Dylan  Marketing  (217)987-6543  2019-12-01  160500"
            ],
            "text/html": [
              "\n",
              "  <div id=\"df-2ecb6201-dbbf-49ed-a767-2399e2deb79d\">\n",
              "    <div class=\"colab-df-container\">\n",
              "      <div>\n",
              "<style scoped>\n",
              "    .dataframe tbody tr th:only-of-type {\n",
              "        vertical-align: middle;\n",
              "    }\n",
              "\n",
              "    .dataframe tbody tr th {\n",
              "        vertical-align: top;\n",
              "    }\n",
              "\n",
              "    .dataframe thead th {\n",
              "        text-align: right;\n",
              "    }\n",
              "</style>\n",
              "<table border=\"1\" class=\"dataframe\">\n",
              "  <thead>\n",
              "    <tr style=\"text-align: right;\">\n",
              "      <th></th>\n",
              "      <th>emp_id</th>\n",
              "      <th>name</th>\n",
              "      <th>dept</th>\n",
              "      <th>office_phone</th>\n",
              "      <th>start_date</th>\n",
              "      <th>salary</th>\n",
              "    </tr>\n",
              "  </thead>\n",
              "  <tbody>\n",
              "    <tr>\n",
              "      <th>0</th>\n",
              "      <td>30</td>\n",
              "      <td>Colby</td>\n",
              "      <td>Sales</td>\n",
              "      <td>(217)123-4500</td>\n",
              "      <td>2017-05-01</td>\n",
              "      <td>202000</td>\n",
              "    </tr>\n",
              "    <tr>\n",
              "      <th>1</th>\n",
              "      <td>40</td>\n",
              "      <td>Adam</td>\n",
              "      <td>Marketing</td>\n",
              "      <td>NaN</td>\n",
              "      <td>2018-02-01</td>\n",
              "      <td>185000</td>\n",
              "    </tr>\n",
              "    <tr>\n",
              "      <th>2</th>\n",
              "      <td>10</td>\n",
              "      <td>Eli</td>\n",
              "      <td>Sales</td>\n",
              "      <td>NaN</td>\n",
              "      <td>2020-08-01</td>\n",
              "      <td>240000</td>\n",
              "    </tr>\n",
              "    <tr>\n",
              "      <th>3</th>\n",
              "      <td>20</td>\n",
              "      <td>Dylan</td>\n",
              "      <td>Marketing</td>\n",
              "      <td>(217)987-6543</td>\n",
              "      <td>2019-12-01</td>\n",
              "      <td>160500</td>\n",
              "    </tr>\n",
              "  </tbody>\n",
              "</table>\n",
              "</div>\n",
              "      <button class=\"colab-df-convert\" onclick=\"convertToInteractive('df-2ecb6201-dbbf-49ed-a767-2399e2deb79d')\"\n",
              "              title=\"Convert this dataframe to an interactive table.\"\n",
              "              style=\"display:none;\">\n",
              "        \n",
              "  <svg xmlns=\"http://www.w3.org/2000/svg\" height=\"24px\"viewBox=\"0 0 24 24\"\n",
              "       width=\"24px\">\n",
              "    <path d=\"M0 0h24v24H0V0z\" fill=\"none\"/>\n",
              "    <path d=\"M18.56 5.44l.94 2.06.94-2.06 2.06-.94-2.06-.94-.94-2.06-.94 2.06-2.06.94zm-11 1L8.5 8.5l.94-2.06 2.06-.94-2.06-.94L8.5 2.5l-.94 2.06-2.06.94zm10 10l.94 2.06.94-2.06 2.06-.94-2.06-.94-.94-2.06-.94 2.06-2.06.94z\"/><path d=\"M17.41 7.96l-1.37-1.37c-.4-.4-.92-.59-1.43-.59-.52 0-1.04.2-1.43.59L10.3 9.45l-7.72 7.72c-.78.78-.78 2.05 0 2.83L4 21.41c.39.39.9.59 1.41.59.51 0 1.02-.2 1.41-.59l7.78-7.78 2.81-2.81c.8-.78.8-2.07 0-2.86zM5.41 20L4 18.59l7.72-7.72 1.47 1.35L5.41 20z\"/>\n",
              "  </svg>\n",
              "      </button>\n",
              "      \n",
              "  <style>\n",
              "    .colab-df-container {\n",
              "      display:flex;\n",
              "      flex-wrap:wrap;\n",
              "      gap: 12px;\n",
              "    }\n",
              "\n",
              "    .colab-df-convert {\n",
              "      background-color: #E8F0FE;\n",
              "      border: none;\n",
              "      border-radius: 50%;\n",
              "      cursor: pointer;\n",
              "      display: none;\n",
              "      fill: #1967D2;\n",
              "      height: 32px;\n",
              "      padding: 0 0 0 0;\n",
              "      width: 32px;\n",
              "    }\n",
              "\n",
              "    .colab-df-convert:hover {\n",
              "      background-color: #E2EBFA;\n",
              "      box-shadow: 0px 1px 2px rgba(60, 64, 67, 0.3), 0px 1px 3px 1px rgba(60, 64, 67, 0.15);\n",
              "      fill: #174EA6;\n",
              "    }\n",
              "\n",
              "    [theme=dark] .colab-df-convert {\n",
              "      background-color: #3B4455;\n",
              "      fill: #D2E3FC;\n",
              "    }\n",
              "\n",
              "    [theme=dark] .colab-df-convert:hover {\n",
              "      background-color: #434B5C;\n",
              "      box-shadow: 0px 1px 3px 1px rgba(0, 0, 0, 0.15);\n",
              "      filter: drop-shadow(0px 1px 2px rgba(0, 0, 0, 0.3));\n",
              "      fill: #FFFFFF;\n",
              "    }\n",
              "  </style>\n",
              "\n",
              "      <script>\n",
              "        const buttonEl =\n",
              "          document.querySelector('#df-2ecb6201-dbbf-49ed-a767-2399e2deb79d button.colab-df-convert');\n",
              "        buttonEl.style.display =\n",
              "          google.colab.kernel.accessAllowed ? 'block' : 'none';\n",
              "\n",
              "        async function convertToInteractive(key) {\n",
              "          const element = document.querySelector('#df-2ecb6201-dbbf-49ed-a767-2399e2deb79d');\n",
              "          const dataTable =\n",
              "            await google.colab.kernel.invokeFunction('convertToInteractive',\n",
              "                                                     [key], {});\n",
              "          if (!dataTable) return;\n",
              "\n",
              "          const docLinkHtml = 'Like what you see? Visit the ' +\n",
              "            '<a target=\"_blank\" href=https://colab.research.google.com/notebooks/data_table.ipynb>data table notebook</a>'\n",
              "            + ' to learn more about interactive tables.';\n",
              "          element.innerHTML = '';\n",
              "          dataTable['output_type'] = 'display_data';\n",
              "          await google.colab.output.renderOutput(dataTable, element);\n",
              "          const docLink = document.createElement('div');\n",
              "          docLink.innerHTML = docLinkHtml;\n",
              "          element.appendChild(docLink);\n",
              "        }\n",
              "      </script>\n",
              "    </div>\n",
              "  </div>\n",
              "  "
            ]
          },
          "metadata": {},
          "execution_count": 23
        }
      ],
      "source": [
        "df_emp = df_emp_backup.copy()\n",
        "df_emp"
      ]
    },
    {
      "cell_type": "code",
      "execution_count": 25,
      "metadata": {
        "colab": {
          "base_uri": "https://localhost:8080/",
          "height": 173
        },
        "id": "ZkurnxBadxtl",
        "outputId": "484e11a7-1977-4937-cecc-da447815c8c0"
      },
      "outputs": [
        {
          "output_type": "execute_result",
          "data": {
            "text/plain": [
              "   emp_id   name\n",
              "0      30  Colby\n",
              "1      40   Adam\n",
              "2      10    Eli\n",
              "3      20  Dylan"
            ],
            "text/html": [
              "\n",
              "  <div id=\"df-515f7194-439a-40f1-a894-84240cada230\">\n",
              "    <div class=\"colab-df-container\">\n",
              "      <div>\n",
              "<style scoped>\n",
              "    .dataframe tbody tr th:only-of-type {\n",
              "        vertical-align: middle;\n",
              "    }\n",
              "\n",
              "    .dataframe tbody tr th {\n",
              "        vertical-align: top;\n",
              "    }\n",
              "\n",
              "    .dataframe thead th {\n",
              "        text-align: right;\n",
              "    }\n",
              "</style>\n",
              "<table border=\"1\" class=\"dataframe\">\n",
              "  <thead>\n",
              "    <tr style=\"text-align: right;\">\n",
              "      <th></th>\n",
              "      <th>emp_id</th>\n",
              "      <th>name</th>\n",
              "    </tr>\n",
              "  </thead>\n",
              "  <tbody>\n",
              "    <tr>\n",
              "      <th>0</th>\n",
              "      <td>30</td>\n",
              "      <td>Colby</td>\n",
              "    </tr>\n",
              "    <tr>\n",
              "      <th>1</th>\n",
              "      <td>40</td>\n",
              "      <td>Adam</td>\n",
              "    </tr>\n",
              "    <tr>\n",
              "      <th>2</th>\n",
              "      <td>10</td>\n",
              "      <td>Eli</td>\n",
              "    </tr>\n",
              "    <tr>\n",
              "      <th>3</th>\n",
              "      <td>20</td>\n",
              "      <td>Dylan</td>\n",
              "    </tr>\n",
              "  </tbody>\n",
              "</table>\n",
              "</div>\n",
              "      <button class=\"colab-df-convert\" onclick=\"convertToInteractive('df-515f7194-439a-40f1-a894-84240cada230')\"\n",
              "              title=\"Convert this dataframe to an interactive table.\"\n",
              "              style=\"display:none;\">\n",
              "        \n",
              "  <svg xmlns=\"http://www.w3.org/2000/svg\" height=\"24px\"viewBox=\"0 0 24 24\"\n",
              "       width=\"24px\">\n",
              "    <path d=\"M0 0h24v24H0V0z\" fill=\"none\"/>\n",
              "    <path d=\"M18.56 5.44l.94 2.06.94-2.06 2.06-.94-2.06-.94-.94-2.06-.94 2.06-2.06.94zm-11 1L8.5 8.5l.94-2.06 2.06-.94-2.06-.94L8.5 2.5l-.94 2.06-2.06.94zm10 10l.94 2.06.94-2.06 2.06-.94-2.06-.94-.94-2.06-.94 2.06-2.06.94z\"/><path d=\"M17.41 7.96l-1.37-1.37c-.4-.4-.92-.59-1.43-.59-.52 0-1.04.2-1.43.59L10.3 9.45l-7.72 7.72c-.78.78-.78 2.05 0 2.83L4 21.41c.39.39.9.59 1.41.59.51 0 1.02-.2 1.41-.59l7.78-7.78 2.81-2.81c.8-.78.8-2.07 0-2.86zM5.41 20L4 18.59l7.72-7.72 1.47 1.35L5.41 20z\"/>\n",
              "  </svg>\n",
              "      </button>\n",
              "      \n",
              "  <style>\n",
              "    .colab-df-container {\n",
              "      display:flex;\n",
              "      flex-wrap:wrap;\n",
              "      gap: 12px;\n",
              "    }\n",
              "\n",
              "    .colab-df-convert {\n",
              "      background-color: #E8F0FE;\n",
              "      border: none;\n",
              "      border-radius: 50%;\n",
              "      cursor: pointer;\n",
              "      display: none;\n",
              "      fill: #1967D2;\n",
              "      height: 32px;\n",
              "      padding: 0 0 0 0;\n",
              "      width: 32px;\n",
              "    }\n",
              "\n",
              "    .colab-df-convert:hover {\n",
              "      background-color: #E2EBFA;\n",
              "      box-shadow: 0px 1px 2px rgba(60, 64, 67, 0.3), 0px 1px 3px 1px rgba(60, 64, 67, 0.15);\n",
              "      fill: #174EA6;\n",
              "    }\n",
              "\n",
              "    [theme=dark] .colab-df-convert {\n",
              "      background-color: #3B4455;\n",
              "      fill: #D2E3FC;\n",
              "    }\n",
              "\n",
              "    [theme=dark] .colab-df-convert:hover {\n",
              "      background-color: #434B5C;\n",
              "      box-shadow: 0px 1px 3px 1px rgba(0, 0, 0, 0.15);\n",
              "      filter: drop-shadow(0px 1px 2px rgba(0, 0, 0, 0.3));\n",
              "      fill: #FFFFFF;\n",
              "    }\n",
              "  </style>\n",
              "\n",
              "      <script>\n",
              "        const buttonEl =\n",
              "          document.querySelector('#df-515f7194-439a-40f1-a894-84240cada230 button.colab-df-convert');\n",
              "        buttonEl.style.display =\n",
              "          google.colab.kernel.accessAllowed ? 'block' : 'none';\n",
              "\n",
              "        async function convertToInteractive(key) {\n",
              "          const element = document.querySelector('#df-515f7194-439a-40f1-a894-84240cada230');\n",
              "          const dataTable =\n",
              "            await google.colab.kernel.invokeFunction('convertToInteractive',\n",
              "                                                     [key], {});\n",
              "          if (!dataTable) return;\n",
              "\n",
              "          const docLinkHtml = 'Like what you see? Visit the ' +\n",
              "            '<a target=\"_blank\" href=https://colab.research.google.com/notebooks/data_table.ipynb>data table notebook</a>'\n",
              "            + ' to learn more about interactive tables.';\n",
              "          element.innerHTML = '';\n",
              "          dataTable['output_type'] = 'display_data';\n",
              "          await google.colab.output.renderOutput(dataTable, element);\n",
              "          const docLink = document.createElement('div');\n",
              "          docLink.innerHTML = docLinkHtml;\n",
              "          element.appendChild(docLink);\n",
              "        }\n",
              "      </script>\n",
              "    </div>\n",
              "  </div>\n",
              "  "
            ]
          },
          "metadata": {},
          "execution_count": 25
        }
      ],
      "source": [
        "# YOUR CODE BEGINS\n",
        "df_id_name = df_emp[['emp_id','name']]\n",
        "# YOUR CODE ENDS\n",
        "df_id_name"
      ]
    },
    {
      "cell_type": "markdown",
      "metadata": {
        "id": "P7KXGwnMdxtl"
      },
      "source": [
        "#### 🧭 Check Your Work\n",
        "\n",
        "- Once you're done, run the code cell below to test correctness.\n",
        "- ✔️ If the code cell runs without an error, you're good to move on.\n",
        "- ❌ If the code cell throws an error, go back and fix incorrect parts."
      ]
    },
    {
      "cell_type": "code",
      "execution_count": 26,
      "metadata": {
        "id": "iQx2lqUZdxtm",
        "nbgrader": {
          "grade": true,
          "grade_id": "challenge-15",
          "locked": true,
          "points": "1",
          "solution": false
        }
      },
      "outputs": [],
      "source": [
        "# Challenge 15 Autograder\n",
        "pd.testing.assert_frame_equal(df_emp, df_emp_backup)\n",
        "pd.testing.assert_frame_equal(df_emp_backup[[\"emp_id\", \"name\"]], df_id_name, check_like=True)"
      ]
    },
    {
      "cell_type": "markdown",
      "metadata": {
        "id": "bPhEFZkLdxtm"
      },
      "source": [
        "---\n",
        "\n",
        "### 🎯 Challenge 16: `emp_id`, `name`, `dept`, `salary`\n",
        "\n",
        "#### 👇 Tasks\n",
        "\n",
        "- ✔️ Select `emp_id`, `name`, `dept`, and `salary` columns from `df_emp` (in the same order).\n",
        "- ✔️ Store the result to a new variable named `df_subset`.\n",
        "- ✔️ Your `df_emp` should remain unaltered.\n",
        "\n",
        "#### 🚀 Hints\n",
        "\n",
        "Use the following code as a reference.\n",
        "\n",
        "```python\n",
        "df_subset = df[[\"col1\", \"col2\"]]\n",
        "```"
      ]
    },
    {
      "cell_type": "markdown",
      "metadata": {
        "id": "tACsK4OQdxtm"
      },
      "source": [
        "▶️ Run the code cell below to reset your `df_emp`."
      ]
    },
    {
      "cell_type": "code",
      "execution_count": null,
      "metadata": {
        "id": "499Sk3n9dxtm"
      },
      "outputs": [],
      "source": [
        "df_emp = df_emp_backup.copy()\n",
        "df_emp"
      ]
    },
    {
      "cell_type": "code",
      "execution_count": null,
      "metadata": {
        "id": "wlS9YGvKdxtm"
      },
      "outputs": [],
      "source": [
        "# YOUR CODE BEGINS\n",
        "# YOUR CODE ENDS\n",
        "df_subset"
      ]
    },
    {
      "cell_type": "markdown",
      "metadata": {
        "id": "mRkabQLJdxtm"
      },
      "source": [
        "#### 🧭 Check Your Work\n",
        "\n",
        "- Once you're done, run the code cell below to test correctness.\n",
        "- ✔️ If the code cell runs without an error, you're good to move on.\n",
        "- ❌ If the code cell throws an error, go back and fix incorrect parts."
      ]
    },
    {
      "cell_type": "code",
      "execution_count": null,
      "metadata": {
        "id": "fwi6MLqhdxtn",
        "nbgrader": {
          "grade": true,
          "grade_id": "challenge-16",
          "locked": true,
          "points": "1",
          "solution": false
        }
      },
      "outputs": [],
      "source": [
        "# Challenge 16 Autograder\n",
        "pd.testing.assert_frame_equal(df_emp, df_emp_backup)\n",
        "pd.testing.assert_frame_equal(df_emp_backup[[\"emp_id\", \"name\", \"dept\", \"salary\"]], df_subset)"
      ]
    },
    {
      "cell_type": "markdown",
      "metadata": {
        "id": "hsUboLqadxtn"
      },
      "source": [
        "---\n",
        "\n",
        "## 👉 Working with Missing Values\n",
        "\n",
        "A dataset commonly can contain one or more missing values. Pandas provides a flexible set of methods for you to work with missing values. Our first discussion of missing values will demonstrate how to find missing values.\n",
        "\n",
        "Missing values can be denoted by multiple *markers*. Here are a few common markers.\n",
        "\n",
        "- `NaN`: NaN stands for \"not a number\". For simplicity and performance's sake, Pandas has traditionally used `NaN` to denote missing values.\n",
        "- `None` (python's built-in type)\n",
        "- `NA`\n",
        "- `NaT`"
      ]
    },
    {
      "cell_type": "markdown",
      "metadata": {
        "id": "xKjJko1kdxtn"
      },
      "source": [
        "---\n",
        "\n",
        "### 📌 Load data"
      ]
    },
    {
      "cell_type": "markdown",
      "metadata": {
        "id": "6_zdUafedxtn"
      },
      "source": [
        "▶️ Run the code cell below to create a new `DataFrame` named `df_you`."
      ]
    },
    {
      "cell_type": "code",
      "execution_count": 27,
      "metadata": {
        "colab": {
          "base_uri": "https://localhost:8080/",
          "height": 204
        },
        "id": "LcP6AZXedxtn",
        "outputId": "32b729e4-112b-4b45-d2d8-d21c2277a32d"
      },
      "outputs": [
        {
          "output_type": "execute_result",
          "data": {
            "text/plain": [
              "                name                   major1     major2      city  \\\n",
              "0   Nishita Amberkar     Computer Engineering  Marketing   Fairfax   \n",
              "1      Alvino Angelo         Computer Science        NaN   Jakarta   \n",
              "2  Guadalupe Badillo  Finance in Agribusiness  Marketing   Chicago   \n",
              "3      Denise Bahena     Information Sciences        NaN   Chicago   \n",
              "4        Arnav Batta         Computer Science        T&M  Palatine   \n",
              "\n",
              "       fav_restaurant         fav_movie  has_iphone  \n",
              "0         Chick-fil-a   Ford vs Ferrari       False  \n",
              "1            Chipotle  Edge of Tomorrow       False  \n",
              "2       Fiaschetteria         Toy Story        True  \n",
              "3            Chipotle      Little Women       False  \n",
              "4  Huaraches Moroleon      Interstellar        True  "
            ],
            "text/html": [
              "\n",
              "  <div id=\"df-c56cc144-2f3d-4a84-b4db-13d4c8436748\">\n",
              "    <div class=\"colab-df-container\">\n",
              "      <div>\n",
              "<style scoped>\n",
              "    .dataframe tbody tr th:only-of-type {\n",
              "        vertical-align: middle;\n",
              "    }\n",
              "\n",
              "    .dataframe tbody tr th {\n",
              "        vertical-align: top;\n",
              "    }\n",
              "\n",
              "    .dataframe thead th {\n",
              "        text-align: right;\n",
              "    }\n",
              "</style>\n",
              "<table border=\"1\" class=\"dataframe\">\n",
              "  <thead>\n",
              "    <tr style=\"text-align: right;\">\n",
              "      <th></th>\n",
              "      <th>name</th>\n",
              "      <th>major1</th>\n",
              "      <th>major2</th>\n",
              "      <th>city</th>\n",
              "      <th>fav_restaurant</th>\n",
              "      <th>fav_movie</th>\n",
              "      <th>has_iphone</th>\n",
              "    </tr>\n",
              "  </thead>\n",
              "  <tbody>\n",
              "    <tr>\n",
              "      <th>0</th>\n",
              "      <td>Nishita Amberkar</td>\n",
              "      <td>Computer Engineering</td>\n",
              "      <td>Marketing</td>\n",
              "      <td>Fairfax</td>\n",
              "      <td>Chick-fil-a</td>\n",
              "      <td>Ford vs Ferrari</td>\n",
              "      <td>False</td>\n",
              "    </tr>\n",
              "    <tr>\n",
              "      <th>1</th>\n",
              "      <td>Alvino Angelo</td>\n",
              "      <td>Computer Science</td>\n",
              "      <td>NaN</td>\n",
              "      <td>Jakarta</td>\n",
              "      <td>Chipotle</td>\n",
              "      <td>Edge of Tomorrow</td>\n",
              "      <td>False</td>\n",
              "    </tr>\n",
              "    <tr>\n",
              "      <th>2</th>\n",
              "      <td>Guadalupe Badillo</td>\n",
              "      <td>Finance in Agribusiness</td>\n",
              "      <td>Marketing</td>\n",
              "      <td>Chicago</td>\n",
              "      <td>Fiaschetteria</td>\n",
              "      <td>Toy Story</td>\n",
              "      <td>True</td>\n",
              "    </tr>\n",
              "    <tr>\n",
              "      <th>3</th>\n",
              "      <td>Denise Bahena</td>\n",
              "      <td>Information Sciences</td>\n",
              "      <td>NaN</td>\n",
              "      <td>Chicago</td>\n",
              "      <td>Chipotle</td>\n",
              "      <td>Little Women</td>\n",
              "      <td>False</td>\n",
              "    </tr>\n",
              "    <tr>\n",
              "      <th>4</th>\n",
              "      <td>Arnav Batta</td>\n",
              "      <td>Computer Science</td>\n",
              "      <td>T&amp;M</td>\n",
              "      <td>Palatine</td>\n",
              "      <td>Huaraches Moroleon</td>\n",
              "      <td>Interstellar</td>\n",
              "      <td>True</td>\n",
              "    </tr>\n",
              "  </tbody>\n",
              "</table>\n",
              "</div>\n",
              "      <button class=\"colab-df-convert\" onclick=\"convertToInteractive('df-c56cc144-2f3d-4a84-b4db-13d4c8436748')\"\n",
              "              title=\"Convert this dataframe to an interactive table.\"\n",
              "              style=\"display:none;\">\n",
              "        \n",
              "  <svg xmlns=\"http://www.w3.org/2000/svg\" height=\"24px\"viewBox=\"0 0 24 24\"\n",
              "       width=\"24px\">\n",
              "    <path d=\"M0 0h24v24H0V0z\" fill=\"none\"/>\n",
              "    <path d=\"M18.56 5.44l.94 2.06.94-2.06 2.06-.94-2.06-.94-.94-2.06-.94 2.06-2.06.94zm-11 1L8.5 8.5l.94-2.06 2.06-.94-2.06-.94L8.5 2.5l-.94 2.06-2.06.94zm10 10l.94 2.06.94-2.06 2.06-.94-2.06-.94-.94-2.06-.94 2.06-2.06.94z\"/><path d=\"M17.41 7.96l-1.37-1.37c-.4-.4-.92-.59-1.43-.59-.52 0-1.04.2-1.43.59L10.3 9.45l-7.72 7.72c-.78.78-.78 2.05 0 2.83L4 21.41c.39.39.9.59 1.41.59.51 0 1.02-.2 1.41-.59l7.78-7.78 2.81-2.81c.8-.78.8-2.07 0-2.86zM5.41 20L4 18.59l7.72-7.72 1.47 1.35L5.41 20z\"/>\n",
              "  </svg>\n",
              "      </button>\n",
              "      \n",
              "  <style>\n",
              "    .colab-df-container {\n",
              "      display:flex;\n",
              "      flex-wrap:wrap;\n",
              "      gap: 12px;\n",
              "    }\n",
              "\n",
              "    .colab-df-convert {\n",
              "      background-color: #E8F0FE;\n",
              "      border: none;\n",
              "      border-radius: 50%;\n",
              "      cursor: pointer;\n",
              "      display: none;\n",
              "      fill: #1967D2;\n",
              "      height: 32px;\n",
              "      padding: 0 0 0 0;\n",
              "      width: 32px;\n",
              "    }\n",
              "\n",
              "    .colab-df-convert:hover {\n",
              "      background-color: #E2EBFA;\n",
              "      box-shadow: 0px 1px 2px rgba(60, 64, 67, 0.3), 0px 1px 3px 1px rgba(60, 64, 67, 0.15);\n",
              "      fill: #174EA6;\n",
              "    }\n",
              "\n",
              "    [theme=dark] .colab-df-convert {\n",
              "      background-color: #3B4455;\n",
              "      fill: #D2E3FC;\n",
              "    }\n",
              "\n",
              "    [theme=dark] .colab-df-convert:hover {\n",
              "      background-color: #434B5C;\n",
              "      box-shadow: 0px 1px 3px 1px rgba(0, 0, 0, 0.15);\n",
              "      filter: drop-shadow(0px 1px 2px rgba(0, 0, 0, 0.3));\n",
              "      fill: #FFFFFF;\n",
              "    }\n",
              "  </style>\n",
              "\n",
              "      <script>\n",
              "        const buttonEl =\n",
              "          document.querySelector('#df-c56cc144-2f3d-4a84-b4db-13d4c8436748 button.colab-df-convert');\n",
              "        buttonEl.style.display =\n",
              "          google.colab.kernel.accessAllowed ? 'block' : 'none';\n",
              "\n",
              "        async function convertToInteractive(key) {\n",
              "          const element = document.querySelector('#df-c56cc144-2f3d-4a84-b4db-13d4c8436748');\n",
              "          const dataTable =\n",
              "            await google.colab.kernel.invokeFunction('convertToInteractive',\n",
              "                                                     [key], {});\n",
              "          if (!dataTable) return;\n",
              "\n",
              "          const docLinkHtml = 'Like what you see? Visit the ' +\n",
              "            '<a target=\"_blank\" href=https://colab.research.google.com/notebooks/data_table.ipynb>data table notebook</a>'\n",
              "            + ' to learn more about interactive tables.';\n",
              "          element.innerHTML = '';\n",
              "          dataTable['output_type'] = 'display_data';\n",
              "          await google.colab.output.renderOutput(dataTable, element);\n",
              "          const docLink = document.createElement('div');\n",
              "          docLink.innerHTML = docLinkHtml;\n",
              "          element.appendChild(docLink);\n",
              "        }\n",
              "      </script>\n",
              "    </div>\n",
              "  </div>\n",
              "  "
            ]
          },
          "metadata": {},
          "execution_count": 27
        }
      ],
      "source": [
        "# DO NOT CHANGE THE CODE IN THIS CELL\n",
        "df_you = pd.read_csv(\"https://github.com/bdi475/datasets/raw/main/about-you.csv\")\n",
        "\n",
        "# Used to keep a clean copy\n",
        "df_you_backup = df_you.copy()\n",
        "\n",
        "# head() displays the first 5 rows of a DataFrame\n",
        "df_you.head()"
      ]
    },
    {
      "cell_type": "markdown",
      "metadata": {
        "id": "pXxHu-tPdxto"
      },
      "source": [
        "The table below describes each column in `df_you`."
      ]
    },
    {
      "cell_type": "markdown",
      "metadata": {
        "id": "zrs-2R9Adxto"
      },
      "source": [
        "| Column Name             | Description                                               |\n",
        "|-------------------------|-----------------------------------------------------------|\n",
        "| name                    | First name                                                |\n",
        "| major1                  | Major                                                     |\n",
        "| major2                  | Second major OR minor (blank if no second major or minor) |\n",
        "| city                    | City the person is from                                   |\n",
        "| distance_from_champaign | Straight distance from the city to Champaign in miles     |\n",
        "| fav_restaurant          | Favorite restaurant (blank if no restaurant was given)    |\n",
        "| has_iphone              | Whether the person use an iPhone                          |"
      ]
    },
    {
      "cell_type": "markdown",
      "metadata": {
        "id": "9z8y7NLGdxto"
      },
      "source": [
        "---\n",
        "\n",
        "### 🎯 Challenge 17: People from Naperville"
      ]
    },
    {
      "cell_type": "markdown",
      "metadata": {
        "id": "czq7gFTLdxto"
      },
      "source": [
        "#### 👇 Tasks\n",
        "\n",
        "- ✔️ Using `df_you`, filter rows where the person is from `\"Naperville\"`.\n",
        "    - Check whether the `city` column is equal to `\"Naperville\"`.\n",
        "    - Store the result to a new variable named `df_naperville`.\n",
        "- ✔️ `df_you` should remain unaltered after your code."
      ]
    },
    {
      "cell_type": "code",
      "execution_count": 28,
      "metadata": {
        "colab": {
          "base_uri": "https://localhost:8080/",
          "height": 111
        },
        "id": "5iTeWUaHdxto",
        "outputId": "bd03ebf6-d22d-4068-8aa2-d5d2eec13788"
      },
      "outputs": [
        {
          "output_type": "execute_result",
          "data": {
            "text/plain": [
              "                name                major1 major2        city fav_restaurant  \\\n",
              "18   Brooke Lafferty  Information Sciences    NaN  Naperville          Maize   \n",
              "25  Alekhya Nathella  Information Sciences    NaN  Naperville       Chipotle   \n",
              "\n",
              "   fav_movie  has_iphone  \n",
              "18     Taken        True  \n",
              "25     Moana        True  "
            ],
            "text/html": [
              "\n",
              "  <div id=\"df-29938cc9-caa5-43de-bdaa-80003782e762\">\n",
              "    <div class=\"colab-df-container\">\n",
              "      <div>\n",
              "<style scoped>\n",
              "    .dataframe tbody tr th:only-of-type {\n",
              "        vertical-align: middle;\n",
              "    }\n",
              "\n",
              "    .dataframe tbody tr th {\n",
              "        vertical-align: top;\n",
              "    }\n",
              "\n",
              "    .dataframe thead th {\n",
              "        text-align: right;\n",
              "    }\n",
              "</style>\n",
              "<table border=\"1\" class=\"dataframe\">\n",
              "  <thead>\n",
              "    <tr style=\"text-align: right;\">\n",
              "      <th></th>\n",
              "      <th>name</th>\n",
              "      <th>major1</th>\n",
              "      <th>major2</th>\n",
              "      <th>city</th>\n",
              "      <th>fav_restaurant</th>\n",
              "      <th>fav_movie</th>\n",
              "      <th>has_iphone</th>\n",
              "    </tr>\n",
              "  </thead>\n",
              "  <tbody>\n",
              "    <tr>\n",
              "      <th>18</th>\n",
              "      <td>Brooke Lafferty</td>\n",
              "      <td>Information Sciences</td>\n",
              "      <td>NaN</td>\n",
              "      <td>Naperville</td>\n",
              "      <td>Maize</td>\n",
              "      <td>Taken</td>\n",
              "      <td>True</td>\n",
              "    </tr>\n",
              "    <tr>\n",
              "      <th>25</th>\n",
              "      <td>Alekhya Nathella</td>\n",
              "      <td>Information Sciences</td>\n",
              "      <td>NaN</td>\n",
              "      <td>Naperville</td>\n",
              "      <td>Chipotle</td>\n",
              "      <td>Moana</td>\n",
              "      <td>True</td>\n",
              "    </tr>\n",
              "  </tbody>\n",
              "</table>\n",
              "</div>\n",
              "      <button class=\"colab-df-convert\" onclick=\"convertToInteractive('df-29938cc9-caa5-43de-bdaa-80003782e762')\"\n",
              "              title=\"Convert this dataframe to an interactive table.\"\n",
              "              style=\"display:none;\">\n",
              "        \n",
              "  <svg xmlns=\"http://www.w3.org/2000/svg\" height=\"24px\"viewBox=\"0 0 24 24\"\n",
              "       width=\"24px\">\n",
              "    <path d=\"M0 0h24v24H0V0z\" fill=\"none\"/>\n",
              "    <path d=\"M18.56 5.44l.94 2.06.94-2.06 2.06-.94-2.06-.94-.94-2.06-.94 2.06-2.06.94zm-11 1L8.5 8.5l.94-2.06 2.06-.94-2.06-.94L8.5 2.5l-.94 2.06-2.06.94zm10 10l.94 2.06.94-2.06 2.06-.94-2.06-.94-.94-2.06-.94 2.06-2.06.94z\"/><path d=\"M17.41 7.96l-1.37-1.37c-.4-.4-.92-.59-1.43-.59-.52 0-1.04.2-1.43.59L10.3 9.45l-7.72 7.72c-.78.78-.78 2.05 0 2.83L4 21.41c.39.39.9.59 1.41.59.51 0 1.02-.2 1.41-.59l7.78-7.78 2.81-2.81c.8-.78.8-2.07 0-2.86zM5.41 20L4 18.59l7.72-7.72 1.47 1.35L5.41 20z\"/>\n",
              "  </svg>\n",
              "      </button>\n",
              "      \n",
              "  <style>\n",
              "    .colab-df-container {\n",
              "      display:flex;\n",
              "      flex-wrap:wrap;\n",
              "      gap: 12px;\n",
              "    }\n",
              "\n",
              "    .colab-df-convert {\n",
              "      background-color: #E8F0FE;\n",
              "      border: none;\n",
              "      border-radius: 50%;\n",
              "      cursor: pointer;\n",
              "      display: none;\n",
              "      fill: #1967D2;\n",
              "      height: 32px;\n",
              "      padding: 0 0 0 0;\n",
              "      width: 32px;\n",
              "    }\n",
              "\n",
              "    .colab-df-convert:hover {\n",
              "      background-color: #E2EBFA;\n",
              "      box-shadow: 0px 1px 2px rgba(60, 64, 67, 0.3), 0px 1px 3px 1px rgba(60, 64, 67, 0.15);\n",
              "      fill: #174EA6;\n",
              "    }\n",
              "\n",
              "    [theme=dark] .colab-df-convert {\n",
              "      background-color: #3B4455;\n",
              "      fill: #D2E3FC;\n",
              "    }\n",
              "\n",
              "    [theme=dark] .colab-df-convert:hover {\n",
              "      background-color: #434B5C;\n",
              "      box-shadow: 0px 1px 3px 1px rgba(0, 0, 0, 0.15);\n",
              "      filter: drop-shadow(0px 1px 2px rgba(0, 0, 0, 0.3));\n",
              "      fill: #FFFFFF;\n",
              "    }\n",
              "  </style>\n",
              "\n",
              "      <script>\n",
              "        const buttonEl =\n",
              "          document.querySelector('#df-29938cc9-caa5-43de-bdaa-80003782e762 button.colab-df-convert');\n",
              "        buttonEl.style.display =\n",
              "          google.colab.kernel.accessAllowed ? 'block' : 'none';\n",
              "\n",
              "        async function convertToInteractive(key) {\n",
              "          const element = document.querySelector('#df-29938cc9-caa5-43de-bdaa-80003782e762');\n",
              "          const dataTable =\n",
              "            await google.colab.kernel.invokeFunction('convertToInteractive',\n",
              "                                                     [key], {});\n",
              "          if (!dataTable) return;\n",
              "\n",
              "          const docLinkHtml = 'Like what you see? Visit the ' +\n",
              "            '<a target=\"_blank\" href=https://colab.research.google.com/notebooks/data_table.ipynb>data table notebook</a>'\n",
              "            + ' to learn more about interactive tables.';\n",
              "          element.innerHTML = '';\n",
              "          dataTable['output_type'] = 'display_data';\n",
              "          await google.colab.output.renderOutput(dataTable, element);\n",
              "          const docLink = document.createElement('div');\n",
              "          docLink.innerHTML = docLinkHtml;\n",
              "          element.appendChild(docLink);\n",
              "        }\n",
              "      </script>\n",
              "    </div>\n",
              "  </div>\n",
              "  "
            ]
          },
          "metadata": {},
          "execution_count": 28
        }
      ],
      "source": [
        "# YOUR CODE BEGINS\n",
        "df_naperville = df_you[df_you['city']=='Naperville']\n",
        "# YOUR CODE ENDS\n",
        "df_naperville"
      ]
    },
    {
      "cell_type": "markdown",
      "metadata": {
        "id": "00bdXWfUdxtp"
      },
      "source": [
        "#### 🧭 Check Your Work\n",
        "\n",
        "- Once you're done, run the code cell below to test correctness.\n",
        "- ✔️ If the code cell runs without an error, you're good to move on.\n",
        "- ❌ If the code cell throws an error, go back and fix incorrect parts."
      ]
    },
    {
      "cell_type": "code",
      "execution_count": 29,
      "metadata": {
        "id": "URPaw3Bmdxtp",
        "nbgrader": {
          "grade": true,
          "grade_id": "challenge-17",
          "locked": true,
          "points": "1",
          "solution": false
        }
      },
      "outputs": [],
      "source": [
        "# Challenge 17 Autograder\n",
        "# df_you should remain unaltered\n",
        "pd.testing.assert_frame_equal(df_you, df_you_backup)\n",
        "\n",
        "pd.testing.assert_frame_equal(df_naperville.sort_values(df_naperville.columns.tolist()).reset_index(drop=True),\n",
        "                              df_you_backup.query(f'{\"cItY\".lower()} == \"{\"NaPerVillE\".capitalize()}\"')\n",
        "                                 .sort_values(df_you_backup.columns.tolist()).reset_index(drop=True))"
      ]
    },
    {
      "cell_type": "markdown",
      "metadata": {
        "id": "YsBnPop-dxtp"
      },
      "source": [
        "---\n",
        "\n",
        "### 🎯 Challenge 18: Anyone with a non-missing `major2`"
      ]
    },
    {
      "cell_type": "markdown",
      "metadata": {
        "id": "J2LSWArwdxtp"
      },
      "source": [
        "#### 👇 Tasks\n",
        "\n",
        "- ✔️ Using `df_you`, filter rows where the person has a second major or a minor.\n",
        "    - You're looking for rows where `major2` is not `NaN`.\n",
        "- ✔️ `NaN` is a special value to denote missing value. You must use `my_series.isna()` or `my_series.notna()` to check whether a row contains a missing value or not.\n",
        "- ✔️ Store the result to a new variable named `df_major2`.\n",
        "- ✔️ `df_you` should remain unaltered after your code."
      ]
    },
    {
      "cell_type": "markdown",
      "metadata": {
        "id": "N2QJdhyvdxtp"
      },
      "source": [
        "#### 🚀 Hints\n",
        "\n",
        "- `my_series.notna()` can be used to check whether a row contains a missing value or not.\n",
        "\n",
        "![notna](https://github.com/bdi475/images/blob/main/pandas/notna-series.png?raw=true)"
      ]
    },
    {
      "cell_type": "code",
      "execution_count": 30,
      "metadata": {
        "colab": {
          "base_uri": "https://localhost:8080/",
          "height": 483
        },
        "id": "j8q4nApWdxtq",
        "outputId": "e504b488-e9e3-4b02-ef12-ed064b5a46d9"
      },
      "outputs": [
        {
          "output_type": "execute_result",
          "data": {
            "text/plain": [
              "                 name                          major1  \\\n",
              "0    Nishita Amberkar            Computer Engineering   \n",
              "2   Guadalupe Badillo         Finance in Agribusiness   \n",
              "4         Arnav Batta                Computer Science   \n",
              "8       Shaurya Gupta                       Economics   \n",
              "10      Clayton Haase                    Econometrics   \n",
              "11  Wesley Hollenberg               Political Science   \n",
              "12       Tianyi Huang                     Mathematics   \n",
              "14   Nupur Khandelwal            Information Sciences   \n",
              "17         Marc Kusno       Econometrics & Quant Econ   \n",
              "20           Yeung Lo                       Nondegree   \n",
              "21           Matt Mak                            ACES   \n",
              "29        Diego Rocha  Consumer Economics and Finance   \n",
              "32    Robbie Stirling                       Economics   \n",
              "42  Alejandro Zenteno                Community Health   \n",
              "\n",
              "                        major2        city      fav_restaurant  \\\n",
              "0                    Marketing     Fairfax         Chick-fil-a   \n",
              "2                    Marketing     Chicago       Fiaschetteria   \n",
              "4                          T&M    Palatine  Huaraches Moroleon   \n",
              "8                           CS   Bangalore           Huaraches   \n",
              "10                 Informatics   Lexington           Black Dog   \n",
              "11  Journalism and Informatics  Northbrook  Lou Malnatis Pizza   \n",
              "12                    Business    Oak Park            Chipotle   \n",
              "14                  Statistics     Chicago       Falco's Pizza   \n",
              "17                     Finance      Urbana     Pizzaria Antica   \n",
              "20     Supply Chain Management        Wuxi             Shiquan   \n",
              "21                  Philosophy   Mundelein                 NaN   \n",
              "29                 Informatics     Chicago               Canes   \n",
              "32    Informatics and Business   San Diego        Bangkok Thai   \n",
              "42                    Business     Chicago           Giordanos   \n",
              "\n",
              "                   fav_movie  has_iphone  \n",
              "0            Ford vs Ferrari       False  \n",
              "2                  Toy Story        True  \n",
              "4               Interstellar        True  \n",
              "8                Stand By Me        True  \n",
              "10              The Revenant        True  \n",
              "11                 Moneyball        True  \n",
              "12                  Rounders        True  \n",
              "14              Stepbrothers        True  \n",
              "17                       NaN        True  \n",
              "20              Interstellar        True  \n",
              "21  The Shawshank Redemption        True  \n",
              "29           The Dark Knight        True  \n",
              "32                      1917        True  \n",
              "42                  Avengers        True  "
            ],
            "text/html": [
              "\n",
              "  <div id=\"df-d19d876e-bfa9-4254-a69a-89bdc29fb057\">\n",
              "    <div class=\"colab-df-container\">\n",
              "      <div>\n",
              "<style scoped>\n",
              "    .dataframe tbody tr th:only-of-type {\n",
              "        vertical-align: middle;\n",
              "    }\n",
              "\n",
              "    .dataframe tbody tr th {\n",
              "        vertical-align: top;\n",
              "    }\n",
              "\n",
              "    .dataframe thead th {\n",
              "        text-align: right;\n",
              "    }\n",
              "</style>\n",
              "<table border=\"1\" class=\"dataframe\">\n",
              "  <thead>\n",
              "    <tr style=\"text-align: right;\">\n",
              "      <th></th>\n",
              "      <th>name</th>\n",
              "      <th>major1</th>\n",
              "      <th>major2</th>\n",
              "      <th>city</th>\n",
              "      <th>fav_restaurant</th>\n",
              "      <th>fav_movie</th>\n",
              "      <th>has_iphone</th>\n",
              "    </tr>\n",
              "  </thead>\n",
              "  <tbody>\n",
              "    <tr>\n",
              "      <th>0</th>\n",
              "      <td>Nishita Amberkar</td>\n",
              "      <td>Computer Engineering</td>\n",
              "      <td>Marketing</td>\n",
              "      <td>Fairfax</td>\n",
              "      <td>Chick-fil-a</td>\n",
              "      <td>Ford vs Ferrari</td>\n",
              "      <td>False</td>\n",
              "    </tr>\n",
              "    <tr>\n",
              "      <th>2</th>\n",
              "      <td>Guadalupe Badillo</td>\n",
              "      <td>Finance in Agribusiness</td>\n",
              "      <td>Marketing</td>\n",
              "      <td>Chicago</td>\n",
              "      <td>Fiaschetteria</td>\n",
              "      <td>Toy Story</td>\n",
              "      <td>True</td>\n",
              "    </tr>\n",
              "    <tr>\n",
              "      <th>4</th>\n",
              "      <td>Arnav Batta</td>\n",
              "      <td>Computer Science</td>\n",
              "      <td>T&amp;M</td>\n",
              "      <td>Palatine</td>\n",
              "      <td>Huaraches Moroleon</td>\n",
              "      <td>Interstellar</td>\n",
              "      <td>True</td>\n",
              "    </tr>\n",
              "    <tr>\n",
              "      <th>8</th>\n",
              "      <td>Shaurya Gupta</td>\n",
              "      <td>Economics</td>\n",
              "      <td>CS</td>\n",
              "      <td>Bangalore</td>\n",
              "      <td>Huaraches</td>\n",
              "      <td>Stand By Me</td>\n",
              "      <td>True</td>\n",
              "    </tr>\n",
              "    <tr>\n",
              "      <th>10</th>\n",
              "      <td>Clayton Haase</td>\n",
              "      <td>Econometrics</td>\n",
              "      <td>Informatics</td>\n",
              "      <td>Lexington</td>\n",
              "      <td>Black Dog</td>\n",
              "      <td>The Revenant</td>\n",
              "      <td>True</td>\n",
              "    </tr>\n",
              "    <tr>\n",
              "      <th>11</th>\n",
              "      <td>Wesley Hollenberg</td>\n",
              "      <td>Political Science</td>\n",
              "      <td>Journalism and Informatics</td>\n",
              "      <td>Northbrook</td>\n",
              "      <td>Lou Malnatis Pizza</td>\n",
              "      <td>Moneyball</td>\n",
              "      <td>True</td>\n",
              "    </tr>\n",
              "    <tr>\n",
              "      <th>12</th>\n",
              "      <td>Tianyi Huang</td>\n",
              "      <td>Mathematics</td>\n",
              "      <td>Business</td>\n",
              "      <td>Oak Park</td>\n",
              "      <td>Chipotle</td>\n",
              "      <td>Rounders</td>\n",
              "      <td>True</td>\n",
              "    </tr>\n",
              "    <tr>\n",
              "      <th>14</th>\n",
              "      <td>Nupur Khandelwal</td>\n",
              "      <td>Information Sciences</td>\n",
              "      <td>Statistics</td>\n",
              "      <td>Chicago</td>\n",
              "      <td>Falco's Pizza</td>\n",
              "      <td>Stepbrothers</td>\n",
              "      <td>True</td>\n",
              "    </tr>\n",
              "    <tr>\n",
              "      <th>17</th>\n",
              "      <td>Marc Kusno</td>\n",
              "      <td>Econometrics &amp; Quant Econ</td>\n",
              "      <td>Finance</td>\n",
              "      <td>Urbana</td>\n",
              "      <td>Pizzaria Antica</td>\n",
              "      <td>NaN</td>\n",
              "      <td>True</td>\n",
              "    </tr>\n",
              "    <tr>\n",
              "      <th>20</th>\n",
              "      <td>Yeung Lo</td>\n",
              "      <td>Nondegree</td>\n",
              "      <td>Supply Chain Management</td>\n",
              "      <td>Wuxi</td>\n",
              "      <td>Shiquan</td>\n",
              "      <td>Interstellar</td>\n",
              "      <td>True</td>\n",
              "    </tr>\n",
              "    <tr>\n",
              "      <th>21</th>\n",
              "      <td>Matt Mak</td>\n",
              "      <td>ACES</td>\n",
              "      <td>Philosophy</td>\n",
              "      <td>Mundelein</td>\n",
              "      <td>NaN</td>\n",
              "      <td>The Shawshank Redemption</td>\n",
              "      <td>True</td>\n",
              "    </tr>\n",
              "    <tr>\n",
              "      <th>29</th>\n",
              "      <td>Diego Rocha</td>\n",
              "      <td>Consumer Economics and Finance</td>\n",
              "      <td>Informatics</td>\n",
              "      <td>Chicago</td>\n",
              "      <td>Canes</td>\n",
              "      <td>The Dark Knight</td>\n",
              "      <td>True</td>\n",
              "    </tr>\n",
              "    <tr>\n",
              "      <th>32</th>\n",
              "      <td>Robbie Stirling</td>\n",
              "      <td>Economics</td>\n",
              "      <td>Informatics and Business</td>\n",
              "      <td>San Diego</td>\n",
              "      <td>Bangkok Thai</td>\n",
              "      <td>1917</td>\n",
              "      <td>True</td>\n",
              "    </tr>\n",
              "    <tr>\n",
              "      <th>42</th>\n",
              "      <td>Alejandro Zenteno</td>\n",
              "      <td>Community Health</td>\n",
              "      <td>Business</td>\n",
              "      <td>Chicago</td>\n",
              "      <td>Giordanos</td>\n",
              "      <td>Avengers</td>\n",
              "      <td>True</td>\n",
              "    </tr>\n",
              "  </tbody>\n",
              "</table>\n",
              "</div>\n",
              "      <button class=\"colab-df-convert\" onclick=\"convertToInteractive('df-d19d876e-bfa9-4254-a69a-89bdc29fb057')\"\n",
              "              title=\"Convert this dataframe to an interactive table.\"\n",
              "              style=\"display:none;\">\n",
              "        \n",
              "  <svg xmlns=\"http://www.w3.org/2000/svg\" height=\"24px\"viewBox=\"0 0 24 24\"\n",
              "       width=\"24px\">\n",
              "    <path d=\"M0 0h24v24H0V0z\" fill=\"none\"/>\n",
              "    <path d=\"M18.56 5.44l.94 2.06.94-2.06 2.06-.94-2.06-.94-.94-2.06-.94 2.06-2.06.94zm-11 1L8.5 8.5l.94-2.06 2.06-.94-2.06-.94L8.5 2.5l-.94 2.06-2.06.94zm10 10l.94 2.06.94-2.06 2.06-.94-2.06-.94-.94-2.06-.94 2.06-2.06.94z\"/><path d=\"M17.41 7.96l-1.37-1.37c-.4-.4-.92-.59-1.43-.59-.52 0-1.04.2-1.43.59L10.3 9.45l-7.72 7.72c-.78.78-.78 2.05 0 2.83L4 21.41c.39.39.9.59 1.41.59.51 0 1.02-.2 1.41-.59l7.78-7.78 2.81-2.81c.8-.78.8-2.07 0-2.86zM5.41 20L4 18.59l7.72-7.72 1.47 1.35L5.41 20z\"/>\n",
              "  </svg>\n",
              "      </button>\n",
              "      \n",
              "  <style>\n",
              "    .colab-df-container {\n",
              "      display:flex;\n",
              "      flex-wrap:wrap;\n",
              "      gap: 12px;\n",
              "    }\n",
              "\n",
              "    .colab-df-convert {\n",
              "      background-color: #E8F0FE;\n",
              "      border: none;\n",
              "      border-radius: 50%;\n",
              "      cursor: pointer;\n",
              "      display: none;\n",
              "      fill: #1967D2;\n",
              "      height: 32px;\n",
              "      padding: 0 0 0 0;\n",
              "      width: 32px;\n",
              "    }\n",
              "\n",
              "    .colab-df-convert:hover {\n",
              "      background-color: #E2EBFA;\n",
              "      box-shadow: 0px 1px 2px rgba(60, 64, 67, 0.3), 0px 1px 3px 1px rgba(60, 64, 67, 0.15);\n",
              "      fill: #174EA6;\n",
              "    }\n",
              "\n",
              "    [theme=dark] .colab-df-convert {\n",
              "      background-color: #3B4455;\n",
              "      fill: #D2E3FC;\n",
              "    }\n",
              "\n",
              "    [theme=dark] .colab-df-convert:hover {\n",
              "      background-color: #434B5C;\n",
              "      box-shadow: 0px 1px 3px 1px rgba(0, 0, 0, 0.15);\n",
              "      filter: drop-shadow(0px 1px 2px rgba(0, 0, 0, 0.3));\n",
              "      fill: #FFFFFF;\n",
              "    }\n",
              "  </style>\n",
              "\n",
              "      <script>\n",
              "        const buttonEl =\n",
              "          document.querySelector('#df-d19d876e-bfa9-4254-a69a-89bdc29fb057 button.colab-df-convert');\n",
              "        buttonEl.style.display =\n",
              "          google.colab.kernel.accessAllowed ? 'block' : 'none';\n",
              "\n",
              "        async function convertToInteractive(key) {\n",
              "          const element = document.querySelector('#df-d19d876e-bfa9-4254-a69a-89bdc29fb057');\n",
              "          const dataTable =\n",
              "            await google.colab.kernel.invokeFunction('convertToInteractive',\n",
              "                                                     [key], {});\n",
              "          if (!dataTable) return;\n",
              "\n",
              "          const docLinkHtml = 'Like what you see? Visit the ' +\n",
              "            '<a target=\"_blank\" href=https://colab.research.google.com/notebooks/data_table.ipynb>data table notebook</a>'\n",
              "            + ' to learn more about interactive tables.';\n",
              "          element.innerHTML = '';\n",
              "          dataTable['output_type'] = 'display_data';\n",
              "          await google.colab.output.renderOutput(dataTable, element);\n",
              "          const docLink = document.createElement('div');\n",
              "          docLink.innerHTML = docLinkHtml;\n",
              "          element.appendChild(docLink);\n",
              "        }\n",
              "      </script>\n",
              "    </div>\n",
              "  </div>\n",
              "  "
            ]
          },
          "metadata": {},
          "execution_count": 30
        }
      ],
      "source": [
        "# YOUR CODE BEGINS\n",
        "df_major2 = df_you[df_you['major2'].notna()]\n",
        "# YOUR CODE ENDS\n",
        "df_major2"
      ]
    },
    {
      "cell_type": "markdown",
      "metadata": {
        "id": "voEW0VgFdxtq"
      },
      "source": [
        "#### 🧭 Check Your Work\n",
        "\n",
        "- Once you're done, run the code cell below to test correctness.\n",
        "- ✔️ If the code cell runs without an error, you're good to move on.\n",
        "- ❌ If the code cell throws an error, go back and fix incorrect parts."
      ]
    },
    {
      "cell_type": "code",
      "execution_count": 31,
      "metadata": {
        "id": "b4zZHUoWdxtq",
        "nbgrader": {
          "grade": true,
          "grade_id": "challenge-18",
          "locked": true,
          "points": "1",
          "solution": false
        }
      },
      "outputs": [],
      "source": [
        "# Challenge 18 Autograder\n",
        "# df_you should remain unaltered\n",
        "pd.testing.assert_frame_equal(df_you, df_you_backup)\n",
        "\n",
        "pd.testing.assert_frame_equal(df_major2.sort_values(df_major2.columns.tolist()).reset_index(drop=True),\n",
        "                              df_you_backup.query(f\"major2 == major2\")\n",
        "                                 .sort_values(df_you_backup.columns.tolist()).reset_index(drop=True))"
      ]
    },
    {
      "cell_type": "markdown",
      "metadata": {
        "id": "OxaQghuHdxtq"
      },
      "source": [
        "---\n",
        "\n",
        "### 🎯 Challenge 19: Anyone without a favorite movie\n",
        "\n",
        "#### 👇 Tasks\n",
        "\n",
        "- ✔️ Using `df_you`, filter rows where the person's `fav_movie` is `NaN`.\n",
        "- ✔️ `NaN` is a special value to denote missing value. You must use `my_series.isna()` or `my_series.notna()` to compare a `Series` with `NaN`.\n",
        "- ✔️ Store the result to a new variable named `df_no_fav_movie`.\n",
        "- ✔️ `df_you` should remain unaltered after your code.\n",
        "\n",
        "#### 🚀 Hints\n",
        "\n",
        "- `my_series.isna()` can be used to check whether a row contains a missing value."
      ]
    },
    {
      "cell_type": "code",
      "execution_count": 33,
      "metadata": {
        "id": "-VE1yQAidxtq"
      },
      "outputs": [],
      "source": [
        "# YOUR CODE BEGINS\n",
        "# YOUR CODE ENDS\n",
        "df_no_fav_movie = df_you[df_you['fav_movie'].isna()]"
      ]
    },
    {
      "cell_type": "markdown",
      "metadata": {
        "id": "mo7C8IsRdxtr"
      },
      "source": [
        "#### 🧭 Check Your Work\n",
        "\n",
        "- Once you're done, run the code cell below to test correctness.\n",
        "- ✔️ If the code cell runs without an error, you're good to move on.\n",
        "- ❌ If the code cell throws an error, go back and fix incorrect parts."
      ]
    },
    {
      "cell_type": "code",
      "execution_count": 34,
      "metadata": {
        "id": "tEpOn_aHdxtr",
        "nbgrader": {
          "grade": true,
          "grade_id": "challenge-19",
          "locked": true,
          "points": "1",
          "solution": false
        }
      },
      "outputs": [],
      "source": [
        "# Challenge 19 Autograder\n",
        "# df_you should remain unaltered\n",
        "pd.testing.assert_frame_equal(df_you, df_you_backup)\n",
        "\n",
        "pd.testing.assert_frame_equal(df_no_fav_movie.sort_values(df_no_fav_movie.columns.tolist()).reset_index(drop=True),\n",
        "                              df_you_backup.query(f\"fav_movie != fav_movie\")\n",
        "                                 .sort_values(df_you_backup.columns.tolist()).reset_index(drop=True))"
      ]
    }
  ],
  "metadata": {
    "colab": {
      "provenance": []
    },
    "kernelspec": {
      "display_name": "Python 3 (ipykernel)",
      "language": "python",
      "name": "python3"
    },
    "language_info": {
      "codemirror_mode": {
        "name": "ipython",
        "version": 3
      },
      "file_extension": ".py",
      "mimetype": "text/x-python",
      "name": "python",
      "nbconvert_exporter": "python",
      "pygments_lexer": "ipython3",
      "version": "3.9.7"
    }
  },
  "nbformat": 4,
  "nbformat_minor": 0
}